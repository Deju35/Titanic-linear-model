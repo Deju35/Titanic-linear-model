{
 "cells": [
  {
   "cell_type": "markdown",
   "id": "b59933ee",
   "metadata": {
    "papermill": {
     "duration": 0.135443,
     "end_time": "2022-11-22T13:30:01.126211",
     "exception": false,
     "start_time": "2022-11-22T13:30:00.990768",
     "status": "completed"
    },
    "tags": []
   },
   "source": [
    "## Introduction"
   ]
  },
  {
   "cell_type": "markdown",
   "id": "d3a99383",
   "metadata": {
    "papermill": {
     "duration": 0.122539,
     "end_time": "2022-11-22T13:30:01.373010",
     "exception": false,
     "start_time": "2022-11-22T13:30:01.250471",
     "status": "completed"
    },
    "tags": []
   },
   "source": [
    "In this notebook we're going to build and train a deep learning model \"from scratch\" -- by which I mean that we're not going to use any pre-built architecture, or optimizers, or data loading frameworks, etc.\n",
    "\n",
    " We'll be using Kaggle's [Titanic](https://www.kaggle.com/competitions/titanic/) competition in this notebook, because it's very small and simple, but also has displays many of the tricky real-life issues that we need to handle in most practical projects. (Note, however, that this competition is a small \"learner\" competition on Kaggle, so don't expect to actually see much benefits from using a neural net just yet; that will come once we try our some real competitions!)\n",
    "\n",
    "It's great to be able to run the same notebook on your own machine or Colab, as well as Kaggle. To allow for this, we use this code to download the data as needed when not on Kaggle (see [this notebook](https://www.kaggle.com/code/jhoward/getting-started-with-nlp-for-absolute-beginners/) for details about this technique):"
   ]
  },
  {
   "cell_type": "code",
   "execution_count": 1,
   "id": "639c494c",
   "metadata": {
    "execution": {
     "iopub.execute_input": "2022-11-22T13:30:01.609028Z",
     "iopub.status.busy": "2022-11-22T13:30:01.608514Z",
     "iopub.status.idle": "2022-11-22T13:30:01.621831Z",
     "shell.execute_reply": "2022-11-22T13:30:01.621067Z"
    },
    "papermill": {
     "duration": 0.133436,
     "end_time": "2022-11-22T13:30:01.624466",
     "exception": false,
     "start_time": "2022-11-22T13:30:01.491030",
     "status": "completed"
    },
    "tags": []
   },
   "outputs": [],
   "source": [
    "import os\n",
    "from pathlib import Path\n",
    "    \n",
    "iskaggle = os.environ.get('KAGGLE_KERNEL_RUN_TYPE', '')\n",
    "if iskaggle: path = Path('../input/titanic')\n",
    "else:\n",
    "    path = Path('titanic')\n",
    "    if not path.exists():\n",
    "        import zipfile,kaggle\n",
    "        kaggle.api.competition_download_cli(str(path))\n",
    "        zipfile.ZipFile(f'{path}.zip').extractall(path)"
   ]
  },
  {
   "cell_type": "markdown",
   "id": "7194f071",
   "metadata": {
    "hidden": true,
    "papermill": {
     "duration": 0.118311,
     "end_time": "2022-11-22T13:30:01.863227",
     "exception": false,
     "start_time": "2022-11-22T13:30:01.744916",
     "status": "completed"
    },
    "tags": []
   },
   "source": [
    "Note that the data for Kaggle comps always lives in the `../input` folder. The easiest way to get the path is to click the \"K\" button in the top-right of the Kaggle notebook, click on the folder shown there, and click the copy button.\n",
    "\n",
    "We'll be using *numpy* and *pytorch* for array calculations in this notebook, and *pandas* for working with tabular data, so we'll import them and set them to display using a bit more space than they default to."
   ]
  },
  {
   "cell_type": "code",
   "execution_count": 2,
   "id": "b4f6fb41",
   "metadata": {
    "execution": {
     "iopub.execute_input": "2022-11-22T13:30:02.101912Z",
     "iopub.status.busy": "2022-11-22T13:30:02.101214Z",
     "iopub.status.idle": "2022-11-22T13:30:03.605674Z",
     "shell.execute_reply": "2022-11-22T13:30:03.604431Z"
    },
    "papermill": {
     "duration": 1.626993,
     "end_time": "2022-11-22T13:30:03.608522",
     "exception": false,
     "start_time": "2022-11-22T13:30:01.981529",
     "status": "completed"
    },
    "tags": []
   },
   "outputs": [],
   "source": [
    "import torch, numpy as np, pandas as pd\n",
    "np.set_printoptions(linewidth=140)\n",
    "torch.set_printoptions(linewidth=140, sci_mode=False, edgeitems=7)\n",
    "pd.set_option('display.width', 140)"
   ]
  },
  {
   "cell_type": "markdown",
   "id": "25168e99",
   "metadata": {
    "heading_collapsed": true,
    "papermill": {
     "duration": 0.114273,
     "end_time": "2022-11-22T13:30:03.839891",
     "exception": false,
     "start_time": "2022-11-22T13:30:03.725618",
     "status": "completed"
    },
    "tags": []
   },
   "source": [
    "## Cleaning the data"
   ]
  },
  {
   "cell_type": "markdown",
   "id": "4291e6b2",
   "metadata": {
    "hidden": true,
    "papermill": {
     "duration": 0.11542,
     "end_time": "2022-11-22T13:30:04.070826",
     "exception": false,
     "start_time": "2022-11-22T13:30:03.955406",
     "status": "completed"
    },
    "tags": []
   },
   "source": [
    "This is a *tabular data* competition -- the data is in the form of a table. It's provided as a Comma Separated Values (CSV) file. We can open it using the *pandas* library, which will create a `DataFrame`."
   ]
  },
  {
   "cell_type": "code",
   "execution_count": 3,
   "id": "e252561d",
   "metadata": {
    "execution": {
     "iopub.execute_input": "2022-11-22T13:30:04.308548Z",
     "iopub.status.busy": "2022-11-22T13:30:04.308190Z",
     "iopub.status.idle": "2022-11-22T13:30:04.358996Z",
     "shell.execute_reply": "2022-11-22T13:30:04.358383Z"
    },
    "hidden": true,
    "papermill": {
     "duration": 0.172231,
     "end_time": "2022-11-22T13:30:04.362292",
     "exception": false,
     "start_time": "2022-11-22T13:30:04.190061",
     "status": "completed"
    },
    "scrolled": true,
    "tags": []
   },
   "outputs": [
    {
     "data": {
      "text/html": [
       "<div>\n",
       "<style scoped>\n",
       "    .dataframe tbody tr th:only-of-type {\n",
       "        vertical-align: middle;\n",
       "    }\n",
       "\n",
       "    .dataframe tbody tr th {\n",
       "        vertical-align: top;\n",
       "    }\n",
       "\n",
       "    .dataframe thead th {\n",
       "        text-align: right;\n",
       "    }\n",
       "</style>\n",
       "<table border=\"1\" class=\"dataframe\">\n",
       "  <thead>\n",
       "    <tr style=\"text-align: right;\">\n",
       "      <th></th>\n",
       "      <th>PassengerId</th>\n",
       "      <th>Survived</th>\n",
       "      <th>Pclass</th>\n",
       "      <th>Name</th>\n",
       "      <th>Sex</th>\n",
       "      <th>Age</th>\n",
       "      <th>SibSp</th>\n",
       "      <th>Parch</th>\n",
       "      <th>Ticket</th>\n",
       "      <th>Fare</th>\n",
       "      <th>Cabin</th>\n",
       "      <th>Embarked</th>\n",
       "    </tr>\n",
       "  </thead>\n",
       "  <tbody>\n",
       "    <tr>\n",
       "      <th>0</th>\n",
       "      <td>1</td>\n",
       "      <td>0</td>\n",
       "      <td>3</td>\n",
       "      <td>Braund, Mr. Owen Harris</td>\n",
       "      <td>male</td>\n",
       "      <td>22.0</td>\n",
       "      <td>1</td>\n",
       "      <td>0</td>\n",
       "      <td>A/5 21171</td>\n",
       "      <td>7.2500</td>\n",
       "      <td>NaN</td>\n",
       "      <td>S</td>\n",
       "    </tr>\n",
       "    <tr>\n",
       "      <th>1</th>\n",
       "      <td>2</td>\n",
       "      <td>1</td>\n",
       "      <td>1</td>\n",
       "      <td>Cumings, Mrs. John Bradley (Florence Briggs Th...</td>\n",
       "      <td>female</td>\n",
       "      <td>38.0</td>\n",
       "      <td>1</td>\n",
       "      <td>0</td>\n",
       "      <td>PC 17599</td>\n",
       "      <td>71.2833</td>\n",
       "      <td>C85</td>\n",
       "      <td>C</td>\n",
       "    </tr>\n",
       "    <tr>\n",
       "      <th>2</th>\n",
       "      <td>3</td>\n",
       "      <td>1</td>\n",
       "      <td>3</td>\n",
       "      <td>Heikkinen, Miss. Laina</td>\n",
       "      <td>female</td>\n",
       "      <td>26.0</td>\n",
       "      <td>0</td>\n",
       "      <td>0</td>\n",
       "      <td>STON/O2. 3101282</td>\n",
       "      <td>7.9250</td>\n",
       "      <td>NaN</td>\n",
       "      <td>S</td>\n",
       "    </tr>\n",
       "    <tr>\n",
       "      <th>3</th>\n",
       "      <td>4</td>\n",
       "      <td>1</td>\n",
       "      <td>1</td>\n",
       "      <td>Futrelle, Mrs. Jacques Heath (Lily May Peel)</td>\n",
       "      <td>female</td>\n",
       "      <td>35.0</td>\n",
       "      <td>1</td>\n",
       "      <td>0</td>\n",
       "      <td>113803</td>\n",
       "      <td>53.1000</td>\n",
       "      <td>C123</td>\n",
       "      <td>S</td>\n",
       "    </tr>\n",
       "    <tr>\n",
       "      <th>4</th>\n",
       "      <td>5</td>\n",
       "      <td>0</td>\n",
       "      <td>3</td>\n",
       "      <td>Allen, Mr. William Henry</td>\n",
       "      <td>male</td>\n",
       "      <td>35.0</td>\n",
       "      <td>0</td>\n",
       "      <td>0</td>\n",
       "      <td>373450</td>\n",
       "      <td>8.0500</td>\n",
       "      <td>NaN</td>\n",
       "      <td>S</td>\n",
       "    </tr>\n",
       "    <tr>\n",
       "      <th>...</th>\n",
       "      <td>...</td>\n",
       "      <td>...</td>\n",
       "      <td>...</td>\n",
       "      <td>...</td>\n",
       "      <td>...</td>\n",
       "      <td>...</td>\n",
       "      <td>...</td>\n",
       "      <td>...</td>\n",
       "      <td>...</td>\n",
       "      <td>...</td>\n",
       "      <td>...</td>\n",
       "      <td>...</td>\n",
       "    </tr>\n",
       "    <tr>\n",
       "      <th>886</th>\n",
       "      <td>887</td>\n",
       "      <td>0</td>\n",
       "      <td>2</td>\n",
       "      <td>Montvila, Rev. Juozas</td>\n",
       "      <td>male</td>\n",
       "      <td>27.0</td>\n",
       "      <td>0</td>\n",
       "      <td>0</td>\n",
       "      <td>211536</td>\n",
       "      <td>13.0000</td>\n",
       "      <td>NaN</td>\n",
       "      <td>S</td>\n",
       "    </tr>\n",
       "    <tr>\n",
       "      <th>887</th>\n",
       "      <td>888</td>\n",
       "      <td>1</td>\n",
       "      <td>1</td>\n",
       "      <td>Graham, Miss. Margaret Edith</td>\n",
       "      <td>female</td>\n",
       "      <td>19.0</td>\n",
       "      <td>0</td>\n",
       "      <td>0</td>\n",
       "      <td>112053</td>\n",
       "      <td>30.0000</td>\n",
       "      <td>B42</td>\n",
       "      <td>S</td>\n",
       "    </tr>\n",
       "    <tr>\n",
       "      <th>888</th>\n",
       "      <td>889</td>\n",
       "      <td>0</td>\n",
       "      <td>3</td>\n",
       "      <td>Johnston, Miss. Catherine Helen \"Carrie\"</td>\n",
       "      <td>female</td>\n",
       "      <td>NaN</td>\n",
       "      <td>1</td>\n",
       "      <td>2</td>\n",
       "      <td>W./C. 6607</td>\n",
       "      <td>23.4500</td>\n",
       "      <td>NaN</td>\n",
       "      <td>S</td>\n",
       "    </tr>\n",
       "    <tr>\n",
       "      <th>889</th>\n",
       "      <td>890</td>\n",
       "      <td>1</td>\n",
       "      <td>1</td>\n",
       "      <td>Behr, Mr. Karl Howell</td>\n",
       "      <td>male</td>\n",
       "      <td>26.0</td>\n",
       "      <td>0</td>\n",
       "      <td>0</td>\n",
       "      <td>111369</td>\n",
       "      <td>30.0000</td>\n",
       "      <td>C148</td>\n",
       "      <td>C</td>\n",
       "    </tr>\n",
       "    <tr>\n",
       "      <th>890</th>\n",
       "      <td>891</td>\n",
       "      <td>0</td>\n",
       "      <td>3</td>\n",
       "      <td>Dooley, Mr. Patrick</td>\n",
       "      <td>male</td>\n",
       "      <td>32.0</td>\n",
       "      <td>0</td>\n",
       "      <td>0</td>\n",
       "      <td>370376</td>\n",
       "      <td>7.7500</td>\n",
       "      <td>NaN</td>\n",
       "      <td>Q</td>\n",
       "    </tr>\n",
       "  </tbody>\n",
       "</table>\n",
       "<p>891 rows × 12 columns</p>\n",
       "</div>"
      ],
      "text/plain": [
       "     PassengerId  Survived  Pclass                                               Name     Sex   Age  SibSp  Parch            Ticket  \\\n",
       "0              1         0       3                            Braund, Mr. Owen Harris    male  22.0      1      0         A/5 21171   \n",
       "1              2         1       1  Cumings, Mrs. John Bradley (Florence Briggs Th...  female  38.0      1      0          PC 17599   \n",
       "2              3         1       3                             Heikkinen, Miss. Laina  female  26.0      0      0  STON/O2. 3101282   \n",
       "3              4         1       1       Futrelle, Mrs. Jacques Heath (Lily May Peel)  female  35.0      1      0            113803   \n",
       "4              5         0       3                           Allen, Mr. William Henry    male  35.0      0      0            373450   \n",
       "..           ...       ...     ...                                                ...     ...   ...    ...    ...               ...   \n",
       "886          887         0       2                              Montvila, Rev. Juozas    male  27.0      0      0            211536   \n",
       "887          888         1       1                       Graham, Miss. Margaret Edith  female  19.0      0      0            112053   \n",
       "888          889         0       3           Johnston, Miss. Catherine Helen \"Carrie\"  female   NaN      1      2        W./C. 6607   \n",
       "889          890         1       1                              Behr, Mr. Karl Howell    male  26.0      0      0            111369   \n",
       "890          891         0       3                                Dooley, Mr. Patrick    male  32.0      0      0            370376   \n",
       "\n",
       "        Fare Cabin Embarked  \n",
       "0     7.2500   NaN        S  \n",
       "1    71.2833   C85        C  \n",
       "2     7.9250   NaN        S  \n",
       "3    53.1000  C123        S  \n",
       "4     8.0500   NaN        S  \n",
       "..       ...   ...      ...  \n",
       "886  13.0000   NaN        S  \n",
       "887  30.0000   B42        S  \n",
       "888  23.4500   NaN        S  \n",
       "889  30.0000  C148        C  \n",
       "890   7.7500   NaN        Q  \n",
       "\n",
       "[891 rows x 12 columns]"
      ]
     },
     "execution_count": 3,
     "metadata": {},
     "output_type": "execute_result"
    }
   ],
   "source": [
    "df = pd.read_csv(path/'train.csv')\n",
    "df"
   ]
  },
  {
   "cell_type": "markdown",
   "id": "e0f45de9",
   "metadata": {
    "hidden": true,
    "papermill": {
     "duration": 0.121988,
     "end_time": "2022-11-22T13:30:04.603039",
     "exception": false,
     "start_time": "2022-11-22T13:30:04.481051",
     "status": "completed"
    },
    "tags": []
   },
   "source": [
    "As we learned in the *How does a neural net really work* notebook, we going to want to multiply each column by some coefficients. But we can see in the `Cabin` column that there are `NaN` values, which is how Pandas refers to missing values. We can't multiply something by a missing value!\n",
    "\n",
    "Let's check which columns contain `NaN` values. Pandas' `isna()` function returns `True` (which is treated as `1` when used as a number) for `NaN` values, so we can just add them up for each column:"
   ]
  },
  {
   "cell_type": "code",
   "execution_count": 4,
   "id": "51830596",
   "metadata": {
    "execution": {
     "iopub.execute_input": "2022-11-22T13:30:04.838939Z",
     "iopub.status.busy": "2022-11-22T13:30:04.838451Z",
     "iopub.status.idle": "2022-11-22T13:30:04.848221Z",
     "shell.execute_reply": "2022-11-22T13:30:04.847407Z"
    },
    "hidden": true,
    "papermill": {
     "duration": 0.129506,
     "end_time": "2022-11-22T13:30:04.850508",
     "exception": false,
     "start_time": "2022-11-22T13:30:04.721002",
     "status": "completed"
    },
    "tags": []
   },
   "outputs": [
    {
     "data": {
      "text/plain": [
       "PassengerId      0\n",
       "Survived         0\n",
       "Pclass           0\n",
       "Name             0\n",
       "Sex              0\n",
       "Age            177\n",
       "SibSp            0\n",
       "Parch            0\n",
       "Ticket           0\n",
       "Fare             0\n",
       "Cabin          687\n",
       "Embarked         2\n",
       "dtype: int64"
      ]
     },
     "execution_count": 4,
     "metadata": {},
     "output_type": "execute_result"
    }
   ],
   "source": [
    "df.isna().sum()"
   ]
  },
  {
   "cell_type": "markdown",
   "id": "732dda85",
   "metadata": {
    "hidden": true,
    "papermill": {
     "duration": 0.115706,
     "end_time": "2022-11-22T13:30:05.085602",
     "exception": false,
     "start_time": "2022-11-22T13:30:04.969896",
     "status": "completed"
    },
    "tags": []
   },
   "source": [
    "Notice that by default Pandas sums over columns.\n",
    "\n",
    "We'll need to replace the missing values with something. It doesn't generally matter too much what we choose. We'll use the most common value (the \"*mode*\"). We can use the `mode` function for that. One wrinkle is that it returns more than one row in the case of ties, so we just grab the first row with `iloc[0]`:"
   ]
  },
  {
   "cell_type": "code",
   "execution_count": 5,
   "id": "fe869e23",
   "metadata": {
    "execution": {
     "iopub.execute_input": "2022-11-22T13:30:05.321146Z",
     "iopub.status.busy": "2022-11-22T13:30:05.320557Z",
     "iopub.status.idle": "2022-11-22T13:30:05.339417Z",
     "shell.execute_reply": "2022-11-22T13:30:05.338711Z"
    },
    "hidden": true,
    "papermill": {
     "duration": 0.139381,
     "end_time": "2022-11-22T13:30:05.341299",
     "exception": false,
     "start_time": "2022-11-22T13:30:05.201918",
     "status": "completed"
    },
    "tags": []
   },
   "outputs": [
    {
     "data": {
      "text/plain": [
       "PassengerId                      1\n",
       "Survived                       0.0\n",
       "Pclass                         3.0\n",
       "Name           Abbing, Mr. Anthony\n",
       "Sex                           male\n",
       "Age                           24.0\n",
       "SibSp                          0.0\n",
       "Parch                          0.0\n",
       "Ticket                        1601\n",
       "Fare                          8.05\n",
       "Cabin                      B96 B98\n",
       "Embarked                         S\n",
       "Name: 0, dtype: object"
      ]
     },
     "execution_count": 5,
     "metadata": {},
     "output_type": "execute_result"
    }
   ],
   "source": [
    "modes = df.mode().iloc[0]\n",
    "modes\n"
   ]
  },
  {
   "cell_type": "markdown",
   "id": "95b65294",
   "metadata": {
    "hidden": true,
    "papermill": {
     "duration": 0.115977,
     "end_time": "2022-11-22T13:30:05.574092",
     "exception": false,
     "start_time": "2022-11-22T13:30:05.458115",
     "status": "completed"
    },
    "tags": []
   },
   "source": [
    "BTW, it's never a good idea to use functions without understanding them. So be sure to google for anything you're not familiar with. E.g if you want to learn about `iloc` (which is a very important function indeed!) then Google will give you a link to a [great tutorial](https://www.shanelynn.ie/pandas-iloc-loc-select-rows-and-columns-dataframe/).\n",
    "\n",
    "Now that we've got the mode of each column, we can use `fillna` to replace the missing values with the mode of each column. We'll do it \"in place\" -- meaning that we'll change the dataframe itself, rather than returning a new one."
   ]
  },
  {
   "cell_type": "code",
   "execution_count": 6,
   "id": "7e753ce1",
   "metadata": {
    "execution": {
     "iopub.execute_input": "2022-11-22T13:30:05.809069Z",
     "iopub.status.busy": "2022-11-22T13:30:05.808516Z",
     "iopub.status.idle": "2022-11-22T13:30:05.819669Z",
     "shell.execute_reply": "2022-11-22T13:30:05.818713Z"
    },
    "hidden": true,
    "papermill": {
     "duration": 0.131833,
     "end_time": "2022-11-22T13:30:05.822278",
     "exception": false,
     "start_time": "2022-11-22T13:30:05.690445",
     "status": "completed"
    },
    "tags": []
   },
   "outputs": [],
   "source": [
    "df.fillna(modes, inplace=True)"
   ]
  },
  {
   "cell_type": "markdown",
   "id": "9b740a40",
   "metadata": {
    "hidden": true,
    "papermill": {
     "duration": 0.117073,
     "end_time": "2022-11-22T13:30:06.057750",
     "exception": false,
     "start_time": "2022-11-22T13:30:05.940677",
     "status": "completed"
    },
    "tags": []
   },
   "source": [
    "We can now check there's no missing values left:"
   ]
  },
  {
   "cell_type": "code",
   "execution_count": 7,
   "id": "c5e7d2d4",
   "metadata": {
    "execution": {
     "iopub.execute_input": "2022-11-22T13:30:06.299284Z",
     "iopub.status.busy": "2022-11-22T13:30:06.298172Z",
     "iopub.status.idle": "2022-11-22T13:30:06.307881Z",
     "shell.execute_reply": "2022-11-22T13:30:06.306857Z"
    },
    "hidden": true,
    "papermill": {
     "duration": 0.132538,
     "end_time": "2022-11-22T13:30:06.310018",
     "exception": false,
     "start_time": "2022-11-22T13:30:06.177480",
     "status": "completed"
    },
    "tags": []
   },
   "outputs": [
    {
     "data": {
      "text/plain": [
       "PassengerId    0\n",
       "Survived       0\n",
       "Pclass         0\n",
       "Name           0\n",
       "Sex            0\n",
       "Age            0\n",
       "SibSp          0\n",
       "Parch          0\n",
       "Ticket         0\n",
       "Fare           0\n",
       "Cabin          0\n",
       "Embarked       0\n",
       "dtype: int64"
      ]
     },
     "execution_count": 7,
     "metadata": {},
     "output_type": "execute_result"
    }
   ],
   "source": [
    "df.isna().sum()"
   ]
  },
  {
   "cell_type": "markdown",
   "id": "777f2173",
   "metadata": {
    "papermill": {
     "duration": 0.117083,
     "end_time": "2022-11-22T13:30:06.546575",
     "exception": false,
     "start_time": "2022-11-22T13:30:06.429492",
     "status": "completed"
    },
    "tags": []
   },
   "source": [
    "Lets see the table agian to make sure the nan values are replaced"
   ]
  },
  {
   "cell_type": "code",
   "execution_count": 8,
   "id": "90a6d929",
   "metadata": {
    "execution": {
     "iopub.execute_input": "2022-11-22T13:30:06.786145Z",
     "iopub.status.busy": "2022-11-22T13:30:06.785534Z",
     "iopub.status.idle": "2022-11-22T13:30:06.807679Z",
     "shell.execute_reply": "2022-11-22T13:30:06.806975Z"
    },
    "papermill": {
     "duration": 0.145016,
     "end_time": "2022-11-22T13:30:06.809718",
     "exception": false,
     "start_time": "2022-11-22T13:30:06.664702",
     "status": "completed"
    },
    "tags": []
   },
   "outputs": [
    {
     "data": {
      "text/html": [
       "<div>\n",
       "<style scoped>\n",
       "    .dataframe tbody tr th:only-of-type {\n",
       "        vertical-align: middle;\n",
       "    }\n",
       "\n",
       "    .dataframe tbody tr th {\n",
       "        vertical-align: top;\n",
       "    }\n",
       "\n",
       "    .dataframe thead th {\n",
       "        text-align: right;\n",
       "    }\n",
       "</style>\n",
       "<table border=\"1\" class=\"dataframe\">\n",
       "  <thead>\n",
       "    <tr style=\"text-align: right;\">\n",
       "      <th></th>\n",
       "      <th>PassengerId</th>\n",
       "      <th>Survived</th>\n",
       "      <th>Pclass</th>\n",
       "      <th>Name</th>\n",
       "      <th>Sex</th>\n",
       "      <th>Age</th>\n",
       "      <th>SibSp</th>\n",
       "      <th>Parch</th>\n",
       "      <th>Ticket</th>\n",
       "      <th>Fare</th>\n",
       "      <th>Cabin</th>\n",
       "      <th>Embarked</th>\n",
       "    </tr>\n",
       "  </thead>\n",
       "  <tbody>\n",
       "    <tr>\n",
       "      <th>0</th>\n",
       "      <td>1</td>\n",
       "      <td>0</td>\n",
       "      <td>3</td>\n",
       "      <td>Braund, Mr. Owen Harris</td>\n",
       "      <td>male</td>\n",
       "      <td>22.0</td>\n",
       "      <td>1</td>\n",
       "      <td>0</td>\n",
       "      <td>A/5 21171</td>\n",
       "      <td>7.2500</td>\n",
       "      <td>B96 B98</td>\n",
       "      <td>S</td>\n",
       "    </tr>\n",
       "    <tr>\n",
       "      <th>1</th>\n",
       "      <td>2</td>\n",
       "      <td>1</td>\n",
       "      <td>1</td>\n",
       "      <td>Cumings, Mrs. John Bradley (Florence Briggs Th...</td>\n",
       "      <td>female</td>\n",
       "      <td>38.0</td>\n",
       "      <td>1</td>\n",
       "      <td>0</td>\n",
       "      <td>PC 17599</td>\n",
       "      <td>71.2833</td>\n",
       "      <td>C85</td>\n",
       "      <td>C</td>\n",
       "    </tr>\n",
       "    <tr>\n",
       "      <th>2</th>\n",
       "      <td>3</td>\n",
       "      <td>1</td>\n",
       "      <td>3</td>\n",
       "      <td>Heikkinen, Miss. Laina</td>\n",
       "      <td>female</td>\n",
       "      <td>26.0</td>\n",
       "      <td>0</td>\n",
       "      <td>0</td>\n",
       "      <td>STON/O2. 3101282</td>\n",
       "      <td>7.9250</td>\n",
       "      <td>B96 B98</td>\n",
       "      <td>S</td>\n",
       "    </tr>\n",
       "    <tr>\n",
       "      <th>3</th>\n",
       "      <td>4</td>\n",
       "      <td>1</td>\n",
       "      <td>1</td>\n",
       "      <td>Futrelle, Mrs. Jacques Heath (Lily May Peel)</td>\n",
       "      <td>female</td>\n",
       "      <td>35.0</td>\n",
       "      <td>1</td>\n",
       "      <td>0</td>\n",
       "      <td>113803</td>\n",
       "      <td>53.1000</td>\n",
       "      <td>C123</td>\n",
       "      <td>S</td>\n",
       "    </tr>\n",
       "    <tr>\n",
       "      <th>4</th>\n",
       "      <td>5</td>\n",
       "      <td>0</td>\n",
       "      <td>3</td>\n",
       "      <td>Allen, Mr. William Henry</td>\n",
       "      <td>male</td>\n",
       "      <td>35.0</td>\n",
       "      <td>0</td>\n",
       "      <td>0</td>\n",
       "      <td>373450</td>\n",
       "      <td>8.0500</td>\n",
       "      <td>B96 B98</td>\n",
       "      <td>S</td>\n",
       "    </tr>\n",
       "    <tr>\n",
       "      <th>...</th>\n",
       "      <td>...</td>\n",
       "      <td>...</td>\n",
       "      <td>...</td>\n",
       "      <td>...</td>\n",
       "      <td>...</td>\n",
       "      <td>...</td>\n",
       "      <td>...</td>\n",
       "      <td>...</td>\n",
       "      <td>...</td>\n",
       "      <td>...</td>\n",
       "      <td>...</td>\n",
       "      <td>...</td>\n",
       "    </tr>\n",
       "    <tr>\n",
       "      <th>886</th>\n",
       "      <td>887</td>\n",
       "      <td>0</td>\n",
       "      <td>2</td>\n",
       "      <td>Montvila, Rev. Juozas</td>\n",
       "      <td>male</td>\n",
       "      <td>27.0</td>\n",
       "      <td>0</td>\n",
       "      <td>0</td>\n",
       "      <td>211536</td>\n",
       "      <td>13.0000</td>\n",
       "      <td>B96 B98</td>\n",
       "      <td>S</td>\n",
       "    </tr>\n",
       "    <tr>\n",
       "      <th>887</th>\n",
       "      <td>888</td>\n",
       "      <td>1</td>\n",
       "      <td>1</td>\n",
       "      <td>Graham, Miss. Margaret Edith</td>\n",
       "      <td>female</td>\n",
       "      <td>19.0</td>\n",
       "      <td>0</td>\n",
       "      <td>0</td>\n",
       "      <td>112053</td>\n",
       "      <td>30.0000</td>\n",
       "      <td>B42</td>\n",
       "      <td>S</td>\n",
       "    </tr>\n",
       "    <tr>\n",
       "      <th>888</th>\n",
       "      <td>889</td>\n",
       "      <td>0</td>\n",
       "      <td>3</td>\n",
       "      <td>Johnston, Miss. Catherine Helen \"Carrie\"</td>\n",
       "      <td>female</td>\n",
       "      <td>24.0</td>\n",
       "      <td>1</td>\n",
       "      <td>2</td>\n",
       "      <td>W./C. 6607</td>\n",
       "      <td>23.4500</td>\n",
       "      <td>B96 B98</td>\n",
       "      <td>S</td>\n",
       "    </tr>\n",
       "    <tr>\n",
       "      <th>889</th>\n",
       "      <td>890</td>\n",
       "      <td>1</td>\n",
       "      <td>1</td>\n",
       "      <td>Behr, Mr. Karl Howell</td>\n",
       "      <td>male</td>\n",
       "      <td>26.0</td>\n",
       "      <td>0</td>\n",
       "      <td>0</td>\n",
       "      <td>111369</td>\n",
       "      <td>30.0000</td>\n",
       "      <td>C148</td>\n",
       "      <td>C</td>\n",
       "    </tr>\n",
       "    <tr>\n",
       "      <th>890</th>\n",
       "      <td>891</td>\n",
       "      <td>0</td>\n",
       "      <td>3</td>\n",
       "      <td>Dooley, Mr. Patrick</td>\n",
       "      <td>male</td>\n",
       "      <td>32.0</td>\n",
       "      <td>0</td>\n",
       "      <td>0</td>\n",
       "      <td>370376</td>\n",
       "      <td>7.7500</td>\n",
       "      <td>B96 B98</td>\n",
       "      <td>Q</td>\n",
       "    </tr>\n",
       "  </tbody>\n",
       "</table>\n",
       "<p>891 rows × 12 columns</p>\n",
       "</div>"
      ],
      "text/plain": [
       "     PassengerId  Survived  Pclass                                               Name     Sex   Age  SibSp  Parch            Ticket  \\\n",
       "0              1         0       3                            Braund, Mr. Owen Harris    male  22.0      1      0         A/5 21171   \n",
       "1              2         1       1  Cumings, Mrs. John Bradley (Florence Briggs Th...  female  38.0      1      0          PC 17599   \n",
       "2              3         1       3                             Heikkinen, Miss. Laina  female  26.0      0      0  STON/O2. 3101282   \n",
       "3              4         1       1       Futrelle, Mrs. Jacques Heath (Lily May Peel)  female  35.0      1      0            113803   \n",
       "4              5         0       3                           Allen, Mr. William Henry    male  35.0      0      0            373450   \n",
       "..           ...       ...     ...                                                ...     ...   ...    ...    ...               ...   \n",
       "886          887         0       2                              Montvila, Rev. Juozas    male  27.0      0      0            211536   \n",
       "887          888         1       1                       Graham, Miss. Margaret Edith  female  19.0      0      0            112053   \n",
       "888          889         0       3           Johnston, Miss. Catherine Helen \"Carrie\"  female  24.0      1      2        W./C. 6607   \n",
       "889          890         1       1                              Behr, Mr. Karl Howell    male  26.0      0      0            111369   \n",
       "890          891         0       3                                Dooley, Mr. Patrick    male  32.0      0      0            370376   \n",
       "\n",
       "        Fare    Cabin Embarked  \n",
       "0     7.2500  B96 B98        S  \n",
       "1    71.2833      C85        C  \n",
       "2     7.9250  B96 B98        S  \n",
       "3    53.1000     C123        S  \n",
       "4     8.0500  B96 B98        S  \n",
       "..       ...      ...      ...  \n",
       "886  13.0000  B96 B98        S  \n",
       "887  30.0000      B42        S  \n",
       "888  23.4500  B96 B98        S  \n",
       "889  30.0000     C148        C  \n",
       "890   7.7500  B96 B98        Q  \n",
       "\n",
       "[891 rows x 12 columns]"
      ]
     },
     "execution_count": 8,
     "metadata": {},
     "output_type": "execute_result"
    }
   ],
   "source": [
    "df\n"
   ]
  },
  {
   "cell_type": "markdown",
   "id": "d8ef9e7e",
   "metadata": {
    "hidden": true,
    "papermill": {
     "duration": 0.128502,
     "end_time": "2022-11-22T13:30:07.058204",
     "exception": false,
     "start_time": "2022-11-22T13:30:06.929702",
     "status": "completed"
    },
    "tags": []
   },
   "source": [
    "Here's how we get a quick summary of all the numeric columns in the dataset:"
   ]
  },
  {
   "cell_type": "code",
   "execution_count": 9,
   "id": "95a2c4df",
   "metadata": {
    "execution": {
     "iopub.execute_input": "2022-11-22T13:30:07.318273Z",
     "iopub.status.busy": "2022-11-22T13:30:07.317852Z",
     "iopub.status.idle": "2022-11-22T13:30:07.358957Z",
     "shell.execute_reply": "2022-11-22T13:30:07.358089Z"
    },
    "hidden": true,
    "papermill": {
     "duration": 0.177119,
     "end_time": "2022-11-22T13:30:07.361445",
     "exception": false,
     "start_time": "2022-11-22T13:30:07.184326",
     "status": "completed"
    },
    "tags": []
   },
   "outputs": [
    {
     "data": {
      "text/html": [
       "<div>\n",
       "<style scoped>\n",
       "    .dataframe tbody tr th:only-of-type {\n",
       "        vertical-align: middle;\n",
       "    }\n",
       "\n",
       "    .dataframe tbody tr th {\n",
       "        vertical-align: top;\n",
       "    }\n",
       "\n",
       "    .dataframe thead th {\n",
       "        text-align: right;\n",
       "    }\n",
       "</style>\n",
       "<table border=\"1\" class=\"dataframe\">\n",
       "  <thead>\n",
       "    <tr style=\"text-align: right;\">\n",
       "      <th></th>\n",
       "      <th>PassengerId</th>\n",
       "      <th>Survived</th>\n",
       "      <th>Pclass</th>\n",
       "      <th>Age</th>\n",
       "      <th>SibSp</th>\n",
       "      <th>Parch</th>\n",
       "      <th>Fare</th>\n",
       "    </tr>\n",
       "  </thead>\n",
       "  <tbody>\n",
       "    <tr>\n",
       "      <th>count</th>\n",
       "      <td>891.000000</td>\n",
       "      <td>891.000000</td>\n",
       "      <td>891.000000</td>\n",
       "      <td>891.000000</td>\n",
       "      <td>891.000000</td>\n",
       "      <td>891.000000</td>\n",
       "      <td>891.000000</td>\n",
       "    </tr>\n",
       "    <tr>\n",
       "      <th>mean</th>\n",
       "      <td>446.000000</td>\n",
       "      <td>0.383838</td>\n",
       "      <td>2.308642</td>\n",
       "      <td>28.566970</td>\n",
       "      <td>0.523008</td>\n",
       "      <td>0.381594</td>\n",
       "      <td>32.204208</td>\n",
       "    </tr>\n",
       "    <tr>\n",
       "      <th>std</th>\n",
       "      <td>257.353842</td>\n",
       "      <td>0.486592</td>\n",
       "      <td>0.836071</td>\n",
       "      <td>13.199572</td>\n",
       "      <td>1.102743</td>\n",
       "      <td>0.806057</td>\n",
       "      <td>49.693429</td>\n",
       "    </tr>\n",
       "    <tr>\n",
       "      <th>min</th>\n",
       "      <td>1.000000</td>\n",
       "      <td>0.000000</td>\n",
       "      <td>1.000000</td>\n",
       "      <td>0.420000</td>\n",
       "      <td>0.000000</td>\n",
       "      <td>0.000000</td>\n",
       "      <td>0.000000</td>\n",
       "    </tr>\n",
       "    <tr>\n",
       "      <th>25%</th>\n",
       "      <td>223.500000</td>\n",
       "      <td>0.000000</td>\n",
       "      <td>2.000000</td>\n",
       "      <td>22.000000</td>\n",
       "      <td>0.000000</td>\n",
       "      <td>0.000000</td>\n",
       "      <td>7.910400</td>\n",
       "    </tr>\n",
       "    <tr>\n",
       "      <th>50%</th>\n",
       "      <td>446.000000</td>\n",
       "      <td>0.000000</td>\n",
       "      <td>3.000000</td>\n",
       "      <td>24.000000</td>\n",
       "      <td>0.000000</td>\n",
       "      <td>0.000000</td>\n",
       "      <td>14.454200</td>\n",
       "    </tr>\n",
       "    <tr>\n",
       "      <th>75%</th>\n",
       "      <td>668.500000</td>\n",
       "      <td>1.000000</td>\n",
       "      <td>3.000000</td>\n",
       "      <td>35.000000</td>\n",
       "      <td>1.000000</td>\n",
       "      <td>0.000000</td>\n",
       "      <td>31.000000</td>\n",
       "    </tr>\n",
       "    <tr>\n",
       "      <th>max</th>\n",
       "      <td>891.000000</td>\n",
       "      <td>1.000000</td>\n",
       "      <td>3.000000</td>\n",
       "      <td>80.000000</td>\n",
       "      <td>8.000000</td>\n",
       "      <td>6.000000</td>\n",
       "      <td>512.329200</td>\n",
       "    </tr>\n",
       "  </tbody>\n",
       "</table>\n",
       "</div>"
      ],
      "text/plain": [
       "       PassengerId    Survived      Pclass         Age       SibSp       Parch        Fare\n",
       "count   891.000000  891.000000  891.000000  891.000000  891.000000  891.000000  891.000000\n",
       "mean    446.000000    0.383838    2.308642   28.566970    0.523008    0.381594   32.204208\n",
       "std     257.353842    0.486592    0.836071   13.199572    1.102743    0.806057   49.693429\n",
       "min       1.000000    0.000000    1.000000    0.420000    0.000000    0.000000    0.000000\n",
       "25%     223.500000    0.000000    2.000000   22.000000    0.000000    0.000000    7.910400\n",
       "50%     446.000000    0.000000    3.000000   24.000000    0.000000    0.000000   14.454200\n",
       "75%     668.500000    1.000000    3.000000   35.000000    1.000000    0.000000   31.000000\n",
       "max     891.000000    1.000000    3.000000   80.000000    8.000000    6.000000  512.329200"
      ]
     },
     "execution_count": 9,
     "metadata": {},
     "output_type": "execute_result"
    }
   ],
   "source": [
    "import numpy as np\n",
    "\n",
    "df.describe(include=(np.number))"
   ]
  },
  {
   "cell_type": "markdown",
   "id": "acb3f798",
   "metadata": {
    "execution": {
     "iopub.execute_input": "2022-05-13T11:02:34.328433Z",
     "iopub.status.busy": "2022-05-13T11:02:34.327999Z",
     "iopub.status.idle": "2022-05-13T11:02:34.336993Z",
     "shell.execute_reply": "2022-05-13T11:02:34.335466Z",
     "shell.execute_reply.started": "2022-05-13T11:02:34.32838Z"
    },
    "hidden": true,
    "papermill": {
     "duration": 0.11863,
     "end_time": "2022-11-22T13:30:07.604676",
     "exception": false,
     "start_time": "2022-11-22T13:30:07.486046",
     "status": "completed"
    },
    "tags": []
   },
   "source": [
    "We can see that `Fare` contains mainly values of around `0` to `30`, but there's a few really big ones. This is very common with fields contain monetary values, and it can cause problems for our model, because once that column is multiplied by a coefficient later, the few rows with really big values will dominate the result.\n",
    "\n",
    "You can see the issue most clearly visually by looking at a histogram, which shows a long tail to the right (and don't forget: if you're not entirely sure what a histogram is, Google \"[histogram tutorial](https://www.google.com/search?q=histogram+tutorial&oq=histogram+tutorial)\" and do a bit of reading before continuing on):"
   ]
  },
  {
   "cell_type": "code",
   "execution_count": 10,
   "id": "c6a09a7d",
   "metadata": {
    "execution": {
     "iopub.execute_input": "2022-11-22T13:30:07.845441Z",
     "iopub.status.busy": "2022-11-22T13:30:07.845134Z",
     "iopub.status.idle": "2022-11-22T13:30:08.110773Z",
     "shell.execute_reply": "2022-11-22T13:30:08.109833Z"
    },
    "hidden": true,
    "papermill": {
     "duration": 0.388344,
     "end_time": "2022-11-22T13:30:08.112980",
     "exception": false,
     "start_time": "2022-11-22T13:30:07.724636",
     "status": "completed"
    },
    "tags": []
   },
   "outputs": [
    {
     "data": {
      "image/png": "[encoded data removed]",
      "text/plain": [
       "<Figure size 432x288 with 1 Axes>"
      ]
     },
     "metadata": {
      "needs_background": "light"
     },
     "output_type": "display_data"
    }
   ],
   "source": [
    "df['Fare'].hist();"
   ]
  },
  {
   "cell_type": "markdown",
   "id": "94d0a3c7",
   "metadata": {
    "execution": {
     "iopub.execute_input": "2022-05-13T11:02:34.328433Z",
     "iopub.status.busy": "2022-05-13T11:02:34.327999Z",
     "iopub.status.idle": "2022-05-13T11:02:34.336993Z",
     "shell.execute_reply": "2022-05-13T11:02:34.335466Z",
     "shell.execute_reply.started": "2022-05-13T11:02:34.32838Z"
    },
    "hidden": true,
    "papermill": {
     "duration": 0.120966,
     "end_time": "2022-11-22T13:30:08.354116",
     "exception": false,
     "start_time": "2022-11-22T13:30:08.233150",
     "status": "completed"
    },
    "tags": []
   },
   "source": [
    "To fix this, the most common approach is to take the logarithm, which squishes the big numbers and makes the distribution more reasonable. Note, however, that there are zeros in the `Fare` column, and `log(0)` is infinite -- to fix this, we'll simply add `1` to all values first:"
   ]
  },
  {
   "cell_type": "code",
   "execution_count": 11,
   "id": "b1f356ff",
   "metadata": {
    "execution": {
     "iopub.execute_input": "2022-11-22T13:30:08.600763Z",
     "iopub.status.busy": "2022-11-22T13:30:08.600445Z",
     "iopub.status.idle": "2022-11-22T13:30:08.608471Z",
     "shell.execute_reply": "2022-11-22T13:30:08.607509Z"
    },
    "hidden": true,
    "papermill": {
     "duration": 0.134986,
     "end_time": "2022-11-22T13:30:08.610743",
     "exception": false,
     "start_time": "2022-11-22T13:30:08.475757",
     "status": "completed"
    },
    "tags": []
   },
   "outputs": [],
   "source": [
    "df['LogFare'] = np.log(df['Fare']+1)"
   ]
  },
  {
   "cell_type": "markdown",
   "id": "e6706e53",
   "metadata": {
    "hidden": true,
    "papermill": {
     "duration": 0.119277,
     "end_time": "2022-11-22T13:30:08.848802",
     "exception": false,
     "start_time": "2022-11-22T13:30:08.729525",
     "status": "completed"
    },
    "tags": []
   },
   "source": [
    "The histogram now shows a more even distribution of values without the long tail:"
   ]
  },
  {
   "cell_type": "code",
   "execution_count": 12,
   "id": "642a4b2c",
   "metadata": {
    "execution": {
     "iopub.execute_input": "2022-11-22T13:30:09.092255Z",
     "iopub.status.busy": "2022-11-22T13:30:09.091331Z",
     "iopub.status.idle": "2022-11-22T13:30:09.315249Z",
     "shell.execute_reply": "2022-11-22T13:30:09.314377Z"
    },
    "hidden": true,
    "papermill": {
     "duration": 0.348291,
     "end_time": "2022-11-22T13:30:09.317516",
     "exception": false,
     "start_time": "2022-11-22T13:30:08.969225",
     "status": "completed"
    },
    "tags": []
   },
   "outputs": [
    {
     "data": {
      "image/png": "[encoded data removed]",
      "text/plain": [
       "<Figure size 432x288 with 1 Axes>"
      ]
     },
     "metadata": {
      "needs_background": "light"
     },
     "output_type": "display_data"
    }
   ],
   "source": [
    "df['LogFare'].hist();"
   ]
  },
  {
   "cell_type": "markdown",
   "id": "67c70245",
   "metadata": {
    "hidden": true,
    "papermill": {
     "duration": 0.119513,
     "end_time": "2022-11-22T13:30:09.556509",
     "exception": false,
     "start_time": "2022-11-22T13:30:09.436996",
     "status": "completed"
    },
    "tags": []
   },
   "source": [
    "It looks from the `describe()` output like `Pclass` contains just 3 values, which we can confirm by looking at the [Data Dictionary](https://www.kaggle.com/competitions/titanic/data) (which you should always study carefully for any project!) -- "
   ]
  },
  {
   "cell_type": "code",
   "execution_count": 13,
   "id": "6d5281a7",
   "metadata": {
    "execution": {
     "iopub.execute_input": "2022-11-22T13:30:09.801562Z",
     "iopub.status.busy": "2022-11-22T13:30:09.800542Z",
     "iopub.status.idle": "2022-11-22T13:30:09.809484Z",
     "shell.execute_reply": "2022-11-22T13:30:09.808371Z"
    },
    "hidden": true,
    "papermill": {
     "duration": 0.13385,
     "end_time": "2022-11-22T13:30:09.811937",
     "exception": false,
     "start_time": "2022-11-22T13:30:09.678087",
     "status": "completed"
    },
    "tags": []
   },
   "outputs": [
    {
     "data": {
      "text/plain": [
       "[1, 2, 3]"
      ]
     },
     "execution_count": 13,
     "metadata": {},
     "output_type": "execute_result"
    }
   ],
   "source": [
    "pclasses = sorted(df.Pclass.unique())\n",
    "pclasses"
   ]
  },
  {
   "cell_type": "markdown",
   "id": "b7a87b11",
   "metadata": {
    "hidden": true,
    "papermill": {
     "duration": 0.121816,
     "end_time": "2022-11-22T13:30:10.055778",
     "exception": false,
     "start_time": "2022-11-22T13:30:09.933962",
     "status": "completed"
    },
    "tags": []
   },
   "source": [
    "Here's how we get a quick summary of all the non-numeric columns in the dataset:"
   ]
  },
  {
   "cell_type": "code",
   "execution_count": 14,
   "id": "26f89917",
   "metadata": {
    "execution": {
     "iopub.execute_input": "2022-11-22T13:30:10.300259Z",
     "iopub.status.busy": "2022-11-22T13:30:10.299945Z",
     "iopub.status.idle": "2022-11-22T13:30:10.322038Z",
     "shell.execute_reply": "2022-11-22T13:30:10.321405Z"
    },
    "hidden": true,
    "papermill": {
     "duration": 0.146689,
     "end_time": "2022-11-22T13:30:10.324022",
     "exception": false,
     "start_time": "2022-11-22T13:30:10.177333",
     "status": "completed"
    },
    "tags": []
   },
   "outputs": [
    {
     "data": {
      "text/html": [
       "<div>\n",
       "<style scoped>\n",
       "    .dataframe tbody tr th:only-of-type {\n",
       "        vertical-align: middle;\n",
       "    }\n",
       "\n",
       "    .dataframe tbody tr th {\n",
       "        vertical-align: top;\n",
       "    }\n",
       "\n",
       "    .dataframe thead th {\n",
       "        text-align: right;\n",
       "    }\n",
       "</style>\n",
       "<table border=\"1\" class=\"dataframe\">\n",
       "  <thead>\n",
       "    <tr style=\"text-align: right;\">\n",
       "      <th></th>\n",
       "      <th>Name</th>\n",
       "      <th>Sex</th>\n",
       "      <th>Ticket</th>\n",
       "      <th>Cabin</th>\n",
       "      <th>Embarked</th>\n",
       "    </tr>\n",
       "  </thead>\n",
       "  <tbody>\n",
       "    <tr>\n",
       "      <th>count</th>\n",
       "      <td>891</td>\n",
       "      <td>891</td>\n",
       "      <td>891</td>\n",
       "      <td>891</td>\n",
       "      <td>891</td>\n",
       "    </tr>\n",
       "    <tr>\n",
       "      <th>unique</th>\n",
       "      <td>891</td>\n",
       "      <td>2</td>\n",
       "      <td>681</td>\n",
       "      <td>147</td>\n",
       "      <td>3</td>\n",
       "    </tr>\n",
       "    <tr>\n",
       "      <th>top</th>\n",
       "      <td>Braund, Mr. Owen Harris</td>\n",
       "      <td>male</td>\n",
       "      <td>347082</td>\n",
       "      <td>B96 B98</td>\n",
       "      <td>S</td>\n",
       "    </tr>\n",
       "    <tr>\n",
       "      <th>freq</th>\n",
       "      <td>1</td>\n",
       "      <td>577</td>\n",
       "      <td>7</td>\n",
       "      <td>691</td>\n",
       "      <td>646</td>\n",
       "    </tr>\n",
       "  </tbody>\n",
       "</table>\n",
       "</div>"
      ],
      "text/plain": [
       "                           Name   Sex  Ticket    Cabin Embarked\n",
       "count                       891   891     891      891      891\n",
       "unique                      891     2     681      147        3\n",
       "top     Braund, Mr. Owen Harris  male  347082  B96 B98        S\n",
       "freq                          1   577       7      691      646"
      ]
     },
     "execution_count": 14,
     "metadata": {},
     "output_type": "execute_result"
    }
   ],
   "source": [
    "df.describe(include=[object])"
   ]
  },
  {
   "cell_type": "markdown",
   "id": "8ae77a2c",
   "metadata": {
    "hidden": true,
    "papermill": {
     "duration": 0.125084,
     "end_time": "2022-11-22T13:30:10.574621",
     "exception": false,
     "start_time": "2022-11-22T13:30:10.449537",
     "status": "completed"
    },
    "tags": []
   },
   "source": [
    "Clearly we can't multiply strings like `male` or `S` by coefficients, so we need to replace those with numbers.\n",
    "\n",
    "We do that by creating new columns containing *dummy variables*. A dummy variable is a column that contains a `1` where a particular column contains a particular value, or a `0` otherwise. For instance, we could create a dummy variable for `Sex='male'`, which would be a new column containing `1` for rows where `Sex` is `'male'`, and 0 for rows where it isn't.\n",
    "\n",
    "Pandas can create these automatically using `get_dummies`, which also remove the original columns. We'll create dummy variables for `Pclass`, even although it's numeric, since the numbers `1`, `2`, and `3` correspond to first, second, and third class cabins - not to counts or measures that make sense to multiply by. We'll also create dummies for `Sex` and `Embarked` since we'll want to use those as predictors in our model. On the other hand, `Cabin`, `Name`, and `Ticket` have too many unique values for it to make sense creating dummy variables for them."
   ]
  },
  {
   "cell_type": "code",
   "execution_count": 15,
   "id": "c8b73cd3",
   "metadata": {
    "execution": {
     "iopub.execute_input": "2022-11-22T13:30:10.820140Z",
     "iopub.status.busy": "2022-11-22T13:30:10.819608Z",
     "iopub.status.idle": "2022-11-22T13:30:10.831495Z",
     "shell.execute_reply": "2022-11-22T13:30:10.830771Z"
    },
    "hidden": true,
    "papermill": {
     "duration": 0.137615,
     "end_time": "2022-11-22T13:30:10.833434",
     "exception": false,
     "start_time": "2022-11-22T13:30:10.695819",
     "status": "completed"
    },
    "tags": []
   },
   "outputs": [
    {
     "data": {
      "text/plain": [
       "Index(['PassengerId', 'Survived', 'Name', 'Age', 'SibSp', 'Parch', 'Ticket', 'Fare', 'Cabin', 'LogFare', 'Sex_female', 'Sex_male',\n",
       "       'Pclass_1', 'Pclass_2', 'Pclass_3', 'Embarked_C', 'Embarked_Q', 'Embarked_S'],\n",
       "      dtype='object')"
      ]
     },
     "execution_count": 15,
     "metadata": {},
     "output_type": "execute_result"
    }
   ],
   "source": [
    "df = pd.get_dummies(df, columns=[\"Sex\",\"Pclass\",\"Embarked\"])\n",
    "df.columns"
   ]
  },
  {
   "cell_type": "markdown",
   "id": "cd8a4ab4",
   "metadata": {
    "hidden": true,
    "papermill": {
     "duration": 0.123575,
     "end_time": "2022-11-22T13:30:11.078092",
     "exception": false,
     "start_time": "2022-11-22T13:30:10.954517",
     "status": "completed"
    },
    "tags": []
   },
   "source": [
    "We can see that 5 columns have been added to the end -- one for each of the possible values of each of the three columns we requested, and that those three requested columns have been removed.\n",
    "\n",
    "Here's what the first few rows of those newly added columns look like:"
   ]
  },
  {
   "cell_type": "code",
   "execution_count": 16,
   "id": "41a9ddb8",
   "metadata": {
    "execution": {
     "iopub.execute_input": "2022-11-22T13:30:11.323301Z",
     "iopub.status.busy": "2022-11-22T13:30:11.322632Z",
     "iopub.status.idle": "2022-11-22T13:30:11.335886Z",
     "shell.execute_reply": "2022-11-22T13:30:11.334966Z"
    },
    "hidden": true,
    "papermill": {
     "duration": 0.138822,
     "end_time": "2022-11-22T13:30:11.337857",
     "exception": false,
     "start_time": "2022-11-22T13:30:11.199035",
     "status": "completed"
    },
    "tags": []
   },
   "outputs": [
    {
     "data": {
      "text/html": [
       "<div>\n",
       "<style scoped>\n",
       "    .dataframe tbody tr th:only-of-type {\n",
       "        vertical-align: middle;\n",
       "    }\n",
       "\n",
       "    .dataframe tbody tr th {\n",
       "        vertical-align: top;\n",
       "    }\n",
       "\n",
       "    .dataframe thead th {\n",
       "        text-align: right;\n",
       "    }\n",
       "</style>\n",
       "<table border=\"1\" class=\"dataframe\">\n",
       "  <thead>\n",
       "    <tr style=\"text-align: right;\">\n",
       "      <th></th>\n",
       "      <th>Sex_male</th>\n",
       "      <th>Sex_female</th>\n",
       "      <th>Pclass_1</th>\n",
       "      <th>Pclass_2</th>\n",
       "      <th>Pclass_3</th>\n",
       "      <th>Embarked_C</th>\n",
       "      <th>Embarked_Q</th>\n",
       "      <th>Embarked_S</th>\n",
       "    </tr>\n",
       "  </thead>\n",
       "  <tbody>\n",
       "    <tr>\n",
       "      <th>0</th>\n",
       "      <td>1</td>\n",
       "      <td>0</td>\n",
       "      <td>0</td>\n",
       "      <td>0</td>\n",
       "      <td>1</td>\n",
       "      <td>0</td>\n",
       "      <td>0</td>\n",
       "      <td>1</td>\n",
       "    </tr>\n",
       "    <tr>\n",
       "      <th>1</th>\n",
       "      <td>0</td>\n",
       "      <td>1</td>\n",
       "      <td>1</td>\n",
       "      <td>0</td>\n",
       "      <td>0</td>\n",
       "      <td>1</td>\n",
       "      <td>0</td>\n",
       "      <td>0</td>\n",
       "    </tr>\n",
       "    <tr>\n",
       "      <th>2</th>\n",
       "      <td>0</td>\n",
       "      <td>1</td>\n",
       "      <td>0</td>\n",
       "      <td>0</td>\n",
       "      <td>1</td>\n",
       "      <td>0</td>\n",
       "      <td>0</td>\n",
       "      <td>1</td>\n",
       "    </tr>\n",
       "    <tr>\n",
       "      <th>3</th>\n",
       "      <td>0</td>\n",
       "      <td>1</td>\n",
       "      <td>1</td>\n",
       "      <td>0</td>\n",
       "      <td>0</td>\n",
       "      <td>0</td>\n",
       "      <td>0</td>\n",
       "      <td>1</td>\n",
       "    </tr>\n",
       "    <tr>\n",
       "      <th>4</th>\n",
       "      <td>1</td>\n",
       "      <td>0</td>\n",
       "      <td>0</td>\n",
       "      <td>0</td>\n",
       "      <td>1</td>\n",
       "      <td>0</td>\n",
       "      <td>0</td>\n",
       "      <td>1</td>\n",
       "    </tr>\n",
       "  </tbody>\n",
       "</table>\n",
       "</div>"
      ],
      "text/plain": [
       "   Sex_male  Sex_female  Pclass_1  Pclass_2  Pclass_3  Embarked_C  Embarked_Q  Embarked_S\n",
       "0         1           0         0         0         1           0           0           1\n",
       "1         0           1         1         0         0           1           0           0\n",
       "2         0           1         0         0         1           0           0           1\n",
       "3         0           1         1         0         0           0           0           1\n",
       "4         1           0         0         0         1           0           0           1"
      ]
     },
     "execution_count": 16,
     "metadata": {},
     "output_type": "execute_result"
    }
   ],
   "source": [
    "added_cols = ['Sex_male', 'Sex_female', 'Pclass_1', 'Pclass_2', 'Pclass_3', 'Embarked_C', 'Embarked_Q', 'Embarked_S']\n",
    "df[added_cols].head()"
   ]
  },
  {
   "cell_type": "markdown",
   "id": "365a9a7f",
   "metadata": {
    "hidden": true,
    "papermill": {
     "duration": 0.121156,
     "end_time": "2022-11-22T13:30:11.586086",
     "exception": false,
     "start_time": "2022-11-22T13:30:11.464930",
     "status": "completed"
    },
    "tags": []
   },
   "source": [
    "Now we can create our independent (predictors) and dependent (target) variables. They both need to be PyTorch tensors. Our dependent variable is `Survived`:"
   ]
  },
  {
   "cell_type": "code",
   "execution_count": 17,
   "id": "feb75626",
   "metadata": {
    "execution": {
     "iopub.execute_input": "2022-11-22T13:30:11.834033Z",
     "iopub.status.busy": "2022-11-22T13:30:11.833411Z",
     "iopub.status.idle": "2022-11-22T13:30:11.848368Z",
     "shell.execute_reply": "2022-11-22T13:30:11.847398Z"
    },
    "hidden": true,
    "papermill": {
     "duration": 0.140613,
     "end_time": "2022-11-22T13:30:11.850920",
     "exception": false,
     "start_time": "2022-11-22T13:30:11.710307",
     "status": "completed"
    },
    "tags": []
   },
   "outputs": [],
   "source": [
    "from torch import tensor\n",
    "\n",
    "t_dep = tensor(df.Survived)"
   ]
  },
  {
   "cell_type": "markdown",
   "id": "f6d5a527",
   "metadata": {
    "hidden": true,
    "papermill": {
     "duration": 0.134712,
     "end_time": "2022-11-22T13:30:12.109895",
     "exception": false,
     "start_time": "2022-11-22T13:30:11.975183",
     "status": "completed"
    },
    "tags": []
   },
   "source": [
    "Our independent variables are all the continuous variables of interest plus all the dummy variables we just created:"
   ]
  },
  {
   "cell_type": "code",
   "execution_count": 18,
   "id": "a1901c88",
   "metadata": {
    "execution": {
     "iopub.execute_input": "2022-11-22T13:30:12.366709Z",
     "iopub.status.busy": "2022-11-22T13:30:12.366378Z",
     "iopub.status.idle": "2022-11-22T13:30:12.455923Z",
     "shell.execute_reply": "2022-11-22T13:30:12.455025Z"
    },
    "hidden": true,
    "papermill": {
     "duration": 0.216696,
     "end_time": "2022-11-22T13:30:12.458102",
     "exception": false,
     "start_time": "2022-11-22T13:30:12.241406",
     "status": "completed"
    },
    "tags": []
   },
   "outputs": [
    {
     "data": {
      "text/plain": [
       "tensor([[22.0000,  1.0000,  0.0000,  2.1102,  1.0000,  0.0000,  0.0000,  0.0000,  1.0000,  0.0000,  0.0000,  1.0000],\n",
       "        [38.0000,  1.0000,  0.0000,  4.2806,  0.0000,  1.0000,  1.0000,  0.0000,  0.0000,  1.0000,  0.0000,  0.0000],\n",
       "        [26.0000,  0.0000,  0.0000,  2.1889,  0.0000,  1.0000,  0.0000,  0.0000,  1.0000,  0.0000,  0.0000,  1.0000],\n",
       "        [35.0000,  1.0000,  0.0000,  3.9908,  0.0000,  1.0000,  1.0000,  0.0000,  0.0000,  0.0000,  0.0000,  1.0000],\n",
       "        [35.0000,  0.0000,  0.0000,  2.2028,  1.0000,  0.0000,  0.0000,  0.0000,  1.0000,  0.0000,  0.0000,  1.0000],\n",
       "        [24.0000,  0.0000,  0.0000,  2.2469,  1.0000,  0.0000,  0.0000,  0.0000,  1.0000,  0.0000,  1.0000,  0.0000],\n",
       "        [54.0000,  0.0000,  0.0000,  3.9677,  1.0000,  0.0000,  1.0000,  0.0000,  0.0000,  0.0000,  0.0000,  1.0000],\n",
       "        ...,\n",
       "        [25.0000,  0.0000,  0.0000,  2.0857,  1.0000,  0.0000,  0.0000,  0.0000,  1.0000,  0.0000,  0.0000,  1.0000],\n",
       "        [39.0000,  0.0000,  5.0000,  3.4054,  0.0000,  1.0000,  0.0000,  0.0000,  1.0000,  0.0000,  1.0000,  0.0000],\n",
       "        [27.0000,  0.0000,  0.0000,  2.6391,  1.0000,  0.0000,  0.0000,  1.0000,  0.0000,  0.0000,  0.0000,  1.0000],\n",
       "        [19.0000,  0.0000,  0.0000,  3.4340,  0.0000,  1.0000,  1.0000,  0.0000,  0.0000,  0.0000,  0.0000,  1.0000],\n",
       "        [24.0000,  1.0000,  2.0000,  3.1966,  0.0000,  1.0000,  0.0000,  0.0000,  1.0000,  0.0000,  0.0000,  1.0000],\n",
       "        [26.0000,  0.0000,  0.0000,  3.4340,  1.0000,  0.0000,  1.0000,  0.0000,  0.0000,  1.0000,  0.0000,  0.0000],\n",
       "        [32.0000,  0.0000,  0.0000,  2.1691,  1.0000,  0.0000,  0.0000,  0.0000,  1.0000,  0.0000,  1.0000,  0.0000]])"
      ]
     },
     "execution_count": 18,
     "metadata": {},
     "output_type": "execute_result"
    }
   ],
   "source": [
    "indep_cols = ['Age', 'SibSp', 'Parch', 'LogFare'] + added_cols\n",
    "\n",
    "t_indep = tensor(df[indep_cols].values, dtype=torch.float)\n",
    "t_indep"
   ]
  },
  {
   "cell_type": "markdown",
   "id": "22514b15",
   "metadata": {
    "hidden": true,
    "papermill": {
     "duration": 0.121503,
     "end_time": "2022-11-22T13:30:12.702978",
     "exception": false,
     "start_time": "2022-11-22T13:30:12.581475",
     "status": "completed"
    },
    "tags": []
   },
   "source": [
    "Here's the number of rows and columns we have for our independent variables:"
   ]
  },
  {
   "cell_type": "code",
   "execution_count": 19,
   "id": "89144a5d",
   "metadata": {
    "execution": {
     "iopub.execute_input": "2022-11-22T13:30:12.948696Z",
     "iopub.status.busy": "2022-11-22T13:30:12.947948Z",
     "iopub.status.idle": "2022-11-22T13:30:12.953992Z",
     "shell.execute_reply": "2022-11-22T13:30:12.953255Z"
    },
    "hidden": true,
    "papermill": {
     "duration": 0.130822,
     "end_time": "2022-11-22T13:30:12.955826",
     "exception": false,
     "start_time": "2022-11-22T13:30:12.825004",
     "status": "completed"
    },
    "tags": []
   },
   "outputs": [
    {
     "data": {
      "text/plain": [
       "torch.Size([891, 12])"
      ]
     },
     "execution_count": 19,
     "metadata": {},
     "output_type": "execute_result"
    }
   ],
   "source": [
    "t_indep.shape"
   ]
  },
  {
   "cell_type": "markdown",
   "id": "4eba4444",
   "metadata": {
    "papermill": {
     "duration": 0.123505,
     "end_time": "2022-11-22T13:30:13.203811",
     "exception": false,
     "start_time": "2022-11-22T13:30:13.080306",
     "status": "completed"
    },
    "tags": []
   },
   "source": [
    "## Setting up a linear model"
   ]
  },
  {
   "cell_type": "markdown",
   "id": "84b46eb2",
   "metadata": {
    "papermill": {
     "duration": 0.122599,
     "end_time": "2022-11-22T13:30:13.452116",
     "exception": false,
     "start_time": "2022-11-22T13:30:13.329517",
     "status": "completed"
    },
    "tags": []
   },
   "source": [
    "Now that we've got a matrix of independent variables and a dependent variable vector, we can work on calculating our predictions and our loss. In this section, we're going to manually do a single step of calculating predictions and loss for every row of our data.\n",
    "\n",
    "Our first model will be a simple linear model. We'll need a coefficient for each column in `t_indep`. We'll pick random numbers in the range `(-0.5,0.5)`, and set our manual seed so that my explanations in the prose in this notebook will be consistent with what you see when you run it."
   ]
  },
  {
   "cell_type": "code",
   "execution_count": 20,
   "id": "075096f6",
   "metadata": {
    "execution": {
     "iopub.execute_input": "2022-11-22T13:30:13.704601Z",
     "iopub.status.busy": "2022-11-22T13:30:13.703918Z",
     "iopub.status.idle": "2022-11-22T13:30:13.720876Z",
     "shell.execute_reply": "2022-11-22T13:30:13.720035Z"
    },
    "papermill": {
     "duration": 0.144675,
     "end_time": "2022-11-22T13:30:13.723205",
     "exception": false,
     "start_time": "2022-11-22T13:30:13.578530",
     "status": "completed"
    },
    "tags": []
   },
   "outputs": [
    {
     "data": {
      "text/plain": [
       "tensor([-0.4629,  0.1386,  0.2409, -0.2262, -0.2632, -0.3147,  0.4876,  0.3136,  0.2799, -0.4392,  0.2103,  0.3625])"
      ]
     },
     "execution_count": 20,
     "metadata": {},
     "output_type": "execute_result"
    }
   ],
   "source": [
    "torch.manual_seed(442)\n",
    "\n",
    "n_coeff = t_indep.shape[1]\n",
    "coeffs = torch.rand(n_coeff)-0.5\n",
    "coeffs"
   ]
  },
  {
   "cell_type": "markdown",
   "id": "7a1b436c",
   "metadata": {
    "papermill": {
     "duration": 0.123358,
     "end_time": "2022-11-22T13:30:13.971444",
     "exception": false,
     "start_time": "2022-11-22T13:30:13.848086",
     "status": "completed"
    },
    "tags": []
   },
   "source": [
    "Our predictions will be calculated by multiplying each row by the coefficients, and adding them up. One interesting point here is that we don't need a separate constant term (also known as a \"bias\" or \"intercept\" term), or a column of all `1`s to give the same effect has having a constant term. That's because our dummy variables already cover the entire dataset -- e.g. there's a column for \"male\" and a column for \"female\", and everyone in the dataset is in exactly one of these; therefore, we don't need a separate intercept term to cover rows that aren't otherwise part of a column.\n",
    "\n",
    "Here's what the multiplication looks like:"
   ]
  },
  {
   "cell_type": "code",
   "execution_count": 21,
   "id": "1a78741c",
   "metadata": {
    "execution": {
     "iopub.execute_input": "2022-11-22T13:30:14.225038Z",
     "iopub.status.busy": "2022-11-22T13:30:14.224450Z",
     "iopub.status.idle": "2022-11-22T13:30:14.231632Z",
     "shell.execute_reply": "2022-11-22T13:30:14.230776Z"
    },
    "papermill": {
     "duration": 0.135988,
     "end_time": "2022-11-22T13:30:14.233741",
     "exception": false,
     "start_time": "2022-11-22T13:30:14.097753",
     "status": "completed"
    },
    "tags": []
   },
   "outputs": [
    {
     "data": {
      "text/plain": [
       "tensor([[-10.1838,   0.1386,   0.0000,  -0.4772,  -0.2632,  -0.0000,   0.0000,   0.0000,   0.2799,  -0.0000,   0.0000,   0.3625],\n",
       "        [-17.5902,   0.1386,   0.0000,  -0.9681,  -0.0000,  -0.3147,   0.4876,   0.0000,   0.0000,  -0.4392,   0.0000,   0.0000],\n",
       "        [-12.0354,   0.0000,   0.0000,  -0.4950,  -0.0000,  -0.3147,   0.0000,   0.0000,   0.2799,  -0.0000,   0.0000,   0.3625],\n",
       "        [-16.2015,   0.1386,   0.0000,  -0.9025,  -0.0000,  -0.3147,   0.4876,   0.0000,   0.0000,  -0.0000,   0.0000,   0.3625],\n",
       "        [-16.2015,   0.0000,   0.0000,  -0.4982,  -0.2632,  -0.0000,   0.0000,   0.0000,   0.2799,  -0.0000,   0.0000,   0.3625],\n",
       "        [-11.1096,   0.0000,   0.0000,  -0.5081,  -0.2632,  -0.0000,   0.0000,   0.0000,   0.2799,  -0.0000,   0.2103,   0.0000],\n",
       "        [-24.9966,   0.0000,   0.0000,  -0.8973,  -0.2632,  -0.0000,   0.4876,   0.0000,   0.0000,  -0.0000,   0.0000,   0.3625],\n",
       "        ...,\n",
       "        [-11.5725,   0.0000,   0.0000,  -0.4717,  -0.2632,  -0.0000,   0.0000,   0.0000,   0.2799,  -0.0000,   0.0000,   0.3625],\n",
       "        [-18.0531,   0.0000,   1.2045,  -0.7701,  -0.0000,  -0.3147,   0.0000,   0.0000,   0.2799,  -0.0000,   0.2103,   0.0000],\n",
       "        [-12.4983,   0.0000,   0.0000,  -0.5968,  -0.2632,  -0.0000,   0.0000,   0.3136,   0.0000,  -0.0000,   0.0000,   0.3625],\n",
       "        [ -8.7951,   0.0000,   0.0000,  -0.7766,  -0.0000,  -0.3147,   0.4876,   0.0000,   0.0000,  -0.0000,   0.0000,   0.3625],\n",
       "        [-11.1096,   0.1386,   0.4818,  -0.7229,  -0.0000,  -0.3147,   0.0000,   0.0000,   0.2799,  -0.0000,   0.0000,   0.3625],\n",
       "        [-12.0354,   0.0000,   0.0000,  -0.7766,  -0.2632,  -0.0000,   0.4876,   0.0000,   0.0000,  -0.4392,   0.0000,   0.0000],\n",
       "        [-14.8128,   0.0000,   0.0000,  -0.4905,  -0.2632,  -0.0000,   0.0000,   0.0000,   0.2799,  -0.0000,   0.2103,   0.0000]])"
      ]
     },
     "execution_count": 21,
     "metadata": {},
     "output_type": "execute_result"
    }
   ],
   "source": [
    "t_indep*coeffs"
   ]
  },
  {
   "cell_type": "markdown",
   "id": "414d1082",
   "metadata": {
    "papermill": {
     "duration": 0.12403,
     "end_time": "2022-11-22T13:30:14.484043",
     "exception": false,
     "start_time": "2022-11-22T13:30:14.360013",
     "status": "completed"
    },
    "tags": []
   },
   "source": [
    "We can see we've got a problem here. The sums of each row will be dominated by the first column, which is `Age`, since that's bigger on average than all the others.\n",
    "\n",
    "Let's make all the columns contain numbers from `0` to `1`, by dividing each column by its `max()`:"
   ]
  },
  {
   "cell_type": "code",
   "execution_count": 22,
   "id": "e112d35b",
   "metadata": {
    "execution": {
     "iopub.execute_input": "2022-11-22T13:30:14.737541Z",
     "iopub.status.busy": "2022-11-22T13:30:14.737204Z",
     "iopub.status.idle": "2022-11-22T13:30:14.743585Z",
     "shell.execute_reply": "2022-11-22T13:30:14.742727Z"
    },
    "papermill": {
     "duration": 0.136494,
     "end_time": "2022-11-22T13:30:14.745940",
     "exception": false,
     "start_time": "2022-11-22T13:30:14.609446",
     "status": "completed"
    },
    "tags": []
   },
   "outputs": [],
   "source": [
    "vals,indices = t_indep.max(dim=0)\n",
    "t_indep = t_indep / vals"
   ]
  },
  {
   "cell_type": "markdown",
   "id": "5e5434e4",
   "metadata": {
    "papermill": {
     "duration": 0.127728,
     "end_time": "2022-11-22T13:30:15.000570",
     "exception": false,
     "start_time": "2022-11-22T13:30:14.872842",
     "status": "completed"
    },
    "tags": []
   },
   "source": [
    "As we see, that removes the problem of one column dominating all the others:"
   ]
  },
  {
   "cell_type": "code",
   "execution_count": 23,
   "id": "8179a026",
   "metadata": {
    "execution": {
     "iopub.execute_input": "2022-11-22T13:30:15.253230Z",
     "iopub.status.busy": "2022-11-22T13:30:15.252302Z",
     "iopub.status.idle": "2022-11-22T13:30:15.259220Z",
     "shell.execute_reply": "2022-11-22T13:30:15.258595Z"
    },
    "papermill": {
     "duration": 0.135259,
     "end_time": "2022-11-22T13:30:15.261168",
     "exception": false,
     "start_time": "2022-11-22T13:30:15.125909",
     "status": "completed"
    },
    "tags": []
   },
   "outputs": [
    {
     "data": {
      "text/plain": [
       "tensor([[-0.1273,  0.0173,  0.0000, -0.0765, -0.2632, -0.0000,  0.0000,  0.0000,  0.2799, -0.0000,  0.0000,  0.3625],\n",
       "        [-0.2199,  0.0173,  0.0000, -0.1551, -0.0000, -0.3147,  0.4876,  0.0000,  0.0000, -0.4392,  0.0000,  0.0000],\n",
       "        [-0.1504,  0.0000,  0.0000, -0.0793, -0.0000, -0.3147,  0.0000,  0.0000,  0.2799, -0.0000,  0.0000,  0.3625],\n",
       "        [-0.2025,  0.0173,  0.0000, -0.1446, -0.0000, -0.3147,  0.4876,  0.0000,  0.0000, -0.0000,  0.0000,  0.3625],\n",
       "        [-0.2025,  0.0000,  0.0000, -0.0798, -0.2632, -0.0000,  0.0000,  0.0000,  0.2799, -0.0000,  0.0000,  0.3625],\n",
       "        [-0.1389,  0.0000,  0.0000, -0.0814, -0.2632, -0.0000,  0.0000,  0.0000,  0.2799, -0.0000,  0.2103,  0.0000],\n",
       "        [-0.3125,  0.0000,  0.0000, -0.1438, -0.2632, -0.0000,  0.4876,  0.0000,  0.0000, -0.0000,  0.0000,  0.3625],\n",
       "        ...,\n",
       "        [-0.1447,  0.0000,  0.0000, -0.0756, -0.2632, -0.0000,  0.0000,  0.0000,  0.2799, -0.0000,  0.0000,  0.3625],\n",
       "        [-0.2257,  0.0000,  0.2008, -0.1234, -0.0000, -0.3147,  0.0000,  0.0000,  0.2799, -0.0000,  0.2103,  0.0000],\n",
       "        [-0.1562,  0.0000,  0.0000, -0.0956, -0.2632, -0.0000,  0.0000,  0.3136,  0.0000, -0.0000,  0.0000,  0.3625],\n",
       "        [-0.1099,  0.0000,  0.0000, -0.1244, -0.0000, -0.3147,  0.4876,  0.0000,  0.0000, -0.0000,  0.0000,  0.3625],\n",
       "        [-0.1389,  0.0173,  0.0803, -0.1158, -0.0000, -0.3147,  0.0000,  0.0000,  0.2799, -0.0000,  0.0000,  0.3625],\n",
       "        [-0.1504,  0.0000,  0.0000, -0.1244, -0.2632, -0.0000,  0.4876,  0.0000,  0.0000, -0.4392,  0.0000,  0.0000],\n",
       "        [-0.1852,  0.0000,  0.0000, -0.0786, -0.2632, -0.0000,  0.0000,  0.0000,  0.2799, -0.0000,  0.2103,  0.0000]])"
      ]
     },
     "execution_count": 23,
     "metadata": {},
     "output_type": "execute_result"
    }
   ],
   "source": [
    "t_indep*coeffs"
   ]
  },
  {
   "cell_type": "markdown",
   "id": "c11d4387",
   "metadata": {
    "papermill": {
     "duration": 0.126894,
     "end_time": "2022-11-22T13:30:15.515866",
     "exception": false,
     "start_time": "2022-11-22T13:30:15.388972",
     "status": "completed"
    },
    "tags": []
   },
   "source": [
    "One thing you hopefully noticed is how amazingly cool this line of code is:\n",
    "\n",
    "    t_indep = t_indep / vals\n",
    "\n",
    "That is dividing a matrix by a vector -- what on earth does that mean?!? The trick here is that we're taking advantage of a technique in numpy and PyTorch (and many other languages, going all the way back to APL) called [broadcasting](https://numpy.org/doc/stable/user/basics.broadcasting.html). In short, this acts as if there's a separate copy of the vector for every row of the matrix, so it divides each row of the matrix by the vector. In practice, it doesn't actually make any copies, and does the whole thing in a highly optimized way, taking full advantage of modern CPUs (or, indeed, GPUs, if we're using them). Broadcasting is one of the most important techniques for making your code concise, maintainable, and fast, so it's well worth studying and practicing.\n",
    "\n",
    "We can now create predictions from our linear model, by adding up the rows of the product:"
   ]
  },
  {
   "cell_type": "code",
   "execution_count": 24,
   "id": "387f6637",
   "metadata": {
    "execution": {
     "iopub.execute_input": "2022-11-22T13:30:15.772285Z",
     "iopub.status.busy": "2022-11-22T13:30:15.771720Z",
     "iopub.status.idle": "2022-11-22T13:30:15.779601Z",
     "shell.execute_reply": "2022-11-22T13:30:15.778777Z"
    },
    "papermill": {
     "duration": 0.137699,
     "end_time": "2022-11-22T13:30:15.781711",
     "exception": false,
     "start_time": "2022-11-22T13:30:15.644012",
     "status": "completed"
    },
    "tags": []
   },
   "outputs": [],
   "source": [
    "preds = (t_indep*coeffs).sum(axis=1)"
   ]
  },
  {
   "cell_type": "markdown",
   "id": "37e9584a",
   "metadata": {
    "papermill": {
     "duration": 0.12465,
     "end_time": "2022-11-22T13:30:16.034307",
     "exception": false,
     "start_time": "2022-11-22T13:30:15.909657",
     "status": "completed"
    },
    "tags": []
   },
   "source": [
    "Let's take a look at the first few:"
   ]
  },
  {
   "cell_type": "code",
   "execution_count": 25,
   "id": "13eae763",
   "metadata": {
    "execution": {
     "iopub.execute_input": "2022-11-22T13:30:16.283201Z",
     "iopub.status.busy": "2022-11-22T13:30:16.282768Z",
     "iopub.status.idle": "2022-11-22T13:30:16.292277Z",
     "shell.execute_reply": "2022-11-22T13:30:16.291425Z"
    },
    "papermill": {
     "duration": 0.137198,
     "end_time": "2022-11-22T13:30:16.294624",
     "exception": false,
     "start_time": "2022-11-22T13:30:16.157426",
     "status": "completed"
    },
    "tags": []
   },
   "outputs": [
    {
     "data": {
      "text/plain": [
       "tensor([ 0.1927, -0.6239,  0.0979,  0.2056,  0.0968,  0.0066,  0.1306,  0.3476,  0.1613, -0.6285,  0.2579,  0.0796,  0.1836])"
      ]
     },
     "execution_count": 25,
     "metadata": {},
     "output_type": "execute_result"
    }
   ],
   "source": [
    "preds[:13]"
   ]
  },
  {
   "cell_type": "markdown",
   "id": "7553fe31",
   "metadata": {
    "papermill": {
     "duration": 0.129417,
     "end_time": "2022-11-22T13:30:16.549378",
     "exception": false,
     "start_time": "2022-11-22T13:30:16.419961",
     "status": "completed"
    },
    "tags": []
   },
   "source": [
    "Of course, these predictions aren't going to be any use, since our coefficients are random -- they're just a starting point for our gradient descent process.\n",
    "\n",
    "To do gradient descent, we need a loss function. Taking the average error of the rows (i.e. the absolute value of the difference between the prediction and the dependent) is generally a reasonable approach:"
   ]
  },
  {
   "cell_type": "code",
   "execution_count": 26,
   "id": "1d469e67",
   "metadata": {
    "execution": {
     "iopub.execute_input": "2022-11-22T13:30:16.801792Z",
     "iopub.status.busy": "2022-11-22T13:30:16.801462Z",
     "iopub.status.idle": "2022-11-22T13:30:16.812309Z",
     "shell.execute_reply": "2022-11-22T13:30:16.811600Z"
    },
    "papermill": {
     "duration": 0.140061,
     "end_time": "2022-11-22T13:30:16.814216",
     "exception": false,
     "start_time": "2022-11-22T13:30:16.674155",
     "status": "completed"
    },
    "tags": []
   },
   "outputs": [
    {
     "data": {
      "text/plain": [
       "tensor(0.5382)"
      ]
     },
     "execution_count": 26,
     "metadata": {},
     "output_type": "execute_result"
    }
   ],
   "source": [
    "loss = torch.abs(preds-t_dep).mean()\n",
    "loss"
   ]
  },
  {
   "cell_type": "markdown",
   "id": "b37b4877",
   "metadata": {
    "papermill": {
     "duration": 0.125691,
     "end_time": "2022-11-22T13:30:17.065910",
     "exception": false,
     "start_time": "2022-11-22T13:30:16.940219",
     "status": "completed"
    },
    "tags": []
   },
   "source": [
    "Now that we've tested out a way of calculating predictions, and loss, let's pop them into functions to make life easier:"
   ]
  },
  {
   "cell_type": "code",
   "execution_count": 27,
   "id": "237aa1c9",
   "metadata": {
    "execution": {
     "iopub.execute_input": "2022-11-22T13:30:17.315955Z",
     "iopub.status.busy": "2022-11-22T13:30:17.315355Z",
     "iopub.status.idle": "2022-11-22T13:30:17.320308Z",
     "shell.execute_reply": "2022-11-22T13:30:17.319488Z"
    },
    "papermill": {
     "duration": 0.132523,
     "end_time": "2022-11-22T13:30:17.322506",
     "exception": false,
     "start_time": "2022-11-22T13:30:17.189983",
     "status": "completed"
    },
    "tags": []
   },
   "outputs": [],
   "source": [
    "def calc_preds(coeffs, indeps): return (indeps*coeffs).sum(axis=1)\n",
    "def calc_loss(coeffs, indeps, deps): return torch.abs(calc_preds(coeffs, indeps)-deps).mean()"
   ]
  },
  {
   "cell_type": "markdown",
   "id": "b303eb4c",
   "metadata": {
    "papermill": {
     "duration": 0.124085,
     "end_time": "2022-11-22T13:30:17.571079",
     "exception": false,
     "start_time": "2022-11-22T13:30:17.446994",
     "status": "completed"
    },
    "tags": []
   },
   "source": [
    "## Doing a gradient descent step"
   ]
  },
  {
   "cell_type": "markdown",
   "id": "a2d51404",
   "metadata": {
    "papermill": {
     "duration": 0.126274,
     "end_time": "2022-11-22T13:30:17.821230",
     "exception": false,
     "start_time": "2022-11-22T13:30:17.694956",
     "status": "completed"
    },
    "tags": []
   },
   "source": [
    "In this section, we're going to do a single \"epoch\" of gradient descent manually. The only thing we're going to automate is calculating gradients, because let's face it that's pretty tedious and entirely pointless to do by hand! To get PyTorch to calculate gradients, we'll need to call `requires_grad_()` on our `coeffs` (if you're not sure why, review the previous notebook, [How does a neural net really work?](https://www.kaggle.com/code/jhoward/how-does-a-neural-net-really-work), before continuing):"
   ]
  },
  {
   "cell_type": "code",
   "execution_count": 28,
   "id": "70ff5b6f",
   "metadata": {
    "execution": {
     "iopub.execute_input": "2022-11-22T13:30:18.072680Z",
     "iopub.status.busy": "2022-11-22T13:30:18.072314Z",
     "iopub.status.idle": "2022-11-22T13:30:18.079228Z",
     "shell.execute_reply": "2022-11-22T13:30:18.078630Z"
    },
    "papermill": {
     "duration": 0.135622,
     "end_time": "2022-11-22T13:30:18.081007",
     "exception": false,
     "start_time": "2022-11-22T13:30:17.945385",
     "status": "completed"
    },
    "tags": []
   },
   "outputs": [
    {
     "data": {
      "text/plain": [
       "tensor([-0.4629,  0.1386,  0.2409, -0.2262, -0.2632, -0.3147,  0.4876,  0.3136,  0.2799, -0.4392,  0.2103,  0.3625], requires_grad=True)"
      ]
     },
     "execution_count": 28,
     "metadata": {},
     "output_type": "execute_result"
    }
   ],
   "source": [
    "coeffs.requires_grad_()"
   ]
  },
  {
   "cell_type": "markdown",
   "id": "95bde6c1",
   "metadata": {
    "papermill": {
     "duration": 0.128044,
     "end_time": "2022-11-22T13:30:18.336717",
     "exception": false,
     "start_time": "2022-11-22T13:30:18.208673",
     "status": "completed"
    },
    "tags": []
   },
   "source": [
    "Now when we calculate our loss, PyTorch will keep track of all the steps, so we'll be able to get the gradients afterwards:"
   ]
  },
  {
   "cell_type": "code",
   "execution_count": 29,
   "id": "fe97ac61",
   "metadata": {
    "execution": {
     "iopub.execute_input": "2022-11-22T13:30:18.592822Z",
     "iopub.status.busy": "2022-11-22T13:30:18.592067Z",
     "iopub.status.idle": "2022-11-22T13:30:18.599590Z",
     "shell.execute_reply": "2022-11-22T13:30:18.598892Z"
    },
    "papermill": {
     "duration": 0.137274,
     "end_time": "2022-11-22T13:30:18.601464",
     "exception": false,
     "start_time": "2022-11-22T13:30:18.464190",
     "status": "completed"
    },
    "tags": []
   },
   "outputs": [
    {
     "data": {
      "text/plain": [
       "tensor(0.5382, grad_fn=<MeanBackward0>)"
      ]
     },
     "execution_count": 29,
     "metadata": {},
     "output_type": "execute_result"
    }
   ],
   "source": [
    "loss = calc_loss(coeffs, t_indep, t_dep)\n",
    "loss"
   ]
  },
  {
   "cell_type": "markdown",
   "id": "18f163a5",
   "metadata": {
    "papermill": {
     "duration": 0.126854,
     "end_time": "2022-11-22T13:30:18.852912",
     "exception": false,
     "start_time": "2022-11-22T13:30:18.726058",
     "status": "completed"
    },
    "tags": []
   },
   "source": [
    "Use `backward()` to ask PyTorch to calculate gradients now:"
   ]
  },
  {
   "cell_type": "code",
   "execution_count": 30,
   "id": "b9b7d522",
   "metadata": {
    "execution": {
     "iopub.execute_input": "2022-11-22T13:30:19.107204Z",
     "iopub.status.busy": "2022-11-22T13:30:19.106892Z",
     "iopub.status.idle": "2022-11-22T13:30:19.119208Z",
     "shell.execute_reply": "2022-11-22T13:30:19.118397Z"
    },
    "papermill": {
     "duration": 0.14383,
     "end_time": "2022-11-22T13:30:19.121451",
     "exception": false,
     "start_time": "2022-11-22T13:30:18.977621",
     "status": "completed"
    },
    "tags": []
   },
   "outputs": [],
   "source": [
    "loss.backward()"
   ]
  },
  {
   "cell_type": "markdown",
   "id": "09d07525",
   "metadata": {
    "papermill": {
     "duration": 0.130186,
     "end_time": "2022-11-22T13:30:19.376593",
     "exception": false,
     "start_time": "2022-11-22T13:30:19.246407",
     "status": "completed"
    },
    "tags": []
   },
   "source": [
    "Let's see what they look like:"
   ]
  },
  {
   "cell_type": "code",
   "execution_count": 31,
   "id": "4456a9d9",
   "metadata": {
    "execution": {
     "iopub.execute_input": "2022-11-22T13:30:19.630313Z",
     "iopub.status.busy": "2022-11-22T13:30:19.629233Z",
     "iopub.status.idle": "2022-11-22T13:30:19.635607Z",
     "shell.execute_reply": "2022-11-22T13:30:19.634904Z"
    },
    "papermill": {
     "duration": 0.134828,
     "end_time": "2022-11-22T13:30:19.637485",
     "exception": false,
     "start_time": "2022-11-22T13:30:19.502657",
     "status": "completed"
    },
    "tags": []
   },
   "outputs": [
    {
     "data": {
      "text/plain": [
       "tensor([-0.0106,  0.0129, -0.0041, -0.0484,  0.2099, -0.2132, -0.1212, -0.0247,  0.1425, -0.1886, -0.0191,  0.2043])"
      ]
     },
     "execution_count": 31,
     "metadata": {},
     "output_type": "execute_result"
    }
   ],
   "source": [
    "coeffs.grad"
   ]
  },
  {
   "cell_type": "markdown",
   "id": "23c291c6",
   "metadata": {
    "papermill": {
     "duration": 0.126192,
     "end_time": "2022-11-22T13:30:19.889247",
     "exception": false,
     "start_time": "2022-11-22T13:30:19.763055",
     "status": "completed"
    },
    "tags": []
   },
   "source": [
    "Note that each time we call `backward`, the gradients are actually *added* to whatever is in the `.grad` attribute. Let's try running the above steps again:"
   ]
  },
  {
   "cell_type": "code",
   "execution_count": 32,
   "id": "fbb11dd3",
   "metadata": {
    "execution": {
     "iopub.execute_input": "2022-11-22T13:30:20.143362Z",
     "iopub.status.busy": "2022-11-22T13:30:20.142753Z",
     "iopub.status.idle": "2022-11-22T13:30:20.151496Z",
     "shell.execute_reply": "2022-11-22T13:30:20.150814Z"
    },
    "papermill": {
     "duration": 0.138886,
     "end_time": "2022-11-22T13:30:20.153786",
     "exception": false,
     "start_time": "2022-11-22T13:30:20.014900",
     "status": "completed"
    },
    "tags": []
   },
   "outputs": [
    {
     "data": {
      "text/plain": [
       "tensor([-0.0212,  0.0258, -0.0082, -0.0969,  0.4198, -0.4265, -0.2424, -0.0494,  0.2851, -0.3771, -0.0382,  0.4085])"
      ]
     },
     "execution_count": 32,
     "metadata": {},
     "output_type": "execute_result"
    }
   ],
   "source": [
    "loss = calc_loss(coeffs, t_indep, t_dep)\n",
    "loss.backward()\n",
    "coeffs.grad"
   ]
  },
  {
   "cell_type": "markdown",
   "id": "db1ef9cb",
   "metadata": {
    "papermill": {
     "duration": 0.128588,
     "end_time": "2022-11-22T13:30:20.408883",
     "exception": false,
     "start_time": "2022-11-22T13:30:20.280295",
     "status": "completed"
    },
    "tags": []
   },
   "source": [
    "As you see, our `.grad` values are have doubled. That's because it added the gradients a second time. For this reason, after we use the gradients to do a gradient descent step, we need to set them back to zero.\n",
    "\n",
    "We can now do one gradient descent step, and check that our loss decreases:"
   ]
  },
  {
   "cell_type": "code",
   "execution_count": 33,
   "id": "6a7c9e56",
   "metadata": {
    "execution": {
     "iopub.execute_input": "2022-11-22T13:30:20.670304Z",
     "iopub.status.busy": "2022-11-22T13:30:20.669965Z",
     "iopub.status.idle": "2022-11-22T13:30:20.678568Z",
     "shell.execute_reply": "2022-11-22T13:30:20.676895Z"
    },
    "papermill": {
     "duration": 0.141839,
     "end_time": "2022-11-22T13:30:20.680880",
     "exception": false,
     "start_time": "2022-11-22T13:30:20.539041",
     "status": "completed"
    },
    "tags": []
   },
   "outputs": [
    {
     "name": "stdout",
     "output_type": "stream",
     "text": [
      "tensor(0.4945)\n"
     ]
    }
   ],
   "source": [
    "loss = calc_loss(coeffs, t_indep, t_dep)\n",
    "loss.backward()\n",
    "with torch.no_grad():\n",
    "    coeffs.sub_(coeffs.grad * 0.1)\n",
    "    coeffs.grad.zero_()\n",
    "    print(calc_loss(coeffs, t_indep, t_dep))"
   ]
  },
  {
   "cell_type": "markdown",
   "id": "557831a6",
   "metadata": {
    "papermill": {
     "duration": 0.125641,
     "end_time": "2022-11-22T13:30:20.932559",
     "exception": false,
     "start_time": "2022-11-22T13:30:20.806918",
     "status": "completed"
    },
    "tags": []
   },
   "source": [
    "Note that `a.sub_(b)` subtracts `b` from `a` in-place. In PyTorch, any method that ends in `_` changes its object in-place. Similarly, `a.zero_()` sets all elements of a tensor to zero."
   ]
  },
  {
   "cell_type": "markdown",
   "id": "a94bbdc3",
   "metadata": {
    "papermill": {
     "duration": 0.128476,
     "end_time": "2022-11-22T13:30:21.187113",
     "exception": false,
     "start_time": "2022-11-22T13:30:21.058637",
     "status": "completed"
    },
    "tags": []
   },
   "source": [
    "## Training the linear model"
   ]
  },
  {
   "cell_type": "markdown",
   "id": "0d460e99",
   "metadata": {
    "papermill": {
     "duration": 0.127684,
     "end_time": "2022-11-22T13:30:21.442060",
     "exception": false,
     "start_time": "2022-11-22T13:30:21.314376",
     "status": "completed"
    },
    "tags": []
   },
   "source": [
    "Before we begin training our model, we'll need to ensure that we hold out a validation set for calculating our metrics (for details on this, see \"[Getting started with NLP for absolute beginners](https://www.kaggle.com/code/jhoward/getting-started-with-nlp-for-absolute-beginners#Test-and-validation-sets)\".\n",
    "\n",
    "There's lots of different ways we can do this. In the next notebook we'll be comparing our approach here to what the fastai library does, so we'll want to ensure we split the data in the same way. So let's use `RandomSplitter` to get indices that will split our data into training and validation sets:"
   ]
  },
  {
   "cell_type": "code",
   "execution_count": 34,
   "id": "6ea8e411",
   "metadata": {
    "execution": {
     "iopub.execute_input": "2022-11-22T13:30:21.694299Z",
     "iopub.status.busy": "2022-11-22T13:30:21.693957Z",
     "iopub.status.idle": "2022-11-22T13:30:22.862516Z",
     "shell.execute_reply": "2022-11-22T13:30:22.861587Z"
    },
    "papermill": {
     "duration": 1.297679,
     "end_time": "2022-11-22T13:30:22.865134",
     "exception": false,
     "start_time": "2022-11-22T13:30:21.567455",
     "status": "completed"
    },
    "tags": []
   },
   "outputs": [],
   "source": [
    "from fastai.data.transforms import RandomSplitter\n",
    "trn_split,val_split=RandomSplitter(seed=42)(df)"
   ]
  },
  {
   "cell_type": "markdown",
   "id": "7ed35611",
   "metadata": {
    "papermill": {
     "duration": 0.136055,
     "end_time": "2022-11-22T13:30:23.126581",
     "exception": false,
     "start_time": "2022-11-22T13:30:22.990526",
     "status": "completed"
    },
    "tags": []
   },
   "source": [
    "Now we can apply those indicies to our independent and dependent variables:"
   ]
  },
  {
   "cell_type": "code",
   "execution_count": 35,
   "id": "a6eb5545",
   "metadata": {
    "execution": {
     "iopub.execute_input": "2022-11-22T13:30:23.385484Z",
     "iopub.status.busy": "2022-11-22T13:30:23.385122Z",
     "iopub.status.idle": "2022-11-22T13:30:23.394836Z",
     "shell.execute_reply": "2022-11-22T13:30:23.393910Z"
    },
    "papermill": {
     "duration": 0.141031,
     "end_time": "2022-11-22T13:30:23.397000",
     "exception": false,
     "start_time": "2022-11-22T13:30:23.255969",
     "status": "completed"
    },
    "tags": []
   },
   "outputs": [
    {
     "data": {
      "text/plain": [
       "(713, 178)"
      ]
     },
     "execution_count": 35,
     "metadata": {},
     "output_type": "execute_result"
    }
   ],
   "source": [
    "trn_indep,val_indep = t_indep[trn_split],t_indep[val_split]\n",
    "trn_dep,val_dep = t_dep[trn_split],t_dep[val_split]\n",
    "len(trn_indep),len(val_indep)"
   ]
  },
  {
   "cell_type": "markdown",
   "id": "e24108b5",
   "metadata": {
    "papermill": {
     "duration": 0.125796,
     "end_time": "2022-11-22T13:30:23.649391",
     "exception": false,
     "start_time": "2022-11-22T13:30:23.523595",
     "status": "completed"
    },
    "tags": []
   },
   "source": [
    "We'll create functions for the three things we did manually above: updating `coeffs`, doing one full gradient descent step, and initilising `coeffs` to random numbers:"
   ]
  },
  {
   "cell_type": "code",
   "execution_count": 36,
   "id": "4682290c",
   "metadata": {
    "execution": {
     "iopub.execute_input": "2022-11-22T13:30:23.903122Z",
     "iopub.status.busy": "2022-11-22T13:30:23.902793Z",
     "iopub.status.idle": "2022-11-22T13:30:23.907076Z",
     "shell.execute_reply": "2022-11-22T13:30:23.906247Z"
    },
    "papermill": {
     "duration": 0.133897,
     "end_time": "2022-11-22T13:30:23.908956",
     "exception": false,
     "start_time": "2022-11-22T13:30:23.775059",
     "status": "completed"
    },
    "tags": []
   },
   "outputs": [],
   "source": [
    "def update_coeffs(coeffs, lr):\n",
    "    coeffs.sub_(coeffs.grad * lr)\n",
    "    coeffs.grad.zero_()"
   ]
  },
  {
   "cell_type": "code",
   "execution_count": 37,
   "id": "f7aa61e5",
   "metadata": {
    "execution": {
     "iopub.execute_input": "2022-11-22T13:30:24.165123Z",
     "iopub.status.busy": "2022-11-22T13:30:24.164069Z",
     "iopub.status.idle": "2022-11-22T13:30:24.169910Z",
     "shell.execute_reply": "2022-11-22T13:30:24.169011Z"
    },
    "papermill": {
     "duration": 0.136735,
     "end_time": "2022-11-22T13:30:24.171805",
     "exception": false,
     "start_time": "2022-11-22T13:30:24.035070",
     "status": "completed"
    },
    "tags": []
   },
   "outputs": [],
   "source": [
    "def one_epoch(coeffs, lr):\n",
    "    loss = calc_loss(coeffs, trn_indep, trn_dep)\n",
    "    loss.backward()\n",
    "    with torch.no_grad(): update_coeffs(coeffs, lr)\n",
    "    print(f\"{loss:.3f}\", end=\"; \")"
   ]
  },
  {
   "cell_type": "code",
   "execution_count": 38,
   "id": "494bc683",
   "metadata": {
    "execution": {
     "iopub.execute_input": "2022-11-22T13:30:24.429501Z",
     "iopub.status.busy": "2022-11-22T13:30:24.428900Z",
     "iopub.status.idle": "2022-11-22T13:30:24.432898Z",
     "shell.execute_reply": "2022-11-22T13:30:24.432324Z"
    },
    "papermill": {
     "duration": 0.134668,
     "end_time": "2022-11-22T13:30:24.434764",
     "exception": false,
     "start_time": "2022-11-22T13:30:24.300096",
     "status": "completed"
    },
    "tags": []
   },
   "outputs": [],
   "source": [
    "def init_coeffs(): return (torch.rand(n_coeff)-0.5).requires_grad_()"
   ]
  },
  {
   "cell_type": "markdown",
   "id": "852ca2e9",
   "metadata": {
    "papermill": {
     "duration": 0.125144,
     "end_time": "2022-11-22T13:30:24.686387",
     "exception": false,
     "start_time": "2022-11-22T13:30:24.561243",
     "status": "completed"
    },
    "tags": []
   },
   "source": [
    "We can now use these functions to train our model:"
   ]
  },
  {
   "cell_type": "code",
   "execution_count": 39,
   "id": "92b29c73",
   "metadata": {
    "execution": {
     "iopub.execute_input": "2022-11-22T13:30:24.940840Z",
     "iopub.status.busy": "2022-11-22T13:30:24.940529Z",
     "iopub.status.idle": "2022-11-22T13:30:24.945656Z",
     "shell.execute_reply": "2022-11-22T13:30:24.944751Z"
    },
    "papermill": {
     "duration": 0.134964,
     "end_time": "2022-11-22T13:30:24.947635",
     "exception": false,
     "start_time": "2022-11-22T13:30:24.812671",
     "status": "completed"
    },
    "tags": []
   },
   "outputs": [],
   "source": [
    "def train_model(epochs=30, lr=0.01):\n",
    "    torch.manual_seed(442)\n",
    "    coeffs = init_coeffs()\n",
    "    for i in range(epochs): one_epoch(coeffs, lr=lr)\n",
    "    return coeffs"
   ]
  },
  {
   "cell_type": "markdown",
   "id": "1c2d7f6b",
   "metadata": {
    "papermill": {
     "duration": 0.132337,
     "end_time": "2022-11-22T13:30:25.206641",
     "exception": false,
     "start_time": "2022-11-22T13:30:25.074304",
     "status": "completed"
    },
    "tags": []
   },
   "source": [
    "Let's try it. Our loss will print at the end of every step, so we hope we'll see it going down:"
   ]
  },
  {
   "cell_type": "code",
   "execution_count": 40,
   "id": "67119103",
   "metadata": {
    "execution": {
     "iopub.execute_input": "2022-11-22T13:30:25.469046Z",
     "iopub.status.busy": "2022-11-22T13:30:25.467913Z",
     "iopub.status.idle": "2022-11-22T13:30:25.487142Z",
     "shell.execute_reply": "2022-11-22T13:30:25.486468Z"
    },
    "papermill": {
     "duration": 0.152391,
     "end_time": "2022-11-22T13:30:25.489168",
     "exception": false,
     "start_time": "2022-11-22T13:30:25.336777",
     "status": "completed"
    },
    "tags": []
   },
   "outputs": [
    {
     "name": "stdout",
     "output_type": "stream",
     "text": [
      "0.536; 0.502; 0.477; 0.454; 0.431; 0.409; 0.388; 0.367; 0.349; 0.336; 0.330; 0.326; 0.329; 0.304; 0.314; 0.296; 0.300; 0.289; 0.292; 0.284; 0.290; 0.288; 0.295; 0.281; 0.285; 0.282; 0.285; 0.279; 0.278; 0.283; "
     ]
    }
   ],
   "source": [
    "coeffs = train_model(30, lr=0.2)"
   ]
  },
  {
   "cell_type": "markdown",
   "id": "8607db8e",
   "metadata": {
    "papermill": {
     "duration": 0.126054,
     "end_time": "2022-11-22T13:30:25.741285",
     "exception": false,
     "start_time": "2022-11-22T13:30:25.615231",
     "status": "completed"
    },
    "tags": []
   },
   "source": [
    "It does!\n",
    "\n",
    "Let's take a look at the coefficients for each column:"
   ]
  },
  {
   "cell_type": "code",
   "execution_count": 41,
   "id": "dbc9d755",
   "metadata": {
    "execution": {
     "iopub.execute_input": "2022-11-22T13:30:25.995665Z",
     "iopub.status.busy": "2022-11-22T13:30:25.994716Z",
     "iopub.status.idle": "2022-11-22T13:30:26.003990Z",
     "shell.execute_reply": "2022-11-22T13:30:26.003365Z"
    },
    "papermill": {
     "duration": 0.138354,
     "end_time": "2022-11-22T13:30:26.005885",
     "exception": false,
     "start_time": "2022-11-22T13:30:25.867531",
     "status": "completed"
    },
    "tags": []
   },
   "outputs": [
    {
     "data": {
      "text/plain": [
       "{'Age': tensor(-0.2472),\n",
       " 'SibSp': tensor(0.0492),\n",
       " 'Parch': tensor(0.2087),\n",
       " 'LogFare': tensor(0.0309),\n",
       " 'Sex_male': tensor(-0.4394),\n",
       " 'Sex_female': tensor(0.3490),\n",
       " 'Pclass_1': tensor(0.6138),\n",
       " 'Pclass_2': tensor(0.5155),\n",
       " 'Pclass_3': tensor(0.4392),\n",
       " 'Embarked_C': tensor(0.1673),\n",
       " 'Embarked_Q': tensor(0.2507),\n",
       " 'Embarked_S': tensor(0.2032)}"
      ]
     },
     "execution_count": 41,
     "metadata": {},
     "output_type": "execute_result"
    }
   ],
   "source": [
    "def show_coeffs(): return dict(zip(indep_cols, coeffs.requires_grad_(False)))\n",
    "show_coeffs()"
   ]
  },
  {
   "cell_type": "markdown",
   "id": "d8922dcf",
   "metadata": {
    "papermill": {
     "duration": 0.126559,
     "end_time": "2022-11-22T13:30:26.261208",
     "exception": false,
     "start_time": "2022-11-22T13:30:26.134649",
     "status": "completed"
    },
    "tags": []
   },
   "source": [
    "## Measuring accuracy"
   ]
  },
  {
   "cell_type": "markdown",
   "id": "8b23057e",
   "metadata": {
    "papermill": {
     "duration": 0.128095,
     "end_time": "2022-11-22T13:30:26.518326",
     "exception": false,
     "start_time": "2022-11-22T13:30:26.390231",
     "status": "completed"
    },
    "tags": []
   },
   "source": [
    "The Kaggle competition is not, however, scored by absolute error (which is our loss function). It's scored by *accuracy* -- the proportion of rows where we correctly predict survival. Let's see how accurate we were on the validation set. First, calculate the predictions:"
   ]
  },
  {
   "cell_type": "code",
   "execution_count": 42,
   "id": "1f33122a",
   "metadata": {
    "execution": {
     "iopub.execute_input": "2022-11-22T13:30:26.778663Z",
     "iopub.status.busy": "2022-11-22T13:30:26.777794Z",
     "iopub.status.idle": "2022-11-22T13:30:26.781737Z",
     "shell.execute_reply": "2022-11-22T13:30:26.781170Z"
    },
    "papermill": {
     "duration": 0.134649,
     "end_time": "2022-11-22T13:30:26.783578",
     "exception": false,
     "start_time": "2022-11-22T13:30:26.648929",
     "status": "completed"
    },
    "tags": []
   },
   "outputs": [],
   "source": [
    "preds = calc_preds(coeffs, val_indep)"
   ]
  },
  {
   "cell_type": "markdown",
   "id": "3ca5b187",
   "metadata": {
    "jupyter": {
     "source_hidden": true
    },
    "papermill": {
     "duration": 0.126904,
     "end_time": "2022-11-22T13:30:27.037033",
     "exception": false,
     "start_time": "2022-11-22T13:30:26.910129",
     "status": "completed"
    },
    "tags": []
   },
   "source": [
    "We'll assume that any passenger with a score of over `0.5` is predicted to survive. So that means we're correct for each row where `preds>0.5` is the same as the dependent variable:"
   ]
  },
  {
   "cell_type": "code",
   "execution_count": 43,
   "id": "ea1771c9",
   "metadata": {
    "execution": {
     "iopub.execute_input": "2022-11-22T13:30:27.294179Z",
     "iopub.status.busy": "2022-11-22T13:30:27.293138Z",
     "iopub.status.idle": "2022-11-22T13:30:27.299933Z",
     "shell.execute_reply": "2022-11-22T13:30:27.298997Z"
    },
    "papermill": {
     "duration": 0.137039,
     "end_time": "2022-11-22T13:30:27.301831",
     "exception": false,
     "start_time": "2022-11-22T13:30:27.164792",
     "status": "completed"
    },
    "tags": []
   },
   "outputs": [
    {
     "data": {
      "text/plain": [
       "tensor([ True,  True,  True,  True,  True,  True,  True,  True,  True,  True, False, False, False,  True,  True, False])"
      ]
     },
     "execution_count": 43,
     "metadata": {},
     "output_type": "execute_result"
    }
   ],
   "source": [
    "results = val_dep.bool()==(preds>0.5)\n",
    "results[:16]"
   ]
  },
  {
   "cell_type": "markdown",
   "id": "ac5c4703",
   "metadata": {
    "papermill": {
     "duration": 0.126949,
     "end_time": "2022-11-22T13:30:27.556041",
     "exception": false,
     "start_time": "2022-11-22T13:30:27.429092",
     "status": "completed"
    },
    "tags": []
   },
   "source": [
    "Let's see what our average accuracy is:"
   ]
  },
  {
   "cell_type": "code",
   "execution_count": 44,
   "id": "e631cdb5",
   "metadata": {
    "execution": {
     "iopub.execute_input": "2022-11-22T13:30:27.812433Z",
     "iopub.status.busy": "2022-11-22T13:30:27.812109Z",
     "iopub.status.idle": "2022-11-22T13:30:27.818784Z",
     "shell.execute_reply": "2022-11-22T13:30:27.817923Z"
    },
    "papermill": {
     "duration": 0.13758,
     "end_time": "2022-11-22T13:30:27.820889",
     "exception": false,
     "start_time": "2022-11-22T13:30:27.683309",
     "status": "completed"
    },
    "tags": []
   },
   "outputs": [
    {
     "data": {
      "text/plain": [
       "tensor(0.7921)"
      ]
     },
     "execution_count": 44,
     "metadata": {},
     "output_type": "execute_result"
    }
   ],
   "source": [
    "results.float().mean()"
   ]
  },
  {
   "cell_type": "markdown",
   "id": "8dd07474",
   "metadata": {
    "papermill": {
     "duration": 0.128085,
     "end_time": "2022-11-22T13:30:28.078153",
     "exception": false,
     "start_time": "2022-11-22T13:30:27.950068",
     "status": "completed"
    },
    "tags": []
   },
   "source": [
    "That's not a bad start at all! We'll create a function so we can calcuate the accuracy easy for other models we train:"
   ]
  },
  {
   "cell_type": "code",
   "execution_count": 45,
   "id": "bcd376f0",
   "metadata": {
    "execution": {
     "iopub.execute_input": "2022-11-22T13:30:28.338218Z",
     "iopub.status.busy": "2022-11-22T13:30:28.337752Z",
     "iopub.status.idle": "2022-11-22T13:30:28.345040Z",
     "shell.execute_reply": "2022-11-22T13:30:28.344394Z"
    },
    "papermill": {
     "duration": 0.13954,
     "end_time": "2022-11-22T13:30:28.347002",
     "exception": false,
     "start_time": "2022-11-22T13:30:28.207462",
     "status": "completed"
    },
    "tags": []
   },
   "outputs": [
    {
     "data": {
      "text/plain": [
       "tensor(0.7921)"
      ]
     },
     "execution_count": 45,
     "metadata": {},
     "output_type": "execute_result"
    }
   ],
   "source": [
    "def acc(coeffs): return (val_dep.bool()==(calc_preds(coeffs, val_indep)>0.5)).float().mean()\n",
    "acc(coeffs)"
   ]
  },
  {
   "cell_type": "markdown",
   "id": "1a8873d7",
   "metadata": {
    "papermill": {
     "duration": 0.13199,
     "end_time": "2022-11-22T13:30:28.609517",
     "exception": false,
     "start_time": "2022-11-22T13:30:28.477527",
     "status": "completed"
    },
    "tags": []
   },
   "source": [
    "## Using sigmoid"
   ]
  },
  {
   "cell_type": "markdown",
   "id": "28f6f4de",
   "metadata": {
    "papermill": {
     "duration": 0.127891,
     "end_time": "2022-11-22T13:30:28.865765",
     "exception": false,
     "start_time": "2022-11-22T13:30:28.737874",
     "status": "completed"
    },
    "tags": []
   },
   "source": [
    "Looking at our predictions, there's one obvious problem -- some of our predictions of the probability of survival are `>1`, and some are `<0`:"
   ]
  },
  {
   "cell_type": "code",
   "execution_count": 46,
   "id": "55b17a27",
   "metadata": {
    "execution": {
     "iopub.execute_input": "2022-11-22T13:30:29.127270Z",
     "iopub.status.busy": "2022-11-22T13:30:29.126660Z",
     "iopub.status.idle": "2022-11-22T13:30:29.133025Z",
     "shell.execute_reply": "2022-11-22T13:30:29.132291Z"
    },
    "papermill": {
     "duration": 0.141094,
     "end_time": "2022-11-22T13:30:29.135023",
     "exception": false,
     "start_time": "2022-11-22T13:30:28.993929",
     "status": "completed"
    },
    "tags": []
   },
   "outputs": [
    {
     "data": {
      "text/plain": [
       "tensor([1.0539, 0.1871, 0.1034, 0.2451, 0.2151, 0.1957, 0.9911, 0.9942, 0.3194, 0.9379, 0.1150, 0.1477, 0.2439, 0.9755, 0.1079, 0.2550,\n",
       "        0.1932, 1.0416, 0.1751, 0.9068, 0.1397, 0.2210, 1.0739, 1.0159, 0.1515, 0.1985, 1.0416, 0.2025])"
      ]
     },
     "execution_count": 46,
     "metadata": {},
     "output_type": "execute_result"
    }
   ],
   "source": [
    "preds[:28]"
   ]
  },
  {
   "cell_type": "markdown",
   "id": "1dd4a146",
   "metadata": {
    "papermill": {
     "duration": 0.132511,
     "end_time": "2022-11-22T13:30:29.401984",
     "exception": false,
     "start_time": "2022-11-22T13:30:29.269473",
     "status": "completed"
    },
    "tags": []
   },
   "source": [
    "To fix this, we should pass every prediction through the *sigmoid function*, which has a minimum at zero and maximum at one, and is defined as follows:"
   ]
  },
  {
   "cell_type": "code",
   "execution_count": 47,
   "id": "7423ae48",
   "metadata": {
    "execution": {
     "iopub.execute_input": "2022-11-22T13:30:29.661982Z",
     "iopub.status.busy": "2022-11-22T13:30:29.661645Z",
     "iopub.status.idle": "2022-11-22T13:30:30.792375Z",
     "shell.execute_reply": "2022-11-22T13:30:30.791495Z"
    },
    "papermill": {
     "duration": 1.262487,
     "end_time": "2022-11-22T13:30:30.794541",
     "exception": false,
     "start_time": "2022-11-22T13:30:29.532054",
     "status": "completed"
    },
    "tags": []
   },
   "outputs": [
    {
     "data": {
      "image/png": "[encoded data removed]",
      "text/plain": [
       "<Figure size 432x288 with 1 Axes>"
      ]
     },
     "metadata": {
      "needs_background": "light"
     },
     "output_type": "display_data"
    }
   ],
   "source": [
    "import sympy\n",
    "sympy.plot(\"1/(1+exp(-x))\", xlim=(-5,5));"
   ]
  },
  {
   "cell_type": "markdown",
   "id": "f69a115c",
   "metadata": {
    "papermill": {
     "duration": 0.130225,
     "end_time": "2022-11-22T13:30:31.054435",
     "exception": false,
     "start_time": "2022-11-22T13:30:30.924210",
     "status": "completed"
    },
    "tags": []
   },
   "source": [
    "PyTorch already defines that function for us, so we can modify `calc_preds` to use it:"
   ]
  },
  {
   "cell_type": "code",
   "execution_count": 48,
   "id": "b7491004",
   "metadata": {
    "execution": {
     "iopub.execute_input": "2022-11-22T13:30:31.316204Z",
     "iopub.status.busy": "2022-11-22T13:30:31.315833Z",
     "iopub.status.idle": "2022-11-22T13:30:31.320972Z",
     "shell.execute_reply": "2022-11-22T13:30:31.320090Z"
    },
    "papermill": {
     "duration": 0.138866,
     "end_time": "2022-11-22T13:30:31.323152",
     "exception": false,
     "start_time": "2022-11-22T13:30:31.184286",
     "status": "completed"
    },
    "tags": []
   },
   "outputs": [],
   "source": [
    "def calc_preds(coeffs, indeps): return torch.sigmoid((indeps*coeffs).sum(axis=1))"
   ]
  },
  {
   "cell_type": "markdown",
   "id": "c067f759",
   "metadata": {
    "papermill": {
     "duration": 0.129734,
     "end_time": "2022-11-22T13:30:31.585505",
     "exception": false,
     "start_time": "2022-11-22T13:30:31.455771",
     "status": "completed"
    },
    "tags": []
   },
   "source": [
    "Let's train a new model now, using this updated function to calculate predictions:"
   ]
  },
  {
   "cell_type": "code",
   "execution_count": 49,
   "id": "c0e8679d",
   "metadata": {
    "execution": {
     "iopub.execute_input": "2022-11-22T13:30:31.845916Z",
     "iopub.status.busy": "2022-11-22T13:30:31.845099Z",
     "iopub.status.idle": "2022-11-22T13:30:31.868207Z",
     "shell.execute_reply": "2022-11-22T13:30:31.867326Z"
    },
    "papermill": {
     "duration": 0.156134,
     "end_time": "2022-11-22T13:30:31.870441",
     "exception": false,
     "start_time": "2022-11-22T13:30:31.714307",
     "status": "completed"
    },
    "tags": []
   },
   "outputs": [
    {
     "name": "stdout",
     "output_type": "stream",
     "text": [
      "0.510; 0.327; 0.294; 0.207; 0.201; 0.199; 0.198; 0.197; 0.196; 0.196; 0.196; 0.195; 0.195; 0.195; 0.195; 0.195; 0.195; 0.195; 0.194; 0.194; 0.194; 0.194; 0.194; 0.194; 0.194; 0.194; 0.194; 0.194; 0.194; 0.194; "
     ]
    }
   ],
   "source": [
    "coeffs = train_model(lr=100)"
   ]
  },
  {
   "cell_type": "markdown",
   "id": "3585c06b",
   "metadata": {
    "papermill": {
     "duration": 0.129367,
     "end_time": "2022-11-22T13:30:32.129787",
     "exception": false,
     "start_time": "2022-11-22T13:30:32.000420",
     "status": "completed"
    },
    "tags": []
   },
   "source": [
    "The loss has improved by a lot. Let's check the accuracy:"
   ]
  },
  {
   "cell_type": "code",
   "execution_count": 50,
   "id": "1c40810d",
   "metadata": {
    "execution": {
     "iopub.execute_input": "2022-11-22T13:30:32.395244Z",
     "iopub.status.busy": "2022-11-22T13:30:32.394902Z",
     "iopub.status.idle": "2022-11-22T13:30:32.402011Z",
     "shell.execute_reply": "2022-11-22T13:30:32.401121Z"
    },
    "papermill": {
     "duration": 0.143598,
     "end_time": "2022-11-22T13:30:32.404212",
     "exception": false,
     "start_time": "2022-11-22T13:30:32.260614",
     "status": "completed"
    },
    "tags": []
   },
   "outputs": [
    {
     "data": {
      "text/plain": [
       "tensor(0.8258)"
      ]
     },
     "execution_count": 50,
     "metadata": {},
     "output_type": "execute_result"
    }
   ],
   "source": [
    "acc(coeffs)"
   ]
  },
  {
   "cell_type": "markdown",
   "id": "5780ad73",
   "metadata": {
    "papermill": {
     "duration": 0.131241,
     "end_time": "2022-11-22T13:30:32.667144",
     "exception": false,
     "start_time": "2022-11-22T13:30:32.535903",
     "status": "completed"
    },
    "tags": []
   },
   "source": [
    "That's improved too! Here's the coefficients of our trained model:"
   ]
  },
  {
   "cell_type": "code",
   "execution_count": 51,
   "id": "088b1be8",
   "metadata": {
    "execution": {
     "iopub.execute_input": "2022-11-22T13:30:33.003489Z",
     "iopub.status.busy": "2022-11-22T13:30:33.003144Z",
     "iopub.status.idle": "2022-11-22T13:30:33.013620Z",
     "shell.execute_reply": "2022-11-22T13:30:33.012718Z"
    },
    "papermill": {
     "duration": 0.218162,
     "end_time": "2022-11-22T13:30:33.015767",
     "exception": false,
     "start_time": "2022-11-22T13:30:32.797605",
     "status": "completed"
    },
    "tags": []
   },
   "outputs": [
    {
     "data": {
      "text/plain": [
       "{'Age': tensor(-1.5061),\n",
       " 'SibSp': tensor(-1.1575),\n",
       " 'Parch': tensor(-0.4267),\n",
       " 'LogFare': tensor(0.2543),\n",
       " 'Sex_male': tensor(-10.3320),\n",
       " 'Sex_female': tensor(8.4185),\n",
       " 'Pclass_1': tensor(3.8389),\n",
       " 'Pclass_2': tensor(2.1398),\n",
       " 'Pclass_3': tensor(-6.2331),\n",
       " 'Embarked_C': tensor(1.4771),\n",
       " 'Embarked_Q': tensor(2.1168),\n",
       " 'Embarked_S': tensor(-4.7958)}"
      ]
     },
     "execution_count": 51,
     "metadata": {},
     "output_type": "execute_result"
    }
   ],
   "source": [
    "show_coeffs()"
   ]
  },
  {
   "cell_type": "markdown",
   "id": "49e80672",
   "metadata": {
    "papermill": {
     "duration": 0.131678,
     "end_time": "2022-11-22T13:30:33.279526",
     "exception": false,
     "start_time": "2022-11-22T13:30:33.147848",
     "status": "completed"
    },
    "tags": []
   },
   "source": [
    "These coefficients seem reasonable -- in general, older people and males were less likely to survive, and first class passengers were more likely to survive."
   ]
  },
  {
   "cell_type": "markdown",
   "id": "4e67db36",
   "metadata": {
    "papermill": {
     "duration": 0.135081,
     "end_time": "2022-11-22T13:30:33.548888",
     "exception": false,
     "start_time": "2022-11-22T13:30:33.413807",
     "status": "completed"
    },
    "tags": []
   },
   "source": [
    "## Submitting to Kaggle"
   ]
  },
  {
   "cell_type": "markdown",
   "id": "dbeba5f6",
   "metadata": {
    "papermill": {
     "duration": 0.130712,
     "end_time": "2022-11-22T13:30:33.810616",
     "exception": false,
     "start_time": "2022-11-22T13:30:33.679904",
     "status": "completed"
    },
    "tags": []
   },
   "source": [
    "Now that we've got a trained model, we can prepare a submission to Kaggle. To do that, first we need to read the test set:"
   ]
  },
  {
   "cell_type": "code",
   "execution_count": 52,
   "id": "e753289b",
   "metadata": {
    "execution": {
     "iopub.execute_input": "2022-11-22T13:30:34.079982Z",
     "iopub.status.busy": "2022-11-22T13:30:34.079336Z",
     "iopub.status.idle": "2022-11-22T13:30:34.123144Z",
     "shell.execute_reply": "2022-11-22T13:30:34.121848Z"
    },
    "papermill": {
     "duration": 0.184545,
     "end_time": "2022-11-22T13:30:34.126330",
     "exception": false,
     "start_time": "2022-11-22T13:30:33.941785",
     "status": "completed"
    },
    "tags": []
   },
   "outputs": [
    {
     "data": {
      "text/html": [
       "<div>\n",
       "<style scoped>\n",
       "    .dataframe tbody tr th:only-of-type {\n",
       "        vertical-align: middle;\n",
       "    }\n",
       "\n",
       "    .dataframe tbody tr th {\n",
       "        vertical-align: top;\n",
       "    }\n",
       "\n",
       "    .dataframe thead th {\n",
       "        text-align: right;\n",
       "    }\n",
       "</style>\n",
       "<table border=\"1\" class=\"dataframe\">\n",
       "  <thead>\n",
       "    <tr style=\"text-align: right;\">\n",
       "      <th></th>\n",
       "      <th>PassengerId</th>\n",
       "      <th>Pclass</th>\n",
       "      <th>Name</th>\n",
       "      <th>Sex</th>\n",
       "      <th>Age</th>\n",
       "      <th>SibSp</th>\n",
       "      <th>Parch</th>\n",
       "      <th>Ticket</th>\n",
       "      <th>Fare</th>\n",
       "      <th>Cabin</th>\n",
       "      <th>Embarked</th>\n",
       "    </tr>\n",
       "  </thead>\n",
       "  <tbody>\n",
       "    <tr>\n",
       "      <th>0</th>\n",
       "      <td>892</td>\n",
       "      <td>3</td>\n",
       "      <td>Kelly, Mr. James</td>\n",
       "      <td>male</td>\n",
       "      <td>34.5</td>\n",
       "      <td>0</td>\n",
       "      <td>0</td>\n",
       "      <td>330911</td>\n",
       "      <td>7.8292</td>\n",
       "      <td>NaN</td>\n",
       "      <td>Q</td>\n",
       "    </tr>\n",
       "    <tr>\n",
       "      <th>1</th>\n",
       "      <td>893</td>\n",
       "      <td>3</td>\n",
       "      <td>Wilkes, Mrs. James (Ellen Needs)</td>\n",
       "      <td>female</td>\n",
       "      <td>47.0</td>\n",
       "      <td>1</td>\n",
       "      <td>0</td>\n",
       "      <td>363272</td>\n",
       "      <td>7.0000</td>\n",
       "      <td>NaN</td>\n",
       "      <td>S</td>\n",
       "    </tr>\n",
       "    <tr>\n",
       "      <th>2</th>\n",
       "      <td>894</td>\n",
       "      <td>2</td>\n",
       "      <td>Myles, Mr. Thomas Francis</td>\n",
       "      <td>male</td>\n",
       "      <td>62.0</td>\n",
       "      <td>0</td>\n",
       "      <td>0</td>\n",
       "      <td>240276</td>\n",
       "      <td>9.6875</td>\n",
       "      <td>NaN</td>\n",
       "      <td>Q</td>\n",
       "    </tr>\n",
       "    <tr>\n",
       "      <th>3</th>\n",
       "      <td>895</td>\n",
       "      <td>3</td>\n",
       "      <td>Wirz, Mr. Albert</td>\n",
       "      <td>male</td>\n",
       "      <td>27.0</td>\n",
       "      <td>0</td>\n",
       "      <td>0</td>\n",
       "      <td>315154</td>\n",
       "      <td>8.6625</td>\n",
       "      <td>NaN</td>\n",
       "      <td>S</td>\n",
       "    </tr>\n",
       "    <tr>\n",
       "      <th>4</th>\n",
       "      <td>896</td>\n",
       "      <td>3</td>\n",
       "      <td>Hirvonen, Mrs. Alexander (Helga E Lindqvist)</td>\n",
       "      <td>female</td>\n",
       "      <td>22.0</td>\n",
       "      <td>1</td>\n",
       "      <td>1</td>\n",
       "      <td>3101298</td>\n",
       "      <td>12.2875</td>\n",
       "      <td>NaN</td>\n",
       "      <td>S</td>\n",
       "    </tr>\n",
       "    <tr>\n",
       "      <th>...</th>\n",
       "      <td>...</td>\n",
       "      <td>...</td>\n",
       "      <td>...</td>\n",
       "      <td>...</td>\n",
       "      <td>...</td>\n",
       "      <td>...</td>\n",
       "      <td>...</td>\n",
       "      <td>...</td>\n",
       "      <td>...</td>\n",
       "      <td>...</td>\n",
       "      <td>...</td>\n",
       "    </tr>\n",
       "    <tr>\n",
       "      <th>413</th>\n",
       "      <td>1305</td>\n",
       "      <td>3</td>\n",
       "      <td>Spector, Mr. Woolf</td>\n",
       "      <td>male</td>\n",
       "      <td>NaN</td>\n",
       "      <td>0</td>\n",
       "      <td>0</td>\n",
       "      <td>A.5. 3236</td>\n",
       "      <td>8.0500</td>\n",
       "      <td>NaN</td>\n",
       "      <td>S</td>\n",
       "    </tr>\n",
       "    <tr>\n",
       "      <th>414</th>\n",
       "      <td>1306</td>\n",
       "      <td>1</td>\n",
       "      <td>Oliva y Ocana, Dona. Fermina</td>\n",
       "      <td>female</td>\n",
       "      <td>39.0</td>\n",
       "      <td>0</td>\n",
       "      <td>0</td>\n",
       "      <td>PC 17758</td>\n",
       "      <td>108.9000</td>\n",
       "      <td>C105</td>\n",
       "      <td>C</td>\n",
       "    </tr>\n",
       "    <tr>\n",
       "      <th>415</th>\n",
       "      <td>1307</td>\n",
       "      <td>3</td>\n",
       "      <td>Saether, Mr. Simon Sivertsen</td>\n",
       "      <td>male</td>\n",
       "      <td>38.5</td>\n",
       "      <td>0</td>\n",
       "      <td>0</td>\n",
       "      <td>SOTON/O.Q. 3101262</td>\n",
       "      <td>7.2500</td>\n",
       "      <td>NaN</td>\n",
       "      <td>S</td>\n",
       "    </tr>\n",
       "    <tr>\n",
       "      <th>416</th>\n",
       "      <td>1308</td>\n",
       "      <td>3</td>\n",
       "      <td>Ware, Mr. Frederick</td>\n",
       "      <td>male</td>\n",
       "      <td>NaN</td>\n",
       "      <td>0</td>\n",
       "      <td>0</td>\n",
       "      <td>359309</td>\n",
       "      <td>8.0500</td>\n",
       "      <td>NaN</td>\n",
       "      <td>S</td>\n",
       "    </tr>\n",
       "    <tr>\n",
       "      <th>417</th>\n",
       "      <td>1309</td>\n",
       "      <td>3</td>\n",
       "      <td>Peter, Master. Michael J</td>\n",
       "      <td>male</td>\n",
       "      <td>NaN</td>\n",
       "      <td>1</td>\n",
       "      <td>1</td>\n",
       "      <td>2668</td>\n",
       "      <td>22.3583</td>\n",
       "      <td>NaN</td>\n",
       "      <td>C</td>\n",
       "    </tr>\n",
       "  </tbody>\n",
       "</table>\n",
       "<p>418 rows × 11 columns</p>\n",
       "</div>"
      ],
      "text/plain": [
       "     PassengerId  Pclass                                          Name     Sex   Age  SibSp  Parch              Ticket      Fare Cabin  \\\n",
       "0            892       3                              Kelly, Mr. James    male  34.5      0      0              330911    7.8292   NaN   \n",
       "1            893       3              Wilkes, Mrs. James (Ellen Needs)  female  47.0      1      0              363272    7.0000   NaN   \n",
       "2            894       2                     Myles, Mr. Thomas Francis    male  62.0      0      0              240276    9.6875   NaN   \n",
       "3            895       3                              Wirz, Mr. Albert    male  27.0      0      0              315154    8.6625   NaN   \n",
       "4            896       3  Hirvonen, Mrs. Alexander (Helga E Lindqvist)  female  22.0      1      1             3101298   12.2875   NaN   \n",
       "..           ...     ...                                           ...     ...   ...    ...    ...                 ...       ...   ...   \n",
       "413         1305       3                            Spector, Mr. Woolf    male   NaN      0      0           A.5. 3236    8.0500   NaN   \n",
       "414         1306       1                  Oliva y Ocana, Dona. Fermina  female  39.0      0      0            PC 17758  108.9000  C105   \n",
       "415         1307       3                  Saether, Mr. Simon Sivertsen    male  38.5      0      0  SOTON/O.Q. 3101262    7.2500   NaN   \n",
       "416         1308       3                           Ware, Mr. Frederick    male   NaN      0      0              359309    8.0500   NaN   \n",
       "417         1309       3                      Peter, Master. Michael J    male   NaN      1      1                2668   22.3583   NaN   \n",
       "\n",
       "    Embarked  \n",
       "0          Q  \n",
       "1          S  \n",
       "2          Q  \n",
       "3          S  \n",
       "4          S  \n",
       "..       ...  \n",
       "413        S  \n",
       "414        C  \n",
       "415        S  \n",
       "416        S  \n",
       "417        C  \n",
       "\n",
       "[418 rows x 11 columns]"
      ]
     },
     "execution_count": 52,
     "metadata": {},
     "output_type": "execute_result"
    }
   ],
   "source": [
    "tst_df = pd.read_csv(path/'test.csv')\n",
    "tst_df"
   ]
  },
  {
   "cell_type": "markdown",
   "id": "be1ae2e6",
   "metadata": {
    "papermill": {
     "duration": 0.135584,
     "end_time": "2022-11-22T13:30:34.406100",
     "exception": false,
     "start_time": "2022-11-22T13:30:34.270516",
     "status": "completed"
    },
    "tags": []
   },
   "source": [
    "In this case, it turns out that the test set is missing `Fare` for one passenger. We'll just fill it with `0` to avoid problems:"
   ]
  },
  {
   "cell_type": "code",
   "execution_count": 53,
   "id": "bf3703a4",
   "metadata": {
    "execution": {
     "iopub.execute_input": "2022-11-22T13:30:34.671676Z",
     "iopub.status.busy": "2022-11-22T13:30:34.670948Z",
     "iopub.status.idle": "2022-11-22T13:30:34.675915Z",
     "shell.execute_reply": "2022-11-22T13:30:34.675273Z"
    },
    "papermill": {
     "duration": 0.139695,
     "end_time": "2022-11-22T13:30:34.677856",
     "exception": false,
     "start_time": "2022-11-22T13:30:34.538161",
     "status": "completed"
    },
    "tags": []
   },
   "outputs": [],
   "source": [
    "tst_df['Fare'] = tst_df.Fare.fillna(0)"
   ]
  },
  {
   "cell_type": "markdown",
   "id": "95df2604",
   "metadata": {
    "papermill": {
     "duration": 0.132799,
     "end_time": "2022-11-22T13:30:34.942474",
     "exception": false,
     "start_time": "2022-11-22T13:30:34.809675",
     "status": "completed"
    },
    "tags": []
   },
   "source": [
    "Now we can just copy the same steps we did to our training set and do the same exact things on our test set to preprocess the data:"
   ]
  },
  {
   "cell_type": "code",
   "execution_count": 54,
   "id": "74201d8e",
   "metadata": {
    "execution": {
     "iopub.execute_input": "2022-11-22T13:30:35.210710Z",
     "iopub.status.busy": "2022-11-22T13:30:35.209769Z",
     "iopub.status.idle": "2022-11-22T13:30:35.226995Z",
     "shell.execute_reply": "2022-11-22T13:30:35.225949Z"
    },
    "papermill": {
     "duration": 0.154445,
     "end_time": "2022-11-22T13:30:35.229503",
     "exception": false,
     "start_time": "2022-11-22T13:30:35.075058",
     "status": "completed"
    },
    "tags": []
   },
   "outputs": [],
   "source": [
    "tst_df.fillna(modes, inplace=True)\n",
    "tst_df['LogFare'] = np.log(tst_df['Fare']+1)\n",
    "tst_df = pd.get_dummies(tst_df, columns=[\"Sex\",\"Pclass\",\"Embarked\"])\n",
    "\n",
    "tst_indep = tensor(tst_df[indep_cols].values, dtype=torch.float)\n",
    "tst_indep = tst_indep / vals"
   ]
  },
  {
   "cell_type": "markdown",
   "id": "ec6fd7f8",
   "metadata": {
    "papermill": {
     "duration": 0.135043,
     "end_time": "2022-11-22T13:30:35.498307",
     "exception": false,
     "start_time": "2022-11-22T13:30:35.363264",
     "status": "completed"
    },
    "tags": []
   },
   "source": [
    "Let's calculate our predictions of which passengers survived in the test set:"
   ]
  },
  {
   "cell_type": "code",
   "execution_count": 55,
   "id": "ae430ddf",
   "metadata": {
    "execution": {
     "iopub.execute_input": "2022-11-22T13:30:35.765076Z",
     "iopub.status.busy": "2022-11-22T13:30:35.764059Z",
     "iopub.status.idle": "2022-11-22T13:30:35.769261Z",
     "shell.execute_reply": "2022-11-22T13:30:35.768660Z"
    },
    "papermill": {
     "duration": 0.140111,
     "end_time": "2022-11-22T13:30:35.771119",
     "exception": false,
     "start_time": "2022-11-22T13:30:35.631008",
     "status": "completed"
    },
    "tags": []
   },
   "outputs": [],
   "source": [
    "tst_df['Survived'] = (calc_preds(tst_indep, coeffs)>0.5).int()"
   ]
  },
  {
   "cell_type": "markdown",
   "id": "8ddaa51c",
   "metadata": {
    "papermill": {
     "duration": 0.132697,
     "end_time": "2022-11-22T13:30:36.036096",
     "exception": false,
     "start_time": "2022-11-22T13:30:35.903399",
     "status": "completed"
    },
    "tags": []
   },
   "source": [
    "The sample submission on the Kaggle competition site shows that we're expected to upload a CSV with just `PassengerId` and `Survived`, so let's create that and save it:"
   ]
  },
  {
   "cell_type": "code",
   "execution_count": 56,
   "id": "30331608",
   "metadata": {
    "execution": {
     "iopub.execute_input": "2022-11-22T13:30:36.304458Z",
     "iopub.status.busy": "2022-11-22T13:30:36.303849Z",
     "iopub.status.idle": "2022-11-22T13:30:36.314449Z",
     "shell.execute_reply": "2022-11-22T13:30:36.313719Z"
    },
    "papermill": {
     "duration": 0.148241,
     "end_time": "2022-11-22T13:30:36.316782",
     "exception": false,
     "start_time": "2022-11-22T13:30:36.168541",
     "status": "completed"
    },
    "tags": []
   },
   "outputs": [],
   "source": [
    "sub_df = tst_df[['PassengerId','Survived']]\n",
    "sub_df.to_csv('sub.csv', index=False)"
   ]
  },
  {
   "cell_type": "markdown",
   "id": "f6c29624",
   "metadata": {
    "papermill": {
     "duration": 0.131642,
     "end_time": "2022-11-22T13:30:36.580193",
     "exception": false,
     "start_time": "2022-11-22T13:30:36.448551",
     "status": "completed"
    },
    "tags": []
   },
   "source": [
    "We can check the first few rows of the file to make sure it looks reasonable:"
   ]
  },
  {
   "cell_type": "code",
   "execution_count": 57,
   "id": "a7f0e737",
   "metadata": {
    "execution": {
     "iopub.execute_input": "2022-11-22T13:30:36.847985Z",
     "iopub.status.busy": "2022-11-22T13:30:36.847382Z",
     "iopub.status.idle": "2022-11-22T13:30:37.877040Z",
     "shell.execute_reply": "2022-11-22T13:30:37.875790Z"
    },
    "papermill": {
     "duration": 1.165933,
     "end_time": "2022-11-22T13:30:37.879833",
     "exception": false,
     "start_time": "2022-11-22T13:30:36.713900",
     "status": "completed"
    },
    "tags": []
   },
   "outputs": [
    {
     "name": "stdout",
     "output_type": "stream",
     "text": [
      "PassengerId,Survived\r\n",
      "892,0\r\n",
      "893,0\r\n",
      "894,0\r\n",
      "895,0\r\n",
      "896,0\r\n",
      "897,0\r\n",
      "898,1\r\n",
      "899,0\r\n",
      "900,1\r\n"
     ]
    }
   ],
   "source": [
    "!head sub.csv"
   ]
  },
  {
   "cell_type": "markdown",
   "id": "d05bb243",
   "metadata": {
    "papermill": {
     "duration": 0.132258,
     "end_time": "2022-11-22T13:30:38.144986",
     "exception": false,
     "start_time": "2022-11-22T13:30:38.012728",
     "status": "completed"
    },
    "tags": []
   },
   "source": [
    "When you click \"save version\" in Kaggle, and wait for the notebook to run, you'll see that `sub.csv` appears in the \"Data\" tab. Clicking on that file will show a *Submit* button, which allows you to submit to the competition."
   ]
  },
  {
   "cell_type": "markdown",
   "id": "bf42c8f4",
   "metadata": {
    "papermill": {
     "duration": 0.132905,
     "end_time": "2022-11-22T13:30:38.412944",
     "exception": false,
     "start_time": "2022-11-22T13:30:38.280039",
     "status": "completed"
    },
    "tags": []
   },
   "source": [
    "## Using matrix product"
   ]
  },
  {
   "cell_type": "markdown",
   "id": "ad596efb",
   "metadata": {
    "papermill": {
     "duration": 0.173834,
     "end_time": "2022-11-22T13:30:38.723299",
     "exception": false,
     "start_time": "2022-11-22T13:30:38.549465",
     "status": "completed"
    },
    "tags": []
   },
   "source": [
    "We can make things quite a bit neater...\n",
    "\n",
    "Take a look at the inner-most calculation we're doing to get the predictions:"
   ]
  },
  {
   "cell_type": "code",
   "execution_count": 58,
   "id": "379b94d3",
   "metadata": {
    "execution": {
     "iopub.execute_input": "2022-11-22T13:30:39.017940Z",
     "iopub.status.busy": "2022-11-22T13:30:39.017108Z",
     "iopub.status.idle": "2022-11-22T13:30:39.029602Z",
     "shell.execute_reply": "2022-11-22T13:30:39.028620Z"
    },
    "papermill": {
     "duration": 0.161613,
     "end_time": "2022-11-22T13:30:39.031812",
     "exception": false,
     "start_time": "2022-11-22T13:30:38.870199",
     "status": "completed"
    },
    "tags": []
   },
   "outputs": [
    {
     "data": {
      "text/plain": [
       "tensor([ 12.3288, -14.8119, -15.4540, -13.1513, -13.3512, -13.6469,   3.6248,   5.3429, -22.0878,   3.1233, -21.8742, -15.6421, -21.5504,\n",
       "          3.9393, -21.9190, -12.0010, -12.3775,   5.3550, -13.5880,  -3.1015, -21.7237, -12.2081,  12.9767,   4.7427, -21.6525, -14.9135,\n",
       "         -2.7433, -12.3210, -21.5886,   3.9387,   5.3890,  -3.6196, -21.6296, -21.8454,  12.2159,  -3.2275, -12.0289,  13.4560, -21.7230,\n",
       "         -3.1366, -13.2462, -21.7230, -13.6831,  13.3092, -21.6477,  -3.5868, -21.6854, -21.8316, -14.8158,  -2.9386,  -5.3103, -22.2384,\n",
       "        -22.1097, -21.7466, -13.3780, -13.4909, -14.8119, -22.0690, -21.6666, -21.7818,  -5.4439, -21.7407, -12.6551, -21.6671,   4.9238,\n",
       "        -11.5777, -13.3323, -21.9638, -15.3030,   5.0243, -21.7614,   3.1820, -13.4721, -21.7170, -11.6066, -21.5737, -21.7230, -11.9652,\n",
       "        -13.2382, -13.7599, -13.2170,  13.1347, -21.7049, -21.7268,   4.9207,  -7.3198,  -5.3081,   7.1065,  11.4948, -13.3135, -21.8723,\n",
       "        -21.7230,  13.3603, -15.5670,   3.4105,  -7.2857, -13.7197,   3.6909,   3.9763, -14.7227, -21.8268,   3.9387, -21.8743, -21.8367,\n",
       "        -11.8518, -13.6712, -21.8299,   4.9440,  -5.4471, -21.9666,   5.1333,  -3.2187, -11.6008,  13.7920, -21.7230,  12.6369,  -3.7268,\n",
       "        -14.8119, -22.0637,  12.9468, -22.1610,  -6.1827, -14.8119,  -3.2838, -15.4540, -11.6950,  -2.9926,  -3.0110, -21.5664, -13.8268,\n",
       "          7.3426, -21.8418,   5.0744,   5.2582,  13.3415, -21.6289, -13.9898, -21.8112,  -7.3316,   5.2296, -13.4453,  12.7891, -22.1235,\n",
       "        -14.9625,  -3.4339,   6.3089, -21.9839,   3.1968,   7.2400,   2.8558,  -3.1187,   3.7965,   5.4667, -15.1101, -15.0597, -22.9391,\n",
       "        -21.7230,  -3.0346, -13.5206, -21.7011,  13.4425,  -7.2690, -21.8335, -12.0582,  13.0489,   6.7993,   5.2160,   5.0794, -12.6957,\n",
       "        -12.1838,  -3.0873, -21.6070,   7.0744, -21.7170, -22.1001,   6.8159, -11.6002, -21.6310])"
      ]
     },
     "execution_count": 58,
     "metadata": {},
     "output_type": "execute_result"
    }
   ],
   "source": [
    "(val_indep*coeffs).sum(axis=1)"
   ]
  },
  {
   "cell_type": "markdown",
   "id": "d17c9797",
   "metadata": {
    "papermill": {
     "duration": 0.13329,
     "end_time": "2022-11-22T13:30:39.304934",
     "exception": false,
     "start_time": "2022-11-22T13:30:39.171644",
     "status": "completed"
    },
    "tags": []
   },
   "source": [
    "Multiplying elements together and then adding across rows is identical to doing a matrix-vector product! Python uses the `@` operator to indicate matrix products, and is supported by PyTorch tensors. Therefore, we can replicate the above calculate more simply like so:"
   ]
  },
  {
   "cell_type": "code",
   "execution_count": 59,
   "id": "2f475c94",
   "metadata": {
    "execution": {
     "iopub.execute_input": "2022-11-22T13:30:39.582153Z",
     "iopub.status.busy": "2022-11-22T13:30:39.581534Z",
     "iopub.status.idle": "2022-11-22T13:30:39.594926Z",
     "shell.execute_reply": "2022-11-22T13:30:39.594244Z"
    },
    "papermill": {
     "duration": 0.152652,
     "end_time": "2022-11-22T13:30:39.596916",
     "exception": false,
     "start_time": "2022-11-22T13:30:39.444264",
     "status": "completed"
    },
    "tags": []
   },
   "outputs": [
    {
     "data": {
      "text/plain": [
       "tensor([ 12.3288, -14.8119, -15.4540, -13.1513, -13.3511, -13.6468,   3.6248,   5.3429, -22.0878,   3.1233, -21.8742, -15.6421, -21.5504,\n",
       "          3.9393, -21.9190, -12.0010, -12.3775,   5.3550, -13.5880,  -3.1015, -21.7237, -12.2081,  12.9767,   4.7427, -21.6525, -14.9135,\n",
       "         -2.7433, -12.3210, -21.5886,   3.9387,   5.3890,  -3.6196, -21.6296, -21.8454,  12.2159,  -3.2275, -12.0289,  13.4560, -21.7230,\n",
       "         -3.1366, -13.2462, -21.7230, -13.6831,  13.3092, -21.6477,  -3.5868, -21.6854, -21.8316, -14.8158,  -2.9386,  -5.3103, -22.2384,\n",
       "        -22.1097, -21.7466, -13.3780, -13.4909, -14.8119, -22.0690, -21.6666, -21.7818,  -5.4439, -21.7407, -12.6551, -21.6671,   4.9238,\n",
       "        -11.5777, -13.3323, -21.9638, -15.3030,   5.0243, -21.7614,   3.1820, -13.4721, -21.7170, -11.6066, -21.5737, -21.7230, -11.9652,\n",
       "        -13.2382, -13.7599, -13.2170,  13.1347, -21.7049, -21.7268,   4.9207,  -7.3198,  -5.3081,   7.1065,  11.4948, -13.3135, -21.8723,\n",
       "        -21.7230,  13.3603, -15.5670,   3.4105,  -7.2857, -13.7197,   3.6909,   3.9763, -14.7227, -21.8268,   3.9387, -21.8743, -21.8367,\n",
       "        -11.8518, -13.6712, -21.8299,   4.9440,  -5.4471, -21.9666,   5.1333,  -3.2187, -11.6008,  13.7920, -21.7230,  12.6369,  -3.7268,\n",
       "        -14.8119, -22.0637,  12.9468, -22.1610,  -6.1827, -14.8119,  -3.2838, -15.4540, -11.6950,  -2.9926,  -3.0110, -21.5664, -13.8268,\n",
       "          7.3426, -21.8418,   5.0744,   5.2582,  13.3415, -21.6289, -13.9898, -21.8112,  -7.3316,   5.2296, -13.4453,  12.7891, -22.1235,\n",
       "        -14.9625,  -3.4339,   6.3089, -21.9839,   3.1968,   7.2400,   2.8558,  -3.1187,   3.7965,   5.4667, -15.1101, -15.0597, -22.9391,\n",
       "        -21.7230,  -3.0346, -13.5206, -21.7011,  13.4425,  -7.2690, -21.8335, -12.0582,  13.0489,   6.7993,   5.2160,   5.0794, -12.6957,\n",
       "        -12.1838,  -3.0873, -21.6070,   7.0744, -21.7170, -22.1001,   6.8159, -11.6002, -21.6310])"
      ]
     },
     "execution_count": 59,
     "metadata": {},
     "output_type": "execute_result"
    }
   ],
   "source": [
    "val_indep@coeffs"
   ]
  },
  {
   "cell_type": "markdown",
   "id": "1c9cd8d7",
   "metadata": {
    "papermill": {
     "duration": 0.132636,
     "end_time": "2022-11-22T13:30:39.862294",
     "exception": false,
     "start_time": "2022-11-22T13:30:39.729658",
     "status": "completed"
    },
    "tags": []
   },
   "source": [
    "It also turns out that this is much faster, because matrix products in PyTorch are very highly optimised.\n",
    "\n",
    "Let's use this to replace how `calc_preds` works:"
   ]
  },
  {
   "cell_type": "code",
   "execution_count": 60,
   "id": "03b61084",
   "metadata": {
    "execution": {
     "iopub.execute_input": "2022-11-22T13:30:40.130114Z",
     "iopub.status.busy": "2022-11-22T13:30:40.129531Z",
     "iopub.status.idle": "2022-11-22T13:30:40.133541Z",
     "shell.execute_reply": "2022-11-22T13:30:40.132848Z"
    },
    "papermill": {
     "duration": 0.140725,
     "end_time": "2022-11-22T13:30:40.135568",
     "exception": false,
     "start_time": "2022-11-22T13:30:39.994843",
     "status": "completed"
    },
    "tags": []
   },
   "outputs": [],
   "source": [
    "def calc_preds(coeffs, indeps): return torch.sigmoid(indeps@coeffs)"
   ]
  },
  {
   "cell_type": "markdown",
   "id": "59549377",
   "metadata": {
    "papermill": {
     "duration": 0.133095,
     "end_time": "2022-11-22T13:30:40.402943",
     "exception": false,
     "start_time": "2022-11-22T13:30:40.269848",
     "status": "completed"
    },
    "tags": []
   },
   "source": [
    "In order to do matrix-matrix products (which we'll need in the next section), we need to turn `coeffs` into a column vector (i.e. a matrix with a single column), which we can do by passing a second argument `1` to `torch.rand()`, indicating that we want our coefficients to have one column:"
   ]
  },
  {
   "cell_type": "code",
   "execution_count": 61,
   "id": "2ba9557b",
   "metadata": {
    "execution": {
     "iopub.execute_input": "2022-11-22T13:30:40.670843Z",
     "iopub.status.busy": "2022-11-22T13:30:40.670219Z",
     "iopub.status.idle": "2022-11-22T13:30:40.674747Z",
     "shell.execute_reply": "2022-11-22T13:30:40.673787Z"
    },
    "papermill": {
     "duration": 0.140505,
     "end_time": "2022-11-22T13:30:40.676777",
     "exception": false,
     "start_time": "2022-11-22T13:30:40.536272",
     "status": "completed"
    },
    "tags": []
   },
   "outputs": [],
   "source": [
    "def init_coeffs(): return (torch.rand(n_coeff, 1)*0.1).requires_grad_()"
   ]
  },
  {
   "cell_type": "markdown",
   "id": "b163c1f7",
   "metadata": {
    "papermill": {
     "duration": 0.133131,
     "end_time": "2022-11-22T13:30:40.942687",
     "exception": false,
     "start_time": "2022-11-22T13:30:40.809556",
     "status": "completed"
    },
    "tags": []
   },
   "source": [
    "We'll also need to turn our dependent variable into a column vector, which we can do by indexing the column dimension with the special value `None`, which tells PyTorch to add a new dimension in this position:"
   ]
  },
  {
   "cell_type": "code",
   "execution_count": 62,
   "id": "90317739",
   "metadata": {
    "execution": {
     "iopub.execute_input": "2022-11-22T13:30:41.210710Z",
     "iopub.status.busy": "2022-11-22T13:30:41.210093Z",
     "iopub.status.idle": "2022-11-22T13:30:41.213966Z",
     "shell.execute_reply": "2022-11-22T13:30:41.213373Z"
    },
    "papermill": {
     "duration": 0.139248,
     "end_time": "2022-11-22T13:30:41.215738",
     "exception": false,
     "start_time": "2022-11-22T13:30:41.076490",
     "status": "completed"
    },
    "tags": []
   },
   "outputs": [],
   "source": [
    "trn_dep = trn_dep[:,None]\n",
    "val_dep = val_dep[:,None]"
   ]
  },
  {
   "cell_type": "markdown",
   "id": "4d12a544",
   "metadata": {
    "papermill": {
     "duration": 0.135152,
     "end_time": "2022-11-22T13:30:41.487102",
     "exception": false,
     "start_time": "2022-11-22T13:30:41.351950",
     "status": "completed"
    },
    "tags": []
   },
   "source": [
    "We can now train our model as before and confirm we get identical outputs...:"
   ]
  },
  {
   "cell_type": "code",
   "execution_count": 63,
   "id": "463e6399",
   "metadata": {
    "execution": {
     "iopub.execute_input": "2022-11-22T13:30:41.756357Z",
     "iopub.status.busy": "2022-11-22T13:30:41.756012Z",
     "iopub.status.idle": "2022-11-22T13:30:41.782021Z",
     "shell.execute_reply": "2022-11-22T13:30:41.781144Z"
    },
    "papermill": {
     "duration": 0.164757,
     "end_time": "2022-11-22T13:30:41.785215",
     "exception": false,
     "start_time": "2022-11-22T13:30:41.620458",
     "status": "completed"
    },
    "tags": []
   },
   "outputs": [
    {
     "name": "stdout",
     "output_type": "stream",
     "text": [
      "0.512; 0.323; 0.290; 0.205; 0.200; 0.198; 0.197; 0.197; 0.196; 0.196; 0.196; 0.195; 0.195; 0.195; 0.195; 0.195; 0.195; 0.194; 0.194; 0.194; 0.194; 0.194; 0.194; 0.194; 0.194; 0.194; 0.194; 0.194; 0.194; 0.194; "
     ]
    }
   ],
   "source": [
    "coeffs = train_model(lr=100)"
   ]
  },
  {
   "cell_type": "markdown",
   "id": "1d43c5fb",
   "metadata": {
    "papermill": {
     "duration": 0.134056,
     "end_time": "2022-11-22T13:30:42.052795",
     "exception": false,
     "start_time": "2022-11-22T13:30:41.918739",
     "status": "completed"
    },
    "tags": []
   },
   "source": [
    "...and identical accuracy:"
   ]
  },
  {
   "cell_type": "code",
   "execution_count": 64,
   "id": "6907e6c2",
   "metadata": {
    "execution": {
     "iopub.execute_input": "2022-11-22T13:30:42.326361Z",
     "iopub.status.busy": "2022-11-22T13:30:42.325328Z",
     "iopub.status.idle": "2022-11-22T13:30:42.332978Z",
     "shell.execute_reply": "2022-11-22T13:30:42.332130Z"
    },
    "papermill": {
     "duration": 0.147247,
     "end_time": "2022-11-22T13:30:42.334917",
     "exception": false,
     "start_time": "2022-11-22T13:30:42.187670",
     "status": "completed"
    },
    "tags": []
   },
   "outputs": [
    {
     "data": {
      "text/plain": [
       "tensor(0.8258)"
      ]
     },
     "execution_count": 64,
     "metadata": {},
     "output_type": "execute_result"
    }
   ],
   "source": [
    "acc(coeffs)"
   ]
  },
  {
   "cell_type": "markdown",
   "id": "54c109c8",
   "metadata": {
    "papermill": {
     "duration": 0.133239,
     "end_time": "2022-11-22T13:30:42.604918",
     "exception": false,
     "start_time": "2022-11-22T13:30:42.471679",
     "status": "completed"
    },
    "tags": []
   },
   "source": [
    "## A neural network"
   ]
  },
  {
   "cell_type": "markdown",
   "id": "84ae25ae",
   "metadata": {
    "papermill": {
     "duration": 0.132924,
     "end_time": "2022-11-22T13:30:42.871680",
     "exception": false,
     "start_time": "2022-11-22T13:30:42.738756",
     "status": "completed"
    },
    "tags": []
   },
   "source": [
    "We've now got what we need to implement our neural network.\n",
    "\n",
    "First, we'll need to create coefficients for each of our layers. Our first set of coefficients will take our `n_coeff` inputs, and create `n_hidden` outputs. We can choose whatever `n_hidden` we like -- a higher number gives our network more flexibility, but makes it slower and harder to train. So we need a matrix of size `n_coeff` by `n_hidden`. We'll divide these coefficients by `n_hidden` so that when we sum them up in the next layer we'll end up with similar magnitude numbers to what we started with.\n",
    "\n",
    "Then our second layer will need to take the `n_hidden` inputs and create a single output, so that means we need a `n_hidden` by `1` matrix there. The second layer will also need a constant term added."
   ]
  },
  {
   "cell_type": "code",
   "execution_count": 65,
   "id": "32cfa251",
   "metadata": {
    "execution": {
     "iopub.execute_input": "2022-11-22T13:30:43.140739Z",
     "iopub.status.busy": "2022-11-22T13:30:43.140088Z",
     "iopub.status.idle": "2022-11-22T13:30:43.145296Z",
     "shell.execute_reply": "2022-11-22T13:30:43.144690Z"
    },
    "papermill": {
     "duration": 0.1418,
     "end_time": "2022-11-22T13:30:43.147206",
     "exception": false,
     "start_time": "2022-11-22T13:30:43.005406",
     "status": "completed"
    },
    "tags": []
   },
   "outputs": [],
   "source": [
    "def init_coeffs(n_hidden=20):\n",
    "    layer1 = (torch.rand(n_coeff, n_hidden)-0.5)/n_hidden\n",
    "    layer2 = torch.rand(n_hidden, 1)-0.3\n",
    "    const = torch.rand(1)[0]\n",
    "    return layer1.requires_grad_(),layer2.requires_grad_(),const.requires_grad_()"
   ]
  },
  {
   "cell_type": "markdown",
   "id": "9715ba2a",
   "metadata": {
    "papermill": {
     "duration": 0.132437,
     "end_time": "2022-11-22T13:30:43.413046",
     "exception": false,
     "start_time": "2022-11-22T13:30:43.280609",
     "status": "completed"
    },
    "tags": []
   },
   "source": [
    "Now we have our coefficients, we can create our neural net. The key steps are the two matrix products, `indeps@l1` and `res@l2` (where `res` is the output of the first layer). The first layer output is passed to `F.relu` (that's our non-linearity), and the second is passed to `torch.sigmoid` as before."
   ]
  },
  {
   "cell_type": "code",
   "execution_count": 66,
   "id": "918988ea",
   "metadata": {
    "execution": {
     "iopub.execute_input": "2022-11-22T13:30:43.680933Z",
     "iopub.status.busy": "2022-11-22T13:30:43.680016Z",
     "iopub.status.idle": "2022-11-22T13:30:43.685269Z",
     "shell.execute_reply": "2022-11-22T13:30:43.684635Z"
    },
    "papermill": {
     "duration": 0.141055,
     "end_time": "2022-11-22T13:30:43.687055",
     "exception": false,
     "start_time": "2022-11-22T13:30:43.546000",
     "status": "completed"
    },
    "tags": []
   },
   "outputs": [],
   "source": [
    "import torch.nn.functional as F\n",
    "\n",
    "def calc_preds(coeffs, indeps):\n",
    "    l1,l2,const = coeffs\n",
    "    res = F.relu(indeps@l1)\n",
    "    res = res@l2 + const\n",
    "    return torch.sigmoid(res)"
   ]
  },
  {
   "cell_type": "markdown",
   "id": "43a1be0c",
   "metadata": {
    "papermill": {
     "duration": 0.132399,
     "end_time": "2022-11-22T13:30:43.952448",
     "exception": false,
     "start_time": "2022-11-22T13:30:43.820049",
     "status": "completed"
    },
    "tags": []
   },
   "source": [
    "Finally, now that we have more than one set of coefficients, we need to add a loop to update each one:"
   ]
  },
  {
   "cell_type": "code",
   "execution_count": 67,
   "id": "0d7e8f03",
   "metadata": {
    "execution": {
     "iopub.execute_input": "2022-11-22T13:30:44.229105Z",
     "iopub.status.busy": "2022-11-22T13:30:44.228319Z",
     "iopub.status.idle": "2022-11-22T13:30:44.234162Z",
     "shell.execute_reply": "2022-11-22T13:30:44.233284Z"
    },
    "papermill": {
     "duration": 0.14592,
     "end_time": "2022-11-22T13:30:44.236157",
     "exception": false,
     "start_time": "2022-11-22T13:30:44.090237",
     "status": "completed"
    },
    "tags": []
   },
   "outputs": [],
   "source": [
    "def update_coeffs(coeffs, lr):\n",
    "    for layer in coeffs:\n",
    "        layer.sub_(layer.grad * lr)\n",
    "        layer.grad.zero_()"
   ]
  },
  {
   "cell_type": "markdown",
   "id": "20872331",
   "metadata": {
    "papermill": {
     "duration": 0.136757,
     "end_time": "2022-11-22T13:30:44.510306",
     "exception": false,
     "start_time": "2022-11-22T13:30:44.373549",
     "status": "completed"
    },
    "tags": []
   },
   "source": [
    "That's it -- we're now ready to train our model!"
   ]
  },
  {
   "cell_type": "code",
   "execution_count": 68,
   "id": "4b3a26e1",
   "metadata": {
    "execution": {
     "iopub.execute_input": "2022-11-22T13:30:44.778869Z",
     "iopub.status.busy": "2022-11-22T13:30:44.777856Z",
     "iopub.status.idle": "2022-11-22T13:30:44.813546Z",
     "shell.execute_reply": "2022-11-22T13:30:44.812603Z"
    },
    "papermill": {
     "duration": 0.172505,
     "end_time": "2022-11-22T13:30:44.815885",
     "exception": false,
     "start_time": "2022-11-22T13:30:44.643380",
     "status": "completed"
    },
    "tags": []
   },
   "outputs": [
    {
     "name": "stdout",
     "output_type": "stream",
     "text": [
      "0.543; 0.532; 0.520; 0.505; 0.487; 0.466; 0.439; 0.407; 0.373; 0.343; 0.319; 0.301; 0.286; 0.274; 0.264; 0.256; 0.250; 0.245; 0.240; 0.237; 0.234; 0.231; 0.229; 0.227; 0.226; 0.224; 0.223; 0.222; 0.221; 0.220; "
     ]
    }
   ],
   "source": [
    "coeffs = train_model(lr=1.4)"
   ]
  },
  {
   "cell_type": "code",
   "execution_count": 69,
   "id": "a6e56eea",
   "metadata": {
    "execution": {
     "iopub.execute_input": "2022-11-22T13:30:45.095212Z",
     "iopub.status.busy": "2022-11-22T13:30:45.094912Z",
     "iopub.status.idle": "2022-11-22T13:30:45.132149Z",
     "shell.execute_reply": "2022-11-22T13:30:45.131210Z"
    },
    "papermill": {
     "duration": 0.184248,
     "end_time": "2022-11-22T13:30:45.134896",
     "exception": false,
     "start_time": "2022-11-22T13:30:44.950648",
     "status": "completed"
    },
    "tags": []
   },
   "outputs": [
    {
     "name": "stdout",
     "output_type": "stream",
     "text": [
      "0.543; 0.400; 0.260; 0.390; 0.221; 0.211; 0.197; 0.195; 0.193; 0.193; 0.193; 0.193; 0.193; 0.193; 0.193; 0.193; 0.193; 0.192; 0.192; 0.192; 0.192; 0.192; 0.192; 0.192; 0.192; 0.192; 0.192; 0.192; 0.192; 0.192; "
     ]
    }
   ],
   "source": [
    "coeffs = train_model(lr=20)"
   ]
  },
  {
   "cell_type": "markdown",
   "id": "9fafc5ec",
   "metadata": {
    "papermill": {
     "duration": 0.135134,
     "end_time": "2022-11-22T13:30:45.412539",
     "exception": false,
     "start_time": "2022-11-22T13:30:45.277405",
     "status": "completed"
    },
    "tags": []
   },
   "source": [
    "It's looking good -- our loss is lower than before. Let's see if that translates to a better result on the validation set:"
   ]
  },
  {
   "cell_type": "code",
   "execution_count": 70,
   "id": "5150adc0",
   "metadata": {
    "execution": {
     "iopub.execute_input": "2022-11-22T13:30:45.686835Z",
     "iopub.status.busy": "2022-11-22T13:30:45.686501Z",
     "iopub.status.idle": "2022-11-22T13:30:45.694284Z",
     "shell.execute_reply": "2022-11-22T13:30:45.693574Z"
    },
    "papermill": {
     "duration": 0.145682,
     "end_time": "2022-11-22T13:30:45.696326",
     "exception": false,
     "start_time": "2022-11-22T13:30:45.550644",
     "status": "completed"
    },
    "tags": []
   },
   "outputs": [
    {
     "data": {
      "text/plain": [
       "tensor(0.8258)"
      ]
     },
     "execution_count": 70,
     "metadata": {},
     "output_type": "execute_result"
    }
   ],
   "source": [
    "acc(coeffs)"
   ]
  },
  {
   "cell_type": "markdown",
   "id": "b9633113",
   "metadata": {
    "papermill": {
     "duration": 0.132954,
     "end_time": "2022-11-22T13:30:45.963223",
     "exception": false,
     "start_time": "2022-11-22T13:30:45.830269",
     "status": "completed"
    },
    "tags": []
   },
   "source": [
    "In this case our neural net isn't showing better results than the linear model. That's not surprising; this dataset is very small and very simple, and isn't the kind of thing we'd expect to see neural networks excel at. Furthermore, our validation set is too small to reliably see much accuracy difference. But the key thing is that we now know exactly what a real neural net looks like!"
   ]
  },
  {
   "cell_type": "markdown",
   "id": "42208b09",
   "metadata": {
    "papermill": {
     "duration": 0.134625,
     "end_time": "2022-11-22T13:30:46.233542",
     "exception": false,
     "start_time": "2022-11-22T13:30:46.098917",
     "status": "completed"
    },
    "tags": []
   },
   "source": [
    "## Deep learning"
   ]
  },
  {
   "cell_type": "markdown",
   "id": "2af19d1e",
   "metadata": {
    "papermill": {
     "duration": 0.136025,
     "end_time": "2022-11-22T13:30:46.507077",
     "exception": false,
     "start_time": "2022-11-22T13:30:46.371052",
     "status": "completed"
    },
    "tags": []
   },
   "source": [
    "The neural net in the previous section only uses one hidden layer, so it doesn't count as \"deep\" learning. But we can use the exact same technique to make our neural net deep, by adding more matrix multiplications.\n",
    "\n",
    "First, we'll need to create additional coefficients for each layer:"
   ]
  },
  {
   "cell_type": "code",
   "execution_count": 71,
   "id": "7c275cdd",
   "metadata": {
    "execution": {
     "iopub.execute_input": "2022-11-22T13:30:46.776462Z",
     "iopub.status.busy": "2022-11-22T13:30:46.775894Z",
     "iopub.status.idle": "2022-11-22T13:30:46.782744Z",
     "shell.execute_reply": "2022-11-22T13:30:46.781904Z"
    },
    "papermill": {
     "duration": 0.144004,
     "end_time": "2022-11-22T13:30:46.784758",
     "exception": false,
     "start_time": "2022-11-22T13:30:46.640754",
     "status": "completed"
    },
    "tags": []
   },
   "outputs": [],
   "source": [
    "def init_coeffs():\n",
    "    hiddens = [10, 10]  # <-- set this to the size of each hidden layer you want\n",
    "    sizes = [n_coeff] + hiddens + [1]\n",
    "    n = len(sizes)\n",
    "    layers = [(torch.rand(sizes[i], sizes[i+1])-0.3)/sizes[i+1]*4 for i in range(n-1)]\n",
    "    consts = [(torch.rand(1)[0]-0.5)*0.1 for i in range(n-1)]\n",
    "    for l in layers+consts: l.requires_grad_()\n",
    "    return layers,consts"
   ]
  },
  {
   "cell_type": "markdown",
   "id": "583a87cb",
   "metadata": {
    "papermill": {
     "duration": 0.132909,
     "end_time": "2022-11-22T13:30:47.051329",
     "exception": false,
     "start_time": "2022-11-22T13:30:46.918420",
     "status": "completed"
    },
    "tags": []
   },
   "source": [
    "You'll notice here that there's a lot of messy constants to get the random numbers in just the right ranges. When you train the model in a moment, you'll see that the tiniest changes to these initialisations can cause our model to fail to train at all! This is a key reason that deep learning failed to make much progress in the early days -- it's very finicky to get a good starting point for our coefficients. Nowadays, we have ways to deal with that, which we'll learn about in other notebooks.\n",
    "\n",
    "Our deep learning `calc_preds` looks much the same as before, but now we loop through each layer, instead of listing them separately:"
   ]
  },
  {
   "cell_type": "code",
   "execution_count": 72,
   "id": "9dd1e620",
   "metadata": {
    "execution": {
     "iopub.execute_input": "2022-11-22T13:30:47.322074Z",
     "iopub.status.busy": "2022-11-22T13:30:47.321757Z",
     "iopub.status.idle": "2022-11-22T13:30:47.327182Z",
     "shell.execute_reply": "2022-11-22T13:30:47.326390Z"
    },
    "papermill": {
     "duration": 0.14412,
     "end_time": "2022-11-22T13:30:47.329175",
     "exception": false,
     "start_time": "2022-11-22T13:30:47.185055",
     "status": "completed"
    },
    "tags": []
   },
   "outputs": [],
   "source": [
    "import torch.nn.functional as F\n",
    "\n",
    "def calc_preds(coeffs, indeps):\n",
    "    layers,consts = coeffs\n",
    "    n = len(layers)\n",
    "    res = indeps\n",
    "    for i,l in enumerate(layers):\n",
    "        res = res@l + consts[i]\n",
    "        if i!=n-1: res = F.relu(res)\n",
    "    return torch.sigmoid(res)"
   ]
  },
  {
   "cell_type": "markdown",
   "id": "a53b63a1",
   "metadata": {
    "papermill": {
     "duration": 0.13328,
     "end_time": "2022-11-22T13:30:47.597122",
     "exception": false,
     "start_time": "2022-11-22T13:30:47.463842",
     "status": "completed"
    },
    "tags": []
   },
   "source": [
    "We also need a minor update to `update_coeffs` since we've got `layers` and `consts` separated now:"
   ]
  },
  {
   "cell_type": "code",
   "execution_count": 73,
   "id": "569a441a",
   "metadata": {
    "execution": {
     "iopub.execute_input": "2022-11-22T13:30:47.867686Z",
     "iopub.status.busy": "2022-11-22T13:30:47.867027Z",
     "iopub.status.idle": "2022-11-22T13:30:47.871953Z",
     "shell.execute_reply": "2022-11-22T13:30:47.871152Z"
    },
    "papermill": {
     "duration": 0.14245,
     "end_time": "2022-11-22T13:30:47.874038",
     "exception": false,
     "start_time": "2022-11-22T13:30:47.731588",
     "status": "completed"
    },
    "tags": []
   },
   "outputs": [],
   "source": [
    "def update_coeffs(coeffs, lr):\n",
    "    layers,consts = coeffs\n",
    "    for layer in layers+consts:\n",
    "        layer.sub_(layer.grad * lr)\n",
    "        layer.grad.zero_()"
   ]
  },
  {
   "cell_type": "markdown",
   "id": "87bdc299",
   "metadata": {
    "papermill": {
     "duration": 0.134898,
     "end_time": "2022-11-22T13:30:48.142034",
     "exception": false,
     "start_time": "2022-11-22T13:30:48.007136",
     "status": "completed"
    },
    "tags": []
   },
   "source": [
    "Let's train our model..."
   ]
  },
  {
   "cell_type": "code",
   "execution_count": 74,
   "id": "e61fb359",
   "metadata": {
    "execution": {
     "iopub.execute_input": "2022-11-22T13:30:48.417211Z",
     "iopub.status.busy": "2022-11-22T13:30:48.416875Z",
     "iopub.status.idle": "2022-11-22T13:30:48.445153Z",
     "shell.execute_reply": "2022-11-22T13:30:48.444281Z"
    },
    "papermill": {
     "duration": 0.168098,
     "end_time": "2022-11-22T13:30:48.447255",
     "exception": false,
     "start_time": "2022-11-22T13:30:48.279157",
     "status": "completed"
    },
    "tags": []
   },
   "outputs": [
    {
     "name": "stdout",
     "output_type": "stream",
     "text": [
      "0.521; 0.483; 0.427; 0.379; 0.379; 0.379; 0.379; 0.378; 0.378; 0.378; 0.378; 0.378; 0.378; 0.378; 0.378; 0.378; 0.377; 0.376; 0.371; 0.333; 0.239; 0.224; 0.208; 0.204; 0.203; 0.203; 0.207; 0.197; 0.196; 0.195; "
     ]
    }
   ],
   "source": [
    "coeffs = train_model(lr=4)"
   ]
  },
  {
   "cell_type": "markdown",
   "id": "a93fb464",
   "metadata": {
    "papermill": {
     "duration": 0.134622,
     "end_time": "2022-11-22T13:30:48.716803",
     "exception": false,
     "start_time": "2022-11-22T13:30:48.582181",
     "status": "completed"
    },
    "tags": []
   },
   "source": [
    "...and check its accuracy:"
   ]
  },
  {
   "cell_type": "code",
   "execution_count": 75,
   "id": "0cad686b",
   "metadata": {
    "execution": {
     "iopub.execute_input": "2022-11-22T13:30:48.987649Z",
     "iopub.status.busy": "2022-11-22T13:30:48.987319Z",
     "iopub.status.idle": "2022-11-22T13:30:48.993861Z",
     "shell.execute_reply": "2022-11-22T13:30:48.993118Z"
    },
    "papermill": {
     "duration": 0.144528,
     "end_time": "2022-11-22T13:30:48.995773",
     "exception": false,
     "start_time": "2022-11-22T13:30:48.851245",
     "status": "completed"
    },
    "tags": []
   },
   "outputs": [
    {
     "data": {
      "text/plain": [
       "tensor(0.8258)"
      ]
     },
     "execution_count": 75,
     "metadata": {},
     "output_type": "execute_result"
    }
   ],
   "source": [
    "acc(coeffs)"
   ]
  },
  {
   "cell_type": "markdown",
   "id": "9ad6a0b4",
   "metadata": {
    "papermill": {
     "duration": 0.134322,
     "end_time": "2022-11-22T13:30:49.268930",
     "exception": false,
     "start_time": "2022-11-22T13:30:49.134608",
     "status": "completed"
    },
    "tags": []
   },
   "source": [
    "## Final thoughts"
   ]
  },
  {
   "cell_type": "markdown",
   "id": "9936f676",
   "metadata": {
    "papermill": {
     "duration": 0.139107,
     "end_time": "2022-11-22T13:30:49.543416",
     "exception": false,
     "start_time": "2022-11-22T13:30:49.404309",
     "status": "completed"
    },
    "tags": []
   },
   "source": [
    "It's actually pretty cool that we've managed to create a real deep learning model from scratch and trained it to get over 80% accuracy on this task, all in the course of a single notebook!\n",
    "\n",
    "The \"real\" deep learning models that are used in research and industry look very similar to this, and in fact if you look inside the source code of any deep learning model you'll recognise the basic steps are the same.\n",
    "\n",
    "The biggest differences in practical models to what we have above are:\n",
    "\n",
    "- How initialisation and normalisation is done to ensure the model trains correctly every time\n",
    "- Regularization (to avoid over-fitting)\n",
    "- Modifying the neural net itself to take advantage of knowledge of the problem domain\n",
    "- Doing gradient descent steps on smaller batches, rather than the whole dataset.\n",
    "\n",
    "I'll be adding notebooks about all these later, and will add links here once they're ready.\n",
    "\n",
    "If you found this notebook useful, please remember to click the little up-arrow at the top to upvote it, since I like to know when people have found my work useful, and it helps others find it too. (BTW, be sure you're looking at my [original notebook here](https://www.kaggle.com/code/jhoward/linear-model-and-neural-net-from-scratch) when you do that, and are not on your own copy of it, otherwise your upvote won't get counted!) And if you have any questions or comments, please pop them below -- I read every comment I receive!"
   ]
  },
  {
   "cell_type": "code",
   "execution_count": null,
   "id": "16d9be8b",
   "metadata": {
    "papermill": {
     "duration": 0.135587,
     "end_time": "2022-11-22T13:30:49.815122",
     "exception": false,
     "start_time": "2022-11-22T13:30:49.679535",
     "status": "completed"
    },
    "tags": []
   },
   "outputs": [],
   "source": []
  }
 ],
 "metadata": {
  "kernelspec": {
   "display_name": "Python 3",
   "language": "python",
   "name": "python3"
  },
  "language_info": {
   "codemirror_mode": {
    "name": "ipython",
    "version": 3
   },
   "file_extension": ".py",
   "mimetype": "text/x-python",
   "name": "python",
   "nbconvert_exporter": "python",
   "pygments_lexer": "ipython3",
   "version": "3.7.12"
  },
  "papermill": {
   "default_parameters": {},
   "duration": 59.932763,
   "end_time": "2022-11-22T13:30:50.971619",
   "environment_variables": {},
   "exception": null,
   "input_path": "__notebook__.ipynb",
   "output_path": "__notebook__.ipynb",
   "parameters": {},
   "start_time": "2022-11-22T13:29:51.038856",
   "version": "2.3.4"
  }
 },
 "nbformat": 4,
 "nbformat_minor": 5
}
