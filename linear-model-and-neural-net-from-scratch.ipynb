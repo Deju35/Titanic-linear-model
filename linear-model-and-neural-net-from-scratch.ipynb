{
 "cells": [
  {
   "cell_type": "markdown",
   "id": "3c2740ad",
   "metadata": {
    "papermill": {
     "duration": 0.122068,
     "end_time": "2022-11-22T11:29:07.331616",
     "exception": false,
     "start_time": "2022-11-22T11:29:07.209548",
     "status": "completed"
    },
    "tags": []
   },
   "source": [
    "## Introduction"
   ]
  },
  {
   "cell_type": "markdown",
   "id": "e77c0be3",
   "metadata": {
    "papermill": {
     "duration": 0.116637,
     "end_time": "2022-11-22T11:29:07.568165",
     "exception": false,
     "start_time": "2022-11-22T11:29:07.451528",
     "status": "completed"
    },
    "tags": []
   },
   "source": [
    "In this notebook we're going to build and train a deep learning model \"from scratch\" -- by which I mean that we're not going to use any pre-built architecture, or optimizers, or data loading frameworks, etc.\n",
    "\n",
    " We'll be using Kaggle's [Titanic](https://www.kaggle.com/competitions/titanic/) competition in this notebook, because it's very small and simple, but also has displays many of the tricky real-life issues that we need to handle in most practical projects. (Note, however, that this competition is a small \"learner\" competition on Kaggle, so don't expect to actually see much benefits from using a neural net just yet; that will come once we try our some real competitions!)\n",
    "\n",
    "It's great to be able to run the same notebook on your own machine or Colab, as well as Kaggle. To allow for this, we use this code to download the data as needed when not on Kaggle (see [this notebook](https://www.kaggle.com/code/jhoward/getting-started-with-nlp-for-absolute-beginners/) for details about this technique):"
   ]
  },
  {
   "cell_type": "code",
   "execution_count": 1,
   "id": "c04e529d",
   "metadata": {
    "execution": {
     "iopub.execute_input": "2022-11-22T11:29:07.832000Z",
     "iopub.status.busy": "2022-11-22T11:29:07.831298Z",
     "iopub.status.idle": "2022-11-22T11:29:07.841715Z",
     "shell.execute_reply": "2022-11-22T11:29:07.841119Z"
    },
    "papermill": {
     "duration": 0.159493,
     "end_time": "2022-11-22T11:29:07.844027",
     "exception": false,
     "start_time": "2022-11-22T11:29:07.684534",
     "status": "completed"
    },
    "tags": []
   },
   "outputs": [],
   "source": [
    "import os\n",
    "from pathlib import Path\n",
    "    \n",
    "iskaggle = os.environ.get('KAGGLE_KERNEL_RUN_TYPE', '')\n",
    "if iskaggle: path = Path('../input/titanic')\n",
    "else:\n",
    "    path = Path('titanic')\n",
    "    if not path.exists():\n",
    "        import zipfile,kaggle\n",
    "        kaggle.api.competition_download_cli(str(path))\n",
    "        zipfile.ZipFile(f'{path}.zip').extractall(path)"
   ]
  },
  {
   "cell_type": "markdown",
   "id": "5d0230a3",
   "metadata": {
    "hidden": true,
    "papermill": {
     "duration": 0.112122,
     "end_time": "2022-11-22T11:29:08.070239",
     "exception": false,
     "start_time": "2022-11-22T11:29:07.958117",
     "status": "completed"
    },
    "tags": []
   },
   "source": [
    "Note that the data for Kaggle comps always lives in the `../input` folder. The easiest way to get the path is to click the \"K\" button in the top-right of the Kaggle notebook, click on the folder shown there, and click the copy button.\n",
    "\n",
    "We'll be using *numpy* and *pytorch* for array calculations in this notebook, and *pandas* for working with tabular data, so we'll import them and set them to display using a bit more space than they default to."
   ]
  },
  {
   "cell_type": "code",
   "execution_count": 2,
   "id": "c9f996e8",
   "metadata": {
    "execution": {
     "iopub.execute_input": "2022-11-22T11:29:08.304535Z",
     "iopub.status.busy": "2022-11-22T11:29:08.304121Z",
     "iopub.status.idle": "2022-11-22T11:29:09.560887Z",
     "shell.execute_reply": "2022-11-22T11:29:09.560008Z"
    },
    "papermill": {
     "duration": 1.375858,
     "end_time": "2022-11-22T11:29:09.563493",
     "exception": false,
     "start_time": "2022-11-22T11:29:08.187635",
     "status": "completed"
    },
    "tags": []
   },
   "outputs": [],
   "source": [
    "import torch, numpy as np, pandas as pd\n",
    "np.set_printoptions(linewidth=140)\n",
    "torch.set_printoptions(linewidth=140, sci_mode=False, edgeitems=7)\n",
    "pd.set_option('display.width', 140)"
   ]
  },
  {
   "cell_type": "markdown",
   "id": "65fd85ce",
   "metadata": {
    "heading_collapsed": true,
    "papermill": {
     "duration": 0.114176,
     "end_time": "2022-11-22T11:29:09.789889",
     "exception": false,
     "start_time": "2022-11-22T11:29:09.675713",
     "status": "completed"
    },
    "tags": []
   },
   "source": [
    "## Cleaning the data"
   ]
  },
  {
   "cell_type": "markdown",
   "id": "d294541f",
   "metadata": {
    "hidden": true,
    "papermill": {
     "duration": 0.113572,
     "end_time": "2022-11-22T11:29:10.016526",
     "exception": false,
     "start_time": "2022-11-22T11:29:09.902954",
     "status": "completed"
    },
    "tags": []
   },
   "source": [
    "This is a *tabular data* competition -- the data is in the form of a table. It's provided as a Comma Separated Values (CSV) file. We can open it using the *pandas* library, which will create a `DataFrame`."
   ]
  },
  {
   "cell_type": "code",
   "execution_count": 3,
   "id": "a729b5b5",
   "metadata": {
    "execution": {
     "iopub.execute_input": "2022-11-22T11:29:10.242445Z",
     "iopub.status.busy": "2022-11-22T11:29:10.241673Z",
     "iopub.status.idle": "2022-11-22T11:29:10.291495Z",
     "shell.execute_reply": "2022-11-22T11:29:10.290612Z"
    },
    "hidden": true,
    "papermill": {
     "duration": 0.166672,
     "end_time": "2022-11-22T11:29:10.294785",
     "exception": false,
     "start_time": "2022-11-22T11:29:10.128113",
     "status": "completed"
    },
    "scrolled": true,
    "tags": []
   },
   "outputs": [
    {
     "data": {
      "text/html": [
       "<div>\n",
       "<style scoped>\n",
       "    .dataframe tbody tr th:only-of-type {\n",
       "        vertical-align: middle;\n",
       "    }\n",
       "\n",
       "    .dataframe tbody tr th {\n",
       "        vertical-align: top;\n",
       "    }\n",
       "\n",
       "    .dataframe thead th {\n",
       "        text-align: right;\n",
       "    }\n",
       "</style>\n",
       "<table border=\"1\" class=\"dataframe\">\n",
       "  <thead>\n",
       "    <tr style=\"text-align: right;\">\n",
       "      <th></th>\n",
       "      <th>PassengerId</th>\n",
       "      <th>Survived</th>\n",
       "      <th>Pclass</th>\n",
       "      <th>Name</th>\n",
       "      <th>Sex</th>\n",
       "      <th>Age</th>\n",
       "      <th>SibSp</th>\n",
       "      <th>Parch</th>\n",
       "      <th>Ticket</th>\n",
       "      <th>Fare</th>\n",
       "      <th>Cabin</th>\n",
       "      <th>Embarked</th>\n",
       "    </tr>\n",
       "  </thead>\n",
       "  <tbody>\n",
       "    <tr>\n",
       "      <th>0</th>\n",
       "      <td>1</td>\n",
       "      <td>0</td>\n",
       "      <td>3</td>\n",
       "      <td>Braund, Mr. Owen Harris</td>\n",
       "      <td>male</td>\n",
       "      <td>22.0</td>\n",
       "      <td>1</td>\n",
       "      <td>0</td>\n",
       "      <td>A/5 21171</td>\n",
       "      <td>7.2500</td>\n",
       "      <td>NaN</td>\n",
       "      <td>S</td>\n",
       "    </tr>\n",
       "    <tr>\n",
       "      <th>1</th>\n",
       "      <td>2</td>\n",
       "      <td>1</td>\n",
       "      <td>1</td>\n",
       "      <td>Cumings, Mrs. John Bradley (Florence Briggs Th...</td>\n",
       "      <td>female</td>\n",
       "      <td>38.0</td>\n",
       "      <td>1</td>\n",
       "      <td>0</td>\n",
       "      <td>PC 17599</td>\n",
       "      <td>71.2833</td>\n",
       "      <td>C85</td>\n",
       "      <td>C</td>\n",
       "    </tr>\n",
       "    <tr>\n",
       "      <th>2</th>\n",
       "      <td>3</td>\n",
       "      <td>1</td>\n",
       "      <td>3</td>\n",
       "      <td>Heikkinen, Miss. Laina</td>\n",
       "      <td>female</td>\n",
       "      <td>26.0</td>\n",
       "      <td>0</td>\n",
       "      <td>0</td>\n",
       "      <td>STON/O2. 3101282</td>\n",
       "      <td>7.9250</td>\n",
       "      <td>NaN</td>\n",
       "      <td>S</td>\n",
       "    </tr>\n",
       "    <tr>\n",
       "      <th>3</th>\n",
       "      <td>4</td>\n",
       "      <td>1</td>\n",
       "      <td>1</td>\n",
       "      <td>Futrelle, Mrs. Jacques Heath (Lily May Peel)</td>\n",
       "      <td>female</td>\n",
       "      <td>35.0</td>\n",
       "      <td>1</td>\n",
       "      <td>0</td>\n",
       "      <td>113803</td>\n",
       "      <td>53.1000</td>\n",
       "      <td>C123</td>\n",
       "      <td>S</td>\n",
       "    </tr>\n",
       "    <tr>\n",
       "      <th>4</th>\n",
       "      <td>5</td>\n",
       "      <td>0</td>\n",
       "      <td>3</td>\n",
       "      <td>Allen, Mr. William Henry</td>\n",
       "      <td>male</td>\n",
       "      <td>35.0</td>\n",
       "      <td>0</td>\n",
       "      <td>0</td>\n",
       "      <td>373450</td>\n",
       "      <td>8.0500</td>\n",
       "      <td>NaN</td>\n",
       "      <td>S</td>\n",
       "    </tr>\n",
       "    <tr>\n",
       "      <th>...</th>\n",
       "      <td>...</td>\n",
       "      <td>...</td>\n",
       "      <td>...</td>\n",
       "      <td>...</td>\n",
       "      <td>...</td>\n",
       "      <td>...</td>\n",
       "      <td>...</td>\n",
       "      <td>...</td>\n",
       "      <td>...</td>\n",
       "      <td>...</td>\n",
       "      <td>...</td>\n",
       "      <td>...</td>\n",
       "    </tr>\n",
       "    <tr>\n",
       "      <th>886</th>\n",
       "      <td>887</td>\n",
       "      <td>0</td>\n",
       "      <td>2</td>\n",
       "      <td>Montvila, Rev. Juozas</td>\n",
       "      <td>male</td>\n",
       "      <td>27.0</td>\n",
       "      <td>0</td>\n",
       "      <td>0</td>\n",
       "      <td>211536</td>\n",
       "      <td>13.0000</td>\n",
       "      <td>NaN</td>\n",
       "      <td>S</td>\n",
       "    </tr>\n",
       "    <tr>\n",
       "      <th>887</th>\n",
       "      <td>888</td>\n",
       "      <td>1</td>\n",
       "      <td>1</td>\n",
       "      <td>Graham, Miss. Margaret Edith</td>\n",
       "      <td>female</td>\n",
       "      <td>19.0</td>\n",
       "      <td>0</td>\n",
       "      <td>0</td>\n",
       "      <td>112053</td>\n",
       "      <td>30.0000</td>\n",
       "      <td>B42</td>\n",
       "      <td>S</td>\n",
       "    </tr>\n",
       "    <tr>\n",
       "      <th>888</th>\n",
       "      <td>889</td>\n",
       "      <td>0</td>\n",
       "      <td>3</td>\n",
       "      <td>Johnston, Miss. Catherine Helen \"Carrie\"</td>\n",
       "      <td>female</td>\n",
       "      <td>NaN</td>\n",
       "      <td>1</td>\n",
       "      <td>2</td>\n",
       "      <td>W./C. 6607</td>\n",
       "      <td>23.4500</td>\n",
       "      <td>NaN</td>\n",
       "      <td>S</td>\n",
       "    </tr>\n",
       "    <tr>\n",
       "      <th>889</th>\n",
       "      <td>890</td>\n",
       "      <td>1</td>\n",
       "      <td>1</td>\n",
       "      <td>Behr, Mr. Karl Howell</td>\n",
       "      <td>male</td>\n",
       "      <td>26.0</td>\n",
       "      <td>0</td>\n",
       "      <td>0</td>\n",
       "      <td>111369</td>\n",
       "      <td>30.0000</td>\n",
       "      <td>C148</td>\n",
       "      <td>C</td>\n",
       "    </tr>\n",
       "    <tr>\n",
       "      <th>890</th>\n",
       "      <td>891</td>\n",
       "      <td>0</td>\n",
       "      <td>3</td>\n",
       "      <td>Dooley, Mr. Patrick</td>\n",
       "      <td>male</td>\n",
       "      <td>32.0</td>\n",
       "      <td>0</td>\n",
       "      <td>0</td>\n",
       "      <td>370376</td>\n",
       "      <td>7.7500</td>\n",
       "      <td>NaN</td>\n",
       "      <td>Q</td>\n",
       "    </tr>\n",
       "  </tbody>\n",
       "</table>\n",
       "<p>891 rows × 12 columns</p>\n",
       "</div>"
      ],
      "text/plain": [
       "     PassengerId  Survived  Pclass                                               Name     Sex   Age  SibSp  Parch            Ticket  \\\n",
       "0              1         0       3                            Braund, Mr. Owen Harris    male  22.0      1      0         A/5 21171   \n",
       "1              2         1       1  Cumings, Mrs. John Bradley (Florence Briggs Th...  female  38.0      1      0          PC 17599   \n",
       "2              3         1       3                             Heikkinen, Miss. Laina  female  26.0      0      0  STON/O2. 3101282   \n",
       "3              4         1       1       Futrelle, Mrs. Jacques Heath (Lily May Peel)  female  35.0      1      0            113803   \n",
       "4              5         0       3                           Allen, Mr. William Henry    male  35.0      0      0            373450   \n",
       "..           ...       ...     ...                                                ...     ...   ...    ...    ...               ...   \n",
       "886          887         0       2                              Montvila, Rev. Juozas    male  27.0      0      0            211536   \n",
       "887          888         1       1                       Graham, Miss. Margaret Edith  female  19.0      0      0            112053   \n",
       "888          889         0       3           Johnston, Miss. Catherine Helen \"Carrie\"  female   NaN      1      2        W./C. 6607   \n",
       "889          890         1       1                              Behr, Mr. Karl Howell    male  26.0      0      0            111369   \n",
       "890          891         0       3                                Dooley, Mr. Patrick    male  32.0      0      0            370376   \n",
       "\n",
       "        Fare Cabin Embarked  \n",
       "0     7.2500   NaN        S  \n",
       "1    71.2833   C85        C  \n",
       "2     7.9250   NaN        S  \n",
       "3    53.1000  C123        S  \n",
       "4     8.0500   NaN        S  \n",
       "..       ...   ...      ...  \n",
       "886  13.0000   NaN        S  \n",
       "887  30.0000   B42        S  \n",
       "888  23.4500   NaN        S  \n",
       "889  30.0000  C148        C  \n",
       "890   7.7500   NaN        Q  \n",
       "\n",
       "[891 rows x 12 columns]"
      ]
     },
     "execution_count": 3,
     "metadata": {},
     "output_type": "execute_result"
    }
   ],
   "source": [
    "df = pd.read_csv(path/'train.csv')\n",
    "df"
   ]
  },
  {
   "cell_type": "markdown",
   "id": "47ee2318",
   "metadata": {
    "hidden": true,
    "papermill": {
     "duration": 0.112314,
     "end_time": "2022-11-22T11:29:10.520792",
     "exception": false,
     "start_time": "2022-11-22T11:29:10.408478",
     "status": "completed"
    },
    "tags": []
   },
   "source": [
    "As we learned in the *How does a neural net really work* notebook, we going to want to multiply each column by some coefficients. But we can see in the `Cabin` column that there are `NaN` values, which is how Pandas refers to missing values. We can't multiply something by a missing value!\n",
    "\n",
    "Let's check which columns contain `NaN` values. Pandas' `isna()` function returns `True` (which is treated as `1` when used as a number) for `NaN` values, so we can just add them up for each column:"
   ]
  },
  {
   "cell_type": "code",
   "execution_count": 4,
   "id": "b69e812d",
   "metadata": {
    "execution": {
     "iopub.execute_input": "2022-11-22T11:29:10.748195Z",
     "iopub.status.busy": "2022-11-22T11:29:10.747871Z",
     "iopub.status.idle": "2022-11-22T11:29:10.756966Z",
     "shell.execute_reply": "2022-11-22T11:29:10.755999Z"
    },
    "hidden": true,
    "papermill": {
     "duration": 0.125755,
     "end_time": "2022-11-22T11:29:10.759253",
     "exception": false,
     "start_time": "2022-11-22T11:29:10.633498",
     "status": "completed"
    },
    "tags": []
   },
   "outputs": [
    {
     "data": {
      "text/plain": [
       "PassengerId      0\n",
       "Survived         0\n",
       "Pclass           0\n",
       "Name             0\n",
       "Sex              0\n",
       "Age            177\n",
       "SibSp            0\n",
       "Parch            0\n",
       "Ticket           0\n",
       "Fare             0\n",
       "Cabin          687\n",
       "Embarked         2\n",
       "dtype: int64"
      ]
     },
     "execution_count": 4,
     "metadata": {},
     "output_type": "execute_result"
    }
   ],
   "source": [
    "df.isna().sum()"
   ]
  },
  {
   "cell_type": "markdown",
   "id": "a75a090c",
   "metadata": {
    "hidden": true,
    "papermill": {
     "duration": 0.114414,
     "end_time": "2022-11-22T11:29:10.988011",
     "exception": false,
     "start_time": "2022-11-22T11:29:10.873597",
     "status": "completed"
    },
    "tags": []
   },
   "source": [
    "Notice that by default Pandas sums over columns.\n",
    "\n",
    "We'll need to replace the missing values with something. It doesn't generally matter too much what we choose. We'll use the most common value (the \"*mode*\"). We can use the `mode` function for that. One wrinkle is that it returns more than one row in the case of ties, so we just grab the first row with `iloc[0]`:"
   ]
  },
  {
   "cell_type": "code",
   "execution_count": 5,
   "id": "230b9a71",
   "metadata": {
    "execution": {
     "iopub.execute_input": "2022-11-22T11:29:11.218449Z",
     "iopub.status.busy": "2022-11-22T11:29:11.217632Z",
     "iopub.status.idle": "2022-11-22T11:29:11.236574Z",
     "shell.execute_reply": "2022-11-22T11:29:11.235997Z"
    },
    "hidden": true,
    "papermill": {
     "duration": 0.135873,
     "end_time": "2022-11-22T11:29:11.238423",
     "exception": false,
     "start_time": "2022-11-22T11:29:11.102550",
     "status": "completed"
    },
    "tags": []
   },
   "outputs": [
    {
     "data": {
      "text/plain": [
       "PassengerId                      1\n",
       "Survived                       0.0\n",
       "Pclass                         3.0\n",
       "Name           Abbing, Mr. Anthony\n",
       "Sex                           male\n",
       "Age                           24.0\n",
       "SibSp                          0.0\n",
       "Parch                          0.0\n",
       "Ticket                        1601\n",
       "Fare                          8.05\n",
       "Cabin                      B96 B98\n",
       "Embarked                         S\n",
       "Name: 0, dtype: object"
      ]
     },
     "execution_count": 5,
     "metadata": {},
     "output_type": "execute_result"
    }
   ],
   "source": [
    "modes = df.mode().iloc[0]\n",
    "modes\n"
   ]
  },
  {
   "cell_type": "markdown",
   "id": "826d4cae",
   "metadata": {
    "hidden": true,
    "papermill": {
     "duration": 0.118264,
     "end_time": "2022-11-22T11:29:11.472268",
     "exception": false,
     "start_time": "2022-11-22T11:29:11.354004",
     "status": "completed"
    },
    "tags": []
   },
   "source": [
    "BTW, it's never a good idea to use functions without understanding them. So be sure to google for anything you're not familiar with. E.g if you want to learn about `iloc` (which is a very important function indeed!) then Google will give you a link to a [great tutorial](https://www.shanelynn.ie/pandas-iloc-loc-select-rows-and-columns-dataframe/).\n",
    "\n",
    "Now that we've got the mode of each column, we can use `fillna` to replace the missing values with the mode of each column. We'll do it \"in place\" -- meaning that we'll change the dataframe itself, rather than returning a new one."
   ]
  },
  {
   "cell_type": "code",
   "execution_count": 6,
   "id": "49c1d312",
   "metadata": {
    "execution": {
     "iopub.execute_input": "2022-11-22T11:29:11.702114Z",
     "iopub.status.busy": "2022-11-22T11:29:11.701764Z",
     "iopub.status.idle": "2022-11-22T11:29:11.712263Z",
     "shell.execute_reply": "2022-11-22T11:29:11.711510Z"
    },
    "hidden": true,
    "papermill": {
     "duration": 0.127643,
     "end_time": "2022-11-22T11:29:11.714392",
     "exception": false,
     "start_time": "2022-11-22T11:29:11.586749",
     "status": "completed"
    },
    "tags": []
   },
   "outputs": [],
   "source": [
    "df.fillna(modes, inplace=True)"
   ]
  },
  {
   "cell_type": "markdown",
   "id": "f809baa3",
   "metadata": {
    "hidden": true,
    "papermill": {
     "duration": 0.113806,
     "end_time": "2022-11-22T11:29:11.941875",
     "exception": false,
     "start_time": "2022-11-22T11:29:11.828069",
     "status": "completed"
    },
    "tags": []
   },
   "source": [
    "We can now check there's no missing values left:"
   ]
  },
  {
   "cell_type": "code",
   "execution_count": 7,
   "id": "1c21c88d",
   "metadata": {
    "execution": {
     "iopub.execute_input": "2022-11-22T11:29:12.171013Z",
     "iopub.status.busy": "2022-11-22T11:29:12.170655Z",
     "iopub.status.idle": "2022-11-22T11:29:12.179928Z",
     "shell.execute_reply": "2022-11-22T11:29:12.179117Z"
    },
    "hidden": true,
    "papermill": {
     "duration": 0.125832,
     "end_time": "2022-11-22T11:29:12.182005",
     "exception": false,
     "start_time": "2022-11-22T11:29:12.056173",
     "status": "completed"
    },
    "tags": []
   },
   "outputs": [
    {
     "data": {
      "text/plain": [
       "PassengerId    0\n",
       "Survived       0\n",
       "Pclass         0\n",
       "Name           0\n",
       "Sex            0\n",
       "Age            0\n",
       "SibSp          0\n",
       "Parch          0\n",
       "Ticket         0\n",
       "Fare           0\n",
       "Cabin          0\n",
       "Embarked       0\n",
       "dtype: int64"
      ]
     },
     "execution_count": 7,
     "metadata": {},
     "output_type": "execute_result"
    }
   ],
   "source": [
    "df.isna().sum()"
   ]
  },
  {
   "cell_type": "markdown",
   "id": "4fb1ae1e",
   "metadata": {
    "papermill": {
     "duration": 0.112897,
     "end_time": "2022-11-22T11:29:12.409144",
     "exception": false,
     "start_time": "2022-11-22T11:29:12.296247",
     "status": "completed"
    },
    "tags": []
   },
   "source": [
    "Lets see the table agian to make sure the nan values are replaced"
   ]
  },
  {
   "cell_type": "code",
   "execution_count": 8,
   "id": "1d66a7fb",
   "metadata": {
    "execution": {
     "iopub.execute_input": "2022-11-22T11:29:12.638012Z",
     "iopub.status.busy": "2022-11-22T11:29:12.637090Z",
     "iopub.status.idle": "2022-11-22T11:29:12.657916Z",
     "shell.execute_reply": "2022-11-22T11:29:12.657321Z"
    },
    "papermill": {
     "duration": 0.137346,
     "end_time": "2022-11-22T11:29:12.659886",
     "exception": false,
     "start_time": "2022-11-22T11:29:12.522540",
     "status": "completed"
    },
    "tags": []
   },
   "outputs": [
    {
     "data": {
      "text/html": [
       "<div>\n",
       "<style scoped>\n",
       "    .dataframe tbody tr th:only-of-type {\n",
       "        vertical-align: middle;\n",
       "    }\n",
       "\n",
       "    .dataframe tbody tr th {\n",
       "        vertical-align: top;\n",
       "    }\n",
       "\n",
       "    .dataframe thead th {\n",
       "        text-align: right;\n",
       "    }\n",
       "</style>\n",
       "<table border=\"1\" class=\"dataframe\">\n",
       "  <thead>\n",
       "    <tr style=\"text-align: right;\">\n",
       "      <th></th>\n",
       "      <th>PassengerId</th>\n",
       "      <th>Survived</th>\n",
       "      <th>Pclass</th>\n",
       "      <th>Name</th>\n",
       "      <th>Sex</th>\n",
       "      <th>Age</th>\n",
       "      <th>SibSp</th>\n",
       "      <th>Parch</th>\n",
       "      <th>Ticket</th>\n",
       "      <th>Fare</th>\n",
       "      <th>Cabin</th>\n",
       "      <th>Embarked</th>\n",
       "    </tr>\n",
       "  </thead>\n",
       "  <tbody>\n",
       "    <tr>\n",
       "      <th>0</th>\n",
       "      <td>1</td>\n",
       "      <td>0</td>\n",
       "      <td>3</td>\n",
       "      <td>Braund, Mr. Owen Harris</td>\n",
       "      <td>male</td>\n",
       "      <td>22.0</td>\n",
       "      <td>1</td>\n",
       "      <td>0</td>\n",
       "      <td>A/5 21171</td>\n",
       "      <td>7.2500</td>\n",
       "      <td>B96 B98</td>\n",
       "      <td>S</td>\n",
       "    </tr>\n",
       "    <tr>\n",
       "      <th>1</th>\n",
       "      <td>2</td>\n",
       "      <td>1</td>\n",
       "      <td>1</td>\n",
       "      <td>Cumings, Mrs. John Bradley (Florence Briggs Th...</td>\n",
       "      <td>female</td>\n",
       "      <td>38.0</td>\n",
       "      <td>1</td>\n",
       "      <td>0</td>\n",
       "      <td>PC 17599</td>\n",
       "      <td>71.2833</td>\n",
       "      <td>C85</td>\n",
       "      <td>C</td>\n",
       "    </tr>\n",
       "    <tr>\n",
       "      <th>2</th>\n",
       "      <td>3</td>\n",
       "      <td>1</td>\n",
       "      <td>3</td>\n",
       "      <td>Heikkinen, Miss. Laina</td>\n",
       "      <td>female</td>\n",
       "      <td>26.0</td>\n",
       "      <td>0</td>\n",
       "      <td>0</td>\n",
       "      <td>STON/O2. 3101282</td>\n",
       "      <td>7.9250</td>\n",
       "      <td>B96 B98</td>\n",
       "      <td>S</td>\n",
       "    </tr>\n",
       "    <tr>\n",
       "      <th>3</th>\n",
       "      <td>4</td>\n",
       "      <td>1</td>\n",
       "      <td>1</td>\n",
       "      <td>Futrelle, Mrs. Jacques Heath (Lily May Peel)</td>\n",
       "      <td>female</td>\n",
       "      <td>35.0</td>\n",
       "      <td>1</td>\n",
       "      <td>0</td>\n",
       "      <td>113803</td>\n",
       "      <td>53.1000</td>\n",
       "      <td>C123</td>\n",
       "      <td>S</td>\n",
       "    </tr>\n",
       "    <tr>\n",
       "      <th>4</th>\n",
       "      <td>5</td>\n",
       "      <td>0</td>\n",
       "      <td>3</td>\n",
       "      <td>Allen, Mr. William Henry</td>\n",
       "      <td>male</td>\n",
       "      <td>35.0</td>\n",
       "      <td>0</td>\n",
       "      <td>0</td>\n",
       "      <td>373450</td>\n",
       "      <td>8.0500</td>\n",
       "      <td>B96 B98</td>\n",
       "      <td>S</td>\n",
       "    </tr>\n",
       "    <tr>\n",
       "      <th>...</th>\n",
       "      <td>...</td>\n",
       "      <td>...</td>\n",
       "      <td>...</td>\n",
       "      <td>...</td>\n",
       "      <td>...</td>\n",
       "      <td>...</td>\n",
       "      <td>...</td>\n",
       "      <td>...</td>\n",
       "      <td>...</td>\n",
       "      <td>...</td>\n",
       "      <td>...</td>\n",
       "      <td>...</td>\n",
       "    </tr>\n",
       "    <tr>\n",
       "      <th>886</th>\n",
       "      <td>887</td>\n",
       "      <td>0</td>\n",
       "      <td>2</td>\n",
       "      <td>Montvila, Rev. Juozas</td>\n",
       "      <td>male</td>\n",
       "      <td>27.0</td>\n",
       "      <td>0</td>\n",
       "      <td>0</td>\n",
       "      <td>211536</td>\n",
       "      <td>13.0000</td>\n",
       "      <td>B96 B98</td>\n",
       "      <td>S</td>\n",
       "    </tr>\n",
       "    <tr>\n",
       "      <th>887</th>\n",
       "      <td>888</td>\n",
       "      <td>1</td>\n",
       "      <td>1</td>\n",
       "      <td>Graham, Miss. Margaret Edith</td>\n",
       "      <td>female</td>\n",
       "      <td>19.0</td>\n",
       "      <td>0</td>\n",
       "      <td>0</td>\n",
       "      <td>112053</td>\n",
       "      <td>30.0000</td>\n",
       "      <td>B42</td>\n",
       "      <td>S</td>\n",
       "    </tr>\n",
       "    <tr>\n",
       "      <th>888</th>\n",
       "      <td>889</td>\n",
       "      <td>0</td>\n",
       "      <td>3</td>\n",
       "      <td>Johnston, Miss. Catherine Helen \"Carrie\"</td>\n",
       "      <td>female</td>\n",
       "      <td>24.0</td>\n",
       "      <td>1</td>\n",
       "      <td>2</td>\n",
       "      <td>W./C. 6607</td>\n",
       "      <td>23.4500</td>\n",
       "      <td>B96 B98</td>\n",
       "      <td>S</td>\n",
       "    </tr>\n",
       "    <tr>\n",
       "      <th>889</th>\n",
       "      <td>890</td>\n",
       "      <td>1</td>\n",
       "      <td>1</td>\n",
       "      <td>Behr, Mr. Karl Howell</td>\n",
       "      <td>male</td>\n",
       "      <td>26.0</td>\n",
       "      <td>0</td>\n",
       "      <td>0</td>\n",
       "      <td>111369</td>\n",
       "      <td>30.0000</td>\n",
       "      <td>C148</td>\n",
       "      <td>C</td>\n",
       "    </tr>\n",
       "    <tr>\n",
       "      <th>890</th>\n",
       "      <td>891</td>\n",
       "      <td>0</td>\n",
       "      <td>3</td>\n",
       "      <td>Dooley, Mr. Patrick</td>\n",
       "      <td>male</td>\n",
       "      <td>32.0</td>\n",
       "      <td>0</td>\n",
       "      <td>0</td>\n",
       "      <td>370376</td>\n",
       "      <td>7.7500</td>\n",
       "      <td>B96 B98</td>\n",
       "      <td>Q</td>\n",
       "    </tr>\n",
       "  </tbody>\n",
       "</table>\n",
       "<p>891 rows × 12 columns</p>\n",
       "</div>"
      ],
      "text/plain": [
       "     PassengerId  Survived  Pclass                                               Name     Sex   Age  SibSp  Parch            Ticket  \\\n",
       "0              1         0       3                            Braund, Mr. Owen Harris    male  22.0      1      0         A/5 21171   \n",
       "1              2         1       1  Cumings, Mrs. John Bradley (Florence Briggs Th...  female  38.0      1      0          PC 17599   \n",
       "2              3         1       3                             Heikkinen, Miss. Laina  female  26.0      0      0  STON/O2. 3101282   \n",
       "3              4         1       1       Futrelle, Mrs. Jacques Heath (Lily May Peel)  female  35.0      1      0            113803   \n",
       "4              5         0       3                           Allen, Mr. William Henry    male  35.0      0      0            373450   \n",
       "..           ...       ...     ...                                                ...     ...   ...    ...    ...               ...   \n",
       "886          887         0       2                              Montvila, Rev. Juozas    male  27.0      0      0            211536   \n",
       "887          888         1       1                       Graham, Miss. Margaret Edith  female  19.0      0      0            112053   \n",
       "888          889         0       3           Johnston, Miss. Catherine Helen \"Carrie\"  female  24.0      1      2        W./C. 6607   \n",
       "889          890         1       1                              Behr, Mr. Karl Howell    male  26.0      0      0            111369   \n",
       "890          891         0       3                                Dooley, Mr. Patrick    male  32.0      0      0            370376   \n",
       "\n",
       "        Fare    Cabin Embarked  \n",
       "0     7.2500  B96 B98        S  \n",
       "1    71.2833      C85        C  \n",
       "2     7.9250  B96 B98        S  \n",
       "3    53.1000     C123        S  \n",
       "4     8.0500  B96 B98        S  \n",
       "..       ...      ...      ...  \n",
       "886  13.0000  B96 B98        S  \n",
       "887  30.0000      B42        S  \n",
       "888  23.4500  B96 B98        S  \n",
       "889  30.0000     C148        C  \n",
       "890   7.7500  B96 B98        Q  \n",
       "\n",
       "[891 rows x 12 columns]"
      ]
     },
     "execution_count": 8,
     "metadata": {},
     "output_type": "execute_result"
    }
   ],
   "source": [
    "df\n"
   ]
  },
  {
   "cell_type": "markdown",
   "id": "6f4265ae",
   "metadata": {
    "hidden": true,
    "papermill": {
     "duration": 0.115239,
     "end_time": "2022-11-22T11:29:12.890826",
     "exception": false,
     "start_time": "2022-11-22T11:29:12.775587",
     "status": "completed"
    },
    "tags": []
   },
   "source": [
    "Here's how we get a quick summary of all the numeric columns in the dataset:"
   ]
  },
  {
   "cell_type": "code",
   "execution_count": 9,
   "id": "ba0bbebe",
   "metadata": {
    "execution": {
     "iopub.execute_input": "2022-11-22T11:29:13.123009Z",
     "iopub.status.busy": "2022-11-22T11:29:13.122569Z",
     "iopub.status.idle": "2022-11-22T11:29:13.155862Z",
     "shell.execute_reply": "2022-11-22T11:29:13.155200Z"
    },
    "hidden": true,
    "papermill": {
     "duration": 0.150561,
     "end_time": "2022-11-22T11:29:13.157759",
     "exception": false,
     "start_time": "2022-11-22T11:29:13.007198",
     "status": "completed"
    },
    "tags": []
   },
   "outputs": [
    {
     "data": {
      "text/html": [
       "<div>\n",
       "<style scoped>\n",
       "    .dataframe tbody tr th:only-of-type {\n",
       "        vertical-align: middle;\n",
       "    }\n",
       "\n",
       "    .dataframe tbody tr th {\n",
       "        vertical-align: top;\n",
       "    }\n",
       "\n",
       "    .dataframe thead th {\n",
       "        text-align: right;\n",
       "    }\n",
       "</style>\n",
       "<table border=\"1\" class=\"dataframe\">\n",
       "  <thead>\n",
       "    <tr style=\"text-align: right;\">\n",
       "      <th></th>\n",
       "      <th>PassengerId</th>\n",
       "      <th>Survived</th>\n",
       "      <th>Pclass</th>\n",
       "      <th>Age</th>\n",
       "      <th>SibSp</th>\n",
       "      <th>Parch</th>\n",
       "      <th>Fare</th>\n",
       "    </tr>\n",
       "  </thead>\n",
       "  <tbody>\n",
       "    <tr>\n",
       "      <th>count</th>\n",
       "      <td>891.000000</td>\n",
       "      <td>891.000000</td>\n",
       "      <td>891.000000</td>\n",
       "      <td>891.000000</td>\n",
       "      <td>891.000000</td>\n",
       "      <td>891.000000</td>\n",
       "      <td>891.000000</td>\n",
       "    </tr>\n",
       "    <tr>\n",
       "      <th>mean</th>\n",
       "      <td>446.000000</td>\n",
       "      <td>0.383838</td>\n",
       "      <td>2.308642</td>\n",
       "      <td>28.566970</td>\n",
       "      <td>0.523008</td>\n",
       "      <td>0.381594</td>\n",
       "      <td>32.204208</td>\n",
       "    </tr>\n",
       "    <tr>\n",
       "      <th>std</th>\n",
       "      <td>257.353842</td>\n",
       "      <td>0.486592</td>\n",
       "      <td>0.836071</td>\n",
       "      <td>13.199572</td>\n",
       "      <td>1.102743</td>\n",
       "      <td>0.806057</td>\n",
       "      <td>49.693429</td>\n",
       "    </tr>\n",
       "    <tr>\n",
       "      <th>min</th>\n",
       "      <td>1.000000</td>\n",
       "      <td>0.000000</td>\n",
       "      <td>1.000000</td>\n",
       "      <td>0.420000</td>\n",
       "      <td>0.000000</td>\n",
       "      <td>0.000000</td>\n",
       "      <td>0.000000</td>\n",
       "    </tr>\n",
       "    <tr>\n",
       "      <th>25%</th>\n",
       "      <td>223.500000</td>\n",
       "      <td>0.000000</td>\n",
       "      <td>2.000000</td>\n",
       "      <td>22.000000</td>\n",
       "      <td>0.000000</td>\n",
       "      <td>0.000000</td>\n",
       "      <td>7.910400</td>\n",
       "    </tr>\n",
       "    <tr>\n",
       "      <th>50%</th>\n",
       "      <td>446.000000</td>\n",
       "      <td>0.000000</td>\n",
       "      <td>3.000000</td>\n",
       "      <td>24.000000</td>\n",
       "      <td>0.000000</td>\n",
       "      <td>0.000000</td>\n",
       "      <td>14.454200</td>\n",
       "    </tr>\n",
       "    <tr>\n",
       "      <th>75%</th>\n",
       "      <td>668.500000</td>\n",
       "      <td>1.000000</td>\n",
       "      <td>3.000000</td>\n",
       "      <td>35.000000</td>\n",
       "      <td>1.000000</td>\n",
       "      <td>0.000000</td>\n",
       "      <td>31.000000</td>\n",
       "    </tr>\n",
       "    <tr>\n",
       "      <th>max</th>\n",
       "      <td>891.000000</td>\n",
       "      <td>1.000000</td>\n",
       "      <td>3.000000</td>\n",
       "      <td>80.000000</td>\n",
       "      <td>8.000000</td>\n",
       "      <td>6.000000</td>\n",
       "      <td>512.329200</td>\n",
       "    </tr>\n",
       "  </tbody>\n",
       "</table>\n",
       "</div>"
      ],
      "text/plain": [
       "       PassengerId    Survived      Pclass         Age       SibSp       Parch        Fare\n",
       "count   891.000000  891.000000  891.000000  891.000000  891.000000  891.000000  891.000000\n",
       "mean    446.000000    0.383838    2.308642   28.566970    0.523008    0.381594   32.204208\n",
       "std     257.353842    0.486592    0.836071   13.199572    1.102743    0.806057   49.693429\n",
       "min       1.000000    0.000000    1.000000    0.420000    0.000000    0.000000    0.000000\n",
       "25%     223.500000    0.000000    2.000000   22.000000    0.000000    0.000000    7.910400\n",
       "50%     446.000000    0.000000    3.000000   24.000000    0.000000    0.000000   14.454200\n",
       "75%     668.500000    1.000000    3.000000   35.000000    1.000000    0.000000   31.000000\n",
       "max     891.000000    1.000000    3.000000   80.000000    8.000000    6.000000  512.329200"
      ]
     },
     "execution_count": 9,
     "metadata": {},
     "output_type": "execute_result"
    }
   ],
   "source": [
    "import numpy as np\n",
    "\n",
    "df.describe(include=(np.number))"
   ]
  },
  {
   "cell_type": "markdown",
   "id": "bdf6d083",
   "metadata": {
    "execution": {
     "iopub.execute_input": "2022-05-13T11:02:34.328433Z",
     "iopub.status.busy": "2022-05-13T11:02:34.327999Z",
     "iopub.status.idle": "2022-05-13T11:02:34.336993Z",
     "shell.execute_reply": "2022-05-13T11:02:34.335466Z",
     "shell.execute_reply.started": "2022-05-13T11:02:34.32838Z"
    },
    "hidden": true,
    "papermill": {
     "duration": 0.115375,
     "end_time": "2022-11-22T11:29:13.390918",
     "exception": false,
     "start_time": "2022-11-22T11:29:13.275543",
     "status": "completed"
    },
    "tags": []
   },
   "source": [
    "We can see that `Fare` contains mainly values of around `0` to `30`, but there's a few really big ones. This is very common with fields contain monetary values, and it can cause problems for our model, because once that column is multiplied by a coefficient later, the few rows with really big values will dominate the result.\n",
    "\n",
    "You can see the issue most clearly visually by looking at a histogram, which shows a long tail to the right (and don't forget: if you're not entirely sure what a histogram is, Google \"[histogram tutorial](https://www.google.com/search?q=histogram+tutorial&oq=histogram+tutorial)\" and do a bit of reading before continuing on):"
   ]
  },
  {
   "cell_type": "code",
   "execution_count": 10,
   "id": "da4c4bdf",
   "metadata": {
    "execution": {
     "iopub.execute_input": "2022-11-22T11:29:13.624482Z",
     "iopub.status.busy": "2022-11-22T11:29:13.623991Z",
     "iopub.status.idle": "2022-11-22T11:29:13.901073Z",
     "shell.execute_reply": "2022-11-22T11:29:13.900305Z"
    },
    "hidden": true,
    "papermill": {
     "duration": 0.395645,
     "end_time": "2022-11-22T11:29:13.903176",
     "exception": false,
     "start_time": "2022-11-22T11:29:13.507531",
     "status": "completed"
    },
    "tags": []
   },
   "outputs": [
    {
     "data": {
      "image/png": "[encoded data removed]",
      "text/plain": [
       "<Figure size 432x288 with 1 Axes>"
      ]
     },
     "metadata": {
      "needs_background": "light"
     },
     "output_type": "display_data"
    }
   ],
   "source": [
    "df['Fare'].hist();"
   ]
  },
  {
   "cell_type": "markdown",
   "id": "753b77b0",
   "metadata": {
    "execution": {
     "iopub.execute_input": "2022-05-13T11:02:34.328433Z",
     "iopub.status.busy": "2022-05-13T11:02:34.327999Z",
     "iopub.status.idle": "2022-05-13T11:02:34.336993Z",
     "shell.execute_reply": "2022-05-13T11:02:34.335466Z",
     "shell.execute_reply.started": "2022-05-13T11:02:34.32838Z"
    },
    "hidden": true,
    "papermill": {
     "duration": 0.116296,
     "end_time": "2022-11-22T11:29:14.139564",
     "exception": false,
     "start_time": "2022-11-22T11:29:14.023268",
     "status": "completed"
    },
    "tags": []
   },
   "source": [
    "To fix this, the most common approach is to take the logarithm, which squishes the big numbers and makes the distribution more reasonable. Note, however, that there are zeros in the `Fare` column, and `log(0)` is infinite -- to fix this, we'll simply add `1` to all values first:"
   ]
  },
  {
   "cell_type": "code",
   "execution_count": 11,
   "id": "43d05504",
   "metadata": {
    "execution": {
     "iopub.execute_input": "2022-11-22T11:29:14.378269Z",
     "iopub.status.busy": "2022-11-22T11:29:14.377917Z",
     "iopub.status.idle": "2022-11-22T11:29:14.383697Z",
     "shell.execute_reply": "2022-11-22T11:29:14.382899Z"
    },
    "hidden": true,
    "papermill": {
     "duration": 0.126188,
     "end_time": "2022-11-22T11:29:14.385606",
     "exception": false,
     "start_time": "2022-11-22T11:29:14.259418",
     "status": "completed"
    },
    "tags": []
   },
   "outputs": [],
   "source": [
    "df['LogFare'] = np.log(df['Fare']+1)"
   ]
  },
  {
   "cell_type": "markdown",
   "id": "2871c720",
   "metadata": {
    "hidden": true,
    "papermill": {
     "duration": 0.115065,
     "end_time": "2022-11-22T11:29:14.616161",
     "exception": false,
     "start_time": "2022-11-22T11:29:14.501096",
     "status": "completed"
    },
    "tags": []
   },
   "source": [
    "The histogram now shows a more even distribution of values without the long tail:"
   ]
  },
  {
   "cell_type": "code",
   "execution_count": 12,
   "id": "3435d4bf",
   "metadata": {
    "execution": {
     "iopub.execute_input": "2022-11-22T11:29:14.850161Z",
     "iopub.status.busy": "2022-11-22T11:29:14.849583Z",
     "iopub.status.idle": "2022-11-22T11:29:15.081529Z",
     "shell.execute_reply": "2022-11-22T11:29:15.080649Z"
    },
    "hidden": true,
    "papermill": {
     "duration": 0.351716,
     "end_time": "2022-11-22T11:29:15.083840",
     "exception": false,
     "start_time": "2022-11-22T11:29:14.732124",
     "status": "completed"
    },
    "tags": []
   },
   "outputs": [
    {
     "data": {
      "image/png": "[encoded data removed]",
      "text/plain": [
       "<Figure size 432x288 with 1 Axes>"
      ]
     },
     "metadata": {
      "needs_background": "light"
     },
     "output_type": "display_data"
    }
   ],
   "source": [
    "df['LogFare'].hist();"
   ]
  },
  {
   "cell_type": "markdown",
   "id": "952787cd",
   "metadata": {
    "hidden": true,
    "papermill": {
     "duration": 0.120586,
     "end_time": "2022-11-22T11:29:15.322187",
     "exception": false,
     "start_time": "2022-11-22T11:29:15.201601",
     "status": "completed"
    },
    "tags": []
   },
   "source": [
    "It looks from the `describe()` output like `Pclass` contains just 3 values, which we can confirm by looking at the [Data Dictionary](https://www.kaggle.com/competitions/titanic/data) (which you should always study carefully for any project!) -- "
   ]
  },
  {
   "cell_type": "code",
   "execution_count": 13,
   "id": "6e266220",
   "metadata": {
    "execution": {
     "iopub.execute_input": "2022-11-22T11:29:15.561161Z",
     "iopub.status.busy": "2022-11-22T11:29:15.560579Z",
     "iopub.status.idle": "2022-11-22T11:29:15.567771Z",
     "shell.execute_reply": "2022-11-22T11:29:15.567220Z"
    },
    "hidden": true,
    "papermill": {
     "duration": 0.128627,
     "end_time": "2022-11-22T11:29:15.570151",
     "exception": false,
     "start_time": "2022-11-22T11:29:15.441524",
     "status": "completed"
    },
    "tags": []
   },
   "outputs": [
    {
     "data": {
      "text/plain": [
       "[1, 2, 3]"
      ]
     },
     "execution_count": 13,
     "metadata": {},
     "output_type": "execute_result"
    }
   ],
   "source": [
    "pclasses = sorted(df.Pclass.unique())\n",
    "pclasses"
   ]
  },
  {
   "cell_type": "markdown",
   "id": "2fe27a81",
   "metadata": {
    "hidden": true,
    "papermill": {
     "duration": 0.121232,
     "end_time": "2022-11-22T11:29:15.808126",
     "exception": false,
     "start_time": "2022-11-22T11:29:15.686894",
     "status": "completed"
    },
    "tags": []
   },
   "source": [
    "Here's how we get a quick summary of all the non-numeric columns in the dataset:"
   ]
  },
  {
   "cell_type": "code",
   "execution_count": 14,
   "id": "d15ed581",
   "metadata": {
    "execution": {
     "iopub.execute_input": "2022-11-22T11:29:16.046035Z",
     "iopub.status.busy": "2022-11-22T11:29:16.045220Z",
     "iopub.status.idle": "2022-11-22T11:29:16.068325Z",
     "shell.execute_reply": "2022-11-22T11:29:16.066600Z"
    },
    "hidden": true,
    "papermill": {
     "duration": 0.145356,
     "end_time": "2022-11-22T11:29:16.070620",
     "exception": false,
     "start_time": "2022-11-22T11:29:15.925264",
     "status": "completed"
    },
    "tags": []
   },
   "outputs": [
    {
     "data": {
      "text/html": [
       "<div>\n",
       "<style scoped>\n",
       "    .dataframe tbody tr th:only-of-type {\n",
       "        vertical-align: middle;\n",
       "    }\n",
       "\n",
       "    .dataframe tbody tr th {\n",
       "        vertical-align: top;\n",
       "    }\n",
       "\n",
       "    .dataframe thead th {\n",
       "        text-align: right;\n",
       "    }\n",
       "</style>\n",
       "<table border=\"1\" class=\"dataframe\">\n",
       "  <thead>\n",
       "    <tr style=\"text-align: right;\">\n",
       "      <th></th>\n",
       "      <th>Name</th>\n",
       "      <th>Sex</th>\n",
       "      <th>Ticket</th>\n",
       "      <th>Cabin</th>\n",
       "      <th>Embarked</th>\n",
       "    </tr>\n",
       "  </thead>\n",
       "  <tbody>\n",
       "    <tr>\n",
       "      <th>count</th>\n",
       "      <td>891</td>\n",
       "      <td>891</td>\n",
       "      <td>891</td>\n",
       "      <td>891</td>\n",
       "      <td>891</td>\n",
       "    </tr>\n",
       "    <tr>\n",
       "      <th>unique</th>\n",
       "      <td>891</td>\n",
       "      <td>2</td>\n",
       "      <td>681</td>\n",
       "      <td>147</td>\n",
       "      <td>3</td>\n",
       "    </tr>\n",
       "    <tr>\n",
       "      <th>top</th>\n",
       "      <td>Braund, Mr. Owen Harris</td>\n",
       "      <td>male</td>\n",
       "      <td>347082</td>\n",
       "      <td>B96 B98</td>\n",
       "      <td>S</td>\n",
       "    </tr>\n",
       "    <tr>\n",
       "      <th>freq</th>\n",
       "      <td>1</td>\n",
       "      <td>577</td>\n",
       "      <td>7</td>\n",
       "      <td>691</td>\n",
       "      <td>646</td>\n",
       "    </tr>\n",
       "  </tbody>\n",
       "</table>\n",
       "</div>"
      ],
      "text/plain": [
       "                           Name   Sex  Ticket    Cabin Embarked\n",
       "count                       891   891     891      891      891\n",
       "unique                      891     2     681      147        3\n",
       "top     Braund, Mr. Owen Harris  male  347082  B96 B98        S\n",
       "freq                          1   577       7      691      646"
      ]
     },
     "execution_count": 14,
     "metadata": {},
     "output_type": "execute_result"
    }
   ],
   "source": [
    "df.describe(include=[object])"
   ]
  },
  {
   "cell_type": "markdown",
   "id": "47c7d106",
   "metadata": {
    "hidden": true,
    "papermill": {
     "duration": 0.119789,
     "end_time": "2022-11-22T11:29:16.309927",
     "exception": false,
     "start_time": "2022-11-22T11:29:16.190138",
     "status": "completed"
    },
    "tags": []
   },
   "source": [
    "Clearly we can't multiply strings like `male` or `S` by coefficients, so we need to replace those with numbers.\n",
    "\n",
    "We do that by creating new columns containing *dummy variables*. A dummy variable is a column that contains a `1` where a particular column contains a particular value, or a `0` otherwise. For instance, we could create a dummy variable for `Sex='male'`, which would be a new column containing `1` for rows where `Sex` is `'male'`, and 0 for rows where it isn't.\n",
    "\n",
    "Pandas can create these automatically using `get_dummies`, which also remove the original columns. We'll create dummy variables for `Pclass`, even although it's numeric, since the numbers `1`, `2`, and `3` correspond to first, second, and third class cabins - not to counts or measures that make sense to multiply by. We'll also create dummies for `Sex` and `Embarked` since we'll want to use those as predictors in our model. On the other hand, `Cabin`, `Name`, and `Ticket` have too many unique values for it to make sense creating dummy variables for them."
   ]
  },
  {
   "cell_type": "code",
   "execution_count": 15,
   "id": "02c1c689",
   "metadata": {
    "execution": {
     "iopub.execute_input": "2022-11-22T11:29:16.547865Z",
     "iopub.status.busy": "2022-11-22T11:29:16.547558Z",
     "iopub.status.idle": "2022-11-22T11:29:16.561307Z",
     "shell.execute_reply": "2022-11-22T11:29:16.560479Z"
    },
    "hidden": true,
    "papermill": {
     "duration": 0.135087,
     "end_time": "2022-11-22T11:29:16.563319",
     "exception": false,
     "start_time": "2022-11-22T11:29:16.428232",
     "status": "completed"
    },
    "tags": []
   },
   "outputs": [
    {
     "data": {
      "text/plain": [
       "Index(['PassengerId', 'Survived', 'Name', 'Age', 'SibSp', 'Parch', 'Ticket', 'Fare', 'Cabin', 'LogFare', 'Sex_female', 'Sex_male',\n",
       "       'Pclass_1', 'Pclass_2', 'Pclass_3', 'Embarked_C', 'Embarked_Q', 'Embarked_S'],\n",
       "      dtype='object')"
      ]
     },
     "execution_count": 15,
     "metadata": {},
     "output_type": "execute_result"
    }
   ],
   "source": [
    "df = pd.get_dummies(df, columns=[\"Sex\",\"Pclass\",\"Embarked\"])\n",
    "df.columns"
   ]
  },
  {
   "cell_type": "markdown",
   "id": "863d5ff8",
   "metadata": {
    "hidden": true,
    "papermill": {
     "duration": 0.11757,
     "end_time": "2022-11-22T11:29:16.799320",
     "exception": false,
     "start_time": "2022-11-22T11:29:16.681750",
     "status": "completed"
    },
    "tags": []
   },
   "source": [
    "We can see that 5 columns have been added to the end -- one for each of the possible values of each of the three columns we requested, and that those three requested columns have been removed.\n",
    "\n",
    "Here's what the first few rows of those newly added columns look like:"
   ]
  },
  {
   "cell_type": "code",
   "execution_count": 16,
   "id": "0c2aca15",
   "metadata": {
    "execution": {
     "iopub.execute_input": "2022-11-22T11:29:17.038908Z",
     "iopub.status.busy": "2022-11-22T11:29:17.038152Z",
     "iopub.status.idle": "2022-11-22T11:29:17.052298Z",
     "shell.execute_reply": "2022-11-22T11:29:17.051305Z"
    },
    "hidden": true,
    "papermill": {
     "duration": 0.137357,
     "end_time": "2022-11-22T11:29:17.054524",
     "exception": false,
     "start_time": "2022-11-22T11:29:16.917167",
     "status": "completed"
    },
    "tags": []
   },
   "outputs": [
    {
     "data": {
      "text/html": [
       "<div>\n",
       "<style scoped>\n",
       "    .dataframe tbody tr th:only-of-type {\n",
       "        vertical-align: middle;\n",
       "    }\n",
       "\n",
       "    .dataframe tbody tr th {\n",
       "        vertical-align: top;\n",
       "    }\n",
       "\n",
       "    .dataframe thead th {\n",
       "        text-align: right;\n",
       "    }\n",
       "</style>\n",
       "<table border=\"1\" class=\"dataframe\">\n",
       "  <thead>\n",
       "    <tr style=\"text-align: right;\">\n",
       "      <th></th>\n",
       "      <th>Sex_male</th>\n",
       "      <th>Sex_female</th>\n",
       "      <th>Pclass_1</th>\n",
       "      <th>Pclass_2</th>\n",
       "      <th>Pclass_3</th>\n",
       "      <th>Embarked_C</th>\n",
       "      <th>Embarked_Q</th>\n",
       "      <th>Embarked_S</th>\n",
       "    </tr>\n",
       "  </thead>\n",
       "  <tbody>\n",
       "    <tr>\n",
       "      <th>0</th>\n",
       "      <td>1</td>\n",
       "      <td>0</td>\n",
       "      <td>0</td>\n",
       "      <td>0</td>\n",
       "      <td>1</td>\n",
       "      <td>0</td>\n",
       "      <td>0</td>\n",
       "      <td>1</td>\n",
       "    </tr>\n",
       "    <tr>\n",
       "      <th>1</th>\n",
       "      <td>0</td>\n",
       "      <td>1</td>\n",
       "      <td>1</td>\n",
       "      <td>0</td>\n",
       "      <td>0</td>\n",
       "      <td>1</td>\n",
       "      <td>0</td>\n",
       "      <td>0</td>\n",
       "    </tr>\n",
       "    <tr>\n",
       "      <th>2</th>\n",
       "      <td>0</td>\n",
       "      <td>1</td>\n",
       "      <td>0</td>\n",
       "      <td>0</td>\n",
       "      <td>1</td>\n",
       "      <td>0</td>\n",
       "      <td>0</td>\n",
       "      <td>1</td>\n",
       "    </tr>\n",
       "    <tr>\n",
       "      <th>3</th>\n",
       "      <td>0</td>\n",
       "      <td>1</td>\n",
       "      <td>1</td>\n",
       "      <td>0</td>\n",
       "      <td>0</td>\n",
       "      <td>0</td>\n",
       "      <td>0</td>\n",
       "      <td>1</td>\n",
       "    </tr>\n",
       "    <tr>\n",
       "      <th>4</th>\n",
       "      <td>1</td>\n",
       "      <td>0</td>\n",
       "      <td>0</td>\n",
       "      <td>0</td>\n",
       "      <td>1</td>\n",
       "      <td>0</td>\n",
       "      <td>0</td>\n",
       "      <td>1</td>\n",
       "    </tr>\n",
       "  </tbody>\n",
       "</table>\n",
       "</div>"
      ],
      "text/plain": [
       "   Sex_male  Sex_female  Pclass_1  Pclass_2  Pclass_3  Embarked_C  Embarked_Q  Embarked_S\n",
       "0         1           0         0         0         1           0           0           1\n",
       "1         0           1         1         0         0           1           0           0\n",
       "2         0           1         0         0         1           0           0           1\n",
       "3         0           1         1         0         0           0           0           1\n",
       "4         1           0         0         0         1           0           0           1"
      ]
     },
     "execution_count": 16,
     "metadata": {},
     "output_type": "execute_result"
    }
   ],
   "source": [
    "added_cols = ['Sex_male', 'Sex_female', 'Pclass_1', 'Pclass_2', 'Pclass_3', 'Embarked_C', 'Embarked_Q', 'Embarked_S']\n",
    "df[added_cols].head()"
   ]
  },
  {
   "cell_type": "markdown",
   "id": "9dac06d2",
   "metadata": {
    "hidden": true,
    "papermill": {
     "duration": 0.117897,
     "end_time": "2022-11-22T11:29:17.292491",
     "exception": false,
     "start_time": "2022-11-22T11:29:17.174594",
     "status": "completed"
    },
    "tags": []
   },
   "source": [
    "Now we can create our independent (predictors) and dependent (target) variables. They both need to be PyTorch tensors. Our dependent variable is `Survived`:"
   ]
  },
  {
   "cell_type": "code",
   "execution_count": 17,
   "id": "385cc948",
   "metadata": {
    "execution": {
     "iopub.execute_input": "2022-11-22T11:29:17.533060Z",
     "iopub.status.busy": "2022-11-22T11:29:17.532447Z",
     "iopub.status.idle": "2022-11-22T11:29:17.547277Z",
     "shell.execute_reply": "2022-11-22T11:29:17.546620Z"
    },
    "hidden": true,
    "papermill": {
     "duration": 0.137273,
     "end_time": "2022-11-22T11:29:17.549483",
     "exception": false,
     "start_time": "2022-11-22T11:29:17.412210",
     "status": "completed"
    },
    "tags": []
   },
   "outputs": [],
   "source": [
    "from torch import tensor\n",
    "\n",
    "t_dep = tensor(df.Survived)"
   ]
  },
  {
   "cell_type": "markdown",
   "id": "3157d34c",
   "metadata": {
    "hidden": true,
    "papermill": {
     "duration": 0.120014,
     "end_time": "2022-11-22T11:29:17.790186",
     "exception": false,
     "start_time": "2022-11-22T11:29:17.670172",
     "status": "completed"
    },
    "tags": []
   },
   "source": [
    "Our independent variables are all the continuous variables of interest plus all the dummy variables we just created:"
   ]
  },
  {
   "cell_type": "code",
   "execution_count": 18,
   "id": "ac804618",
   "metadata": {
    "execution": {
     "iopub.execute_input": "2022-11-22T11:29:18.032474Z",
     "iopub.status.busy": "2022-11-22T11:29:18.031593Z",
     "iopub.status.idle": "2022-11-22T11:29:18.121569Z",
     "shell.execute_reply": "2022-11-22T11:29:18.120728Z"
    },
    "hidden": true,
    "papermill": {
     "duration": 0.214397,
     "end_time": "2022-11-22T11:29:18.123581",
     "exception": false,
     "start_time": "2022-11-22T11:29:17.909184",
     "status": "completed"
    },
    "tags": []
   },
   "outputs": [
    {
     "data": {
      "text/plain": [
       "tensor([[22.0000,  1.0000,  0.0000,  2.1102,  1.0000,  0.0000,  0.0000,  0.0000,  1.0000,  0.0000,  0.0000,  1.0000],\n",
       "        [38.0000,  1.0000,  0.0000,  4.2806,  0.0000,  1.0000,  1.0000,  0.0000,  0.0000,  1.0000,  0.0000,  0.0000],\n",
       "        [26.0000,  0.0000,  0.0000,  2.1889,  0.0000,  1.0000,  0.0000,  0.0000,  1.0000,  0.0000,  0.0000,  1.0000],\n",
       "        [35.0000,  1.0000,  0.0000,  3.9908,  0.0000,  1.0000,  1.0000,  0.0000,  0.0000,  0.0000,  0.0000,  1.0000],\n",
       "        [35.0000,  0.0000,  0.0000,  2.2028,  1.0000,  0.0000,  0.0000,  0.0000,  1.0000,  0.0000,  0.0000,  1.0000],\n",
       "        [24.0000,  0.0000,  0.0000,  2.2469,  1.0000,  0.0000,  0.0000,  0.0000,  1.0000,  0.0000,  1.0000,  0.0000],\n",
       "        [54.0000,  0.0000,  0.0000,  3.9677,  1.0000,  0.0000,  1.0000,  0.0000,  0.0000,  0.0000,  0.0000,  1.0000],\n",
       "        ...,\n",
       "        [25.0000,  0.0000,  0.0000,  2.0857,  1.0000,  0.0000,  0.0000,  0.0000,  1.0000,  0.0000,  0.0000,  1.0000],\n",
       "        [39.0000,  0.0000,  5.0000,  3.4054,  0.0000,  1.0000,  0.0000,  0.0000,  1.0000,  0.0000,  1.0000,  0.0000],\n",
       "        [27.0000,  0.0000,  0.0000,  2.6391,  1.0000,  0.0000,  0.0000,  1.0000,  0.0000,  0.0000,  0.0000,  1.0000],\n",
       "        [19.0000,  0.0000,  0.0000,  3.4340,  0.0000,  1.0000,  1.0000,  0.0000,  0.0000,  0.0000,  0.0000,  1.0000],\n",
       "        [24.0000,  1.0000,  2.0000,  3.1966,  0.0000,  1.0000,  0.0000,  0.0000,  1.0000,  0.0000,  0.0000,  1.0000],\n",
       "        [26.0000,  0.0000,  0.0000,  3.4340,  1.0000,  0.0000,  1.0000,  0.0000,  0.0000,  1.0000,  0.0000,  0.0000],\n",
       "        [32.0000,  0.0000,  0.0000,  2.1691,  1.0000,  0.0000,  0.0000,  0.0000,  1.0000,  0.0000,  1.0000,  0.0000]])"
      ]
     },
     "execution_count": 18,
     "metadata": {},
     "output_type": "execute_result"
    }
   ],
   "source": [
    "indep_cols = ['Age', 'SibSp', 'Parch', 'LogFare'] + added_cols\n",
    "\n",
    "t_indep = tensor(df[indep_cols].values, dtype=torch.float)\n",
    "t_indep"
   ]
  },
  {
   "cell_type": "markdown",
   "id": "ae244391",
   "metadata": {
    "hidden": true,
    "papermill": {
     "duration": 0.120706,
     "end_time": "2022-11-22T11:29:18.365767",
     "exception": false,
     "start_time": "2022-11-22T11:29:18.245061",
     "status": "completed"
    },
    "tags": []
   },
   "source": [
    "Here's the number of rows and columns we have for our independent variables:"
   ]
  },
  {
   "cell_type": "code",
   "execution_count": 19,
   "id": "c2b4a15e",
   "metadata": {
    "execution": {
     "iopub.execute_input": "2022-11-22T11:29:18.613559Z",
     "iopub.status.busy": "2022-11-22T11:29:18.613114Z",
     "iopub.status.idle": "2022-11-22T11:29:18.618121Z",
     "shell.execute_reply": "2022-11-22T11:29:18.617505Z"
    },
    "hidden": true,
    "papermill": {
     "duration": 0.133566,
     "end_time": "2022-11-22T11:29:18.620052",
     "exception": false,
     "start_time": "2022-11-22T11:29:18.486486",
     "status": "completed"
    },
    "tags": []
   },
   "outputs": [
    {
     "data": {
      "text/plain": [
       "torch.Size([891, 12])"
      ]
     },
     "execution_count": 19,
     "metadata": {},
     "output_type": "execute_result"
    }
   ],
   "source": [
    "t_indep.shape"
   ]
  },
  {
   "cell_type": "markdown",
   "id": "aa52eb4a",
   "metadata": {
    "papermill": {
     "duration": 0.142725,
     "end_time": "2022-11-22T11:29:18.889295",
     "exception": false,
     "start_time": "2022-11-22T11:29:18.746570",
     "status": "completed"
    },
    "tags": []
   },
   "source": [
    "## Setting up a linear model"
   ]
  },
  {
   "cell_type": "markdown",
   "id": "2a5c95ab",
   "metadata": {
    "papermill": {
     "duration": 0.118544,
     "end_time": "2022-11-22T11:29:19.128540",
     "exception": false,
     "start_time": "2022-11-22T11:29:19.009996",
     "status": "completed"
    },
    "tags": []
   },
   "source": [
    "Now that we've got a matrix of independent variables and a dependent variable vector, we can work on calculating our predictions and our loss. In this section, we're going to manually do a single step of calculating predictions and loss for every row of our data.\n",
    "\n",
    "Our first model will be a simple linear model. We'll need a coefficient for each column in `t_indep`. We'll pick random numbers in the range `(-0.5,0.5)`, and set our manual seed so that my explanations in the prose in this notebook will be consistent with what you see when you run it."
   ]
  },
  {
   "cell_type": "code",
   "execution_count": 20,
   "id": "5e908b95",
   "metadata": {
    "execution": {
     "iopub.execute_input": "2022-11-22T11:29:19.369376Z",
     "iopub.status.busy": "2022-11-22T11:29:19.368964Z",
     "iopub.status.idle": "2022-11-22T11:29:19.384765Z",
     "shell.execute_reply": "2022-11-22T11:29:19.384209Z"
    },
    "papermill": {
     "duration": 0.13955,
     "end_time": "2022-11-22T11:29:19.386583",
     "exception": false,
     "start_time": "2022-11-22T11:29:19.247033",
     "status": "completed"
    },
    "tags": []
   },
   "outputs": [
    {
     "data": {
      "text/plain": [
       "tensor([-0.4629,  0.1386,  0.2409, -0.2262, -0.2632, -0.3147,  0.4876,  0.3136,  0.2799, -0.4392,  0.2103,  0.3625])"
      ]
     },
     "execution_count": 20,
     "metadata": {},
     "output_type": "execute_result"
    }
   ],
   "source": [
    "torch.manual_seed(442)\n",
    "\n",
    "n_coeff = t_indep.shape[1]\n",
    "coeffs = torch.rand(n_coeff)-0.5\n",
    "coeffs"
   ]
  },
  {
   "cell_type": "markdown",
   "id": "06d6c606",
   "metadata": {
    "papermill": {
     "duration": 0.119876,
     "end_time": "2022-11-22T11:29:19.630119",
     "exception": false,
     "start_time": "2022-11-22T11:29:19.510243",
     "status": "completed"
    },
    "tags": []
   },
   "source": [
    "Our predictions will be calculated by multiplying each row by the coefficients, and adding them up. One interesting point here is that we don't need a separate constant term (also known as a \"bias\" or \"intercept\" term), or a column of all `1`s to give the same effect has having a constant term. That's because our dummy variables already cover the entire dataset -- e.g. there's a column for \"male\" and a column for \"female\", and everyone in the dataset is in exactly one of these; therefore, we don't need a separate intercept term to cover rows that aren't otherwise part of a column.\n",
    "\n",
    "Here's what the multiplication looks like:"
   ]
  },
  {
   "cell_type": "code",
   "execution_count": 21,
   "id": "0ef603c0",
   "metadata": {
    "execution": {
     "iopub.execute_input": "2022-11-22T11:29:19.871513Z",
     "iopub.status.busy": "2022-11-22T11:29:19.871217Z",
     "iopub.status.idle": "2022-11-22T11:29:19.878186Z",
     "shell.execute_reply": "2022-11-22T11:29:19.877309Z"
    },
    "papermill": {
     "duration": 0.130929,
     "end_time": "2022-11-22T11:29:19.880111",
     "exception": false,
     "start_time": "2022-11-22T11:29:19.749182",
     "status": "completed"
    },
    "tags": []
   },
   "outputs": [
    {
     "data": {
      "text/plain": [
       "tensor([[-10.1838,   0.1386,   0.0000,  -0.4772,  -0.2632,  -0.0000,   0.0000,   0.0000,   0.2799,  -0.0000,   0.0000,   0.3625],\n",
       "        [-17.5902,   0.1386,   0.0000,  -0.9681,  -0.0000,  -0.3147,   0.4876,   0.0000,   0.0000,  -0.4392,   0.0000,   0.0000],\n",
       "        [-12.0354,   0.0000,   0.0000,  -0.4950,  -0.0000,  -0.3147,   0.0000,   0.0000,   0.2799,  -0.0000,   0.0000,   0.3625],\n",
       "        [-16.2015,   0.1386,   0.0000,  -0.9025,  -0.0000,  -0.3147,   0.4876,   0.0000,   0.0000,  -0.0000,   0.0000,   0.3625],\n",
       "        [-16.2015,   0.0000,   0.0000,  -0.4982,  -0.2632,  -0.0000,   0.0000,   0.0000,   0.2799,  -0.0000,   0.0000,   0.3625],\n",
       "        [-11.1096,   0.0000,   0.0000,  -0.5081,  -0.2632,  -0.0000,   0.0000,   0.0000,   0.2799,  -0.0000,   0.2103,   0.0000],\n",
       "        [-24.9966,   0.0000,   0.0000,  -0.8973,  -0.2632,  -0.0000,   0.4876,   0.0000,   0.0000,  -0.0000,   0.0000,   0.3625],\n",
       "        ...,\n",
       "        [-11.5725,   0.0000,   0.0000,  -0.4717,  -0.2632,  -0.0000,   0.0000,   0.0000,   0.2799,  -0.0000,   0.0000,   0.3625],\n",
       "        [-18.0531,   0.0000,   1.2045,  -0.7701,  -0.0000,  -0.3147,   0.0000,   0.0000,   0.2799,  -0.0000,   0.2103,   0.0000],\n",
       "        [-12.4983,   0.0000,   0.0000,  -0.5968,  -0.2632,  -0.0000,   0.0000,   0.3136,   0.0000,  -0.0000,   0.0000,   0.3625],\n",
       "        [ -8.7951,   0.0000,   0.0000,  -0.7766,  -0.0000,  -0.3147,   0.4876,   0.0000,   0.0000,  -0.0000,   0.0000,   0.3625],\n",
       "        [-11.1096,   0.1386,   0.4818,  -0.7229,  -0.0000,  -0.3147,   0.0000,   0.0000,   0.2799,  -0.0000,   0.0000,   0.3625],\n",
       "        [-12.0354,   0.0000,   0.0000,  -0.7766,  -0.2632,  -0.0000,   0.4876,   0.0000,   0.0000,  -0.4392,   0.0000,   0.0000],\n",
       "        [-14.8128,   0.0000,   0.0000,  -0.4905,  -0.2632,  -0.0000,   0.0000,   0.0000,   0.2799,  -0.0000,   0.2103,   0.0000]])"
      ]
     },
     "execution_count": 21,
     "metadata": {},
     "output_type": "execute_result"
    }
   ],
   "source": [
    "t_indep*coeffs"
   ]
  },
  {
   "cell_type": "markdown",
   "id": "aa9e2277",
   "metadata": {
    "papermill": {
     "duration": 0.12121,
     "end_time": "2022-11-22T11:29:20.123749",
     "exception": false,
     "start_time": "2022-11-22T11:29:20.002539",
     "status": "completed"
    },
    "tags": []
   },
   "source": [
    "We can see we've got a problem here. The sums of each row will be dominated by the first column, which is `Age`, since that's bigger on average than all the others.\n",
    "\n",
    "Let's make all the columns contain numbers from `0` to `1`, by dividing each column by its `max()`:"
   ]
  },
  {
   "cell_type": "code",
   "execution_count": 22,
   "id": "361c32f7",
   "metadata": {
    "execution": {
     "iopub.execute_input": "2022-11-22T11:29:20.368118Z",
     "iopub.status.busy": "2022-11-22T11:29:20.367788Z",
     "iopub.status.idle": "2022-11-22T11:29:20.374362Z",
     "shell.execute_reply": "2022-11-22T11:29:20.373752Z"
    },
    "papermill": {
     "duration": 0.131685,
     "end_time": "2022-11-22T11:29:20.376180",
     "exception": false,
     "start_time": "2022-11-22T11:29:20.244495",
     "status": "completed"
    },
    "tags": []
   },
   "outputs": [],
   "source": [
    "vals,indices = t_indep.max(dim=0)\n",
    "t_indep = t_indep / vals"
   ]
  },
  {
   "cell_type": "markdown",
   "id": "32cd09ab",
   "metadata": {
    "papermill": {
     "duration": 0.120208,
     "end_time": "2022-11-22T11:29:20.617016",
     "exception": false,
     "start_time": "2022-11-22T11:29:20.496808",
     "status": "completed"
    },
    "tags": []
   },
   "source": [
    "As we see, that removes the problem of one column dominating all the others:"
   ]
  },
  {
   "cell_type": "code",
   "execution_count": 23,
   "id": "85b67b9b",
   "metadata": {
    "execution": {
     "iopub.execute_input": "2022-11-22T11:29:20.863007Z",
     "iopub.status.busy": "2022-11-22T11:29:20.862707Z",
     "iopub.status.idle": "2022-11-22T11:29:20.870131Z",
     "shell.execute_reply": "2022-11-22T11:29:20.869362Z"
    },
    "papermill": {
     "duration": 0.131651,
     "end_time": "2022-11-22T11:29:20.871925",
     "exception": false,
     "start_time": "2022-11-22T11:29:20.740274",
     "status": "completed"
    },
    "tags": []
   },
   "outputs": [
    {
     "data": {
      "text/plain": [
       "tensor([[-0.1273,  0.0173,  0.0000, -0.0765, -0.2632, -0.0000,  0.0000,  0.0000,  0.2799, -0.0000,  0.0000,  0.3625],\n",
       "        [-0.2199,  0.0173,  0.0000, -0.1551, -0.0000, -0.3147,  0.4876,  0.0000,  0.0000, -0.4392,  0.0000,  0.0000],\n",
       "        [-0.1504,  0.0000,  0.0000, -0.0793, -0.0000, -0.3147,  0.0000,  0.0000,  0.2799, -0.0000,  0.0000,  0.3625],\n",
       "        [-0.2025,  0.0173,  0.0000, -0.1446, -0.0000, -0.3147,  0.4876,  0.0000,  0.0000, -0.0000,  0.0000,  0.3625],\n",
       "        [-0.2025,  0.0000,  0.0000, -0.0798, -0.2632, -0.0000,  0.0000,  0.0000,  0.2799, -0.0000,  0.0000,  0.3625],\n",
       "        [-0.1389,  0.0000,  0.0000, -0.0814, -0.2632, -0.0000,  0.0000,  0.0000,  0.2799, -0.0000,  0.2103,  0.0000],\n",
       "        [-0.3125,  0.0000,  0.0000, -0.1438, -0.2632, -0.0000,  0.4876,  0.0000,  0.0000, -0.0000,  0.0000,  0.3625],\n",
       "        ...,\n",
       "        [-0.1447,  0.0000,  0.0000, -0.0756, -0.2632, -0.0000,  0.0000,  0.0000,  0.2799, -0.0000,  0.0000,  0.3625],\n",
       "        [-0.2257,  0.0000,  0.2008, -0.1234, -0.0000, -0.3147,  0.0000,  0.0000,  0.2799, -0.0000,  0.2103,  0.0000],\n",
       "        [-0.1562,  0.0000,  0.0000, -0.0956, -0.2632, -0.0000,  0.0000,  0.3136,  0.0000, -0.0000,  0.0000,  0.3625],\n",
       "        [-0.1099,  0.0000,  0.0000, -0.1244, -0.0000, -0.3147,  0.4876,  0.0000,  0.0000, -0.0000,  0.0000,  0.3625],\n",
       "        [-0.1389,  0.0173,  0.0803, -0.1158, -0.0000, -0.3147,  0.0000,  0.0000,  0.2799, -0.0000,  0.0000,  0.3625],\n",
       "        [-0.1504,  0.0000,  0.0000, -0.1244, -0.2632, -0.0000,  0.4876,  0.0000,  0.0000, -0.4392,  0.0000,  0.0000],\n",
       "        [-0.1852,  0.0000,  0.0000, -0.0786, -0.2632, -0.0000,  0.0000,  0.0000,  0.2799, -0.0000,  0.2103,  0.0000]])"
      ]
     },
     "execution_count": 23,
     "metadata": {},
     "output_type": "execute_result"
    }
   ],
   "source": [
    "t_indep*coeffs"
   ]
  },
  {
   "cell_type": "markdown",
   "id": "22b8e182",
   "metadata": {
    "papermill": {
     "duration": 0.120312,
     "end_time": "2022-11-22T11:29:21.111450",
     "exception": false,
     "start_time": "2022-11-22T11:29:20.991138",
     "status": "completed"
    },
    "tags": []
   },
   "source": [
    "One thing you hopefully noticed is how amazingly cool this line of code is:\n",
    "\n",
    "    t_indep = t_indep / vals\n",
    "\n",
    "That is dividing a matrix by a vector -- what on earth does that mean?!? The trick here is that we're taking advantage of a technique in numpy and PyTorch (and many other languages, going all the way back to APL) called [broadcasting](https://numpy.org/doc/stable/user/basics.broadcasting.html). In short, this acts as if there's a separate copy of the vector for every row of the matrix, so it divides each row of the matrix by the vector. In practice, it doesn't actually make any copies, and does the whole thing in a highly optimized way, taking full advantage of modern CPUs (or, indeed, GPUs, if we're using them). Broadcasting is one of the most important techniques for making your code concise, maintainable, and fast, so it's well worth studying and practicing.\n",
    "\n",
    "We can now create predictions from our linear model, by adding up the rows of the product:"
   ]
  },
  {
   "cell_type": "code",
   "execution_count": 24,
   "id": "b9430d84",
   "metadata": {
    "execution": {
     "iopub.execute_input": "2022-11-22T11:29:21.356188Z",
     "iopub.status.busy": "2022-11-22T11:29:21.355301Z",
     "iopub.status.idle": "2022-11-22T11:29:21.363344Z",
     "shell.execute_reply": "2022-11-22T11:29:21.362516Z"
    },
    "papermill": {
     "duration": 0.13294,
     "end_time": "2022-11-22T11:29:21.365758",
     "exception": false,
     "start_time": "2022-11-22T11:29:21.232818",
     "status": "completed"
    },
    "tags": []
   },
   "outputs": [],
   "source": [
    "preds = (t_indep*coeffs).sum(axis=1)"
   ]
  },
  {
   "cell_type": "markdown",
   "id": "288ea664",
   "metadata": {
    "papermill": {
     "duration": 0.119419,
     "end_time": "2022-11-22T11:29:21.605573",
     "exception": false,
     "start_time": "2022-11-22T11:29:21.486154",
     "status": "completed"
    },
    "tags": []
   },
   "source": [
    "Let's take a look at the first few:"
   ]
  },
  {
   "cell_type": "code",
   "execution_count": 25,
   "id": "ae185b16",
   "metadata": {
    "execution": {
     "iopub.execute_input": "2022-11-22T11:29:21.848680Z",
     "iopub.status.busy": "2022-11-22T11:29:21.848354Z",
     "iopub.status.idle": "2022-11-22T11:29:21.856027Z",
     "shell.execute_reply": "2022-11-22T11:29:21.855432Z"
    },
    "papermill": {
     "duration": 0.132196,
     "end_time": "2022-11-22T11:29:21.857821",
     "exception": false,
     "start_time": "2022-11-22T11:29:21.725625",
     "status": "completed"
    },
    "tags": []
   },
   "outputs": [
    {
     "data": {
      "text/plain": [
       "tensor([ 0.1927, -0.6239,  0.0979,  0.2056,  0.0968,  0.0066,  0.1306,  0.3476,  0.1613, -0.6285])"
      ]
     },
     "execution_count": 25,
     "metadata": {},
     "output_type": "execute_result"
    }
   ],
   "source": [
    "preds[:10]"
   ]
  },
  {
   "cell_type": "markdown",
   "id": "03ffadfa",
   "metadata": {
    "papermill": {
     "duration": 0.12194,
     "end_time": "2022-11-22T11:29:22.101383",
     "exception": false,
     "start_time": "2022-11-22T11:29:21.979443",
     "status": "completed"
    },
    "tags": []
   },
   "source": [
    "Of course, these predictions aren't going to be any use, since our coefficients are random -- they're just a starting point for our gradient descent process.\n",
    "\n",
    "To do gradient descent, we need a loss function. Taking the average error of the rows (i.e. the absolute value of the difference between the prediction and the dependent) is generally a reasonable approach:"
   ]
  },
  {
   "cell_type": "code",
   "execution_count": 26,
   "id": "c0fdaeb0",
   "metadata": {
    "execution": {
     "iopub.execute_input": "2022-11-22T11:29:22.343828Z",
     "iopub.status.busy": "2022-11-22T11:29:22.343374Z",
     "iopub.status.idle": "2022-11-22T11:29:22.354267Z",
     "shell.execute_reply": "2022-11-22T11:29:22.353392Z"
    },
    "papermill": {
     "duration": 0.134142,
     "end_time": "2022-11-22T11:29:22.356125",
     "exception": false,
     "start_time": "2022-11-22T11:29:22.221983",
     "status": "completed"
    },
    "tags": []
   },
   "outputs": [
    {
     "data": {
      "text/plain": [
       "tensor(0.5382)"
      ]
     },
     "execution_count": 26,
     "metadata": {},
     "output_type": "execute_result"
    }
   ],
   "source": [
    "loss = torch.abs(preds-t_dep).mean()\n",
    "loss"
   ]
  },
  {
   "cell_type": "markdown",
   "id": "6bfa990a",
   "metadata": {
    "papermill": {
     "duration": 0.120694,
     "end_time": "2022-11-22T11:29:22.598998",
     "exception": false,
     "start_time": "2022-11-22T11:29:22.478304",
     "status": "completed"
    },
    "tags": []
   },
   "source": [
    "Now that we've tested out a way of calculating predictions, and loss, let's pop them into functions to make life easier:"
   ]
  },
  {
   "cell_type": "code",
   "execution_count": 27,
   "id": "3454e71a",
   "metadata": {
    "execution": {
     "iopub.execute_input": "2022-11-22T11:29:22.846743Z",
     "iopub.status.busy": "2022-11-22T11:29:22.846448Z",
     "iopub.status.idle": "2022-11-22T11:29:22.851314Z",
     "shell.execute_reply": "2022-11-22T11:29:22.850403Z"
    },
    "papermill": {
     "duration": 0.131696,
     "end_time": "2022-11-22T11:29:22.853422",
     "exception": false,
     "start_time": "2022-11-22T11:29:22.721726",
     "status": "completed"
    },
    "tags": []
   },
   "outputs": [],
   "source": [
    "def calc_preds(coeffs, indeps): return (indeps*coeffs).sum(axis=1)\n",
    "def calc_loss(coeffs, indeps, deps): return torch.abs(calc_preds(coeffs, indeps)-deps).mean()"
   ]
  },
  {
   "cell_type": "markdown",
   "id": "07fd5c58",
   "metadata": {
    "papermill": {
     "duration": 0.123045,
     "end_time": "2022-11-22T11:29:23.097851",
     "exception": false,
     "start_time": "2022-11-22T11:29:22.974806",
     "status": "completed"
    },
    "tags": []
   },
   "source": [
    "## Doing a gradient descent step"
   ]
  },
  {
   "cell_type": "markdown",
   "id": "528791e2",
   "metadata": {
    "papermill": {
     "duration": 0.124263,
     "end_time": "2022-11-22T11:29:23.346312",
     "exception": false,
     "start_time": "2022-11-22T11:29:23.222049",
     "status": "completed"
    },
    "tags": []
   },
   "source": [
    "In this section, we're going to do a single \"epoch\" of gradient descent manually. The only thing we're going to automate is calculating gradients, because let's face it that's pretty tedious and entirely pointless to do by hand! To get PyTorch to calculate gradients, we'll need to call `requires_grad_()` on our `coeffs` (if you're not sure why, review the previous notebook, [How does a neural net really work?](https://www.kaggle.com/code/jhoward/how-does-a-neural-net-really-work), before continuing):"
   ]
  },
  {
   "cell_type": "code",
   "execution_count": 28,
   "id": "9d25896c",
   "metadata": {
    "execution": {
     "iopub.execute_input": "2022-11-22T11:29:23.595155Z",
     "iopub.status.busy": "2022-11-22T11:29:23.594419Z",
     "iopub.status.idle": "2022-11-22T11:29:23.601554Z",
     "shell.execute_reply": "2022-11-22T11:29:23.600796Z"
    },
    "papermill": {
     "duration": 0.135484,
     "end_time": "2022-11-22T11:29:23.603688",
     "exception": false,
     "start_time": "2022-11-22T11:29:23.468204",
     "status": "completed"
    },
    "tags": []
   },
   "outputs": [
    {
     "data": {
      "text/plain": [
       "tensor([-0.4629,  0.1386,  0.2409, -0.2262, -0.2632, -0.3147,  0.4876,  0.3136,  0.2799, -0.4392,  0.2103,  0.3625], requires_grad=True)"
      ]
     },
     "execution_count": 28,
     "metadata": {},
     "output_type": "execute_result"
    }
   ],
   "source": [
    "coeffs.requires_grad_()"
   ]
  },
  {
   "cell_type": "markdown",
   "id": "db84e17b",
   "metadata": {
    "papermill": {
     "duration": 0.122656,
     "end_time": "2022-11-22T11:29:23.848524",
     "exception": false,
     "start_time": "2022-11-22T11:29:23.725868",
     "status": "completed"
    },
    "tags": []
   },
   "source": [
    "Now when we calculate our loss, PyTorch will keep track of all the steps, so we'll be able to get the gradients afterwards:"
   ]
  },
  {
   "cell_type": "code",
   "execution_count": 29,
   "id": "ffcc631d",
   "metadata": {
    "execution": {
     "iopub.execute_input": "2022-11-22T11:29:24.095115Z",
     "iopub.status.busy": "2022-11-22T11:29:24.094724Z",
     "iopub.status.idle": "2022-11-22T11:29:24.102231Z",
     "shell.execute_reply": "2022-11-22T11:29:24.101372Z"
    },
    "papermill": {
     "duration": 0.133032,
     "end_time": "2022-11-22T11:29:24.104388",
     "exception": false,
     "start_time": "2022-11-22T11:29:23.971356",
     "status": "completed"
    },
    "tags": []
   },
   "outputs": [
    {
     "data": {
      "text/plain": [
       "tensor(0.5382, grad_fn=<MeanBackward0>)"
      ]
     },
     "execution_count": 29,
     "metadata": {},
     "output_type": "execute_result"
    }
   ],
   "source": [
    "loss = calc_loss(coeffs, t_indep, t_dep)\n",
    "loss"
   ]
  },
  {
   "cell_type": "markdown",
   "id": "867bb00e",
   "metadata": {
    "papermill": {
     "duration": 0.121928,
     "end_time": "2022-11-22T11:29:24.348701",
     "exception": false,
     "start_time": "2022-11-22T11:29:24.226773",
     "status": "completed"
    },
    "tags": []
   },
   "source": [
    "Use `backward()` to ask PyTorch to calculate gradients now:"
   ]
  },
  {
   "cell_type": "code",
   "execution_count": 30,
   "id": "8ec51abf",
   "metadata": {
    "execution": {
     "iopub.execute_input": "2022-11-22T11:29:24.598778Z",
     "iopub.status.busy": "2022-11-22T11:29:24.598497Z",
     "iopub.status.idle": "2022-11-22T11:29:24.613614Z",
     "shell.execute_reply": "2022-11-22T11:29:24.612998Z"
    },
    "papermill": {
     "duration": 0.14419,
     "end_time": "2022-11-22T11:29:24.615908",
     "exception": false,
     "start_time": "2022-11-22T11:29:24.471718",
     "status": "completed"
    },
    "tags": []
   },
   "outputs": [],
   "source": [
    "loss.backward()"
   ]
  },
  {
   "cell_type": "markdown",
   "id": "9d914906",
   "metadata": {
    "papermill": {
     "duration": 0.126133,
     "end_time": "2022-11-22T11:29:24.870233",
     "exception": false,
     "start_time": "2022-11-22T11:29:24.744100",
     "status": "completed"
    },
    "tags": []
   },
   "source": [
    "Let's see what they look like:"
   ]
  },
  {
   "cell_type": "code",
   "execution_count": 31,
   "id": "030a5a59",
   "metadata": {
    "execution": {
     "iopub.execute_input": "2022-11-22T11:29:25.122530Z",
     "iopub.status.busy": "2022-11-22T11:29:25.122093Z",
     "iopub.status.idle": "2022-11-22T11:29:25.128285Z",
     "shell.execute_reply": "2022-11-22T11:29:25.127456Z"
    },
    "papermill": {
     "duration": 0.133875,
     "end_time": "2022-11-22T11:29:25.130143",
     "exception": false,
     "start_time": "2022-11-22T11:29:24.996268",
     "status": "completed"
    },
    "tags": []
   },
   "outputs": [
    {
     "data": {
      "text/plain": [
       "tensor([-0.0106,  0.0129, -0.0041, -0.0484,  0.2099, -0.2132, -0.1212, -0.0247,  0.1425, -0.1886, -0.0191,  0.2043])"
      ]
     },
     "execution_count": 31,
     "metadata": {},
     "output_type": "execute_result"
    }
   ],
   "source": [
    "coeffs.grad"
   ]
  },
  {
   "cell_type": "markdown",
   "id": "44b09965",
   "metadata": {
    "papermill": {
     "duration": 0.123329,
     "end_time": "2022-11-22T11:29:25.378960",
     "exception": false,
     "start_time": "2022-11-22T11:29:25.255631",
     "status": "completed"
    },
    "tags": []
   },
   "source": [
    "Note that each time we call `backward`, the gradients are actually *added* to whatever is in the `.grad` attribute. Let's try running the above steps again:"
   ]
  },
  {
   "cell_type": "code",
   "execution_count": 32,
   "id": "4440e7a1",
   "metadata": {
    "execution": {
     "iopub.execute_input": "2022-11-22T11:29:25.623988Z",
     "iopub.status.busy": "2022-11-22T11:29:25.623539Z",
     "iopub.status.idle": "2022-11-22T11:29:25.632369Z",
     "shell.execute_reply": "2022-11-22T11:29:25.631791Z"
    },
    "papermill": {
     "duration": 0.13346,
     "end_time": "2022-11-22T11:29:25.634103",
     "exception": false,
     "start_time": "2022-11-22T11:29:25.500643",
     "status": "completed"
    },
    "tags": []
   },
   "outputs": [
    {
     "data": {
      "text/plain": [
       "tensor([-0.0212,  0.0258, -0.0082, -0.0969,  0.4198, -0.4265, -0.2424, -0.0494,  0.2851, -0.3771, -0.0382,  0.4085])"
      ]
     },
     "execution_count": 32,
     "metadata": {},
     "output_type": "execute_result"
    }
   ],
   "source": [
    "loss = calc_loss(coeffs, t_indep, t_dep)\n",
    "loss.backward()\n",
    "coeffs.grad"
   ]
  },
  {
   "cell_type": "markdown",
   "id": "76a441c7",
   "metadata": {
    "papermill": {
     "duration": 0.12496,
     "end_time": "2022-11-22T11:29:25.889764",
     "exception": false,
     "start_time": "2022-11-22T11:29:25.764804",
     "status": "completed"
    },
    "tags": []
   },
   "source": [
    "As you see, our `.grad` values are have doubled. That's because it added the gradients a second time. For this reason, after we use the gradients to do a gradient descent step, we need to set them back to zero.\n",
    "\n",
    "We can now do one gradient descent step, and check that our loss decreases:"
   ]
  },
  {
   "cell_type": "code",
   "execution_count": 33,
   "id": "8a7fa033",
   "metadata": {
    "execution": {
     "iopub.execute_input": "2022-11-22T11:29:26.136990Z",
     "iopub.status.busy": "2022-11-22T11:29:26.136423Z",
     "iopub.status.idle": "2022-11-22T11:29:26.143920Z",
     "shell.execute_reply": "2022-11-22T11:29:26.142785Z"
    },
    "papermill": {
     "duration": 0.13281,
     "end_time": "2022-11-22T11:29:26.146002",
     "exception": false,
     "start_time": "2022-11-22T11:29:26.013192",
     "status": "completed"
    },
    "tags": []
   },
   "outputs": [
    {
     "name": "stdout",
     "output_type": "stream",
     "text": [
      "tensor(0.4945)\n"
     ]
    }
   ],
   "source": [
    "loss = calc_loss(coeffs, t_indep, t_dep)\n",
    "loss.backward()\n",
    "with torch.no_grad():\n",
    "    coeffs.sub_(coeffs.grad * 0.1)\n",
    "    coeffs.grad.zero_()\n",
    "    print(calc_loss(coeffs, t_indep, t_dep))"
   ]
  },
  {
   "cell_type": "markdown",
   "id": "0fab0dd5",
   "metadata": {
    "papermill": {
     "duration": 0.122812,
     "end_time": "2022-11-22T11:29:26.392974",
     "exception": false,
     "start_time": "2022-11-22T11:29:26.270162",
     "status": "completed"
    },
    "tags": []
   },
   "source": [
    "Note that `a.sub_(b)` subtracts `b` from `a` in-place. In PyTorch, any method that ends in `_` changes its object in-place. Similarly, `a.zero_()` sets all elements of a tensor to zero."
   ]
  },
  {
   "cell_type": "markdown",
   "id": "8fb18bae",
   "metadata": {
    "papermill": {
     "duration": 0.122129,
     "end_time": "2022-11-22T11:29:26.638161",
     "exception": false,
     "start_time": "2022-11-22T11:29:26.516032",
     "status": "completed"
    },
    "tags": []
   },
   "source": [
    "## Training the linear model"
   ]
  },
  {
   "cell_type": "markdown",
   "id": "340f4332",
   "metadata": {
    "papermill": {
     "duration": 0.121867,
     "end_time": "2022-11-22T11:29:26.885863",
     "exception": false,
     "start_time": "2022-11-22T11:29:26.763996",
     "status": "completed"
    },
    "tags": []
   },
   "source": [
    "Before we begin training our model, we'll need to ensure that we hold out a validation set for calculating our metrics (for details on this, see \"[Getting started with NLP for absolute beginners](https://www.kaggle.com/code/jhoward/getting-started-with-nlp-for-absolute-beginners#Test-and-validation-sets)\".\n",
    "\n",
    "There's lots of different ways we can do this. In the next notebook we'll be comparing our approach here to what the fastai library does, so we'll want to ensure we split the data in the same way. So let's use `RandomSplitter` to get indices that will split our data into training and validation sets:"
   ]
  },
  {
   "cell_type": "code",
   "execution_count": 34,
   "id": "d861bb06",
   "metadata": {
    "execution": {
     "iopub.execute_input": "2022-11-22T11:29:27.134588Z",
     "iopub.status.busy": "2022-11-22T11:29:27.134071Z",
     "iopub.status.idle": "2022-11-22T11:29:28.300367Z",
     "shell.execute_reply": "2022-11-22T11:29:28.299598Z"
    },
    "papermill": {
     "duration": 1.292282,
     "end_time": "2022-11-22T11:29:28.302711",
     "exception": false,
     "start_time": "2022-11-22T11:29:27.010429",
     "status": "completed"
    },
    "tags": []
   },
   "outputs": [],
   "source": [
    "from fastai.data.transforms import RandomSplitter\n",
    "trn_split,val_split=RandomSplitter(seed=42)(df)"
   ]
  },
  {
   "cell_type": "markdown",
   "id": "645e1f52",
   "metadata": {
    "papermill": {
     "duration": 0.123477,
     "end_time": "2022-11-22T11:29:28.549023",
     "exception": false,
     "start_time": "2022-11-22T11:29:28.425546",
     "status": "completed"
    },
    "tags": []
   },
   "source": [
    "Now we can apply those indicies to our independent and dependent variables:"
   ]
  },
  {
   "cell_type": "code",
   "execution_count": 35,
   "id": "84d18796",
   "metadata": {
    "execution": {
     "iopub.execute_input": "2022-11-22T11:29:28.798707Z",
     "iopub.status.busy": "2022-11-22T11:29:28.798436Z",
     "iopub.status.idle": "2022-11-22T11:29:28.808571Z",
     "shell.execute_reply": "2022-11-22T11:29:28.807642Z"
    },
    "papermill": {
     "duration": 0.138536,
     "end_time": "2022-11-22T11:29:28.810583",
     "exception": false,
     "start_time": "2022-11-22T11:29:28.672047",
     "status": "completed"
    },
    "tags": []
   },
   "outputs": [
    {
     "data": {
      "text/plain": [
       "(713, 178)"
      ]
     },
     "execution_count": 35,
     "metadata": {},
     "output_type": "execute_result"
    }
   ],
   "source": [
    "trn_indep,val_indep = t_indep[trn_split],t_indep[val_split]\n",
    "trn_dep,val_dep = t_dep[trn_split],t_dep[val_split]\n",
    "len(trn_indep),len(val_indep)"
   ]
  },
  {
   "cell_type": "markdown",
   "id": "f0dd944c",
   "metadata": {
    "papermill": {
     "duration": 0.12575,
     "end_time": "2022-11-22T11:29:29.060112",
     "exception": false,
     "start_time": "2022-11-22T11:29:28.934362",
     "status": "completed"
    },
    "tags": []
   },
   "source": [
    "We'll create functions for the three things we did manually above: updating `coeffs`, doing one full gradient descent step, and initilising `coeffs` to random numbers:"
   ]
  },
  {
   "cell_type": "code",
   "execution_count": 36,
   "id": "0b830f54",
   "metadata": {
    "execution": {
     "iopub.execute_input": "2022-11-22T11:29:29.308895Z",
     "iopub.status.busy": "2022-11-22T11:29:29.308322Z",
     "iopub.status.idle": "2022-11-22T11:29:29.312834Z",
     "shell.execute_reply": "2022-11-22T11:29:29.312275Z"
    },
    "papermill": {
     "duration": 0.131094,
     "end_time": "2022-11-22T11:29:29.314913",
     "exception": false,
     "start_time": "2022-11-22T11:29:29.183819",
     "status": "completed"
    },
    "tags": []
   },
   "outputs": [],
   "source": [
    "def update_coeffs(coeffs, lr):\n",
    "    coeffs.sub_(coeffs.grad * lr)\n",
    "    coeffs.grad.zero_()"
   ]
  },
  {
   "cell_type": "code",
   "execution_count": 37,
   "id": "163ad368",
   "metadata": {
    "execution": {
     "iopub.execute_input": "2022-11-22T11:29:29.568335Z",
     "iopub.status.busy": "2022-11-22T11:29:29.567716Z",
     "iopub.status.idle": "2022-11-22T11:29:29.573023Z",
     "shell.execute_reply": "2022-11-22T11:29:29.572291Z"
    },
    "papermill": {
     "duration": 0.132864,
     "end_time": "2022-11-22T11:29:29.575048",
     "exception": false,
     "start_time": "2022-11-22T11:29:29.442184",
     "status": "completed"
    },
    "tags": []
   },
   "outputs": [],
   "source": [
    "def one_epoch(coeffs, lr):\n",
    "    loss = calc_loss(coeffs, trn_indep, trn_dep)\n",
    "    loss.backward()\n",
    "    with torch.no_grad(): update_coeffs(coeffs, lr)\n",
    "    print(f\"{loss:.3f}\", end=\"; \")"
   ]
  },
  {
   "cell_type": "code",
   "execution_count": 38,
   "id": "230c629d",
   "metadata": {
    "execution": {
     "iopub.execute_input": "2022-11-22T11:29:29.857147Z",
     "iopub.status.busy": "2022-11-22T11:29:29.856525Z",
     "iopub.status.idle": "2022-11-22T11:29:29.861320Z",
     "shell.execute_reply": "2022-11-22T11:29:29.860686Z"
    },
    "papermill": {
     "duration": 0.165439,
     "end_time": "2022-11-22T11:29:29.863366",
     "exception": false,
     "start_time": "2022-11-22T11:29:29.697927",
     "status": "completed"
    },
    "tags": []
   },
   "outputs": [],
   "source": [
    "def init_coeffs(): return (torch.rand(n_coeff)-0.5).requires_grad_()"
   ]
  },
  {
   "cell_type": "markdown",
   "id": "0475dde0",
   "metadata": {
    "papermill": {
     "duration": 0.125744,
     "end_time": "2022-11-22T11:29:30.115878",
     "exception": false,
     "start_time": "2022-11-22T11:29:29.990134",
     "status": "completed"
    },
    "tags": []
   },
   "source": [
    "We can now use these functions to train our model:"
   ]
  },
  {
   "cell_type": "code",
   "execution_count": 39,
   "id": "95825695",
   "metadata": {
    "execution": {
     "iopub.execute_input": "2022-11-22T11:29:30.364913Z",
     "iopub.status.busy": "2022-11-22T11:29:30.364492Z",
     "iopub.status.idle": "2022-11-22T11:29:30.369330Z",
     "shell.execute_reply": "2022-11-22T11:29:30.368759Z"
    },
    "papermill": {
     "duration": 0.131267,
     "end_time": "2022-11-22T11:29:30.371226",
     "exception": false,
     "start_time": "2022-11-22T11:29:30.239959",
     "status": "completed"
    },
    "tags": []
   },
   "outputs": [],
   "source": [
    "def train_model(epochs=30, lr=0.01):\n",
    "    torch.manual_seed(442)\n",
    "    coeffs = init_coeffs()\n",
    "    for i in range(epochs): one_epoch(coeffs, lr=lr)\n",
    "    return coeffs"
   ]
  },
  {
   "cell_type": "markdown",
   "id": "023162a5",
   "metadata": {
    "papermill": {
     "duration": 0.12306,
     "end_time": "2022-11-22T11:29:30.618637",
     "exception": false,
     "start_time": "2022-11-22T11:29:30.495577",
     "status": "completed"
    },
    "tags": []
   },
   "source": [
    "Let's try it. Our loss will print at the end of every step, so we hope we'll see it going down:"
   ]
  },
  {
   "cell_type": "code",
   "execution_count": 40,
   "id": "0af4b7fe",
   "metadata": {
    "execution": {
     "iopub.execute_input": "2022-11-22T11:29:30.866922Z",
     "iopub.status.busy": "2022-11-22T11:29:30.866493Z",
     "iopub.status.idle": "2022-11-22T11:29:30.880505Z",
     "shell.execute_reply": "2022-11-22T11:29:30.879636Z"
    },
    "papermill": {
     "duration": 0.140426,
     "end_time": "2022-11-22T11:29:30.882807",
     "exception": false,
     "start_time": "2022-11-22T11:29:30.742381",
     "status": "completed"
    },
    "tags": []
   },
   "outputs": [
    {
     "name": "stdout",
     "output_type": "stream",
     "text": [
      "0.536; 0.502; 0.477; 0.454; 0.431; 0.409; 0.388; 0.367; 0.349; 0.336; 0.330; 0.326; 0.329; 0.304; 0.314; 0.296; 0.300; 0.289; "
     ]
    }
   ],
   "source": [
    "coeffs = train_model(18, lr=0.2)"
   ]
  },
  {
   "cell_type": "markdown",
   "id": "c6e8e760",
   "metadata": {
    "papermill": {
     "duration": 0.123732,
     "end_time": "2022-11-22T11:29:31.131642",
     "exception": false,
     "start_time": "2022-11-22T11:29:31.007910",
     "status": "completed"
    },
    "tags": []
   },
   "source": [
    "It does!\n",
    "\n",
    "Let's take a look at the coefficients for each column:"
   ]
  },
  {
   "cell_type": "code",
   "execution_count": 41,
   "id": "c44d61e9",
   "metadata": {
    "execution": {
     "iopub.execute_input": "2022-11-22T11:29:31.382760Z",
     "iopub.status.busy": "2022-11-22T11:29:31.382453Z",
     "iopub.status.idle": "2022-11-22T11:29:31.392576Z",
     "shell.execute_reply": "2022-11-22T11:29:31.391757Z"
    },
    "papermill": {
     "duration": 0.137617,
     "end_time": "2022-11-22T11:29:31.394590",
     "exception": false,
     "start_time": "2022-11-22T11:29:31.256973",
     "status": "completed"
    },
    "tags": []
   },
   "outputs": [
    {
     "data": {
      "text/plain": [
       "{'Age': tensor(-0.2694),\n",
       " 'SibSp': tensor(0.0901),\n",
       " 'Parch': tensor(0.2359),\n",
       " 'LogFare': tensor(0.0280),\n",
       " 'Sex_male': tensor(-0.3990),\n",
       " 'Sex_female': tensor(0.2345),\n",
       " 'Pclass_1': tensor(0.7232),\n",
       " 'Pclass_2': tensor(0.4112),\n",
       " 'Pclass_3': tensor(0.3601),\n",
       " 'Embarked_C': tensor(0.0955),\n",
       " 'Embarked_Q': tensor(0.2395),\n",
       " 'Embarked_S': tensor(0.2122)}"
      ]
     },
     "execution_count": 41,
     "metadata": {},
     "output_type": "execute_result"
    }
   ],
   "source": [
    "def show_coeffs(): return dict(zip(indep_cols, coeffs.requires_grad_(False)))\n",
    "show_coeffs()"
   ]
  },
  {
   "cell_type": "markdown",
   "id": "f7b82894",
   "metadata": {
    "papermill": {
     "duration": 0.123486,
     "end_time": "2022-11-22T11:29:31.643197",
     "exception": false,
     "start_time": "2022-11-22T11:29:31.519711",
     "status": "completed"
    },
    "tags": []
   },
   "source": [
    "## Measuring accuracy"
   ]
  },
  {
   "cell_type": "markdown",
   "id": "969028e7",
   "metadata": {
    "papermill": {
     "duration": 0.126211,
     "end_time": "2022-11-22T11:29:31.893351",
     "exception": false,
     "start_time": "2022-11-22T11:29:31.767140",
     "status": "completed"
    },
    "tags": []
   },
   "source": [
    "The Kaggle competition is not, however, scored by absolute error (which is our loss function). It's scored by *accuracy* -- the proportion of rows where we correctly predict survival. Let's see how accurate we were on the validation set. First, calculate the predictions:"
   ]
  },
  {
   "cell_type": "code",
   "execution_count": 42,
   "id": "fc1fa023",
   "metadata": {
    "execution": {
     "iopub.execute_input": "2022-11-22T11:29:32.149437Z",
     "iopub.status.busy": "2022-11-22T11:29:32.149022Z",
     "iopub.status.idle": "2022-11-22T11:29:32.152497Z",
     "shell.execute_reply": "2022-11-22T11:29:32.151941Z"
    },
    "papermill": {
     "duration": 0.133864,
     "end_time": "2022-11-22T11:29:32.154252",
     "exception": false,
     "start_time": "2022-11-22T11:29:32.020388",
     "status": "completed"
    },
    "tags": []
   },
   "outputs": [],
   "source": [
    "preds = calc_preds(coeffs, val_indep)"
   ]
  },
  {
   "cell_type": "markdown",
   "id": "3ef10880",
   "metadata": {
    "papermill": {
     "duration": 0.127752,
     "end_time": "2022-11-22T11:29:32.406477",
     "exception": false,
     "start_time": "2022-11-22T11:29:32.278725",
     "status": "completed"
    },
    "tags": []
   },
   "source": [
    "We'll assume that any passenger with a score of over `0.5` is predicted to survive. So that means we're correct for each row where `preds>0.5` is the same as the dependent variable:"
   ]
  },
  {
   "cell_type": "code",
   "execution_count": 43,
   "id": "835b18e1",
   "metadata": {
    "execution": {
     "iopub.execute_input": "2022-11-22T11:29:32.657697Z",
     "iopub.status.busy": "2022-11-22T11:29:32.657276Z",
     "iopub.status.idle": "2022-11-22T11:29:32.662656Z",
     "shell.execute_reply": "2022-11-22T11:29:32.661960Z"
    },
    "papermill": {
     "duration": 0.134041,
     "end_time": "2022-11-22T11:29:32.665195",
     "exception": false,
     "start_time": "2022-11-22T11:29:32.531154",
     "status": "completed"
    },
    "tags": []
   },
   "outputs": [
    {
     "data": {
      "text/plain": [
       "tensor([ True,  True,  True,  True,  True,  True,  True,  True,  True,  True, False, False, False,  True,  True, False])"
      ]
     },
     "execution_count": 43,
     "metadata": {},
     "output_type": "execute_result"
    }
   ],
   "source": [
    "results = val_dep.bool()==(preds>0.5)\n",
    "results[:16]"
   ]
  },
  {
   "cell_type": "markdown",
   "id": "0b59cb70",
   "metadata": {
    "papermill": {
     "duration": 0.124522,
     "end_time": "2022-11-22T11:29:32.915077",
     "exception": false,
     "start_time": "2022-11-22T11:29:32.790555",
     "status": "completed"
    },
    "tags": []
   },
   "source": [
    "Let's see what our average accuracy is:"
   ]
  },
  {
   "cell_type": "code",
   "execution_count": 44,
   "id": "1e486596",
   "metadata": {
    "execution": {
     "iopub.execute_input": "2022-11-22T11:29:33.201693Z",
     "iopub.status.busy": "2022-11-22T11:29:33.200797Z",
     "iopub.status.idle": "2022-11-22T11:29:33.208125Z",
     "shell.execute_reply": "2022-11-22T11:29:33.207319Z"
    },
    "papermill": {
     "duration": 0.142645,
     "end_time": "2022-11-22T11:29:33.210041",
     "exception": false,
     "start_time": "2022-11-22T11:29:33.067396",
     "status": "completed"
    },
    "tags": []
   },
   "outputs": [
    {
     "data": {
      "text/plain": [
       "tensor(0.7865)"
      ]
     },
     "execution_count": 44,
     "metadata": {},
     "output_type": "execute_result"
    }
   ],
   "source": [
    "results.float().mean()"
   ]
  },
  {
   "cell_type": "markdown",
   "id": "2853b441",
   "metadata": {
    "papermill": {
     "duration": 0.133924,
     "end_time": "2022-11-22T11:29:33.486674",
     "exception": false,
     "start_time": "2022-11-22T11:29:33.352750",
     "status": "completed"
    },
    "tags": []
   },
   "source": [
    "That's not a bad start at all! We'll create a function so we can calcuate the accuracy easy for other models we train:"
   ]
  },
  {
   "cell_type": "code",
   "execution_count": 45,
   "id": "cbe8983e",
   "metadata": {
    "execution": {
     "iopub.execute_input": "2022-11-22T11:29:33.744534Z",
     "iopub.status.busy": "2022-11-22T11:29:33.744262Z",
     "iopub.status.idle": "2022-11-22T11:29:33.752127Z",
     "shell.execute_reply": "2022-11-22T11:29:33.751193Z"
    },
    "papermill": {
     "duration": 0.138373,
     "end_time": "2022-11-22T11:29:33.754068",
     "exception": false,
     "start_time": "2022-11-22T11:29:33.615695",
     "status": "completed"
    },
    "tags": []
   },
   "outputs": [
    {
     "data": {
      "text/plain": [
       "tensor(0.7865)"
      ]
     },
     "execution_count": 45,
     "metadata": {},
     "output_type": "execute_result"
    }
   ],
   "source": [
    "def acc(coeffs): return (val_dep.bool()==(calc_preds(coeffs, val_indep)>0.5)).float().mean()\n",
    "acc(coeffs)"
   ]
  },
  {
   "cell_type": "markdown",
   "id": "168a135b",
   "metadata": {
    "papermill": {
     "duration": 0.126606,
     "end_time": "2022-11-22T11:29:34.013730",
     "exception": false,
     "start_time": "2022-11-22T11:29:33.887124",
     "status": "completed"
    },
    "tags": []
   },
   "source": [
    "## Using sigmoid"
   ]
  },
  {
   "cell_type": "markdown",
   "id": "010905e7",
   "metadata": {
    "papermill": {
     "duration": 0.127934,
     "end_time": "2022-11-22T11:29:34.268776",
     "exception": false,
     "start_time": "2022-11-22T11:29:34.140842",
     "status": "completed"
    },
    "tags": []
   },
   "source": [
    "Looking at our predictions, there's one obvious problem -- some of our predictions of the probability of survival are `>1`, and some are `<0`:"
   ]
  },
  {
   "cell_type": "code",
   "execution_count": 46,
   "id": "cb73553d",
   "metadata": {
    "execution": {
     "iopub.execute_input": "2022-11-22T11:29:34.525637Z",
     "iopub.status.busy": "2022-11-22T11:29:34.525353Z",
     "iopub.status.idle": "2022-11-22T11:29:34.532080Z",
     "shell.execute_reply": "2022-11-22T11:29:34.530996Z"
    },
    "papermill": {
     "duration": 0.13804,
     "end_time": "2022-11-22T11:29:34.534334",
     "exception": false,
     "start_time": "2022-11-22T11:29:34.396294",
     "status": "completed"
    },
    "tags": []
   },
   "outputs": [
    {
     "data": {
      "text/plain": [
       "tensor([ 0.8160,  0.1295, -0.0148,  0.1831,  0.1520,  0.1350,  0.7279,  0.7754,  0.3222,  0.6740,  0.0753,  0.0389,  0.2216,  0.7631,\n",
       "         0.0678,  0.3997,  0.3324,  0.8278,  0.1078,  0.7126,  0.1023,  0.3627,  0.9937,  0.8050,  0.1153,  0.1455,  0.8652,  0.3425])"
      ]
     },
     "execution_count": 46,
     "metadata": {},
     "output_type": "execute_result"
    }
   ],
   "source": [
    "preds[:28]"
   ]
  },
  {
   "cell_type": "markdown",
   "id": "593e733f",
   "metadata": {
    "papermill": {
     "duration": 0.130551,
     "end_time": "2022-11-22T11:29:34.795994",
     "exception": false,
     "start_time": "2022-11-22T11:29:34.665443",
     "status": "completed"
    },
    "tags": []
   },
   "source": [
    "To fix this, we should pass every prediction through the *sigmoid function*, which has a minimum at zero and maximum at one, and is defined as follows:"
   ]
  },
  {
   "cell_type": "code",
   "execution_count": 47,
   "id": "c1568cd0",
   "metadata": {
    "execution": {
     "iopub.execute_input": "2022-11-22T11:29:35.055644Z",
     "iopub.status.busy": "2022-11-22T11:29:35.055145Z",
     "iopub.status.idle": "2022-11-22T11:29:36.188728Z",
     "shell.execute_reply": "2022-11-22T11:29:36.187718Z"
    },
    "papermill": {
     "duration": 1.266879,
     "end_time": "2022-11-22T11:29:36.191268",
     "exception": false,
     "start_time": "2022-11-22T11:29:34.924389",
     "status": "completed"
    },
    "tags": []
   },
   "outputs": [
    {
     "data": {
      "image/png": "[encoded data removed]",
      "text/plain": [
       "<Figure size 432x288 with 1 Axes>"
      ]
     },
     "metadata": {
      "needs_background": "light"
     },
     "output_type": "display_data"
    }
   ],
   "source": [
    "import sympy\n",
    "sympy.plot(\"1/(1+exp(-x))\", xlim=(-5,5));"
   ]
  },
  {
   "cell_type": "markdown",
   "id": "59de4a83",
   "metadata": {
    "papermill": {
     "duration": 0.129484,
     "end_time": "2022-11-22T11:29:36.447533",
     "exception": false,
     "start_time": "2022-11-22T11:29:36.318049",
     "status": "completed"
    },
    "tags": []
   },
   "source": [
    "PyTorch already defines that function for us, so we can modify `calc_preds` to use it:"
   ]
  },
  {
   "cell_type": "code",
   "execution_count": 48,
   "id": "c5bcdba0",
   "metadata": {
    "execution": {
     "iopub.execute_input": "2022-11-22T11:29:36.708680Z",
     "iopub.status.busy": "2022-11-22T11:29:36.708352Z",
     "iopub.status.idle": "2022-11-22T11:29:36.713074Z",
     "shell.execute_reply": "2022-11-22T11:29:36.712230Z"
    },
    "papermill": {
     "duration": 0.136971,
     "end_time": "2022-11-22T11:29:36.715079",
     "exception": false,
     "start_time": "2022-11-22T11:29:36.578108",
     "status": "completed"
    },
    "tags": []
   },
   "outputs": [],
   "source": [
    "def calc_preds(coeffs, indeps): return torch.sigmoid((indeps*coeffs).sum(axis=1))"
   ]
  },
  {
   "cell_type": "markdown",
   "id": "42b52a9e",
   "metadata": {
    "papermill": {
     "duration": 0.130069,
     "end_time": "2022-11-22T11:29:36.973545",
     "exception": false,
     "start_time": "2022-11-22T11:29:36.843476",
     "status": "completed"
    },
    "tags": []
   },
   "source": [
    "Let's train a new model now, using this updated function to calculate predictions:"
   ]
  },
  {
   "cell_type": "code",
   "execution_count": 49,
   "id": "77655175",
   "metadata": {
    "execution": {
     "iopub.execute_input": "2022-11-22T11:29:37.233390Z",
     "iopub.status.busy": "2022-11-22T11:29:37.233072Z",
     "iopub.status.idle": "2022-11-22T11:29:37.256879Z",
     "shell.execute_reply": "2022-11-22T11:29:37.255744Z"
    },
    "papermill": {
     "duration": 0.155278,
     "end_time": "2022-11-22T11:29:37.258890",
     "exception": false,
     "start_time": "2022-11-22T11:29:37.103612",
     "status": "completed"
    },
    "tags": []
   },
   "outputs": [
    {
     "name": "stdout",
     "output_type": "stream",
     "text": [
      "0.510; 0.327; 0.294; 0.207; 0.201; 0.199; 0.198; 0.197; 0.196; 0.196; 0.196; 0.195; 0.195; 0.195; 0.195; 0.195; 0.195; 0.195; 0.194; 0.194; 0.194; 0.194; 0.194; 0.194; 0.194; 0.194; 0.194; 0.194; 0.194; 0.194; "
     ]
    }
   ],
   "source": [
    "coeffs = train_model(lr=100)"
   ]
  },
  {
   "cell_type": "markdown",
   "id": "fa48e581",
   "metadata": {
    "papermill": {
     "duration": 0.127786,
     "end_time": "2022-11-22T11:29:37.515892",
     "exception": false,
     "start_time": "2022-11-22T11:29:37.388106",
     "status": "completed"
    },
    "tags": []
   },
   "source": [
    "The loss has improved by a lot. Let's check the accuracy:"
   ]
  },
  {
   "cell_type": "code",
   "execution_count": 50,
   "id": "da7c1ef8",
   "metadata": {
    "execution": {
     "iopub.execute_input": "2022-11-22T11:29:37.774865Z",
     "iopub.status.busy": "2022-11-22T11:29:37.774335Z",
     "iopub.status.idle": "2022-11-22T11:29:37.780912Z",
     "shell.execute_reply": "2022-11-22T11:29:37.779908Z"
    },
    "papermill": {
     "duration": 0.13701,
     "end_time": "2022-11-22T11:29:37.783101",
     "exception": false,
     "start_time": "2022-11-22T11:29:37.646091",
     "status": "completed"
    },
    "tags": []
   },
   "outputs": [
    {
     "data": {
      "text/plain": [
       "tensor(0.8258)"
      ]
     },
     "execution_count": 50,
     "metadata": {},
     "output_type": "execute_result"
    }
   ],
   "source": [
    "acc(coeffs)"
   ]
  },
  {
   "cell_type": "markdown",
   "id": "5a723fee",
   "metadata": {
    "papermill": {
     "duration": 0.129676,
     "end_time": "2022-11-22T11:29:38.041198",
     "exception": false,
     "start_time": "2022-11-22T11:29:37.911522",
     "status": "completed"
    },
    "tags": []
   },
   "source": [
    "That's improved too! Here's the coefficients of our trained model:"
   ]
  },
  {
   "cell_type": "code",
   "execution_count": 51,
   "id": "2a18d6d4",
   "metadata": {
    "execution": {
     "iopub.execute_input": "2022-11-22T11:29:38.373840Z",
     "iopub.status.busy": "2022-11-22T11:29:38.373523Z",
     "iopub.status.idle": "2022-11-22T11:29:38.381770Z",
     "shell.execute_reply": "2022-11-22T11:29:38.381196Z"
    },
    "papermill": {
     "duration": 0.211093,
     "end_time": "2022-11-22T11:29:38.383573",
     "exception": false,
     "start_time": "2022-11-22T11:29:38.172480",
     "status": "completed"
    },
    "tags": []
   },
   "outputs": [
    {
     "data": {
      "text/plain": [
       "{'Age': tensor(-1.5061),\n",
       " 'SibSp': tensor(-1.1575),\n",
       " 'Parch': tensor(-0.4267),\n",
       " 'LogFare': tensor(0.2543),\n",
       " 'Sex_male': tensor(-10.3320),\n",
       " 'Sex_female': tensor(8.4185),\n",
       " 'Pclass_1': tensor(3.8389),\n",
       " 'Pclass_2': tensor(2.1398),\n",
       " 'Pclass_3': tensor(-6.2331),\n",
       " 'Embarked_C': tensor(1.4771),\n",
       " 'Embarked_Q': tensor(2.1168),\n",
       " 'Embarked_S': tensor(-4.7958)}"
      ]
     },
     "execution_count": 51,
     "metadata": {},
     "output_type": "execute_result"
    }
   ],
   "source": [
    "show_coeffs()"
   ]
  },
  {
   "cell_type": "markdown",
   "id": "94dfef12",
   "metadata": {
    "papermill": {
     "duration": 0.132342,
     "end_time": "2022-11-22T11:29:38.647652",
     "exception": false,
     "start_time": "2022-11-22T11:29:38.515310",
     "status": "completed"
    },
    "tags": []
   },
   "source": [
    "These coefficients seem reasonable -- in general, older people and males were less likely to survive, and first class passengers were more likely to survive."
   ]
  },
  {
   "cell_type": "markdown",
   "id": "543e82ad",
   "metadata": {
    "papermill": {
     "duration": 0.130023,
     "end_time": "2022-11-22T11:29:38.909672",
     "exception": false,
     "start_time": "2022-11-22T11:29:38.779649",
     "status": "completed"
    },
    "tags": []
   },
   "source": [
    "## Submitting to Kaggle"
   ]
  },
  {
   "cell_type": "markdown",
   "id": "35cb7232",
   "metadata": {
    "papermill": {
     "duration": 0.130531,
     "end_time": "2022-11-22T11:29:39.169700",
     "exception": false,
     "start_time": "2022-11-22T11:29:39.039169",
     "status": "completed"
    },
    "tags": []
   },
   "source": [
    "Now that we've got a trained model, we can prepare a submission to Kaggle. To do that, first we need to read the test set:"
   ]
  },
  {
   "cell_type": "code",
   "execution_count": 52,
   "id": "55bf45f5",
   "metadata": {
    "execution": {
     "iopub.execute_input": "2022-11-22T11:29:39.436351Z",
     "iopub.status.busy": "2022-11-22T11:29:39.436060Z",
     "iopub.status.idle": "2022-11-22T11:29:39.451011Z",
     "shell.execute_reply": "2022-11-22T11:29:39.450284Z"
    },
    "papermill": {
     "duration": 0.149604,
     "end_time": "2022-11-22T11:29:39.453349",
     "exception": false,
     "start_time": "2022-11-22T11:29:39.303745",
     "status": "completed"
    },
    "tags": []
   },
   "outputs": [],
   "source": [
    "tst_df = pd.read_csv(path/'test.csv')"
   ]
  },
  {
   "cell_type": "markdown",
   "id": "484f7c92",
   "metadata": {
    "papermill": {
     "duration": 0.128961,
     "end_time": "2022-11-22T11:29:39.714465",
     "exception": false,
     "start_time": "2022-11-22T11:29:39.585504",
     "status": "completed"
    },
    "tags": []
   },
   "source": [
    "In this case, it turns out that the test set is missing `Fare` for one passenger. We'll just fill it with `0` to avoid problems:"
   ]
  },
  {
   "cell_type": "code",
   "execution_count": 53,
   "id": "027f5b3e",
   "metadata": {
    "execution": {
     "iopub.execute_input": "2022-11-22T11:29:39.981748Z",
     "iopub.status.busy": "2022-11-22T11:29:39.981236Z",
     "iopub.status.idle": "2022-11-22T11:29:39.985492Z",
     "shell.execute_reply": "2022-11-22T11:29:39.984929Z"
    },
    "papermill": {
     "duration": 0.140846,
     "end_time": "2022-11-22T11:29:39.987361",
     "exception": false,
     "start_time": "2022-11-22T11:29:39.846515",
     "status": "completed"
    },
    "tags": []
   },
   "outputs": [],
   "source": [
    "tst_df['Fare'] = tst_df.Fare.fillna(0)"
   ]
  },
  {
   "cell_type": "markdown",
   "id": "514089be",
   "metadata": {
    "papermill": {
     "duration": 0.1303,
     "end_time": "2022-11-22T11:29:40.248672",
     "exception": false,
     "start_time": "2022-11-22T11:29:40.118372",
     "status": "completed"
    },
    "tags": []
   },
   "source": [
    "Now we can just copy the same steps we did to our training set and do the same exact things on our test set to preprocess the data:"
   ]
  },
  {
   "cell_type": "code",
   "execution_count": 54,
   "id": "d2677748",
   "metadata": {
    "execution": {
     "iopub.execute_input": "2022-11-22T11:29:40.507355Z",
     "iopub.status.busy": "2022-11-22T11:29:40.506568Z",
     "iopub.status.idle": "2022-11-22T11:29:40.522582Z",
     "shell.execute_reply": "2022-11-22T11:29:40.522000Z"
    },
    "papermill": {
     "duration": 0.148483,
     "end_time": "2022-11-22T11:29:40.524744",
     "exception": false,
     "start_time": "2022-11-22T11:29:40.376261",
     "status": "completed"
    },
    "tags": []
   },
   "outputs": [],
   "source": [
    "tst_df.fillna(modes, inplace=True)\n",
    "tst_df['LogFare'] = np.log(tst_df['Fare']+1)\n",
    "tst_df = pd.get_dummies(tst_df, columns=[\"Sex\",\"Pclass\",\"Embarked\"])\n",
    "\n",
    "tst_indep = tensor(tst_df[indep_cols].values, dtype=torch.float)\n",
    "tst_indep = tst_indep / vals"
   ]
  },
  {
   "cell_type": "markdown",
   "id": "c4ad1636",
   "metadata": {
    "papermill": {
     "duration": 0.152763,
     "end_time": "2022-11-22T11:29:40.807152",
     "exception": false,
     "start_time": "2022-11-22T11:29:40.654389",
     "status": "completed"
    },
    "tags": []
   },
   "source": [
    "Let's calculate our predictions of which passengers survived in the test set:"
   ]
  },
  {
   "cell_type": "code",
   "execution_count": 55,
   "id": "e04cd446",
   "metadata": {
    "execution": {
     "iopub.execute_input": "2022-11-22T11:29:41.075026Z",
     "iopub.status.busy": "2022-11-22T11:29:41.074526Z",
     "iopub.status.idle": "2022-11-22T11:29:41.079227Z",
     "shell.execute_reply": "2022-11-22T11:29:41.078513Z"
    },
    "papermill": {
     "duration": 0.137848,
     "end_time": "2022-11-22T11:29:41.081334",
     "exception": false,
     "start_time": "2022-11-22T11:29:40.943486",
     "status": "completed"
    },
    "tags": []
   },
   "outputs": [],
   "source": [
    "tst_df['Survived'] = (calc_preds(tst_indep, coeffs)>0.5).int()"
   ]
  },
  {
   "cell_type": "markdown",
   "id": "01bb67f8",
   "metadata": {
    "papermill": {
     "duration": 0.133286,
     "end_time": "2022-11-22T11:29:41.344417",
     "exception": false,
     "start_time": "2022-11-22T11:29:41.211131",
     "status": "completed"
    },
    "tags": []
   },
   "source": [
    "The sample submission on the Kaggle competition site shows that we're expected to upload a CSV with just `PassengerId` and `Survived`, so let's create that and save it:"
   ]
  },
  {
   "cell_type": "code",
   "execution_count": 56,
   "id": "3e819f00",
   "metadata": {
    "execution": {
     "iopub.execute_input": "2022-11-22T11:29:41.611369Z",
     "iopub.status.busy": "2022-11-22T11:29:41.610895Z",
     "iopub.status.idle": "2022-11-22T11:29:41.621291Z",
     "shell.execute_reply": "2022-11-22T11:29:41.620682Z"
    },
    "papermill": {
     "duration": 0.147457,
     "end_time": "2022-11-22T11:29:41.623449",
     "exception": false,
     "start_time": "2022-11-22T11:29:41.475992",
     "status": "completed"
    },
    "tags": []
   },
   "outputs": [],
   "source": [
    "sub_df = tst_df[['PassengerId','Survived']]\n",
    "sub_df.to_csv('sub.csv', index=False)"
   ]
  },
  {
   "cell_type": "markdown",
   "id": "1a50bf02",
   "metadata": {
    "papermill": {
     "duration": 0.134949,
     "end_time": "2022-11-22T11:29:41.888091",
     "exception": false,
     "start_time": "2022-11-22T11:29:41.753142",
     "status": "completed"
    },
    "tags": []
   },
   "source": [
    "We can check the first few rows of the file to make sure it looks reasonable:"
   ]
  },
  {
   "cell_type": "code",
   "execution_count": 57,
   "id": "1b8a9a53",
   "metadata": {
    "execution": {
     "iopub.execute_input": "2022-11-22T11:29:42.148201Z",
     "iopub.status.busy": "2022-11-22T11:29:42.147727Z",
     "iopub.status.idle": "2022-11-22T11:29:43.240752Z",
     "shell.execute_reply": "2022-11-22T11:29:43.239565Z"
    },
    "papermill": {
     "duration": 1.226268,
     "end_time": "2022-11-22T11:29:43.243430",
     "exception": false,
     "start_time": "2022-11-22T11:29:42.017162",
     "status": "completed"
    },
    "tags": []
   },
   "outputs": [
    {
     "name": "stdout",
     "output_type": "stream",
     "text": [
      "PassengerId,Survived\r\n",
      "892,0\r\n",
      "893,0\r\n",
      "894,0\r\n",
      "895,0\r\n",
      "896,0\r\n",
      "897,0\r\n",
      "898,1\r\n",
      "899,0\r\n",
      "900,1\r\n"
     ]
    }
   ],
   "source": [
    "!head sub.csv"
   ]
  },
  {
   "cell_type": "markdown",
   "id": "2ea5c2bd",
   "metadata": {
    "papermill": {
     "duration": 0.132213,
     "end_time": "2022-11-22T11:29:43.506288",
     "exception": false,
     "start_time": "2022-11-22T11:29:43.374075",
     "status": "completed"
    },
    "tags": []
   },
   "source": [
    "When you click \"save version\" in Kaggle, and wait for the notebook to run, you'll see that `sub.csv` appears in the \"Data\" tab. Clicking on that file will show a *Submit* button, which allows you to submit to the competition."
   ]
  },
  {
   "cell_type": "markdown",
   "id": "01f93c16",
   "metadata": {
    "papermill": {
     "duration": 0.132196,
     "end_time": "2022-11-22T11:29:43.768301",
     "exception": false,
     "start_time": "2022-11-22T11:29:43.636105",
     "status": "completed"
    },
    "tags": []
   },
   "source": [
    "## Using matrix product"
   ]
  },
  {
   "cell_type": "markdown",
   "id": "4f5593af",
   "metadata": {
    "papermill": {
     "duration": 0.130094,
     "end_time": "2022-11-22T11:29:44.029925",
     "exception": false,
     "start_time": "2022-11-22T11:29:43.899831",
     "status": "completed"
    },
    "tags": []
   },
   "source": [
    "We can make things quite a bit neater...\n",
    "\n",
    "Take a look at the inner-most calculation we're doing to get the predictions:"
   ]
  },
  {
   "cell_type": "code",
   "execution_count": 58,
   "id": "3b349588",
   "metadata": {
    "execution": {
     "iopub.execute_input": "2022-11-22T11:29:44.292387Z",
     "iopub.status.busy": "2022-11-22T11:29:44.292031Z",
     "iopub.status.idle": "2022-11-22T11:29:44.303080Z",
     "shell.execute_reply": "2022-11-22T11:29:44.302277Z"
    },
    "papermill": {
     "duration": 0.142814,
     "end_time": "2022-11-22T11:29:44.304989",
     "exception": false,
     "start_time": "2022-11-22T11:29:44.162175",
     "status": "completed"
    },
    "tags": []
   },
   "outputs": [
    {
     "data": {
      "text/plain": [
       "tensor([ 12.3288, -14.8119, -15.4540, -13.1513, -13.3512, -13.6469,   3.6248,   5.3429, -22.0878,   3.1233, -21.8742, -15.6421, -21.5504,\n",
       "          3.9393, -21.9190, -12.0010, -12.3775,   5.3550, -13.5880,  -3.1015, -21.7237, -12.2081,  12.9767,   4.7427, -21.6525, -14.9135,\n",
       "         -2.7433, -12.3210, -21.5886,   3.9387,   5.3890,  -3.6196, -21.6296, -21.8454,  12.2159,  -3.2275, -12.0289,  13.4560, -21.7230,\n",
       "         -3.1366, -13.2462, -21.7230, -13.6831,  13.3092, -21.6477,  -3.5868, -21.6854, -21.8316, -14.8158,  -2.9386,  -5.3103, -22.2384,\n",
       "        -22.1097, -21.7466, -13.3780, -13.4909, -14.8119, -22.0690, -21.6666, -21.7818,  -5.4439, -21.7407, -12.6551, -21.6671,   4.9238,\n",
       "        -11.5777, -13.3323, -21.9638, -15.3030,   5.0243, -21.7614,   3.1820, -13.4721, -21.7170, -11.6066, -21.5737, -21.7230, -11.9652,\n",
       "        -13.2382, -13.7599, -13.2170,  13.1347, -21.7049, -21.7268,   4.9207,  -7.3198,  -5.3081,   7.1065,  11.4948, -13.3135, -21.8723,\n",
       "        -21.7230,  13.3603, -15.5670,   3.4105,  -7.2857, -13.7197,   3.6909,   3.9763, -14.7227, -21.8268,   3.9387, -21.8743, -21.8367,\n",
       "        -11.8518, -13.6712, -21.8299,   4.9440,  -5.4471, -21.9666,   5.1333,  -3.2187, -11.6008,  13.7920, -21.7230,  12.6369,  -3.7268,\n",
       "        -14.8119, -22.0637,  12.9468, -22.1610,  -6.1827, -14.8119,  -3.2838, -15.4540, -11.6950,  -2.9926,  -3.0110, -21.5664, -13.8268,\n",
       "          7.3426, -21.8418,   5.0744,   5.2582,  13.3415, -21.6289, -13.9898, -21.8112,  -7.3316,   5.2296, -13.4453,  12.7891, -22.1235,\n",
       "        -14.9625,  -3.4339,   6.3089, -21.9839,   3.1968,   7.2400,   2.8558,  -3.1187,   3.7965,   5.4667, -15.1101, -15.0597, -22.9391,\n",
       "        -21.7230,  -3.0346, -13.5206, -21.7011,  13.4425,  -7.2690, -21.8335, -12.0582,  13.0489,   6.7993,   5.2160,   5.0794, -12.6957,\n",
       "        -12.1838,  -3.0873, -21.6070,   7.0744, -21.7170, -22.1001,   6.8159, -11.6002, -21.6310])"
      ]
     },
     "execution_count": 58,
     "metadata": {},
     "output_type": "execute_result"
    }
   ],
   "source": [
    "(val_indep*coeffs).sum(axis=1)"
   ]
  },
  {
   "cell_type": "markdown",
   "id": "f8af5360",
   "metadata": {
    "papermill": {
     "duration": 0.131867,
     "end_time": "2022-11-22T11:29:44.566362",
     "exception": false,
     "start_time": "2022-11-22T11:29:44.434495",
     "status": "completed"
    },
    "tags": []
   },
   "source": [
    "Multiplying elements together and then adding across rows is identical to doing a matrix-vector product! Python uses the `@` operator to indicate matrix products, and is supported by PyTorch tensors. Therefore, we can replicate the above calculate more simply like so:"
   ]
  },
  {
   "cell_type": "code",
   "execution_count": 59,
   "id": "6d3edad6",
   "metadata": {
    "execution": {
     "iopub.execute_input": "2022-11-22T11:29:44.825535Z",
     "iopub.status.busy": "2022-11-22T11:29:44.825248Z",
     "iopub.status.idle": "2022-11-22T11:29:44.838646Z",
     "shell.execute_reply": "2022-11-22T11:29:44.838027Z"
    },
    "papermill": {
     "duration": 0.145279,
     "end_time": "2022-11-22T11:29:44.840802",
     "exception": false,
     "start_time": "2022-11-22T11:29:44.695523",
     "status": "completed"
    },
    "tags": []
   },
   "outputs": [
    {
     "data": {
      "text/plain": [
       "tensor([ 12.3288, -14.8119, -15.4540, -13.1513, -13.3511, -13.6468,   3.6248,   5.3429, -22.0878,   3.1233, -21.8742, -15.6421, -21.5504,\n",
       "          3.9393, -21.9190, -12.0010, -12.3775,   5.3550, -13.5880,  -3.1015, -21.7237, -12.2081,  12.9767,   4.7427, -21.6525, -14.9135,\n",
       "         -2.7433, -12.3210, -21.5886,   3.9387,   5.3890,  -3.6196, -21.6296, -21.8454,  12.2159,  -3.2275, -12.0289,  13.4560, -21.7230,\n",
       "         -3.1366, -13.2462, -21.7230, -13.6831,  13.3092, -21.6477,  -3.5868, -21.6854, -21.8316, -14.8158,  -2.9386,  -5.3103, -22.2384,\n",
       "        -22.1097, -21.7466, -13.3780, -13.4909, -14.8119, -22.0690, -21.6666, -21.7818,  -5.4439, -21.7407, -12.6551, -21.6671,   4.9238,\n",
       "        -11.5777, -13.3323, -21.9638, -15.3030,   5.0243, -21.7614,   3.1820, -13.4721, -21.7170, -11.6066, -21.5737, -21.7230, -11.9652,\n",
       "        -13.2382, -13.7599, -13.2170,  13.1347, -21.7049, -21.7268,   4.9207,  -7.3198,  -5.3081,   7.1065,  11.4948, -13.3135, -21.8723,\n",
       "        -21.7230,  13.3603, -15.5670,   3.4105,  -7.2857, -13.7197,   3.6909,   3.9763, -14.7227, -21.8268,   3.9387, -21.8743, -21.8367,\n",
       "        -11.8518, -13.6712, -21.8299,   4.9440,  -5.4471, -21.9666,   5.1333,  -3.2187, -11.6008,  13.7920, -21.7230,  12.6369,  -3.7268,\n",
       "        -14.8119, -22.0637,  12.9468, -22.1610,  -6.1827, -14.8119,  -3.2838, -15.4540, -11.6950,  -2.9926,  -3.0110, -21.5664, -13.8268,\n",
       "          7.3426, -21.8418,   5.0744,   5.2582,  13.3415, -21.6289, -13.9898, -21.8112,  -7.3316,   5.2296, -13.4453,  12.7891, -22.1235,\n",
       "        -14.9625,  -3.4339,   6.3089, -21.9839,   3.1968,   7.2400,   2.8558,  -3.1187,   3.7965,   5.4667, -15.1101, -15.0597, -22.9391,\n",
       "        -21.7230,  -3.0346, -13.5206, -21.7011,  13.4425,  -7.2690, -21.8335, -12.0582,  13.0489,   6.7993,   5.2160,   5.0794, -12.6957,\n",
       "        -12.1838,  -3.0873, -21.6070,   7.0744, -21.7170, -22.1001,   6.8159, -11.6002, -21.6310])"
      ]
     },
     "execution_count": 59,
     "metadata": {},
     "output_type": "execute_result"
    }
   ],
   "source": [
    "val_indep@coeffs"
   ]
  },
  {
   "cell_type": "markdown",
   "id": "426a8c1b",
   "metadata": {
    "papermill": {
     "duration": 0.129148,
     "end_time": "2022-11-22T11:29:45.098033",
     "exception": false,
     "start_time": "2022-11-22T11:29:44.968885",
     "status": "completed"
    },
    "tags": []
   },
   "source": [
    "It also turns out that this is much faster, because matrix products in PyTorch are very highly optimised.\n",
    "\n",
    "Let's use this to replace how `calc_preds` works:"
   ]
  },
  {
   "cell_type": "code",
   "execution_count": 60,
   "id": "302a77dd",
   "metadata": {
    "execution": {
     "iopub.execute_input": "2022-11-22T11:29:45.360075Z",
     "iopub.status.busy": "2022-11-22T11:29:45.359458Z",
     "iopub.status.idle": "2022-11-22T11:29:45.364892Z",
     "shell.execute_reply": "2022-11-22T11:29:45.363922Z"
    },
    "papermill": {
     "duration": 0.139242,
     "end_time": "2022-11-22T11:29:45.367300",
     "exception": false,
     "start_time": "2022-11-22T11:29:45.228058",
     "status": "completed"
    },
    "tags": []
   },
   "outputs": [],
   "source": [
    "def calc_preds(coeffs, indeps): return torch.sigmoid(indeps@coeffs)"
   ]
  },
  {
   "cell_type": "markdown",
   "id": "5e34b19d",
   "metadata": {
    "papermill": {
     "duration": 0.131517,
     "end_time": "2022-11-22T11:29:45.627444",
     "exception": false,
     "start_time": "2022-11-22T11:29:45.495927",
     "status": "completed"
    },
    "tags": []
   },
   "source": [
    "In order to do matrix-matrix products (which we'll need in the next section), we need to turn `coeffs` into a column vector (i.e. a matrix with a single column), which we can do by passing a second argument `1` to `torch.rand()`, indicating that we want our coefficients to have one column:"
   ]
  },
  {
   "cell_type": "code",
   "execution_count": 61,
   "id": "3af8d34c",
   "metadata": {
    "execution": {
     "iopub.execute_input": "2022-11-22T11:29:45.892294Z",
     "iopub.status.busy": "2022-11-22T11:29:45.892013Z",
     "iopub.status.idle": "2022-11-22T11:29:45.896172Z",
     "shell.execute_reply": "2022-11-22T11:29:45.895303Z"
    },
    "papermill": {
     "duration": 0.137804,
     "end_time": "2022-11-22T11:29:45.898270",
     "exception": false,
     "start_time": "2022-11-22T11:29:45.760466",
     "status": "completed"
    },
    "tags": []
   },
   "outputs": [],
   "source": [
    "def init_coeffs(): return (torch.rand(n_coeff, 1)*0.1).requires_grad_()"
   ]
  },
  {
   "cell_type": "markdown",
   "id": "e1c12311",
   "metadata": {
    "papermill": {
     "duration": 0.132538,
     "end_time": "2022-11-22T11:29:46.160808",
     "exception": false,
     "start_time": "2022-11-22T11:29:46.028270",
     "status": "completed"
    },
    "tags": []
   },
   "source": [
    "We'll also need to turn our dependent variable into a column vector, which we can do by indexing the column dimension with the special value `None`, which tells PyTorch to add a new dimension in this position:"
   ]
  },
  {
   "cell_type": "code",
   "execution_count": 62,
   "id": "ea9f93d6",
   "metadata": {
    "execution": {
     "iopub.execute_input": "2022-11-22T11:29:46.420048Z",
     "iopub.status.busy": "2022-11-22T11:29:46.419728Z",
     "iopub.status.idle": "2022-11-22T11:29:46.423968Z",
     "shell.execute_reply": "2022-11-22T11:29:46.422959Z"
    },
    "papermill": {
     "duration": 0.136469,
     "end_time": "2022-11-22T11:29:46.426077",
     "exception": false,
     "start_time": "2022-11-22T11:29:46.289608",
     "status": "completed"
    },
    "tags": []
   },
   "outputs": [],
   "source": [
    "trn_dep = trn_dep[:,None]\n",
    "val_dep = val_dep[:,None]"
   ]
  },
  {
   "cell_type": "markdown",
   "id": "ab50fab4",
   "metadata": {
    "papermill": {
     "duration": 0.131708,
     "end_time": "2022-11-22T11:29:46.688133",
     "exception": false,
     "start_time": "2022-11-22T11:29:46.556425",
     "status": "completed"
    },
    "tags": []
   },
   "source": [
    "We can now train our model as before and confirm we get identical outputs...:"
   ]
  },
  {
   "cell_type": "code",
   "execution_count": 63,
   "id": "881b7b65",
   "metadata": {
    "execution": {
     "iopub.execute_input": "2022-11-22T11:29:46.951437Z",
     "iopub.status.busy": "2022-11-22T11:29:46.951145Z",
     "iopub.status.idle": "2022-11-22T11:29:46.975724Z",
     "shell.execute_reply": "2022-11-22T11:29:46.974822Z"
    },
    "papermill": {
     "duration": 0.156559,
     "end_time": "2022-11-22T11:29:46.978008",
     "exception": false,
     "start_time": "2022-11-22T11:29:46.821449",
     "status": "completed"
    },
    "tags": []
   },
   "outputs": [
    {
     "name": "stdout",
     "output_type": "stream",
     "text": [
      "0.512; 0.323; 0.290; 0.205; 0.200; 0.198; 0.197; 0.197; 0.196; 0.196; 0.196; 0.195; 0.195; 0.195; 0.195; 0.195; 0.195; 0.194; 0.194; 0.194; 0.194; 0.194; 0.194; 0.194; 0.194; 0.194; 0.194; 0.194; 0.194; 0.194; "
     ]
    }
   ],
   "source": [
    "coeffs = train_model(lr=100)"
   ]
  },
  {
   "cell_type": "markdown",
   "id": "d8747bea",
   "metadata": {
    "papermill": {
     "duration": 0.129595,
     "end_time": "2022-11-22T11:29:47.242384",
     "exception": false,
     "start_time": "2022-11-22T11:29:47.112789",
     "status": "completed"
    },
    "tags": []
   },
   "source": [
    "...and identical accuracy:"
   ]
  },
  {
   "cell_type": "code",
   "execution_count": 64,
   "id": "5137bfa7",
   "metadata": {
    "execution": {
     "iopub.execute_input": "2022-11-22T11:29:47.502901Z",
     "iopub.status.busy": "2022-11-22T11:29:47.502054Z",
     "iopub.status.idle": "2022-11-22T11:29:47.508443Z",
     "shell.execute_reply": "2022-11-22T11:29:47.507843Z"
    },
    "papermill": {
     "duration": 0.13875,
     "end_time": "2022-11-22T11:29:47.510329",
     "exception": false,
     "start_time": "2022-11-22T11:29:47.371579",
     "status": "completed"
    },
    "tags": []
   },
   "outputs": [
    {
     "data": {
      "text/plain": [
       "tensor(0.8258)"
      ]
     },
     "execution_count": 64,
     "metadata": {},
     "output_type": "execute_result"
    }
   ],
   "source": [
    "acc(coeffs)"
   ]
  },
  {
   "cell_type": "markdown",
   "id": "d173f867",
   "metadata": {
    "papermill": {
     "duration": 0.130302,
     "end_time": "2022-11-22T11:29:47.773410",
     "exception": false,
     "start_time": "2022-11-22T11:29:47.643108",
     "status": "completed"
    },
    "tags": []
   },
   "source": [
    "## A neural network"
   ]
  },
  {
   "cell_type": "markdown",
   "id": "4c43fd74",
   "metadata": {
    "papermill": {
     "duration": 0.133817,
     "end_time": "2022-11-22T11:29:48.037151",
     "exception": false,
     "start_time": "2022-11-22T11:29:47.903334",
     "status": "completed"
    },
    "tags": []
   },
   "source": [
    "We've now got what we need to implement our neural network.\n",
    "\n",
    "First, we'll need to create coefficients for each of our layers. Our first set of coefficients will take our `n_coeff` inputs, and create `n_hidden` outputs. We can choose whatever `n_hidden` we like -- a higher number gives our network more flexibility, but makes it slower and harder to train. So we need a matrix of size `n_coeff` by `n_hidden`. We'll divide these coefficients by `n_hidden` so that when we sum them up in the next layer we'll end up with similar magnitude numbers to what we started with.\n",
    "\n",
    "Then our second layer will need to take the `n_hidden` inputs and create a single output, so that means we need a `n_hidden` by `1` matrix there. The second layer will also need a constant term added."
   ]
  },
  {
   "cell_type": "code",
   "execution_count": 65,
   "id": "3f38529b",
   "metadata": {
    "execution": {
     "iopub.execute_input": "2022-11-22T11:29:48.300163Z",
     "iopub.status.busy": "2022-11-22T11:29:48.299616Z",
     "iopub.status.idle": "2022-11-22T11:29:48.304871Z",
     "shell.execute_reply": "2022-11-22T11:29:48.304139Z"
    },
    "papermill": {
     "duration": 0.13818,
     "end_time": "2022-11-22T11:29:48.306714",
     "exception": false,
     "start_time": "2022-11-22T11:29:48.168534",
     "status": "completed"
    },
    "tags": []
   },
   "outputs": [],
   "source": [
    "def init_coeffs(n_hidden=20):\n",
    "    layer1 = (torch.rand(n_coeff, n_hidden)-0.5)/n_hidden\n",
    "    layer2 = torch.rand(n_hidden, 1)-0.3\n",
    "    const = torch.rand(1)[0]\n",
    "    return layer1.requires_grad_(),layer2.requires_grad_(),const.requires_grad_()"
   ]
  },
  {
   "cell_type": "markdown",
   "id": "f58b252c",
   "metadata": {
    "papermill": {
     "duration": 0.129304,
     "end_time": "2022-11-22T11:29:48.566000",
     "exception": false,
     "start_time": "2022-11-22T11:29:48.436696",
     "status": "completed"
    },
    "tags": []
   },
   "source": [
    "Now we have our coefficients, we can create our neural net. The key steps are the two matrix products, `indeps@l1` and `res@l2` (where `res` is the output of the first layer). The first layer output is passed to `F.relu` (that's our non-linearity), and the second is passed to `torch.sigmoid` as before."
   ]
  },
  {
   "cell_type": "code",
   "execution_count": 66,
   "id": "b0cb74aa",
   "metadata": {
    "execution": {
     "iopub.execute_input": "2022-11-22T11:29:48.830082Z",
     "iopub.status.busy": "2022-11-22T11:29:48.829761Z",
     "iopub.status.idle": "2022-11-22T11:29:48.834903Z",
     "shell.execute_reply": "2022-11-22T11:29:48.834018Z"
    },
    "papermill": {
     "duration": 0.140456,
     "end_time": "2022-11-22T11:29:48.836837",
     "exception": false,
     "start_time": "2022-11-22T11:29:48.696381",
     "status": "completed"
    },
    "tags": []
   },
   "outputs": [],
   "source": [
    "import torch.nn.functional as F\n",
    "\n",
    "def calc_preds(coeffs, indeps):\n",
    "    l1,l2,const = coeffs\n",
    "    res = F.relu(indeps@l1)\n",
    "    res = res@l2 + const\n",
    "    return torch.sigmoid(res)"
   ]
  },
  {
   "cell_type": "markdown",
   "id": "1eb3154c",
   "metadata": {
    "papermill": {
     "duration": 0.131553,
     "end_time": "2022-11-22T11:29:49.101589",
     "exception": false,
     "start_time": "2022-11-22T11:29:48.970036",
     "status": "completed"
    },
    "tags": []
   },
   "source": [
    "Finally, now that we have more than one set of coefficients, we need to add a loop to update each one:"
   ]
  },
  {
   "cell_type": "code",
   "execution_count": 67,
   "id": "6f696319",
   "metadata": {
    "execution": {
     "iopub.execute_input": "2022-11-22T11:29:49.363738Z",
     "iopub.status.busy": "2022-11-22T11:29:49.363426Z",
     "iopub.status.idle": "2022-11-22T11:29:49.368516Z",
     "shell.execute_reply": "2022-11-22T11:29:49.367575Z"
    },
    "papermill": {
     "duration": 0.139127,
     "end_time": "2022-11-22T11:29:49.370732",
     "exception": false,
     "start_time": "2022-11-22T11:29:49.231605",
     "status": "completed"
    },
    "tags": []
   },
   "outputs": [],
   "source": [
    "def update_coeffs(coeffs, lr):\n",
    "    for layer in coeffs:\n",
    "        layer.sub_(layer.grad * lr)\n",
    "        layer.grad.zero_()"
   ]
  },
  {
   "cell_type": "markdown",
   "id": "ef4cd47a",
   "metadata": {
    "papermill": {
     "duration": 0.128542,
     "end_time": "2022-11-22T11:29:49.629772",
     "exception": false,
     "start_time": "2022-11-22T11:29:49.501230",
     "status": "completed"
    },
    "tags": []
   },
   "source": [
    "That's it -- we're now ready to train our model!"
   ]
  },
  {
   "cell_type": "code",
   "execution_count": 68,
   "id": "5c43e16d",
   "metadata": {
    "execution": {
     "iopub.execute_input": "2022-11-22T11:29:49.893377Z",
     "iopub.status.busy": "2022-11-22T11:29:49.893078Z",
     "iopub.status.idle": "2022-11-22T11:29:49.927739Z",
     "shell.execute_reply": "2022-11-22T11:29:49.926757Z"
    },
    "papermill": {
     "duration": 0.170482,
     "end_time": "2022-11-22T11:29:49.930015",
     "exception": false,
     "start_time": "2022-11-22T11:29:49.759533",
     "status": "completed"
    },
    "tags": []
   },
   "outputs": [
    {
     "name": "stdout",
     "output_type": "stream",
     "text": [
      "0.543; 0.532; 0.520; 0.505; 0.487; 0.466; 0.439; 0.407; 0.373; 0.343; 0.319; 0.301; 0.286; 0.274; 0.264; 0.256; 0.250; 0.245; 0.240; 0.237; 0.234; 0.231; 0.229; 0.227; 0.226; 0.224; 0.223; 0.222; 0.221; 0.220; "
     ]
    }
   ],
   "source": [
    "coeffs = train_model(lr=1.4)"
   ]
  },
  {
   "cell_type": "code",
   "execution_count": 69,
   "id": "dc215225",
   "metadata": {
    "execution": {
     "iopub.execute_input": "2022-11-22T11:29:50.197586Z",
     "iopub.status.busy": "2022-11-22T11:29:50.197321Z",
     "iopub.status.idle": "2022-11-22T11:29:50.224554Z",
     "shell.execute_reply": "2022-11-22T11:29:50.223656Z"
    },
    "papermill": {
     "duration": 0.163822,
     "end_time": "2022-11-22T11:29:50.226782",
     "exception": false,
     "start_time": "2022-11-22T11:29:50.062960",
     "status": "completed"
    },
    "tags": []
   },
   "outputs": [
    {
     "name": "stdout",
     "output_type": "stream",
     "text": [
      "0.543; 0.400; 0.260; 0.390; 0.221; 0.211; 0.197; 0.195; 0.193; 0.193; 0.193; 0.193; 0.193; 0.193; 0.193; 0.193; 0.193; 0.192; 0.192; 0.192; 0.192; 0.192; 0.192; 0.192; 0.192; 0.192; 0.192; 0.192; 0.192; 0.192; "
     ]
    }
   ],
   "source": [
    "coeffs = train_model(lr=20)"
   ]
  },
  {
   "cell_type": "markdown",
   "id": "c6be4685",
   "metadata": {
    "papermill": {
     "duration": 0.13257,
     "end_time": "2022-11-22T11:29:50.495434",
     "exception": false,
     "start_time": "2022-11-22T11:29:50.362864",
     "status": "completed"
    },
    "tags": []
   },
   "source": [
    "It's looking good -- our loss is lower than before. Let's see if that translates to a better result on the validation set:"
   ]
  },
  {
   "cell_type": "code",
   "execution_count": 70,
   "id": "48689f02",
   "metadata": {
    "execution": {
     "iopub.execute_input": "2022-11-22T11:29:50.766336Z",
     "iopub.status.busy": "2022-11-22T11:29:50.766044Z",
     "iopub.status.idle": "2022-11-22T11:29:50.772300Z",
     "shell.execute_reply": "2022-11-22T11:29:50.771594Z"
    },
    "papermill": {
     "duration": 0.1439,
     "end_time": "2022-11-22T11:29:50.774412",
     "exception": false,
     "start_time": "2022-11-22T11:29:50.630512",
     "status": "completed"
    },
    "tags": []
   },
   "outputs": [
    {
     "data": {
      "text/plain": [
       "tensor(0.8258)"
      ]
     },
     "execution_count": 70,
     "metadata": {},
     "output_type": "execute_result"
    }
   ],
   "source": [
    "acc(coeffs)"
   ]
  },
  {
   "cell_type": "markdown",
   "id": "0c65a2a3",
   "metadata": {
    "papermill": {
     "duration": 0.132419,
     "end_time": "2022-11-22T11:29:51.039760",
     "exception": false,
     "start_time": "2022-11-22T11:29:50.907341",
     "status": "completed"
    },
    "tags": []
   },
   "source": [
    "In this case our neural net isn't showing better results than the linear model. That's not surprising; this dataset is very small and very simple, and isn't the kind of thing we'd expect to see neural networks excel at. Furthermore, our validation set is too small to reliably see much accuracy difference. But the key thing is that we now know exactly what a real neural net looks like!"
   ]
  },
  {
   "cell_type": "markdown",
   "id": "c2596865",
   "metadata": {
    "papermill": {
     "duration": 0.131373,
     "end_time": "2022-11-22T11:29:51.303913",
     "exception": false,
     "start_time": "2022-11-22T11:29:51.172540",
     "status": "completed"
    },
    "tags": []
   },
   "source": [
    "## Deep learning"
   ]
  },
  {
   "cell_type": "markdown",
   "id": "83151529",
   "metadata": {
    "papermill": {
     "duration": 0.130216,
     "end_time": "2022-11-22T11:29:51.566782",
     "exception": false,
     "start_time": "2022-11-22T11:29:51.436566",
     "status": "completed"
    },
    "tags": []
   },
   "source": [
    "The neural net in the previous section only uses one hidden layer, so it doesn't count as \"deep\" learning. But we can use the exact same technique to make our neural net deep, by adding more matrix multiplications.\n",
    "\n",
    "First, we'll need to create additional coefficients for each layer:"
   ]
  },
  {
   "cell_type": "code",
   "execution_count": 71,
   "id": "a7e7aca3",
   "metadata": {
    "execution": {
     "iopub.execute_input": "2022-11-22T11:29:51.864608Z",
     "iopub.status.busy": "2022-11-22T11:29:51.864121Z",
     "iopub.status.idle": "2022-11-22T11:29:51.870540Z",
     "shell.execute_reply": "2022-11-22T11:29:51.869630Z"
    },
    "papermill": {
     "duration": 0.174253,
     "end_time": "2022-11-22T11:29:51.872748",
     "exception": false,
     "start_time": "2022-11-22T11:29:51.698495",
     "status": "completed"
    },
    "tags": []
   },
   "outputs": [],
   "source": [
    "def init_coeffs():\n",
    "    hiddens = [10, 10]  # <-- set this to the size of each hidden layer you want\n",
    "    sizes = [n_coeff] + hiddens + [1]\n",
    "    n = len(sizes)\n",
    "    layers = [(torch.rand(sizes[i], sizes[i+1])-0.3)/sizes[i+1]*4 for i in range(n-1)]\n",
    "    consts = [(torch.rand(1)[0]-0.5)*0.1 for i in range(n-1)]\n",
    "    for l in layers+consts: l.requires_grad_()\n",
    "    return layers,consts"
   ]
  },
  {
   "cell_type": "markdown",
   "id": "6b487eac",
   "metadata": {
    "papermill": {
     "duration": 0.133161,
     "end_time": "2022-11-22T11:29:52.137041",
     "exception": false,
     "start_time": "2022-11-22T11:29:52.003880",
     "status": "completed"
    },
    "tags": []
   },
   "source": [
    "You'll notice here that there's a lot of messy constants to get the random numbers in just the right ranges. When you train the model in a moment, you'll see that the tiniest changes to these initialisations can cause our model to fail to train at all! This is a key reason that deep learning failed to make much progress in the early days -- it's very finicky to get a good starting point for our coefficients. Nowadays, we have ways to deal with that, which we'll learn about in other notebooks.\n",
    "\n",
    "Our deep learning `calc_preds` looks much the same as before, but now we loop through each layer, instead of listing them separately:"
   ]
  },
  {
   "cell_type": "code",
   "execution_count": 72,
   "id": "90954222",
   "metadata": {
    "execution": {
     "iopub.execute_input": "2022-11-22T11:29:52.401668Z",
     "iopub.status.busy": "2022-11-22T11:29:52.401334Z",
     "iopub.status.idle": "2022-11-22T11:29:52.407209Z",
     "shell.execute_reply": "2022-11-22T11:29:52.406369Z"
    },
    "papermill": {
     "duration": 0.141225,
     "end_time": "2022-11-22T11:29:52.409446",
     "exception": false,
     "start_time": "2022-11-22T11:29:52.268221",
     "status": "completed"
    },
    "tags": []
   },
   "outputs": [],
   "source": [
    "import torch.nn.functional as F\n",
    "\n",
    "def calc_preds(coeffs, indeps):\n",
    "    layers,consts = coeffs\n",
    "    n = len(layers)\n",
    "    res = indeps\n",
    "    for i,l in enumerate(layers):\n",
    "        res = res@l + consts[i]\n",
    "        if i!=n-1: res = F.relu(res)\n",
    "    return torch.sigmoid(res)"
   ]
  },
  {
   "cell_type": "markdown",
   "id": "dba97c44",
   "metadata": {
    "papermill": {
     "duration": 0.129953,
     "end_time": "2022-11-22T11:29:52.670915",
     "exception": false,
     "start_time": "2022-11-22T11:29:52.540962",
     "status": "completed"
    },
    "tags": []
   },
   "source": [
    "We also need a minor update to `update_coeffs` since we've got `layers` and `consts` separated now:"
   ]
  },
  {
   "cell_type": "code",
   "execution_count": 73,
   "id": "620ea477",
   "metadata": {
    "execution": {
     "iopub.execute_input": "2022-11-22T11:29:52.940328Z",
     "iopub.status.busy": "2022-11-22T11:29:52.940007Z",
     "iopub.status.idle": "2022-11-22T11:29:52.944860Z",
     "shell.execute_reply": "2022-11-22T11:29:52.944004Z"
    },
    "papermill": {
     "duration": 0.140486,
     "end_time": "2022-11-22T11:29:52.946966",
     "exception": false,
     "start_time": "2022-11-22T11:29:52.806480",
     "status": "completed"
    },
    "tags": []
   },
   "outputs": [],
   "source": [
    "def update_coeffs(coeffs, lr):\n",
    "    layers,consts = coeffs\n",
    "    for layer in layers+consts:\n",
    "        layer.sub_(layer.grad * lr)\n",
    "        layer.grad.zero_()"
   ]
  },
  {
   "cell_type": "markdown",
   "id": "c2d88f6f",
   "metadata": {
    "papermill": {
     "duration": 0.133697,
     "end_time": "2022-11-22T11:29:53.212093",
     "exception": false,
     "start_time": "2022-11-22T11:29:53.078396",
     "status": "completed"
    },
    "tags": []
   },
   "source": [
    "Let's train our model..."
   ]
  },
  {
   "cell_type": "code",
   "execution_count": 74,
   "id": "c2e5d188",
   "metadata": {
    "execution": {
     "iopub.execute_input": "2022-11-22T11:29:53.479141Z",
     "iopub.status.busy": "2022-11-22T11:29:53.478824Z",
     "iopub.status.idle": "2022-11-22T11:29:53.509778Z",
     "shell.execute_reply": "2022-11-22T11:29:53.509192Z"
    },
    "papermill": {
     "duration": 0.167678,
     "end_time": "2022-11-22T11:29:53.512125",
     "exception": false,
     "start_time": "2022-11-22T11:29:53.344447",
     "status": "completed"
    },
    "tags": []
   },
   "outputs": [
    {
     "name": "stdout",
     "output_type": "stream",
     "text": [
      "0.521; 0.483; 0.427; 0.379; 0.379; 0.379; 0.379; 0.378; 0.378; 0.378; 0.378; 0.378; 0.378; 0.378; 0.378; 0.378; 0.377; 0.376; 0.371; 0.333; 0.239; 0.224; 0.208; 0.204; 0.203; 0.203; 0.207; 0.197; 0.196; 0.195; "
     ]
    }
   ],
   "source": [
    "coeffs = train_model(lr=4)"
   ]
  },
  {
   "cell_type": "markdown",
   "id": "6f073bcc",
   "metadata": {
    "papermill": {
     "duration": 0.134258,
     "end_time": "2022-11-22T11:29:53.779209",
     "exception": false,
     "start_time": "2022-11-22T11:29:53.644951",
     "status": "completed"
    },
    "tags": []
   },
   "source": [
    "...and check its accuracy:"
   ]
  },
  {
   "cell_type": "code",
   "execution_count": 75,
   "id": "49f13699",
   "metadata": {
    "execution": {
     "iopub.execute_input": "2022-11-22T11:29:54.045565Z",
     "iopub.status.busy": "2022-11-22T11:29:54.045290Z",
     "iopub.status.idle": "2022-11-22T11:29:54.052017Z",
     "shell.execute_reply": "2022-11-22T11:29:54.051302Z"
    },
    "papermill": {
     "duration": 0.141988,
     "end_time": "2022-11-22T11:29:54.053882",
     "exception": false,
     "start_time": "2022-11-22T11:29:53.911894",
     "status": "completed"
    },
    "tags": []
   },
   "outputs": [
    {
     "data": {
      "text/plain": [
       "tensor(0.8258)"
      ]
     },
     "execution_count": 75,
     "metadata": {},
     "output_type": "execute_result"
    }
   ],
   "source": [
    "acc(coeffs)"
   ]
  },
  {
   "cell_type": "markdown",
   "id": "3c667e71",
   "metadata": {
    "papermill": {
     "duration": 0.130626,
     "end_time": "2022-11-22T11:29:54.318456",
     "exception": false,
     "start_time": "2022-11-22T11:29:54.187830",
     "status": "completed"
    },
    "tags": []
   },
   "source": [
    "## Final thoughts"
   ]
  },
  {
   "cell_type": "markdown",
   "id": "aeef903c",
   "metadata": {
    "papermill": {
     "duration": 0.130282,
     "end_time": "2022-11-22T11:29:54.582516",
     "exception": false,
     "start_time": "2022-11-22T11:29:54.452234",
     "status": "completed"
    },
    "tags": []
   },
   "source": [
    "It's actually pretty cool that we've managed to create a real deep learning model from scratch and trained it to get over 80% accuracy on this task, all in the course of a single notebook!\n",
    "\n",
    "The \"real\" deep learning models that are used in research and industry look very similar to this, and in fact if you look inside the source code of any deep learning model you'll recognise the basic steps are the same.\n",
    "\n",
    "The biggest differences in practical models to what we have above are:\n",
    "\n",
    "- How initialisation and normalisation is done to ensure the model trains correctly every time\n",
    "- Regularization (to avoid over-fitting)\n",
    "- Modifying the neural net itself to take advantage of knowledge of the problem domain\n",
    "- Doing gradient descent steps on smaller batches, rather than the whole dataset.\n",
    "\n",
    "I'll be adding notebooks about all these later, and will add links here once they're ready.\n",
    "\n",
    "If you found this notebook useful, please remember to click the little up-arrow at the top to upvote it, since I like to know when people have found my work useful, and it helps others find it too. (BTW, be sure you're looking at my [original notebook here](https://www.kaggle.com/code/jhoward/linear-model-and-neural-net-from-scratch) when you do that, and are not on your own copy of it, otherwise your upvote won't get counted!) And if you have any questions or comments, please pop them below -- I read every comment I receive!"
   ]
  },
  {
   "cell_type": "code",
   "execution_count": null,
   "id": "8caf03b4",
   "metadata": {
    "papermill": {
     "duration": 0.13036,
     "end_time": "2022-11-22T11:29:54.846173",
     "exception": false,
     "start_time": "2022-11-22T11:29:54.715813",
     "status": "completed"
    },
    "tags": []
   },
   "outputs": [],
   "source": []
  }
 ],
 "metadata": {
  "kernelspec": {
   "display_name": "Python 3",
   "language": "python",
   "name": "python3"
  },
  "language_info": {
   "codemirror_mode": {
    "name": "ipython",
    "version": 3
   },
   "file_extension": ".py",
   "mimetype": "text/x-python",
   "name": "python",
   "nbconvert_exporter": "python",
   "pygments_lexer": "ipython3",
   "version": "3.7.12"
  },
  "papermill": {
   "default_parameters": {},
   "duration": 58.584321,
   "end_time": "2022-11-22T11:29:56.099794",
   "environment_variables": {},
   "exception": null,
   "input_path": "__notebook__.ipynb",
   "output_path": "__notebook__.ipynb",
   "parameters": {},
   "start_time": "2022-11-22T11:28:57.515473",
   "version": "2.3.4"
  }
 },
 "nbformat": 4,
 "nbformat_minor": 5
}
