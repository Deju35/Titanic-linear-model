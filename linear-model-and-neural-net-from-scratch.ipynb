{
 "cells": [
  {
   "cell_type": "markdown",
   "id": "95443237",
   "metadata": {
    "papermill": {
     "duration": 0.115397,
     "end_time": "2022-11-22T10:53:27.824916",
     "exception": false,
     "start_time": "2022-11-22T10:53:27.709519",
     "status": "completed"
    },
    "tags": []
   },
   "source": [
    "## Introduction"
   ]
  },
  {
   "cell_type": "markdown",
   "id": "ec65dc98",
   "metadata": {
    "papermill": {
     "duration": 0.112014,
     "end_time": "2022-11-22T10:53:28.054124",
     "exception": false,
     "start_time": "2022-11-22T10:53:27.942110",
     "status": "completed"
    },
    "tags": []
   },
   "source": [
    "In this notebook we're going to build and train a deep learning model \"from scratch\" -- by which I mean that we're not going to use any pre-built architecture, or optimizers, or data loading frameworks, etc.\n",
    "\n",
    " We'll be using Kaggle's [Titanic](https://www.kaggle.com/competitions/titanic/) competition in this notebook, because it's very small and simple, but also has displays many of the tricky real-life issues that we need to handle in most practical projects. (Note, however, that this competition is a small \"learner\" competition on Kaggle, so don't expect to actually see much benefits from using a neural net just yet; that will come once we try our some real competitions!)\n",
    "\n",
    "It's great to be able to run the same notebook on your own machine or Colab, as well as Kaggle. To allow for this, we use this code to download the data as needed when not on Kaggle (see [this notebook](https://www.kaggle.com/code/jhoward/getting-started-with-nlp-for-absolute-beginners/) for details about this technique):"
   ]
  },
  {
   "cell_type": "code",
   "execution_count": 1,
   "id": "ad9888c5",
   "metadata": {
    "execution": {
     "iopub.execute_input": "2022-11-22T10:53:28.280863Z",
     "iopub.status.busy": "2022-11-22T10:53:28.280401Z",
     "iopub.status.idle": "2022-11-22T10:53:28.292952Z",
     "shell.execute_reply": "2022-11-22T10:53:28.292241Z"
    },
    "papermill": {
     "duration": 0.129239,
     "end_time": "2022-11-22T10:53:28.295400",
     "exception": false,
     "start_time": "2022-11-22T10:53:28.166161",
     "status": "completed"
    },
    "tags": []
   },
   "outputs": [],
   "source": [
    "import os\n",
    "from pathlib import Path\n",
    "\n",
    "iskaggle = os.environ.get('KAGGLE_KERNEL_RUN_TYPE', '')\n",
    "if iskaggle: path = Path('../input/titanic')\n",
    "else:\n",
    "    path = Path('titanic')\n",
    "    if not path.exists():\n",
    "        import zipfile,kaggle\n",
    "        kaggle.api.competition_download_cli(str(path))\n",
    "        zipfile.ZipFile(f'{path}.zip').extractall(path)"
   ]
  },
  {
   "cell_type": "markdown",
   "id": "c614aec1",
   "metadata": {
    "hidden": true,
    "papermill": {
     "duration": 0.115993,
     "end_time": "2022-11-22T10:53:28.522800",
     "exception": false,
     "start_time": "2022-11-22T10:53:28.406807",
     "status": "completed"
    },
    "tags": []
   },
   "source": [
    "Note that the data for Kaggle comps always lives in the `../input` folder. The easiest way to get the path is to click the \"K\" button in the top-right of the Kaggle notebook, click on the folder shown there, and click the copy button.\n",
    "\n",
    "We'll be using *numpy* and *pytorch* for array calculations in this notebook, and *pandas* for working with tabular data, so we'll import them and set them to display using a bit more space than they default to."
   ]
  },
  {
   "cell_type": "code",
   "execution_count": 2,
   "id": "6d8579a4",
   "metadata": {
    "execution": {
     "iopub.execute_input": "2022-11-22T10:53:28.750606Z",
     "iopub.status.busy": "2022-11-22T10:53:28.750313Z",
     "iopub.status.idle": "2022-11-22T10:53:30.278197Z",
     "shell.execute_reply": "2022-11-22T10:53:30.277152Z"
    },
    "papermill": {
     "duration": 1.646478,
     "end_time": "2022-11-22T10:53:30.281137",
     "exception": false,
     "start_time": "2022-11-22T10:53:28.634659",
     "status": "completed"
    },
    "tags": []
   },
   "outputs": [],
   "source": [
    "import torch, numpy as np, pandas as pd\n",
    "np.set_printoptions(linewidth=140)\n",
    "torch.set_printoptions(linewidth=140, sci_mode=False, edgeitems=7)\n",
    "pd.set_option('display.width', 140)"
   ]
  },
  {
   "cell_type": "markdown",
   "id": "de94987b",
   "metadata": {
    "heading_collapsed": true,
    "papermill": {
     "duration": 0.113672,
     "end_time": "2022-11-22T10:53:30.512177",
     "exception": false,
     "start_time": "2022-11-22T10:53:30.398505",
     "status": "completed"
    },
    "tags": []
   },
   "source": [
    "## Cleaning the data"
   ]
  },
  {
   "cell_type": "markdown",
   "id": "096b358c",
   "metadata": {
    "hidden": true,
    "papermill": {
     "duration": 0.116592,
     "end_time": "2022-11-22T10:53:30.742946",
     "exception": false,
     "start_time": "2022-11-22T10:53:30.626354",
     "status": "completed"
    },
    "tags": []
   },
   "source": [
    "This is a *tabular data* competition -- the data is in the form of a table. It's provided as a Comma Separated Values (CSV) file. We can open it using the *pandas* library, which will create a `DataFrame`."
   ]
  },
  {
   "cell_type": "code",
   "execution_count": 3,
   "id": "dff8df0e",
   "metadata": {
    "execution": {
     "iopub.execute_input": "2022-11-22T10:53:30.968669Z",
     "iopub.status.busy": "2022-11-22T10:53:30.968352Z",
     "iopub.status.idle": "2022-11-22T10:53:31.021143Z",
     "shell.execute_reply": "2022-11-22T10:53:31.020514Z"
    },
    "hidden": true,
    "papermill": {
     "duration": 0.167819,
     "end_time": "2022-11-22T10:53:31.023954",
     "exception": false,
     "start_time": "2022-11-22T10:53:30.856135",
     "status": "completed"
    },
    "scrolled": true,
    "tags": []
   },
   "outputs": [
    {
     "data": {
      "text/html": [
       "<div>\n",
       "<style scoped>\n",
       "    .dataframe tbody tr th:only-of-type {\n",
       "        vertical-align: middle;\n",
       "    }\n",
       "\n",
       "    .dataframe tbody tr th {\n",
       "        vertical-align: top;\n",
       "    }\n",
       "\n",
       "    .dataframe thead th {\n",
       "        text-align: right;\n",
       "    }\n",
       "</style>\n",
       "<table border=\"1\" class=\"dataframe\">\n",
       "  <thead>\n",
       "    <tr style=\"text-align: right;\">\n",
       "      <th></th>\n",
       "      <th>PassengerId</th>\n",
       "      <th>Survived</th>\n",
       "      <th>Pclass</th>\n",
       "      <th>Name</th>\n",
       "      <th>Sex</th>\n",
       "      <th>Age</th>\n",
       "      <th>SibSp</th>\n",
       "      <th>Parch</th>\n",
       "      <th>Ticket</th>\n",
       "      <th>Fare</th>\n",
       "      <th>Cabin</th>\n",
       "      <th>Embarked</th>\n",
       "    </tr>\n",
       "  </thead>\n",
       "  <tbody>\n",
       "    <tr>\n",
       "      <th>0</th>\n",
       "      <td>1</td>\n",
       "      <td>0</td>\n",
       "      <td>3</td>\n",
       "      <td>Braund, Mr. Owen Harris</td>\n",
       "      <td>male</td>\n",
       "      <td>22.0</td>\n",
       "      <td>1</td>\n",
       "      <td>0</td>\n",
       "      <td>A/5 21171</td>\n",
       "      <td>7.2500</td>\n",
       "      <td>NaN</td>\n",
       "      <td>S</td>\n",
       "    </tr>\n",
       "    <tr>\n",
       "      <th>1</th>\n",
       "      <td>2</td>\n",
       "      <td>1</td>\n",
       "      <td>1</td>\n",
       "      <td>Cumings, Mrs. John Bradley (Florence Briggs Th...</td>\n",
       "      <td>female</td>\n",
       "      <td>38.0</td>\n",
       "      <td>1</td>\n",
       "      <td>0</td>\n",
       "      <td>PC 17599</td>\n",
       "      <td>71.2833</td>\n",
       "      <td>C85</td>\n",
       "      <td>C</td>\n",
       "    </tr>\n",
       "    <tr>\n",
       "      <th>2</th>\n",
       "      <td>3</td>\n",
       "      <td>1</td>\n",
       "      <td>3</td>\n",
       "      <td>Heikkinen, Miss. Laina</td>\n",
       "      <td>female</td>\n",
       "      <td>26.0</td>\n",
       "      <td>0</td>\n",
       "      <td>0</td>\n",
       "      <td>STON/O2. 3101282</td>\n",
       "      <td>7.9250</td>\n",
       "      <td>NaN</td>\n",
       "      <td>S</td>\n",
       "    </tr>\n",
       "    <tr>\n",
       "      <th>3</th>\n",
       "      <td>4</td>\n",
       "      <td>1</td>\n",
       "      <td>1</td>\n",
       "      <td>Futrelle, Mrs. Jacques Heath (Lily May Peel)</td>\n",
       "      <td>female</td>\n",
       "      <td>35.0</td>\n",
       "      <td>1</td>\n",
       "      <td>0</td>\n",
       "      <td>113803</td>\n",
       "      <td>53.1000</td>\n",
       "      <td>C123</td>\n",
       "      <td>S</td>\n",
       "    </tr>\n",
       "    <tr>\n",
       "      <th>4</th>\n",
       "      <td>5</td>\n",
       "      <td>0</td>\n",
       "      <td>3</td>\n",
       "      <td>Allen, Mr. William Henry</td>\n",
       "      <td>male</td>\n",
       "      <td>35.0</td>\n",
       "      <td>0</td>\n",
       "      <td>0</td>\n",
       "      <td>373450</td>\n",
       "      <td>8.0500</td>\n",
       "      <td>NaN</td>\n",
       "      <td>S</td>\n",
       "    </tr>\n",
       "    <tr>\n",
       "      <th>...</th>\n",
       "      <td>...</td>\n",
       "      <td>...</td>\n",
       "      <td>...</td>\n",
       "      <td>...</td>\n",
       "      <td>...</td>\n",
       "      <td>...</td>\n",
       "      <td>...</td>\n",
       "      <td>...</td>\n",
       "      <td>...</td>\n",
       "      <td>...</td>\n",
       "      <td>...</td>\n",
       "      <td>...</td>\n",
       "    </tr>\n",
       "    <tr>\n",
       "      <th>886</th>\n",
       "      <td>887</td>\n",
       "      <td>0</td>\n",
       "      <td>2</td>\n",
       "      <td>Montvila, Rev. Juozas</td>\n",
       "      <td>male</td>\n",
       "      <td>27.0</td>\n",
       "      <td>0</td>\n",
       "      <td>0</td>\n",
       "      <td>211536</td>\n",
       "      <td>13.0000</td>\n",
       "      <td>NaN</td>\n",
       "      <td>S</td>\n",
       "    </tr>\n",
       "    <tr>\n",
       "      <th>887</th>\n",
       "      <td>888</td>\n",
       "      <td>1</td>\n",
       "      <td>1</td>\n",
       "      <td>Graham, Miss. Margaret Edith</td>\n",
       "      <td>female</td>\n",
       "      <td>19.0</td>\n",
       "      <td>0</td>\n",
       "      <td>0</td>\n",
       "      <td>112053</td>\n",
       "      <td>30.0000</td>\n",
       "      <td>B42</td>\n",
       "      <td>S</td>\n",
       "    </tr>\n",
       "    <tr>\n",
       "      <th>888</th>\n",
       "      <td>889</td>\n",
       "      <td>0</td>\n",
       "      <td>3</td>\n",
       "      <td>Johnston, Miss. Catherine Helen \"Carrie\"</td>\n",
       "      <td>female</td>\n",
       "      <td>NaN</td>\n",
       "      <td>1</td>\n",
       "      <td>2</td>\n",
       "      <td>W./C. 6607</td>\n",
       "      <td>23.4500</td>\n",
       "      <td>NaN</td>\n",
       "      <td>S</td>\n",
       "    </tr>\n",
       "    <tr>\n",
       "      <th>889</th>\n",
       "      <td>890</td>\n",
       "      <td>1</td>\n",
       "      <td>1</td>\n",
       "      <td>Behr, Mr. Karl Howell</td>\n",
       "      <td>male</td>\n",
       "      <td>26.0</td>\n",
       "      <td>0</td>\n",
       "      <td>0</td>\n",
       "      <td>111369</td>\n",
       "      <td>30.0000</td>\n",
       "      <td>C148</td>\n",
       "      <td>C</td>\n",
       "    </tr>\n",
       "    <tr>\n",
       "      <th>890</th>\n",
       "      <td>891</td>\n",
       "      <td>0</td>\n",
       "      <td>3</td>\n",
       "      <td>Dooley, Mr. Patrick</td>\n",
       "      <td>male</td>\n",
       "      <td>32.0</td>\n",
       "      <td>0</td>\n",
       "      <td>0</td>\n",
       "      <td>370376</td>\n",
       "      <td>7.7500</td>\n",
       "      <td>NaN</td>\n",
       "      <td>Q</td>\n",
       "    </tr>\n",
       "  </tbody>\n",
       "</table>\n",
       "<p>891 rows × 12 columns</p>\n",
       "</div>"
      ],
      "text/plain": [
       "     PassengerId  Survived  Pclass                                               Name     Sex   Age  SibSp  Parch            Ticket  \\\n",
       "0              1         0       3                            Braund, Mr. Owen Harris    male  22.0      1      0         A/5 21171   \n",
       "1              2         1       1  Cumings, Mrs. John Bradley (Florence Briggs Th...  female  38.0      1      0          PC 17599   \n",
       "2              3         1       3                             Heikkinen, Miss. Laina  female  26.0      0      0  STON/O2. 3101282   \n",
       "3              4         1       1       Futrelle, Mrs. Jacques Heath (Lily May Peel)  female  35.0      1      0            113803   \n",
       "4              5         0       3                           Allen, Mr. William Henry    male  35.0      0      0            373450   \n",
       "..           ...       ...     ...                                                ...     ...   ...    ...    ...               ...   \n",
       "886          887         0       2                              Montvila, Rev. Juozas    male  27.0      0      0            211536   \n",
       "887          888         1       1                       Graham, Miss. Margaret Edith  female  19.0      0      0            112053   \n",
       "888          889         0       3           Johnston, Miss. Catherine Helen \"Carrie\"  female   NaN      1      2        W./C. 6607   \n",
       "889          890         1       1                              Behr, Mr. Karl Howell    male  26.0      0      0            111369   \n",
       "890          891         0       3                                Dooley, Mr. Patrick    male  32.0      0      0            370376   \n",
       "\n",
       "        Fare Cabin Embarked  \n",
       "0     7.2500   NaN        S  \n",
       "1    71.2833   C85        C  \n",
       "2     7.9250   NaN        S  \n",
       "3    53.1000  C123        S  \n",
       "4     8.0500   NaN        S  \n",
       "..       ...   ...      ...  \n",
       "886  13.0000   NaN        S  \n",
       "887  30.0000   B42        S  \n",
       "888  23.4500   NaN        S  \n",
       "889  30.0000  C148        C  \n",
       "890   7.7500   NaN        Q  \n",
       "\n",
       "[891 rows x 12 columns]"
      ]
     },
     "execution_count": 3,
     "metadata": {},
     "output_type": "execute_result"
    }
   ],
   "source": [
    "df = pd.read_csv(path/'train.csv')\n",
    "df"
   ]
  },
  {
   "cell_type": "markdown",
   "id": "147042dd",
   "metadata": {
    "hidden": true,
    "papermill": {
     "duration": 0.112834,
     "end_time": "2022-11-22T10:53:31.251630",
     "exception": false,
     "start_time": "2022-11-22T10:53:31.138796",
     "status": "completed"
    },
    "tags": []
   },
   "source": [
    "As we learned in the *How does a neural net really work* notebook, we going to want to multiply each column by some coefficients. But we can see in the `Cabin` column that there are `NaN` values, which is how Pandas refers to missing values. We can't multiply something by a missing value!\n",
    "\n",
    "Let's check which columns contain `NaN` values. Pandas' `isna()` function returns `True` (which is treated as `1` when used as a number) for `NaN` values, so we can just add them up for each column:"
   ]
  },
  {
   "cell_type": "code",
   "execution_count": 4,
   "id": "09838395",
   "metadata": {
    "execution": {
     "iopub.execute_input": "2022-11-22T10:53:31.488730Z",
     "iopub.status.busy": "2022-11-22T10:53:31.488028Z",
     "iopub.status.idle": "2022-11-22T10:53:31.497009Z",
     "shell.execute_reply": "2022-11-22T10:53:31.496350Z"
    },
    "hidden": true,
    "papermill": {
     "duration": 0.128198,
     "end_time": "2022-11-22T10:53:31.499147",
     "exception": false,
     "start_time": "2022-11-22T10:53:31.370949",
     "status": "completed"
    },
    "tags": []
   },
   "outputs": [
    {
     "data": {
      "text/plain": [
       "PassengerId      0\n",
       "Survived         0\n",
       "Pclass           0\n",
       "Name             0\n",
       "Sex              0\n",
       "Age            177\n",
       "SibSp            0\n",
       "Parch            0\n",
       "Ticket           0\n",
       "Fare             0\n",
       "Cabin          687\n",
       "Embarked         2\n",
       "dtype: int64"
      ]
     },
     "execution_count": 4,
     "metadata": {},
     "output_type": "execute_result"
    }
   ],
   "source": [
    "df.isna().sum()"
   ]
  },
  {
   "cell_type": "markdown",
   "id": "4683a7bc",
   "metadata": {
    "hidden": true,
    "papermill": {
     "duration": 0.113537,
     "end_time": "2022-11-22T10:53:31.728770",
     "exception": false,
     "start_time": "2022-11-22T10:53:31.615233",
     "status": "completed"
    },
    "tags": []
   },
   "source": [
    "Notice that by default Pandas sums over columns.\n",
    "\n",
    "We'll need to replace the missing values with something. It doesn't generally matter too much what we choose. We'll use the most common value (the \"*mode*\"). We can use the `mode` function for that. One wrinkle is that it returns more than one row in the case of ties, so we just grab the first row with `iloc[0]`:"
   ]
  },
  {
   "cell_type": "code",
   "execution_count": 5,
   "id": "744e125f",
   "metadata": {
    "execution": {
     "iopub.execute_input": "2022-11-22T10:53:31.955398Z",
     "iopub.status.busy": "2022-11-22T10:53:31.954803Z",
     "iopub.status.idle": "2022-11-22T10:53:31.974824Z",
     "shell.execute_reply": "2022-11-22T10:53:31.974227Z"
    },
    "hidden": true,
    "papermill": {
     "duration": 0.134888,
     "end_time": "2022-11-22T10:53:31.976699",
     "exception": false,
     "start_time": "2022-11-22T10:53:31.841811",
     "status": "completed"
    },
    "tags": []
   },
   "outputs": [
    {
     "data": {
      "text/plain": [
       "PassengerId                      1\n",
       "Survived                       0.0\n",
       "Pclass                         3.0\n",
       "Name           Abbing, Mr. Anthony\n",
       "Sex                           male\n",
       "Age                           24.0\n",
       "SibSp                          0.0\n",
       "Parch                          0.0\n",
       "Ticket                        1601\n",
       "Fare                          8.05\n",
       "Cabin                      B96 B98\n",
       "Embarked                         S\n",
       "Name: 0, dtype: object"
      ]
     },
     "execution_count": 5,
     "metadata": {},
     "output_type": "execute_result"
    }
   ],
   "source": [
    "modes = df.mode().iloc[0]\n",
    "modes"
   ]
  },
  {
   "cell_type": "markdown",
   "id": "4a8171e5",
   "metadata": {
    "hidden": true,
    "papermill": {
     "duration": 0.111837,
     "end_time": "2022-11-22T10:53:32.201434",
     "exception": false,
     "start_time": "2022-11-22T10:53:32.089597",
     "status": "completed"
    },
    "tags": []
   },
   "source": [
    "BTW, it's never a good idea to use functions without understanding them. So be sure to google for anything you're not familiar with. E.g if you want to learn about `iloc` (which is a very important function indeed!) then Google will give you a link to a [great tutorial](https://www.shanelynn.ie/pandas-iloc-loc-select-rows-and-columns-dataframe/).\n",
    "\n",
    "Now that we've got the mode of each column, we can use `fillna` to replace the missing values with the mode of each column. We'll do it \"in place\" -- meaning that we'll change the dataframe itself, rather than returning a new one."
   ]
  },
  {
   "cell_type": "code",
   "execution_count": 6,
   "id": "39b4e216",
   "metadata": {
    "execution": {
     "iopub.execute_input": "2022-11-22T10:53:32.430344Z",
     "iopub.status.busy": "2022-11-22T10:53:32.429846Z",
     "iopub.status.idle": "2022-11-22T10:53:32.440881Z",
     "shell.execute_reply": "2022-11-22T10:53:32.440281Z"
    },
    "hidden": true,
    "papermill": {
     "duration": 0.127161,
     "end_time": "2022-11-22T10:53:32.443112",
     "exception": false,
     "start_time": "2022-11-22T10:53:32.315951",
     "status": "completed"
    },
    "tags": []
   },
   "outputs": [],
   "source": [
    "df.fillna(modes, inplace=True)"
   ]
  },
  {
   "cell_type": "markdown",
   "id": "1fff0aca",
   "metadata": {
    "hidden": true,
    "papermill": {
     "duration": 0.112318,
     "end_time": "2022-11-22T10:53:32.669286",
     "exception": false,
     "start_time": "2022-11-22T10:53:32.556968",
     "status": "completed"
    },
    "tags": []
   },
   "source": [
    "We can now check there's no missing values left:"
   ]
  },
  {
   "cell_type": "code",
   "execution_count": 7,
   "id": "01b66fcd",
   "metadata": {
    "execution": {
     "iopub.execute_input": "2022-11-22T10:53:32.905480Z",
     "iopub.status.busy": "2022-11-22T10:53:32.904504Z",
     "iopub.status.idle": "2022-11-22T10:53:32.913225Z",
     "shell.execute_reply": "2022-11-22T10:53:32.912511Z"
    },
    "hidden": true,
    "papermill": {
     "duration": 0.131175,
     "end_time": "2022-11-22T10:53:32.915179",
     "exception": false,
     "start_time": "2022-11-22T10:53:32.784004",
     "status": "completed"
    },
    "tags": []
   },
   "outputs": [
    {
     "data": {
      "text/plain": [
       "PassengerId    0\n",
       "Survived       0\n",
       "Pclass         0\n",
       "Name           0\n",
       "Sex            0\n",
       "Age            0\n",
       "SibSp          0\n",
       "Parch          0\n",
       "Ticket         0\n",
       "Fare           0\n",
       "Cabin          0\n",
       "Embarked       0\n",
       "dtype: int64"
      ]
     },
     "execution_count": 7,
     "metadata": {},
     "output_type": "execute_result"
    }
   ],
   "source": [
    "df.isna().sum()"
   ]
  },
  {
   "cell_type": "markdown",
   "id": "7172a67e",
   "metadata": {
    "hidden": true,
    "papermill": {
     "duration": 0.118894,
     "end_time": "2022-11-22T10:53:33.153220",
     "exception": false,
     "start_time": "2022-11-22T10:53:33.034326",
     "status": "completed"
    },
    "tags": []
   },
   "source": [
    "Here's how we get a quick summary of all the numeric columns in the dataset:"
   ]
  },
  {
   "cell_type": "code",
   "execution_count": 8,
   "id": "96a0e734",
   "metadata": {
    "execution": {
     "iopub.execute_input": "2022-11-22T10:53:33.384832Z",
     "iopub.status.busy": "2022-11-22T10:53:33.384516Z",
     "iopub.status.idle": "2022-11-22T10:53:33.420089Z",
     "shell.execute_reply": "2022-11-22T10:53:33.419223Z"
    },
    "hidden": true,
    "papermill": {
     "duration": 0.154478,
     "end_time": "2022-11-22T10:53:33.422070",
     "exception": false,
     "start_time": "2022-11-22T10:53:33.267592",
     "status": "completed"
    },
    "tags": []
   },
   "outputs": [
    {
     "data": {
      "text/html": [
       "<div>\n",
       "<style scoped>\n",
       "    .dataframe tbody tr th:only-of-type {\n",
       "        vertical-align: middle;\n",
       "    }\n",
       "\n",
       "    .dataframe tbody tr th {\n",
       "        vertical-align: top;\n",
       "    }\n",
       "\n",
       "    .dataframe thead th {\n",
       "        text-align: right;\n",
       "    }\n",
       "</style>\n",
       "<table border=\"1\" class=\"dataframe\">\n",
       "  <thead>\n",
       "    <tr style=\"text-align: right;\">\n",
       "      <th></th>\n",
       "      <th>PassengerId</th>\n",
       "      <th>Survived</th>\n",
       "      <th>Pclass</th>\n",
       "      <th>Age</th>\n",
       "      <th>SibSp</th>\n",
       "      <th>Parch</th>\n",
       "      <th>Fare</th>\n",
       "    </tr>\n",
       "  </thead>\n",
       "  <tbody>\n",
       "    <tr>\n",
       "      <th>count</th>\n",
       "      <td>891.000000</td>\n",
       "      <td>891.000000</td>\n",
       "      <td>891.000000</td>\n",
       "      <td>891.000000</td>\n",
       "      <td>891.000000</td>\n",
       "      <td>891.000000</td>\n",
       "      <td>891.000000</td>\n",
       "    </tr>\n",
       "    <tr>\n",
       "      <th>mean</th>\n",
       "      <td>446.000000</td>\n",
       "      <td>0.383838</td>\n",
       "      <td>2.308642</td>\n",
       "      <td>28.566970</td>\n",
       "      <td>0.523008</td>\n",
       "      <td>0.381594</td>\n",
       "      <td>32.204208</td>\n",
       "    </tr>\n",
       "    <tr>\n",
       "      <th>std</th>\n",
       "      <td>257.353842</td>\n",
       "      <td>0.486592</td>\n",
       "      <td>0.836071</td>\n",
       "      <td>13.199572</td>\n",
       "      <td>1.102743</td>\n",
       "      <td>0.806057</td>\n",
       "      <td>49.693429</td>\n",
       "    </tr>\n",
       "    <tr>\n",
       "      <th>min</th>\n",
       "      <td>1.000000</td>\n",
       "      <td>0.000000</td>\n",
       "      <td>1.000000</td>\n",
       "      <td>0.420000</td>\n",
       "      <td>0.000000</td>\n",
       "      <td>0.000000</td>\n",
       "      <td>0.000000</td>\n",
       "    </tr>\n",
       "    <tr>\n",
       "      <th>25%</th>\n",
       "      <td>223.500000</td>\n",
       "      <td>0.000000</td>\n",
       "      <td>2.000000</td>\n",
       "      <td>22.000000</td>\n",
       "      <td>0.000000</td>\n",
       "      <td>0.000000</td>\n",
       "      <td>7.910400</td>\n",
       "    </tr>\n",
       "    <tr>\n",
       "      <th>50%</th>\n",
       "      <td>446.000000</td>\n",
       "      <td>0.000000</td>\n",
       "      <td>3.000000</td>\n",
       "      <td>24.000000</td>\n",
       "      <td>0.000000</td>\n",
       "      <td>0.000000</td>\n",
       "      <td>14.454200</td>\n",
       "    </tr>\n",
       "    <tr>\n",
       "      <th>75%</th>\n",
       "      <td>668.500000</td>\n",
       "      <td>1.000000</td>\n",
       "      <td>3.000000</td>\n",
       "      <td>35.000000</td>\n",
       "      <td>1.000000</td>\n",
       "      <td>0.000000</td>\n",
       "      <td>31.000000</td>\n",
       "    </tr>\n",
       "    <tr>\n",
       "      <th>max</th>\n",
       "      <td>891.000000</td>\n",
       "      <td>1.000000</td>\n",
       "      <td>3.000000</td>\n",
       "      <td>80.000000</td>\n",
       "      <td>8.000000</td>\n",
       "      <td>6.000000</td>\n",
       "      <td>512.329200</td>\n",
       "    </tr>\n",
       "  </tbody>\n",
       "</table>\n",
       "</div>"
      ],
      "text/plain": [
       "       PassengerId    Survived      Pclass         Age       SibSp       Parch        Fare\n",
       "count   891.000000  891.000000  891.000000  891.000000  891.000000  891.000000  891.000000\n",
       "mean    446.000000    0.383838    2.308642   28.566970    0.523008    0.381594   32.204208\n",
       "std     257.353842    0.486592    0.836071   13.199572    1.102743    0.806057   49.693429\n",
       "min       1.000000    0.000000    1.000000    0.420000    0.000000    0.000000    0.000000\n",
       "25%     223.500000    0.000000    2.000000   22.000000    0.000000    0.000000    7.910400\n",
       "50%     446.000000    0.000000    3.000000   24.000000    0.000000    0.000000   14.454200\n",
       "75%     668.500000    1.000000    3.000000   35.000000    1.000000    0.000000   31.000000\n",
       "max     891.000000    1.000000    3.000000   80.000000    8.000000    6.000000  512.329200"
      ]
     },
     "execution_count": 8,
     "metadata": {},
     "output_type": "execute_result"
    }
   ],
   "source": [
    "import numpy as np\n",
    "\n",
    "df.describe(include=(np.number))"
   ]
  },
  {
   "cell_type": "markdown",
   "id": "f8c52ea1",
   "metadata": {
    "execution": {
     "iopub.execute_input": "2022-05-13T11:02:34.328433Z",
     "iopub.status.busy": "2022-05-13T11:02:34.327999Z",
     "iopub.status.idle": "2022-05-13T11:02:34.336993Z",
     "shell.execute_reply": "2022-05-13T11:02:34.335466Z",
     "shell.execute_reply.started": "2022-05-13T11:02:34.32838Z"
    },
    "hidden": true,
    "papermill": {
     "duration": 0.115094,
     "end_time": "2022-11-22T10:53:33.653240",
     "exception": false,
     "start_time": "2022-11-22T10:53:33.538146",
     "status": "completed"
    },
    "tags": []
   },
   "source": [
    "We can see that `Fare` contains mainly values of around `0` to `30`, but there's a few really big ones. This is very common with fields contain monetary values, and it can cause problems for our model, because once that column is multiplied by a coefficient later, the few rows with really big values will dominate the result.\n",
    "\n",
    "You can see the issue most clearly visually by looking at a histogram, which shows a long tail to the right (and don't forget: if you're not entirely sure what a histogram is, Google \"[histogram tutorial](https://www.google.com/search?q=histogram+tutorial&oq=histogram+tutorial)\" and do a bit of reading before continuing on):"
   ]
  },
  {
   "cell_type": "code",
   "execution_count": 9,
   "id": "8e29c0ad",
   "metadata": {
    "execution": {
     "iopub.execute_input": "2022-11-22T10:53:33.885784Z",
     "iopub.status.busy": "2022-11-22T10:53:33.885452Z",
     "iopub.status.idle": "2022-11-22T10:53:34.165578Z",
     "shell.execute_reply": "2022-11-22T10:53:34.164116Z"
    },
    "hidden": true,
    "papermill": {
     "duration": 0.398049,
     "end_time": "2022-11-22T10:53:34.167819",
     "exception": false,
     "start_time": "2022-11-22T10:53:33.769770",
     "status": "completed"
    },
    "tags": []
   },
   "outputs": [
    {
     "data": {
      "image/png": "[encoded data removed]",
      "text/plain": [
       "<Figure size 432x288 with 1 Axes>"
      ]
     },
     "metadata": {
      "needs_background": "light"
     },
     "output_type": "display_data"
    }
   ],
   "source": [
    "df['Fare'].hist();"
   ]
  },
  {
   "cell_type": "markdown",
   "id": "af14e54d",
   "metadata": {
    "execution": {
     "iopub.execute_input": "2022-05-13T11:02:34.328433Z",
     "iopub.status.busy": "2022-05-13T11:02:34.327999Z",
     "iopub.status.idle": "2022-05-13T11:02:34.336993Z",
     "shell.execute_reply": "2022-05-13T11:02:34.335466Z",
     "shell.execute_reply.started": "2022-05-13T11:02:34.32838Z"
    },
    "hidden": true,
    "papermill": {
     "duration": 0.113986,
     "end_time": "2022-11-22T10:53:34.395952",
     "exception": false,
     "start_time": "2022-11-22T10:53:34.281966",
     "status": "completed"
    },
    "tags": []
   },
   "source": [
    "To fix this, the most common approach is to take the logarithm, which squishes the big numbers and makes the distribution more reasonable. Note, however, that there are zeros in the `Fare` column, and `log(0)` is infinite -- to fix this, we'll simply add `1` to all values first:"
   ]
  },
  {
   "cell_type": "code",
   "execution_count": 10,
   "id": "e3570621",
   "metadata": {
    "execution": {
     "iopub.execute_input": "2022-11-22T10:53:34.628752Z",
     "iopub.status.busy": "2022-11-22T10:53:34.628379Z",
     "iopub.status.idle": "2022-11-22T10:53:34.634587Z",
     "shell.execute_reply": "2022-11-22T10:53:34.633855Z"
    },
    "hidden": true,
    "papermill": {
     "duration": 0.126206,
     "end_time": "2022-11-22T10:53:34.636831",
     "exception": false,
     "start_time": "2022-11-22T10:53:34.510625",
     "status": "completed"
    },
    "tags": []
   },
   "outputs": [],
   "source": [
    "df['LogFare'] = np.log(df['Fare']+1)"
   ]
  },
  {
   "cell_type": "markdown",
   "id": "f030936e",
   "metadata": {
    "hidden": true,
    "papermill": {
     "duration": 0.12501,
     "end_time": "2022-11-22T10:53:34.907013",
     "exception": false,
     "start_time": "2022-11-22T10:53:34.782003",
     "status": "completed"
    },
    "tags": []
   },
   "source": [
    "The histogram now shows a more even distribution of values without the long tail:"
   ]
  },
  {
   "cell_type": "code",
   "execution_count": 11,
   "id": "52dee1d9",
   "metadata": {
    "execution": {
     "iopub.execute_input": "2022-11-22T10:53:35.157149Z",
     "iopub.status.busy": "2022-11-22T10:53:35.156571Z",
     "iopub.status.idle": "2022-11-22T10:53:35.392971Z",
     "shell.execute_reply": "2022-11-22T10:53:35.391985Z"
    },
    "hidden": true,
    "papermill": {
     "duration": 0.359534,
     "end_time": "2022-11-22T10:53:35.395403",
     "exception": false,
     "start_time": "2022-11-22T10:53:35.035869",
     "status": "completed"
    },
    "tags": []
   },
   "outputs": [
    {
     "data": {
      "image/png": "[encoded data removed]",
      "text/plain": [
       "<Figure size 432x288 with 1 Axes>"
      ]
     },
     "metadata": {
      "needs_background": "light"
     },
     "output_type": "display_data"
    }
   ],
   "source": [
    "df['LogFare'].hist();"
   ]
  },
  {
   "cell_type": "markdown",
   "id": "211981cc",
   "metadata": {
    "hidden": true,
    "papermill": {
     "duration": 0.11748,
     "end_time": "2022-11-22T10:53:35.632004",
     "exception": false,
     "start_time": "2022-11-22T10:53:35.514524",
     "status": "completed"
    },
    "tags": []
   },
   "source": [
    "It looks from the `describe()` output like `Pclass` contains just 3 values, which we can confirm by looking at the [Data Dictionary](https://www.kaggle.com/competitions/titanic/data) (which you should always study carefully for any project!) -- "
   ]
  },
  {
   "cell_type": "code",
   "execution_count": 12,
   "id": "a1ac3897",
   "metadata": {
    "execution": {
     "iopub.execute_input": "2022-11-22T10:53:35.872799Z",
     "iopub.status.busy": "2022-11-22T10:53:35.872527Z",
     "iopub.status.idle": "2022-11-22T10:53:35.882070Z",
     "shell.execute_reply": "2022-11-22T10:53:35.881148Z"
    },
    "hidden": true,
    "papermill": {
     "duration": 0.132438,
     "end_time": "2022-11-22T10:53:35.884228",
     "exception": false,
     "start_time": "2022-11-22T10:53:35.751790",
     "status": "completed"
    },
    "tags": []
   },
   "outputs": [
    {
     "data": {
      "text/plain": [
       "[1, 2, 3]"
      ]
     },
     "execution_count": 12,
     "metadata": {},
     "output_type": "execute_result"
    }
   ],
   "source": [
    "pclasses = sorted(df.Pclass.unique())\n",
    "pclasses"
   ]
  },
  {
   "cell_type": "markdown",
   "id": "c9325f3b",
   "metadata": {
    "hidden": true,
    "papermill": {
     "duration": 0.115121,
     "end_time": "2022-11-22T10:53:36.134922",
     "exception": false,
     "start_time": "2022-11-22T10:53:36.019801",
     "status": "completed"
    },
    "tags": []
   },
   "source": [
    "Here's how we get a quick summary of all the non-numeric columns in the dataset:"
   ]
  },
  {
   "cell_type": "code",
   "execution_count": 13,
   "id": "1779ef08",
   "metadata": {
    "execution": {
     "iopub.execute_input": "2022-11-22T10:53:36.371987Z",
     "iopub.status.busy": "2022-11-22T10:53:36.371695Z",
     "iopub.status.idle": "2022-11-22T10:53:36.394007Z",
     "shell.execute_reply": "2022-11-22T10:53:36.393333Z"
    },
    "hidden": true,
    "papermill": {
     "duration": 0.144698,
     "end_time": "2022-11-22T10:53:36.395822",
     "exception": false,
     "start_time": "2022-11-22T10:53:36.251124",
     "status": "completed"
    },
    "tags": []
   },
   "outputs": [
    {
     "data": {
      "text/html": [
       "<div>\n",
       "<style scoped>\n",
       "    .dataframe tbody tr th:only-of-type {\n",
       "        vertical-align: middle;\n",
       "    }\n",
       "\n",
       "    .dataframe tbody tr th {\n",
       "        vertical-align: top;\n",
       "    }\n",
       "\n",
       "    .dataframe thead th {\n",
       "        text-align: right;\n",
       "    }\n",
       "</style>\n",
       "<table border=\"1\" class=\"dataframe\">\n",
       "  <thead>\n",
       "    <tr style=\"text-align: right;\">\n",
       "      <th></th>\n",
       "      <th>Name</th>\n",
       "      <th>Sex</th>\n",
       "      <th>Ticket</th>\n",
       "      <th>Cabin</th>\n",
       "      <th>Embarked</th>\n",
       "    </tr>\n",
       "  </thead>\n",
       "  <tbody>\n",
       "    <tr>\n",
       "      <th>count</th>\n",
       "      <td>891</td>\n",
       "      <td>891</td>\n",
       "      <td>891</td>\n",
       "      <td>891</td>\n",
       "      <td>891</td>\n",
       "    </tr>\n",
       "    <tr>\n",
       "      <th>unique</th>\n",
       "      <td>891</td>\n",
       "      <td>2</td>\n",
       "      <td>681</td>\n",
       "      <td>147</td>\n",
       "      <td>3</td>\n",
       "    </tr>\n",
       "    <tr>\n",
       "      <th>top</th>\n",
       "      <td>Braund, Mr. Owen Harris</td>\n",
       "      <td>male</td>\n",
       "      <td>347082</td>\n",
       "      <td>B96 B98</td>\n",
       "      <td>S</td>\n",
       "    </tr>\n",
       "    <tr>\n",
       "      <th>freq</th>\n",
       "      <td>1</td>\n",
       "      <td>577</td>\n",
       "      <td>7</td>\n",
       "      <td>691</td>\n",
       "      <td>646</td>\n",
       "    </tr>\n",
       "  </tbody>\n",
       "</table>\n",
       "</div>"
      ],
      "text/plain": [
       "                           Name   Sex  Ticket    Cabin Embarked\n",
       "count                       891   891     891      891      891\n",
       "unique                      891     2     681      147        3\n",
       "top     Braund, Mr. Owen Harris  male  347082  B96 B98        S\n",
       "freq                          1   577       7      691      646"
      ]
     },
     "execution_count": 13,
     "metadata": {},
     "output_type": "execute_result"
    }
   ],
   "source": [
    "df.describe(include=[object])"
   ]
  },
  {
   "cell_type": "markdown",
   "id": "bb9c9317",
   "metadata": {
    "hidden": true,
    "papermill": {
     "duration": 0.115199,
     "end_time": "2022-11-22T10:53:36.627731",
     "exception": false,
     "start_time": "2022-11-22T10:53:36.512532",
     "status": "completed"
    },
    "tags": []
   },
   "source": [
    "Clearly we can't multiply strings like `male` or `S` by coefficients, so we need to replace those with numbers.\n",
    "\n",
    "We do that by creating new columns containing *dummy variables*. A dummy variable is a column that contains a `1` where a particular column contains a particular value, or a `0` otherwise. For instance, we could create a dummy variable for `Sex='male'`, which would be a new column containing `1` for rows where `Sex` is `'male'`, and 0 for rows where it isn't.\n",
    "\n",
    "Pandas can create these automatically using `get_dummies`, which also remove the original columns. We'll create dummy variables for `Pclass`, even although it's numeric, since the numbers `1`, `2`, and `3` correspond to first, second, and third class cabins - not to counts or measures that make sense to multiply by. We'll also create dummies for `Sex` and `Embarked` since we'll want to use those as predictors in our model. On the other hand, `Cabin`, `Name`, and `Ticket` have too many unique values for it to make sense creating dummy variables for them."
   ]
  },
  {
   "cell_type": "code",
   "execution_count": 14,
   "id": "20c1cd62",
   "metadata": {
    "execution": {
     "iopub.execute_input": "2022-11-22T10:53:36.865101Z",
     "iopub.status.busy": "2022-11-22T10:53:36.864028Z",
     "iopub.status.idle": "2022-11-22T10:53:36.877425Z",
     "shell.execute_reply": "2022-11-22T10:53:36.876415Z"
    },
    "hidden": true,
    "papermill": {
     "duration": 0.13382,
     "end_time": "2022-11-22T10:53:36.879921",
     "exception": false,
     "start_time": "2022-11-22T10:53:36.746101",
     "status": "completed"
    },
    "tags": []
   },
   "outputs": [
    {
     "data": {
      "text/plain": [
       "Index(['PassengerId', 'Survived', 'Name', 'Age', 'SibSp', 'Parch', 'Ticket', 'Fare', 'Cabin', 'LogFare', 'Sex_female', 'Sex_male',\n",
       "       'Pclass_1', 'Pclass_2', 'Pclass_3', 'Embarked_C', 'Embarked_Q', 'Embarked_S'],\n",
       "      dtype='object')"
      ]
     },
     "execution_count": 14,
     "metadata": {},
     "output_type": "execute_result"
    }
   ],
   "source": [
    "df = pd.get_dummies(df, columns=[\"Sex\",\"Pclass\",\"Embarked\"])\n",
    "df.columns"
   ]
  },
  {
   "cell_type": "markdown",
   "id": "8ce384d0",
   "metadata": {
    "hidden": true,
    "papermill": {
     "duration": 0.11657,
     "end_time": "2022-11-22T10:53:37.112864",
     "exception": false,
     "start_time": "2022-11-22T10:53:36.996294",
     "status": "completed"
    },
    "tags": []
   },
   "source": [
    "We can see that 5 columns have been added to the end -- one for each of the possible values of each of the three columns we requested, and that those three requested columns have been removed.\n",
    "\n",
    "Here's what the first few rows of those newly added columns look like:"
   ]
  },
  {
   "cell_type": "code",
   "execution_count": 15,
   "id": "f573a42c",
   "metadata": {
    "execution": {
     "iopub.execute_input": "2022-11-22T10:53:37.350416Z",
     "iopub.status.busy": "2022-11-22T10:53:37.349369Z",
     "iopub.status.idle": "2022-11-22T10:53:37.363448Z",
     "shell.execute_reply": "2022-11-22T10:53:37.362472Z"
    },
    "hidden": true,
    "papermill": {
     "duration": 0.136832,
     "end_time": "2022-11-22T10:53:37.366055",
     "exception": false,
     "start_time": "2022-11-22T10:53:37.229223",
     "status": "completed"
    },
    "tags": []
   },
   "outputs": [
    {
     "data": {
      "text/html": [
       "<div>\n",
       "<style scoped>\n",
       "    .dataframe tbody tr th:only-of-type {\n",
       "        vertical-align: middle;\n",
       "    }\n",
       "\n",
       "    .dataframe tbody tr th {\n",
       "        vertical-align: top;\n",
       "    }\n",
       "\n",
       "    .dataframe thead th {\n",
       "        text-align: right;\n",
       "    }\n",
       "</style>\n",
       "<table border=\"1\" class=\"dataframe\">\n",
       "  <thead>\n",
       "    <tr style=\"text-align: right;\">\n",
       "      <th></th>\n",
       "      <th>Sex_male</th>\n",
       "      <th>Sex_female</th>\n",
       "      <th>Pclass_1</th>\n",
       "      <th>Pclass_2</th>\n",
       "      <th>Pclass_3</th>\n",
       "      <th>Embarked_C</th>\n",
       "      <th>Embarked_Q</th>\n",
       "      <th>Embarked_S</th>\n",
       "    </tr>\n",
       "  </thead>\n",
       "  <tbody>\n",
       "    <tr>\n",
       "      <th>0</th>\n",
       "      <td>1</td>\n",
       "      <td>0</td>\n",
       "      <td>0</td>\n",
       "      <td>0</td>\n",
       "      <td>1</td>\n",
       "      <td>0</td>\n",
       "      <td>0</td>\n",
       "      <td>1</td>\n",
       "    </tr>\n",
       "    <tr>\n",
       "      <th>1</th>\n",
       "      <td>0</td>\n",
       "      <td>1</td>\n",
       "      <td>1</td>\n",
       "      <td>0</td>\n",
       "      <td>0</td>\n",
       "      <td>1</td>\n",
       "      <td>0</td>\n",
       "      <td>0</td>\n",
       "    </tr>\n",
       "    <tr>\n",
       "      <th>2</th>\n",
       "      <td>0</td>\n",
       "      <td>1</td>\n",
       "      <td>0</td>\n",
       "      <td>0</td>\n",
       "      <td>1</td>\n",
       "      <td>0</td>\n",
       "      <td>0</td>\n",
       "      <td>1</td>\n",
       "    </tr>\n",
       "    <tr>\n",
       "      <th>3</th>\n",
       "      <td>0</td>\n",
       "      <td>1</td>\n",
       "      <td>1</td>\n",
       "      <td>0</td>\n",
       "      <td>0</td>\n",
       "      <td>0</td>\n",
       "      <td>0</td>\n",
       "      <td>1</td>\n",
       "    </tr>\n",
       "    <tr>\n",
       "      <th>4</th>\n",
       "      <td>1</td>\n",
       "      <td>0</td>\n",
       "      <td>0</td>\n",
       "      <td>0</td>\n",
       "      <td>1</td>\n",
       "      <td>0</td>\n",
       "      <td>0</td>\n",
       "      <td>1</td>\n",
       "    </tr>\n",
       "  </tbody>\n",
       "</table>\n",
       "</div>"
      ],
      "text/plain": [
       "   Sex_male  Sex_female  Pclass_1  Pclass_2  Pclass_3  Embarked_C  Embarked_Q  Embarked_S\n",
       "0         1           0         0         0         1           0           0           1\n",
       "1         0           1         1         0         0           1           0           0\n",
       "2         0           1         0         0         1           0           0           1\n",
       "3         0           1         1         0         0           0           0           1\n",
       "4         1           0         0         0         1           0           0           1"
      ]
     },
     "execution_count": 15,
     "metadata": {},
     "output_type": "execute_result"
    }
   ],
   "source": [
    "added_cols = ['Sex_male', 'Sex_female', 'Pclass_1', 'Pclass_2', 'Pclass_3', 'Embarked_C', 'Embarked_Q', 'Embarked_S']\n",
    "df[added_cols].head()"
   ]
  },
  {
   "cell_type": "markdown",
   "id": "83d3b03e",
   "metadata": {
    "hidden": true,
    "papermill": {
     "duration": 0.116308,
     "end_time": "2022-11-22T10:53:37.600218",
     "exception": false,
     "start_time": "2022-11-22T10:53:37.483910",
     "status": "completed"
    },
    "tags": []
   },
   "source": [
    "Now we can create our independent (predictors) and dependent (target) variables. They both need to be PyTorch tensors. Our dependent variable is `Survived`:"
   ]
  },
  {
   "cell_type": "code",
   "execution_count": 16,
   "id": "0f3f71dd",
   "metadata": {
    "execution": {
     "iopub.execute_input": "2022-11-22T10:53:37.839259Z",
     "iopub.status.busy": "2022-11-22T10:53:37.838955Z",
     "iopub.status.idle": "2022-11-22T10:53:37.854360Z",
     "shell.execute_reply": "2022-11-22T10:53:37.853505Z"
    },
    "hidden": true,
    "papermill": {
     "duration": 0.138373,
     "end_time": "2022-11-22T10:53:37.856582",
     "exception": false,
     "start_time": "2022-11-22T10:53:37.718209",
     "status": "completed"
    },
    "tags": []
   },
   "outputs": [],
   "source": [
    "from torch import tensor\n",
    "\n",
    "t_dep = tensor(df.Survived)"
   ]
  },
  {
   "cell_type": "markdown",
   "id": "bd620c59",
   "metadata": {
    "hidden": true,
    "papermill": {
     "duration": 0.123511,
     "end_time": "2022-11-22T10:53:38.097252",
     "exception": false,
     "start_time": "2022-11-22T10:53:37.973741",
     "status": "completed"
    },
    "tags": []
   },
   "source": [
    "Our independent variables are all the continuous variables of interest plus all the dummy variables we just created:"
   ]
  },
  {
   "cell_type": "code",
   "execution_count": 17,
   "id": "4dff84e7",
   "metadata": {
    "execution": {
     "iopub.execute_input": "2022-11-22T10:53:38.332998Z",
     "iopub.status.busy": "2022-11-22T10:53:38.331878Z",
     "iopub.status.idle": "2022-11-22T10:53:38.442037Z",
     "shell.execute_reply": "2022-11-22T10:53:38.441164Z"
    },
    "hidden": true,
    "papermill": {
     "duration": 0.230874,
     "end_time": "2022-11-22T10:53:38.444628",
     "exception": false,
     "start_time": "2022-11-22T10:53:38.213754",
     "status": "completed"
    },
    "tags": []
   },
   "outputs": [
    {
     "data": {
      "text/plain": [
       "tensor([[22.0000,  1.0000,  0.0000,  2.1102,  1.0000,  0.0000,  0.0000,  0.0000,  1.0000,  0.0000,  0.0000,  1.0000],\n",
       "        [38.0000,  1.0000,  0.0000,  4.2806,  0.0000,  1.0000,  1.0000,  0.0000,  0.0000,  1.0000,  0.0000,  0.0000],\n",
       "        [26.0000,  0.0000,  0.0000,  2.1889,  0.0000,  1.0000,  0.0000,  0.0000,  1.0000,  0.0000,  0.0000,  1.0000],\n",
       "        [35.0000,  1.0000,  0.0000,  3.9908,  0.0000,  1.0000,  1.0000,  0.0000,  0.0000,  0.0000,  0.0000,  1.0000],\n",
       "        [35.0000,  0.0000,  0.0000,  2.2028,  1.0000,  0.0000,  0.0000,  0.0000,  1.0000,  0.0000,  0.0000,  1.0000],\n",
       "        [24.0000,  0.0000,  0.0000,  2.2469,  1.0000,  0.0000,  0.0000,  0.0000,  1.0000,  0.0000,  1.0000,  0.0000],\n",
       "        [54.0000,  0.0000,  0.0000,  3.9677,  1.0000,  0.0000,  1.0000,  0.0000,  0.0000,  0.0000,  0.0000,  1.0000],\n",
       "        ...,\n",
       "        [25.0000,  0.0000,  0.0000,  2.0857,  1.0000,  0.0000,  0.0000,  0.0000,  1.0000,  0.0000,  0.0000,  1.0000],\n",
       "        [39.0000,  0.0000,  5.0000,  3.4054,  0.0000,  1.0000,  0.0000,  0.0000,  1.0000,  0.0000,  1.0000,  0.0000],\n",
       "        [27.0000,  0.0000,  0.0000,  2.6391,  1.0000,  0.0000,  0.0000,  1.0000,  0.0000,  0.0000,  0.0000,  1.0000],\n",
       "        [19.0000,  0.0000,  0.0000,  3.4340,  0.0000,  1.0000,  1.0000,  0.0000,  0.0000,  0.0000,  0.0000,  1.0000],\n",
       "        [24.0000,  1.0000,  2.0000,  3.1966,  0.0000,  1.0000,  0.0000,  0.0000,  1.0000,  0.0000,  0.0000,  1.0000],\n",
       "        [26.0000,  0.0000,  0.0000,  3.4340,  1.0000,  0.0000,  1.0000,  0.0000,  0.0000,  1.0000,  0.0000,  0.0000],\n",
       "        [32.0000,  0.0000,  0.0000,  2.1691,  1.0000,  0.0000,  0.0000,  0.0000,  1.0000,  0.0000,  1.0000,  0.0000]])"
      ]
     },
     "execution_count": 17,
     "metadata": {},
     "output_type": "execute_result"
    }
   ],
   "source": [
    "indep_cols = ['Age', 'SibSp', 'Parch', 'LogFare'] + added_cols\n",
    "\n",
    "t_indep = tensor(df[indep_cols].values, dtype=torch.float)\n",
    "t_indep"
   ]
  },
  {
   "cell_type": "markdown",
   "id": "afa593f7",
   "metadata": {
    "hidden": true,
    "papermill": {
     "duration": 0.117079,
     "end_time": "2022-11-22T10:53:38.681293",
     "exception": false,
     "start_time": "2022-11-22T10:53:38.564214",
     "status": "completed"
    },
    "tags": []
   },
   "source": [
    "Here's the number of rows and columns we have for our independent variables:"
   ]
  },
  {
   "cell_type": "code",
   "execution_count": 18,
   "id": "88326f3a",
   "metadata": {
    "execution": {
     "iopub.execute_input": "2022-11-22T10:53:38.918344Z",
     "iopub.status.busy": "2022-11-22T10:53:38.918034Z",
     "iopub.status.idle": "2022-11-22T10:53:38.924468Z",
     "shell.execute_reply": "2022-11-22T10:53:38.923342Z"
    },
    "hidden": true,
    "papermill": {
     "duration": 0.127449,
     "end_time": "2022-11-22T10:53:38.926738",
     "exception": false,
     "start_time": "2022-11-22T10:53:38.799289",
     "status": "completed"
    },
    "tags": []
   },
   "outputs": [
    {
     "data": {
      "text/plain": [
       "torch.Size([891, 12])"
      ]
     },
     "execution_count": 18,
     "metadata": {},
     "output_type": "execute_result"
    }
   ],
   "source": [
    "t_indep.shape"
   ]
  },
  {
   "cell_type": "markdown",
   "id": "f98604aa",
   "metadata": {
    "papermill": {
     "duration": 0.117877,
     "end_time": "2022-11-22T10:53:39.163496",
     "exception": false,
     "start_time": "2022-11-22T10:53:39.045619",
     "status": "completed"
    },
    "tags": []
   },
   "source": [
    "## Setting up a linear model"
   ]
  },
  {
   "cell_type": "markdown",
   "id": "d90e5319",
   "metadata": {
    "papermill": {
     "duration": 0.117723,
     "end_time": "2022-11-22T10:53:39.400410",
     "exception": false,
     "start_time": "2022-11-22T10:53:39.282687",
     "status": "completed"
    },
    "tags": []
   },
   "source": [
    "Now that we've got a matrix of independent variables and a dependent variable vector, we can work on calculating our predictions and our loss. In this section, we're going to manually do a single step of calculating predictions and loss for every row of our data.\n",
    "\n",
    "Our first model will be a simple linear model. We'll need a coefficient for each column in `t_indep`. We'll pick random numbers in the range `(-0.5,0.5)`, and set our manual seed so that my explanations in the prose in this notebook will be consistent with what you see when you run it."
   ]
  },
  {
   "cell_type": "code",
   "execution_count": 19,
   "id": "5710dc6d",
   "metadata": {
    "execution": {
     "iopub.execute_input": "2022-11-22T10:53:39.634625Z",
     "iopub.status.busy": "2022-11-22T10:53:39.634129Z",
     "iopub.status.idle": "2022-11-22T10:53:39.652921Z",
     "shell.execute_reply": "2022-11-22T10:53:39.652335Z"
    },
    "papermill": {
     "duration": 0.138299,
     "end_time": "2022-11-22T10:53:39.655242",
     "exception": false,
     "start_time": "2022-11-22T10:53:39.516943",
     "status": "completed"
    },
    "tags": []
   },
   "outputs": [
    {
     "data": {
      "text/plain": [
       "tensor([-0.4629,  0.1386,  0.2409, -0.2262, -0.2632, -0.3147,  0.4876,  0.3136,  0.2799, -0.4392,  0.2103,  0.3625])"
      ]
     },
     "execution_count": 19,
     "metadata": {},
     "output_type": "execute_result"
    }
   ],
   "source": [
    "torch.manual_seed(442)\n",
    "\n",
    "n_coeff = t_indep.shape[1]\n",
    "coeffs = torch.rand(n_coeff)-0.5\n",
    "coeffs"
   ]
  },
  {
   "cell_type": "markdown",
   "id": "3a06ce9e",
   "metadata": {
    "papermill": {
     "duration": 0.118459,
     "end_time": "2022-11-22T10:53:39.892771",
     "exception": false,
     "start_time": "2022-11-22T10:53:39.774312",
     "status": "completed"
    },
    "tags": []
   },
   "source": [
    "Our predictions will be calculated by multiplying each row by the coefficients, and adding them up. One interesting point here is that we don't need a separate constant term (also known as a \"bias\" or \"intercept\" term), or a column of all `1`s to give the same effect has having a constant term. That's because our dummy variables already cover the entire dataset -- e.g. there's a column for \"male\" and a column for \"female\", and everyone in the dataset is in exactly one of these; therefore, we don't need a separate intercept term to cover rows that aren't otherwise part of a column.\n",
    "\n",
    "Here's what the multiplication looks like:"
   ]
  },
  {
   "cell_type": "code",
   "execution_count": 20,
   "id": "a52438e1",
   "metadata": {
    "execution": {
     "iopub.execute_input": "2022-11-22T10:53:40.133354Z",
     "iopub.status.busy": "2022-11-22T10:53:40.132879Z",
     "iopub.status.idle": "2022-11-22T10:53:40.140767Z",
     "shell.execute_reply": "2022-11-22T10:53:40.139853Z"
    },
    "papermill": {
     "duration": 0.129553,
     "end_time": "2022-11-22T10:53:40.142836",
     "exception": false,
     "start_time": "2022-11-22T10:53:40.013283",
     "status": "completed"
    },
    "tags": []
   },
   "outputs": [
    {
     "data": {
      "text/plain": [
       "tensor([[-10.1838,   0.1386,   0.0000,  -0.4772,  -0.2632,  -0.0000,   0.0000,   0.0000,   0.2799,  -0.0000,   0.0000,   0.3625],\n",
       "        [-17.5902,   0.1386,   0.0000,  -0.9681,  -0.0000,  -0.3147,   0.4876,   0.0000,   0.0000,  -0.4392,   0.0000,   0.0000],\n",
       "        [-12.0354,   0.0000,   0.0000,  -0.4950,  -0.0000,  -0.3147,   0.0000,   0.0000,   0.2799,  -0.0000,   0.0000,   0.3625],\n",
       "        [-16.2015,   0.1386,   0.0000,  -0.9025,  -0.0000,  -0.3147,   0.4876,   0.0000,   0.0000,  -0.0000,   0.0000,   0.3625],\n",
       "        [-16.2015,   0.0000,   0.0000,  -0.4982,  -0.2632,  -0.0000,   0.0000,   0.0000,   0.2799,  -0.0000,   0.0000,   0.3625],\n",
       "        [-11.1096,   0.0000,   0.0000,  -0.5081,  -0.2632,  -0.0000,   0.0000,   0.0000,   0.2799,  -0.0000,   0.2103,   0.0000],\n",
       "        [-24.9966,   0.0000,   0.0000,  -0.8973,  -0.2632,  -0.0000,   0.4876,   0.0000,   0.0000,  -0.0000,   0.0000,   0.3625],\n",
       "        ...,\n",
       "        [-11.5725,   0.0000,   0.0000,  -0.4717,  -0.2632,  -0.0000,   0.0000,   0.0000,   0.2799,  -0.0000,   0.0000,   0.3625],\n",
       "        [-18.0531,   0.0000,   1.2045,  -0.7701,  -0.0000,  -0.3147,   0.0000,   0.0000,   0.2799,  -0.0000,   0.2103,   0.0000],\n",
       "        [-12.4983,   0.0000,   0.0000,  -0.5968,  -0.2632,  -0.0000,   0.0000,   0.3136,   0.0000,  -0.0000,   0.0000,   0.3625],\n",
       "        [ -8.7951,   0.0000,   0.0000,  -0.7766,  -0.0000,  -0.3147,   0.4876,   0.0000,   0.0000,  -0.0000,   0.0000,   0.3625],\n",
       "        [-11.1096,   0.1386,   0.4818,  -0.7229,  -0.0000,  -0.3147,   0.0000,   0.0000,   0.2799,  -0.0000,   0.0000,   0.3625],\n",
       "        [-12.0354,   0.0000,   0.0000,  -0.7766,  -0.2632,  -0.0000,   0.4876,   0.0000,   0.0000,  -0.4392,   0.0000,   0.0000],\n",
       "        [-14.8128,   0.0000,   0.0000,  -0.4905,  -0.2632,  -0.0000,   0.0000,   0.0000,   0.2799,  -0.0000,   0.2103,   0.0000]])"
      ]
     },
     "execution_count": 20,
     "metadata": {},
     "output_type": "execute_result"
    }
   ],
   "source": [
    "t_indep*coeffs"
   ]
  },
  {
   "cell_type": "markdown",
   "id": "ea89aa79",
   "metadata": {
    "papermill": {
     "duration": 0.118837,
     "end_time": "2022-11-22T10:53:40.382771",
     "exception": false,
     "start_time": "2022-11-22T10:53:40.263934",
     "status": "completed"
    },
    "tags": []
   },
   "source": [
    "We can see we've got a problem here. The sums of each row will be dominated by the first column, which is `Age`, since that's bigger on average than all the others.\n",
    "\n",
    "Let's make all the columns contain numbers from `0` to `1`, by dividing each column by its `max()`:"
   ]
  },
  {
   "cell_type": "code",
   "execution_count": 21,
   "id": "5a734d5e",
   "metadata": {
    "execution": {
     "iopub.execute_input": "2022-11-22T10:53:40.619120Z",
     "iopub.status.busy": "2022-11-22T10:53:40.618533Z",
     "iopub.status.idle": "2022-11-22T10:53:40.625967Z",
     "shell.execute_reply": "2022-11-22T10:53:40.625343Z"
    },
    "papermill": {
     "duration": 0.128073,
     "end_time": "2022-11-22T10:53:40.628234",
     "exception": false,
     "start_time": "2022-11-22T10:53:40.500161",
     "status": "completed"
    },
    "tags": []
   },
   "outputs": [],
   "source": [
    "vals,indices = t_indep.max(dim=0)\n",
    "t_indep = t_indep / vals"
   ]
  },
  {
   "cell_type": "markdown",
   "id": "1707e8a8",
   "metadata": {
    "papermill": {
     "duration": 0.117812,
     "end_time": "2022-11-22T10:53:40.864022",
     "exception": false,
     "start_time": "2022-11-22T10:53:40.746210",
     "status": "completed"
    },
    "tags": []
   },
   "source": [
    "As we see, that removes the problem of one column dominating all the others:"
   ]
  },
  {
   "cell_type": "code",
   "execution_count": 22,
   "id": "579b6021",
   "metadata": {
    "execution": {
     "iopub.execute_input": "2022-11-22T10:53:41.099800Z",
     "iopub.status.busy": "2022-11-22T10:53:41.099478Z",
     "iopub.status.idle": "2022-11-22T10:53:41.106933Z",
     "shell.execute_reply": "2022-11-22T10:53:41.106093Z"
    },
    "papermill": {
     "duration": 0.12731,
     "end_time": "2022-11-22T10:53:41.108872",
     "exception": false,
     "start_time": "2022-11-22T10:53:40.981562",
     "status": "completed"
    },
    "tags": []
   },
   "outputs": [
    {
     "data": {
      "text/plain": [
       "tensor([[-0.1273,  0.0173,  0.0000, -0.0765, -0.2632, -0.0000,  0.0000,  0.0000,  0.2799, -0.0000,  0.0000,  0.3625],\n",
       "        [-0.2199,  0.0173,  0.0000, -0.1551, -0.0000, -0.3147,  0.4876,  0.0000,  0.0000, -0.4392,  0.0000,  0.0000],\n",
       "        [-0.1504,  0.0000,  0.0000, -0.0793, -0.0000, -0.3147,  0.0000,  0.0000,  0.2799, -0.0000,  0.0000,  0.3625],\n",
       "        [-0.2025,  0.0173,  0.0000, -0.1446, -0.0000, -0.3147,  0.4876,  0.0000,  0.0000, -0.0000,  0.0000,  0.3625],\n",
       "        [-0.2025,  0.0000,  0.0000, -0.0798, -0.2632, -0.0000,  0.0000,  0.0000,  0.2799, -0.0000,  0.0000,  0.3625],\n",
       "        [-0.1389,  0.0000,  0.0000, -0.0814, -0.2632, -0.0000,  0.0000,  0.0000,  0.2799, -0.0000,  0.2103,  0.0000],\n",
       "        [-0.3125,  0.0000,  0.0000, -0.1438, -0.2632, -0.0000,  0.4876,  0.0000,  0.0000, -0.0000,  0.0000,  0.3625],\n",
       "        ...,\n",
       "        [-0.1447,  0.0000,  0.0000, -0.0756, -0.2632, -0.0000,  0.0000,  0.0000,  0.2799, -0.0000,  0.0000,  0.3625],\n",
       "        [-0.2257,  0.0000,  0.2008, -0.1234, -0.0000, -0.3147,  0.0000,  0.0000,  0.2799, -0.0000,  0.2103,  0.0000],\n",
       "        [-0.1562,  0.0000,  0.0000, -0.0956, -0.2632, -0.0000,  0.0000,  0.3136,  0.0000, -0.0000,  0.0000,  0.3625],\n",
       "        [-0.1099,  0.0000,  0.0000, -0.1244, -0.0000, -0.3147,  0.4876,  0.0000,  0.0000, -0.0000,  0.0000,  0.3625],\n",
       "        [-0.1389,  0.0173,  0.0803, -0.1158, -0.0000, -0.3147,  0.0000,  0.0000,  0.2799, -0.0000,  0.0000,  0.3625],\n",
       "        [-0.1504,  0.0000,  0.0000, -0.1244, -0.2632, -0.0000,  0.4876,  0.0000,  0.0000, -0.4392,  0.0000,  0.0000],\n",
       "        [-0.1852,  0.0000,  0.0000, -0.0786, -0.2632, -0.0000,  0.0000,  0.0000,  0.2799, -0.0000,  0.2103,  0.0000]])"
      ]
     },
     "execution_count": 22,
     "metadata": {},
     "output_type": "execute_result"
    }
   ],
   "source": [
    "t_indep*coeffs"
   ]
  },
  {
   "cell_type": "markdown",
   "id": "313b58e1",
   "metadata": {
    "papermill": {
     "duration": 0.123105,
     "end_time": "2022-11-22T10:53:41.354667",
     "exception": false,
     "start_time": "2022-11-22T10:53:41.231562",
     "status": "completed"
    },
    "tags": []
   },
   "source": [
    "One thing you hopefully noticed is how amazingly cool this line of code is:\n",
    "\n",
    "    t_indep = t_indep / vals\n",
    "\n",
    "That is dividing a matrix by a vector -- what on earth does that mean?!? The trick here is that we're taking advantage of a technique in numpy and PyTorch (and many other languages, going all the way back to APL) called [broadcasting](https://numpy.org/doc/stable/user/basics.broadcasting.html). In short, this acts as if there's a separate copy of the vector for every row of the matrix, so it divides each row of the matrix by the vector. In practice, it doesn't actually make any copies, and does the whole thing in a highly optimized way, taking full advantage of modern CPUs (or, indeed, GPUs, if we're using them). Broadcasting is one of the most important techniques for making your code concise, maintainable, and fast, so it's well worth studying and practicing.\n",
    "\n",
    "We can now create predictions from our linear model, by adding up the rows of the product:"
   ]
  },
  {
   "cell_type": "code",
   "execution_count": 23,
   "id": "922e03ef",
   "metadata": {
    "execution": {
     "iopub.execute_input": "2022-11-22T10:53:41.603671Z",
     "iopub.status.busy": "2022-11-22T10:53:41.602741Z",
     "iopub.status.idle": "2022-11-22T10:53:41.612877Z",
     "shell.execute_reply": "2022-11-22T10:53:41.612172Z"
    },
    "papermill": {
     "duration": 0.137111,
     "end_time": "2022-11-22T10:53:41.615319",
     "exception": false,
     "start_time": "2022-11-22T10:53:41.478208",
     "status": "completed"
    },
    "tags": []
   },
   "outputs": [],
   "source": [
    "preds = (t_indep*coeffs).sum(axis=1)"
   ]
  },
  {
   "cell_type": "markdown",
   "id": "5dc185e5",
   "metadata": {
    "papermill": {
     "duration": 0.120752,
     "end_time": "2022-11-22T10:53:41.854050",
     "exception": false,
     "start_time": "2022-11-22T10:53:41.733298",
     "status": "completed"
    },
    "tags": []
   },
   "source": [
    "Let's take a look at the first few:"
   ]
  },
  {
   "cell_type": "code",
   "execution_count": 24,
   "id": "862d29c4",
   "metadata": {
    "execution": {
     "iopub.execute_input": "2022-11-22T10:53:42.095504Z",
     "iopub.status.busy": "2022-11-22T10:53:42.094700Z",
     "iopub.status.idle": "2022-11-22T10:53:42.103327Z",
     "shell.execute_reply": "2022-11-22T10:53:42.102416Z"
    },
    "papermill": {
     "duration": 0.133392,
     "end_time": "2022-11-22T10:53:42.105331",
     "exception": false,
     "start_time": "2022-11-22T10:53:41.971939",
     "status": "completed"
    },
    "tags": []
   },
   "outputs": [
    {
     "data": {
      "text/plain": [
       "tensor([ 0.1927, -0.6239,  0.0979,  0.2056,  0.0968,  0.0066,  0.1306,  0.3476,  0.1613, -0.6285])"
      ]
     },
     "execution_count": 24,
     "metadata": {},
     "output_type": "execute_result"
    }
   ],
   "source": [
    "preds[:10]"
   ]
  },
  {
   "cell_type": "markdown",
   "id": "c8c42eef",
   "metadata": {
    "papermill": {
     "duration": 0.120251,
     "end_time": "2022-11-22T10:53:42.349169",
     "exception": false,
     "start_time": "2022-11-22T10:53:42.228918",
     "status": "completed"
    },
    "tags": []
   },
   "source": [
    "Of course, these predictions aren't going to be any use, since our coefficients are random -- they're just a starting point for our gradient descent process.\n",
    "\n",
    "To do gradient descent, we need a loss function. Taking the average error of the rows (i.e. the absolute value of the difference between the prediction and the dependent) is generally a reasonable approach:"
   ]
  },
  {
   "cell_type": "code",
   "execution_count": 25,
   "id": "b18709a9",
   "metadata": {
    "execution": {
     "iopub.execute_input": "2022-11-22T10:53:42.588952Z",
     "iopub.status.busy": "2022-11-22T10:53:42.588436Z",
     "iopub.status.idle": "2022-11-22T10:53:42.603174Z",
     "shell.execute_reply": "2022-11-22T10:53:42.602288Z"
    },
    "papermill": {
     "duration": 0.136341,
     "end_time": "2022-11-22T10:53:42.605307",
     "exception": false,
     "start_time": "2022-11-22T10:53:42.468966",
     "status": "completed"
    },
    "tags": []
   },
   "outputs": [
    {
     "data": {
      "text/plain": [
       "tensor(0.5382)"
      ]
     },
     "execution_count": 25,
     "metadata": {},
     "output_type": "execute_result"
    }
   ],
   "source": [
    "loss = torch.abs(preds-t_dep).mean()\n",
    "loss"
   ]
  },
  {
   "cell_type": "markdown",
   "id": "40098e4d",
   "metadata": {
    "papermill": {
     "duration": 0.121462,
     "end_time": "2022-11-22T10:53:42.847946",
     "exception": false,
     "start_time": "2022-11-22T10:53:42.726484",
     "status": "completed"
    },
    "tags": []
   },
   "source": [
    "Now that we've tested out a way of calculating predictions, and loss, let's pop them into functions to make life easier:"
   ]
  },
  {
   "cell_type": "code",
   "execution_count": 26,
   "id": "8bf3cc66",
   "metadata": {
    "execution": {
     "iopub.execute_input": "2022-11-22T10:53:43.094806Z",
     "iopub.status.busy": "2022-11-22T10:53:43.094220Z",
     "iopub.status.idle": "2022-11-22T10:53:43.099780Z",
     "shell.execute_reply": "2022-11-22T10:53:43.099184Z"
    },
    "papermill": {
     "duration": 0.129308,
     "end_time": "2022-11-22T10:53:43.102125",
     "exception": false,
     "start_time": "2022-11-22T10:53:42.972817",
     "status": "completed"
    },
    "tags": []
   },
   "outputs": [],
   "source": [
    "def calc_preds(coeffs, indeps): return (indeps*coeffs).sum(axis=1)\n",
    "def calc_loss(coeffs, indeps, deps): return torch.abs(calc_preds(coeffs, indeps)-deps).mean()"
   ]
  },
  {
   "cell_type": "markdown",
   "id": "f864ac13",
   "metadata": {
    "papermill": {
     "duration": 0.121759,
     "end_time": "2022-11-22T10:53:43.345819",
     "exception": false,
     "start_time": "2022-11-22T10:53:43.224060",
     "status": "completed"
    },
    "tags": []
   },
   "source": [
    "## Doing a gradient descent step"
   ]
  },
  {
   "cell_type": "markdown",
   "id": "a14d8e81",
   "metadata": {
    "papermill": {
     "duration": 0.120823,
     "end_time": "2022-11-22T10:53:43.588053",
     "exception": false,
     "start_time": "2022-11-22T10:53:43.467230",
     "status": "completed"
    },
    "tags": []
   },
   "source": [
    "In this section, we're going to do a single \"epoch\" of gradient descent manually. The only thing we're going to automate is calculating gradients, because let's face it that's pretty tedious and entirely pointless to do by hand! To get PyTorch to calculate gradients, we'll need to call `requires_grad_()` on our `coeffs` (if you're not sure why, review the previous notebook, [How does a neural net really work?](https://www.kaggle.com/code/jhoward/how-does-a-neural-net-really-work), before continuing):"
   ]
  },
  {
   "cell_type": "code",
   "execution_count": 27,
   "id": "ad64740b",
   "metadata": {
    "execution": {
     "iopub.execute_input": "2022-11-22T10:53:43.830518Z",
     "iopub.status.busy": "2022-11-22T10:53:43.829836Z",
     "iopub.status.idle": "2022-11-22T10:53:43.835597Z",
     "shell.execute_reply": "2022-11-22T10:53:43.834947Z"
    },
    "papermill": {
     "duration": 0.129682,
     "end_time": "2022-11-22T10:53:43.837450",
     "exception": false,
     "start_time": "2022-11-22T10:53:43.707768",
     "status": "completed"
    },
    "tags": []
   },
   "outputs": [
    {
     "data": {
      "text/plain": [
       "tensor([-0.4629,  0.1386,  0.2409, -0.2262, -0.2632, -0.3147,  0.4876,  0.3136,  0.2799, -0.4392,  0.2103,  0.3625], requires_grad=True)"
      ]
     },
     "execution_count": 27,
     "metadata": {},
     "output_type": "execute_result"
    }
   ],
   "source": [
    "coeffs.requires_grad_()"
   ]
  },
  {
   "cell_type": "markdown",
   "id": "c8273948",
   "metadata": {
    "papermill": {
     "duration": 0.119947,
     "end_time": "2022-11-22T10:53:44.078211",
     "exception": false,
     "start_time": "2022-11-22T10:53:43.958264",
     "status": "completed"
    },
    "tags": []
   },
   "source": [
    "Now when we calculate our loss, PyTorch will keep track of all the steps, so we'll be able to get the gradients afterwards:"
   ]
  },
  {
   "cell_type": "code",
   "execution_count": 28,
   "id": "726cc41e",
   "metadata": {
    "execution": {
     "iopub.execute_input": "2022-11-22T10:53:44.318668Z",
     "iopub.status.busy": "2022-11-22T10:53:44.318132Z",
     "iopub.status.idle": "2022-11-22T10:53:44.325724Z",
     "shell.execute_reply": "2022-11-22T10:53:44.325129Z"
    },
    "papermill": {
     "duration": 0.130887,
     "end_time": "2022-11-22T10:53:44.327605",
     "exception": false,
     "start_time": "2022-11-22T10:53:44.196718",
     "status": "completed"
    },
    "tags": []
   },
   "outputs": [
    {
     "data": {
      "text/plain": [
       "tensor(0.5382, grad_fn=<MeanBackward0>)"
      ]
     },
     "execution_count": 28,
     "metadata": {},
     "output_type": "execute_result"
    }
   ],
   "source": [
    "loss = calc_loss(coeffs, t_indep, t_dep)\n",
    "loss"
   ]
  },
  {
   "cell_type": "markdown",
   "id": "2306f877",
   "metadata": {
    "papermill": {
     "duration": 0.123697,
     "end_time": "2022-11-22T10:53:44.570766",
     "exception": false,
     "start_time": "2022-11-22T10:53:44.447069",
     "status": "completed"
    },
    "tags": []
   },
   "source": [
    "Use `backward()` to ask PyTorch to calculate gradients now:"
   ]
  },
  {
   "cell_type": "code",
   "execution_count": 29,
   "id": "b7317cfc",
   "metadata": {
    "execution": {
     "iopub.execute_input": "2022-11-22T10:53:44.812207Z",
     "iopub.status.busy": "2022-11-22T10:53:44.811850Z",
     "iopub.status.idle": "2022-11-22T10:53:44.828338Z",
     "shell.execute_reply": "2022-11-22T10:53:44.827198Z"
    },
    "papermill": {
     "duration": 0.139761,
     "end_time": "2022-11-22T10:53:44.830605",
     "exception": false,
     "start_time": "2022-11-22T10:53:44.690844",
     "status": "completed"
    },
    "tags": []
   },
   "outputs": [],
   "source": [
    "loss.backward()"
   ]
  },
  {
   "cell_type": "markdown",
   "id": "2601ff7f",
   "metadata": {
    "papermill": {
     "duration": 0.124311,
     "end_time": "2022-11-22T10:53:45.079121",
     "exception": false,
     "start_time": "2022-11-22T10:53:44.954810",
     "status": "completed"
    },
    "tags": []
   },
   "source": [
    "Let's see what they look like:"
   ]
  },
  {
   "cell_type": "code",
   "execution_count": 30,
   "id": "f6190f61",
   "metadata": {
    "execution": {
     "iopub.execute_input": "2022-11-22T10:53:45.325995Z",
     "iopub.status.busy": "2022-11-22T10:53:45.325132Z",
     "iopub.status.idle": "2022-11-22T10:53:45.332092Z",
     "shell.execute_reply": "2022-11-22T10:53:45.331245Z"
    },
    "papermill": {
     "duration": 0.132128,
     "end_time": "2022-11-22T10:53:45.334197",
     "exception": false,
     "start_time": "2022-11-22T10:53:45.202069",
     "status": "completed"
    },
    "tags": []
   },
   "outputs": [
    {
     "data": {
      "text/plain": [
       "tensor([-0.0106,  0.0129, -0.0041, -0.0484,  0.2099, -0.2132, -0.1212, -0.0247,  0.1425, -0.1886, -0.0191,  0.2043])"
      ]
     },
     "execution_count": 30,
     "metadata": {},
     "output_type": "execute_result"
    }
   ],
   "source": [
    "coeffs.grad"
   ]
  },
  {
   "cell_type": "markdown",
   "id": "6c353cf3",
   "metadata": {
    "papermill": {
     "duration": 0.122216,
     "end_time": "2022-11-22T10:53:45.582551",
     "exception": false,
     "start_time": "2022-11-22T10:53:45.460335",
     "status": "completed"
    },
    "tags": []
   },
   "source": [
    "Note that each time we call `backward`, the gradients are actually *added* to whatever is in the `.grad` attribute. Let's try running the above steps again:"
   ]
  },
  {
   "cell_type": "code",
   "execution_count": 31,
   "id": "64fbc47f",
   "metadata": {
    "execution": {
     "iopub.execute_input": "2022-11-22T10:53:45.825690Z",
     "iopub.status.busy": "2022-11-22T10:53:45.824723Z",
     "iopub.status.idle": "2022-11-22T10:53:45.833974Z",
     "shell.execute_reply": "2022-11-22T10:53:45.833418Z"
    },
    "papermill": {
     "duration": 0.13289,
     "end_time": "2022-11-22T10:53:45.835822",
     "exception": false,
     "start_time": "2022-11-22T10:53:45.702932",
     "status": "completed"
    },
    "tags": []
   },
   "outputs": [
    {
     "data": {
      "text/plain": [
       "tensor([-0.0212,  0.0258, -0.0082, -0.0969,  0.4198, -0.4265, -0.2424, -0.0494,  0.2851, -0.3771, -0.0382,  0.4085])"
      ]
     },
     "execution_count": 31,
     "metadata": {},
     "output_type": "execute_result"
    }
   ],
   "source": [
    "loss = calc_loss(coeffs, t_indep, t_dep)\n",
    "loss.backward()\n",
    "coeffs.grad"
   ]
  },
  {
   "cell_type": "markdown",
   "id": "e9f93318",
   "metadata": {
    "papermill": {
     "duration": 0.125181,
     "end_time": "2022-11-22T10:53:46.087064",
     "exception": false,
     "start_time": "2022-11-22T10:53:45.961883",
     "status": "completed"
    },
    "tags": []
   },
   "source": [
    "As you see, our `.grad` values are have doubled. That's because it added the gradients a second time. For this reason, after we use the gradients to do a gradient descent step, we need to set them back to zero.\n",
    "\n",
    "We can now do one gradient descent step, and check that our loss decreases:"
   ]
  },
  {
   "cell_type": "code",
   "execution_count": 32,
   "id": "493f50d6",
   "metadata": {
    "execution": {
     "iopub.execute_input": "2022-11-22T10:53:46.331140Z",
     "iopub.status.busy": "2022-11-22T10:53:46.330697Z",
     "iopub.status.idle": "2022-11-22T10:53:46.337265Z",
     "shell.execute_reply": "2022-11-22T10:53:46.336640Z"
    },
    "papermill": {
     "duration": 0.1315,
     "end_time": "2022-11-22T10:53:46.339988",
     "exception": false,
     "start_time": "2022-11-22T10:53:46.208488",
     "status": "completed"
    },
    "tags": []
   },
   "outputs": [
    {
     "name": "stdout",
     "output_type": "stream",
     "text": [
      "tensor(0.4945)\n"
     ]
    }
   ],
   "source": [
    "loss = calc_loss(coeffs, t_indep, t_dep)\n",
    "loss.backward()\n",
    "with torch.no_grad():\n",
    "    coeffs.sub_(coeffs.grad * 0.1)\n",
    "    coeffs.grad.zero_()\n",
    "    print(calc_loss(coeffs, t_indep, t_dep))"
   ]
  },
  {
   "cell_type": "markdown",
   "id": "54e33d9c",
   "metadata": {
    "papermill": {
     "duration": 0.123006,
     "end_time": "2022-11-22T10:53:46.587557",
     "exception": false,
     "start_time": "2022-11-22T10:53:46.464551",
     "status": "completed"
    },
    "tags": []
   },
   "source": [
    "Note that `a.sub_(b)` subtracts `b` from `a` in-place. In PyTorch, any method that ends in `_` changes its object in-place. Similarly, `a.zero_()` sets all elements of a tensor to zero."
   ]
  },
  {
   "cell_type": "markdown",
   "id": "1127dce0",
   "metadata": {
    "papermill": {
     "duration": 0.122174,
     "end_time": "2022-11-22T10:53:46.832454",
     "exception": false,
     "start_time": "2022-11-22T10:53:46.710280",
     "status": "completed"
    },
    "tags": []
   },
   "source": [
    "## Training the linear model"
   ]
  },
  {
   "cell_type": "markdown",
   "id": "3e6bfeae",
   "metadata": {
    "papermill": {
     "duration": 0.123582,
     "end_time": "2022-11-22T10:53:47.105208",
     "exception": false,
     "start_time": "2022-11-22T10:53:46.981626",
     "status": "completed"
    },
    "tags": []
   },
   "source": [
    "Before we begin training our model, we'll need to ensure that we hold out a validation set for calculating our metrics (for details on this, see \"[Getting started with NLP for absolute beginners](https://www.kaggle.com/code/jhoward/getting-started-with-nlp-for-absolute-beginners#Test-and-validation-sets)\".\n",
    "\n",
    "There's lots of different ways we can do this. In the next notebook we'll be comparing our approach here to what the fastai library does, so we'll want to ensure we split the data in the same way. So let's use `RandomSplitter` to get indices that will split our data into training and validation sets:"
   ]
  },
  {
   "cell_type": "code",
   "execution_count": 33,
   "id": "9b05f1f1",
   "metadata": {
    "execution": {
     "iopub.execute_input": "2022-11-22T10:53:47.351117Z",
     "iopub.status.busy": "2022-11-22T10:53:47.350468Z",
     "iopub.status.idle": "2022-11-22T10:53:48.804619Z",
     "shell.execute_reply": "2022-11-22T10:53:48.803327Z"
    },
    "papermill": {
     "duration": 1.581067,
     "end_time": "2022-11-22T10:53:48.807784",
     "exception": false,
     "start_time": "2022-11-22T10:53:47.226717",
     "status": "completed"
    },
    "tags": []
   },
   "outputs": [],
   "source": [
    "from fastai.data.transforms import RandomSplitter\n",
    "trn_split,val_split=RandomSplitter(seed=42)(df)"
   ]
  },
  {
   "cell_type": "markdown",
   "id": "d70ed66f",
   "metadata": {
    "papermill": {
     "duration": 0.125865,
     "end_time": "2022-11-22T10:53:49.068594",
     "exception": false,
     "start_time": "2022-11-22T10:53:48.942729",
     "status": "completed"
    },
    "tags": []
   },
   "source": [
    "Now we can apply those indicies to our independent and dependent variables:"
   ]
  },
  {
   "cell_type": "code",
   "execution_count": 34,
   "id": "b07952b7",
   "metadata": {
    "execution": {
     "iopub.execute_input": "2022-11-22T10:53:49.316940Z",
     "iopub.status.busy": "2022-11-22T10:53:49.315978Z",
     "iopub.status.idle": "2022-11-22T10:53:49.326610Z",
     "shell.execute_reply": "2022-11-22T10:53:49.325955Z"
    },
    "papermill": {
     "duration": 0.13723,
     "end_time": "2022-11-22T10:53:49.328633",
     "exception": false,
     "start_time": "2022-11-22T10:53:49.191403",
     "status": "completed"
    },
    "tags": []
   },
   "outputs": [
    {
     "data": {
      "text/plain": [
       "(713, 178)"
      ]
     },
     "execution_count": 34,
     "metadata": {},
     "output_type": "execute_result"
    }
   ],
   "source": [
    "trn_indep,val_indep = t_indep[trn_split],t_indep[val_split]\n",
    "trn_dep,val_dep = t_dep[trn_split],t_dep[val_split]\n",
    "len(trn_indep),len(val_indep)"
   ]
  },
  {
   "cell_type": "markdown",
   "id": "66ebe714",
   "metadata": {
    "papermill": {
     "duration": 0.122489,
     "end_time": "2022-11-22T10:53:49.573331",
     "exception": false,
     "start_time": "2022-11-22T10:53:49.450842",
     "status": "completed"
    },
    "tags": []
   },
   "source": [
    "We'll create functions for the three things we did manually above: updating `coeffs`, doing one full gradient descent step, and initilising `coeffs` to random numbers:"
   ]
  },
  {
   "cell_type": "code",
   "execution_count": 35,
   "id": "8ee22ed6",
   "metadata": {
    "execution": {
     "iopub.execute_input": "2022-11-22T10:53:49.820944Z",
     "iopub.status.busy": "2022-11-22T10:53:49.820445Z",
     "iopub.status.idle": "2022-11-22T10:53:49.824612Z",
     "shell.execute_reply": "2022-11-22T10:53:49.823957Z"
    },
    "papermill": {
     "duration": 0.13142,
     "end_time": "2022-11-22T10:53:49.826592",
     "exception": false,
     "start_time": "2022-11-22T10:53:49.695172",
     "status": "completed"
    },
    "tags": []
   },
   "outputs": [],
   "source": [
    "def update_coeffs(coeffs, lr):\n",
    "    coeffs.sub_(coeffs.grad * lr)\n",
    "    coeffs.grad.zero_()"
   ]
  },
  {
   "cell_type": "code",
   "execution_count": 36,
   "id": "849cb4ae",
   "metadata": {
    "execution": {
     "iopub.execute_input": "2022-11-22T10:53:50.074742Z",
     "iopub.status.busy": "2022-11-22T10:53:50.074246Z",
     "iopub.status.idle": "2022-11-22T10:53:50.078668Z",
     "shell.execute_reply": "2022-11-22T10:53:50.078051Z"
    },
    "papermill": {
     "duration": 0.131034,
     "end_time": "2022-11-22T10:53:50.080774",
     "exception": false,
     "start_time": "2022-11-22T10:53:49.949740",
     "status": "completed"
    },
    "tags": []
   },
   "outputs": [],
   "source": [
    "def one_epoch(coeffs, lr):\n",
    "    loss = calc_loss(coeffs, trn_indep, trn_dep)\n",
    "    loss.backward()\n",
    "    with torch.no_grad(): update_coeffs(coeffs, lr)\n",
    "    print(f\"{loss:.3f}\", end=\"; \")"
   ]
  },
  {
   "cell_type": "code",
   "execution_count": 37,
   "id": "ef7fb8b9",
   "metadata": {
    "execution": {
     "iopub.execute_input": "2022-11-22T10:53:50.332842Z",
     "iopub.status.busy": "2022-11-22T10:53:50.332214Z",
     "iopub.status.idle": "2022-11-22T10:53:50.337118Z",
     "shell.execute_reply": "2022-11-22T10:53:50.336154Z"
    },
    "papermill": {
     "duration": 0.135661,
     "end_time": "2022-11-22T10:53:50.339533",
     "exception": false,
     "start_time": "2022-11-22T10:53:50.203872",
     "status": "completed"
    },
    "tags": []
   },
   "outputs": [],
   "source": [
    "def init_coeffs(): return (torch.rand(n_coeff)-0.5).requires_grad_()"
   ]
  },
  {
   "cell_type": "markdown",
   "id": "12b8a513",
   "metadata": {
    "papermill": {
     "duration": 0.125325,
     "end_time": "2022-11-22T10:53:50.591773",
     "exception": false,
     "start_time": "2022-11-22T10:53:50.466448",
     "status": "completed"
    },
    "tags": []
   },
   "source": [
    "We can now use these functions to train our model:"
   ]
  },
  {
   "cell_type": "code",
   "execution_count": 38,
   "id": "8ea7e770",
   "metadata": {
    "execution": {
     "iopub.execute_input": "2022-11-22T10:53:50.849267Z",
     "iopub.status.busy": "2022-11-22T10:53:50.848866Z",
     "iopub.status.idle": "2022-11-22T10:53:50.854755Z",
     "shell.execute_reply": "2022-11-22T10:53:50.853799Z"
    },
    "papermill": {
     "duration": 0.134947,
     "end_time": "2022-11-22T10:53:50.856899",
     "exception": false,
     "start_time": "2022-11-22T10:53:50.721952",
     "status": "completed"
    },
    "tags": []
   },
   "outputs": [],
   "source": [
    "def train_model(epochs=30, lr=0.01):\n",
    "    torch.manual_seed(442)\n",
    "    coeffs = init_coeffs()\n",
    "    for i in range(epochs): one_epoch(coeffs, lr=lr)\n",
    "    return coeffs"
   ]
  },
  {
   "cell_type": "markdown",
   "id": "72071f90",
   "metadata": {
    "papermill": {
     "duration": 0.125506,
     "end_time": "2022-11-22T10:53:51.109031",
     "exception": false,
     "start_time": "2022-11-22T10:53:50.983525",
     "status": "completed"
    },
    "tags": []
   },
   "source": [
    "Let's try it. Our loss will print at the end of every step, so we hope we'll see it going down:"
   ]
  },
  {
   "cell_type": "code",
   "execution_count": 39,
   "id": "0585e59d",
   "metadata": {
    "execution": {
     "iopub.execute_input": "2022-11-22T10:53:51.359708Z",
     "iopub.status.busy": "2022-11-22T10:53:51.359357Z",
     "iopub.status.idle": "2022-11-22T10:53:51.376724Z",
     "shell.execute_reply": "2022-11-22T10:53:51.375595Z"
    },
    "papermill": {
     "duration": 0.147107,
     "end_time": "2022-11-22T10:53:51.379034",
     "exception": false,
     "start_time": "2022-11-22T10:53:51.231927",
     "status": "completed"
    },
    "tags": []
   },
   "outputs": [
    {
     "name": "stdout",
     "output_type": "stream",
     "text": [
      "0.536; 0.502; 0.477; 0.454; 0.431; 0.409; 0.388; 0.367; 0.349; 0.336; 0.330; 0.326; 0.329; 0.304; 0.314; 0.296; 0.300; 0.289; "
     ]
    }
   ],
   "source": [
    "coeffs = train_model(18, lr=0.2)"
   ]
  },
  {
   "cell_type": "markdown",
   "id": "4b767e1d",
   "metadata": {
    "papermill": {
     "duration": 0.124003,
     "end_time": "2022-11-22T10:53:51.626874",
     "exception": false,
     "start_time": "2022-11-22T10:53:51.502871",
     "status": "completed"
    },
    "tags": []
   },
   "source": [
    "It does!\n",
    "\n",
    "Let's take a look at the coefficients for each column:"
   ]
  },
  {
   "cell_type": "code",
   "execution_count": 40,
   "id": "be9f605a",
   "metadata": {
    "execution": {
     "iopub.execute_input": "2022-11-22T10:53:51.875765Z",
     "iopub.status.busy": "2022-11-22T10:53:51.875504Z",
     "iopub.status.idle": "2022-11-22T10:53:51.885482Z",
     "shell.execute_reply": "2022-11-22T10:53:51.884615Z"
    },
    "papermill": {
     "duration": 0.138528,
     "end_time": "2022-11-22T10:53:51.887519",
     "exception": false,
     "start_time": "2022-11-22T10:53:51.748991",
     "status": "completed"
    },
    "tags": []
   },
   "outputs": [
    {
     "data": {
      "text/plain": [
       "{'Age': tensor(-0.2694),\n",
       " 'SibSp': tensor(0.0901),\n",
       " 'Parch': tensor(0.2359),\n",
       " 'LogFare': tensor(0.0280),\n",
       " 'Sex_male': tensor(-0.3990),\n",
       " 'Sex_female': tensor(0.2345),\n",
       " 'Pclass_1': tensor(0.7232),\n",
       " 'Pclass_2': tensor(0.4112),\n",
       " 'Pclass_3': tensor(0.3601),\n",
       " 'Embarked_C': tensor(0.0955),\n",
       " 'Embarked_Q': tensor(0.2395),\n",
       " 'Embarked_S': tensor(0.2122)}"
      ]
     },
     "execution_count": 40,
     "metadata": {},
     "output_type": "execute_result"
    }
   ],
   "source": [
    "def show_coeffs(): return dict(zip(indep_cols, coeffs.requires_grad_(False)))\n",
    "show_coeffs()"
   ]
  },
  {
   "cell_type": "markdown",
   "id": "40408920",
   "metadata": {
    "papermill": {
     "duration": 0.121917,
     "end_time": "2022-11-22T10:53:52.132243",
     "exception": false,
     "start_time": "2022-11-22T10:53:52.010326",
     "status": "completed"
    },
    "tags": []
   },
   "source": [
    "## Measuring accuracy"
   ]
  },
  {
   "cell_type": "markdown",
   "id": "7016f55a",
   "metadata": {
    "papermill": {
     "duration": 0.124199,
     "end_time": "2022-11-22T10:53:52.383130",
     "exception": false,
     "start_time": "2022-11-22T10:53:52.258931",
     "status": "completed"
    },
    "tags": []
   },
   "source": [
    "The Kaggle competition is not, however, scored by absolute error (which is our loss function). It's scored by *accuracy* -- the proportion of rows where we correctly predict survival. Let's see how accurate we were on the validation set. First, calculate the predictions:"
   ]
  },
  {
   "cell_type": "code",
   "execution_count": 41,
   "id": "9ac82ce7",
   "metadata": {
    "execution": {
     "iopub.execute_input": "2022-11-22T10:53:52.630738Z",
     "iopub.status.busy": "2022-11-22T10:53:52.630464Z",
     "iopub.status.idle": "2022-11-22T10:53:52.634007Z",
     "shell.execute_reply": "2022-11-22T10:53:52.633442Z"
    },
    "papermill": {
     "duration": 0.12917,
     "end_time": "2022-11-22T10:53:52.635872",
     "exception": false,
     "start_time": "2022-11-22T10:53:52.506702",
     "status": "completed"
    },
    "tags": []
   },
   "outputs": [],
   "source": [
    "preds = calc_preds(coeffs, val_indep)"
   ]
  },
  {
   "cell_type": "markdown",
   "id": "c256e9a0",
   "metadata": {
    "papermill": {
     "duration": 0.124855,
     "end_time": "2022-11-22T10:53:52.883420",
     "exception": false,
     "start_time": "2022-11-22T10:53:52.758565",
     "status": "completed"
    },
    "tags": []
   },
   "source": [
    "We'll assume that any passenger with a score of over `0.5` is predicted to survive. So that means we're correct for each row where `preds>0.5` is the same as the dependent variable:"
   ]
  },
  {
   "cell_type": "code",
   "execution_count": 42,
   "id": "8ab04309",
   "metadata": {
    "execution": {
     "iopub.execute_input": "2022-11-22T10:53:53.130825Z",
     "iopub.status.busy": "2022-11-22T10:53:53.130544Z",
     "iopub.status.idle": "2022-11-22T10:53:53.137372Z",
     "shell.execute_reply": "2022-11-22T10:53:53.136770Z"
    },
    "papermill": {
     "duration": 0.13322,
     "end_time": "2022-11-22T10:53:53.139329",
     "exception": false,
     "start_time": "2022-11-22T10:53:53.006109",
     "status": "completed"
    },
    "tags": []
   },
   "outputs": [
    {
     "data": {
      "text/plain": [
       "tensor([ True,  True,  True,  True,  True,  True,  True,  True,  True,  True, False, False, False,  True,  True, False])"
      ]
     },
     "execution_count": 42,
     "metadata": {},
     "output_type": "execute_result"
    }
   ],
   "source": [
    "results = val_dep.bool()==(preds>0.5)\n",
    "results[:16]"
   ]
  },
  {
   "cell_type": "markdown",
   "id": "bfffa599",
   "metadata": {
    "papermill": {
     "duration": 0.125212,
     "end_time": "2022-11-22T10:53:53.388976",
     "exception": false,
     "start_time": "2022-11-22T10:53:53.263764",
     "status": "completed"
    },
    "tags": []
   },
   "source": [
    "Let's see what our average accuracy is:"
   ]
  },
  {
   "cell_type": "code",
   "execution_count": 43,
   "id": "fb6710d7",
   "metadata": {
    "execution": {
     "iopub.execute_input": "2022-11-22T10:53:53.641344Z",
     "iopub.status.busy": "2022-11-22T10:53:53.640561Z",
     "iopub.status.idle": "2022-11-22T10:53:53.646732Z",
     "shell.execute_reply": "2022-11-22T10:53:53.645858Z"
    },
    "papermill": {
     "duration": 0.133072,
     "end_time": "2022-11-22T10:53:53.648782",
     "exception": false,
     "start_time": "2022-11-22T10:53:53.515710",
     "status": "completed"
    },
    "tags": []
   },
   "outputs": [
    {
     "data": {
      "text/plain": [
       "tensor(0.7865)"
      ]
     },
     "execution_count": 43,
     "metadata": {},
     "output_type": "execute_result"
    }
   ],
   "source": [
    "results.float().mean()"
   ]
  },
  {
   "cell_type": "markdown",
   "id": "465ad4f6",
   "metadata": {
    "papermill": {
     "duration": 0.124733,
     "end_time": "2022-11-22T10:53:53.896227",
     "exception": false,
     "start_time": "2022-11-22T10:53:53.771494",
     "status": "completed"
    },
    "tags": []
   },
   "source": [
    "That's not a bad start at all! We'll create a function so we can calcuate the accuracy easy for other models we train:"
   ]
  },
  {
   "cell_type": "code",
   "execution_count": 44,
   "id": "46e40320",
   "metadata": {
    "execution": {
     "iopub.execute_input": "2022-11-22T10:53:54.149257Z",
     "iopub.status.busy": "2022-11-22T10:53:54.148641Z",
     "iopub.status.idle": "2022-11-22T10:53:54.155113Z",
     "shell.execute_reply": "2022-11-22T10:53:54.154532Z"
    },
    "papermill": {
     "duration": 0.136358,
     "end_time": "2022-11-22T10:53:54.157112",
     "exception": false,
     "start_time": "2022-11-22T10:53:54.020754",
     "status": "completed"
    },
    "tags": []
   },
   "outputs": [
    {
     "data": {
      "text/plain": [
       "tensor(0.7865)"
      ]
     },
     "execution_count": 44,
     "metadata": {},
     "output_type": "execute_result"
    }
   ],
   "source": [
    "def acc(coeffs): return (val_dep.bool()==(calc_preds(coeffs, val_indep)>0.5)).float().mean()\n",
    "acc(coeffs)"
   ]
  },
  {
   "cell_type": "markdown",
   "id": "f21023d4",
   "metadata": {
    "papermill": {
     "duration": 0.125091,
     "end_time": "2022-11-22T10:53:54.411709",
     "exception": false,
     "start_time": "2022-11-22T10:53:54.286618",
     "status": "completed"
    },
    "tags": []
   },
   "source": [
    "## Using sigmoid"
   ]
  },
  {
   "cell_type": "markdown",
   "id": "1422da8e",
   "metadata": {
    "papermill": {
     "duration": 0.123514,
     "end_time": "2022-11-22T10:53:54.660533",
     "exception": false,
     "start_time": "2022-11-22T10:53:54.537019",
     "status": "completed"
    },
    "tags": []
   },
   "source": [
    "Looking at our predictions, there's one obvious problem -- some of our predictions of the probability of survival are `>1`, and some are `<0`:"
   ]
  },
  {
   "cell_type": "code",
   "execution_count": 45,
   "id": "ff95c339",
   "metadata": {
    "execution": {
     "iopub.execute_input": "2022-11-22T10:53:54.912885Z",
     "iopub.status.busy": "2022-11-22T10:53:54.912316Z",
     "iopub.status.idle": "2022-11-22T10:53:54.919632Z",
     "shell.execute_reply": "2022-11-22T10:53:54.918659Z"
    },
    "papermill": {
     "duration": 0.13748,
     "end_time": "2022-11-22T10:53:54.921772",
     "exception": false,
     "start_time": "2022-11-22T10:53:54.784292",
     "status": "completed"
    },
    "tags": []
   },
   "outputs": [
    {
     "data": {
      "text/plain": [
       "tensor([ 0.8160,  0.1295, -0.0148,  0.1831,  0.1520,  0.1350,  0.7279,  0.7754,  0.3222,  0.6740,  0.0753,  0.0389,  0.2216,  0.7631,\n",
       "         0.0678,  0.3997,  0.3324,  0.8278,  0.1078,  0.7126,  0.1023,  0.3627,  0.9937,  0.8050,  0.1153,  0.1455,  0.8652,  0.3425])"
      ]
     },
     "execution_count": 45,
     "metadata": {},
     "output_type": "execute_result"
    }
   ],
   "source": [
    "preds[:28]"
   ]
  },
  {
   "cell_type": "markdown",
   "id": "2e25eb4b",
   "metadata": {
    "papermill": {
     "duration": 0.122655,
     "end_time": "2022-11-22T10:53:55.168313",
     "exception": false,
     "start_time": "2022-11-22T10:53:55.045658",
     "status": "completed"
    },
    "tags": []
   },
   "source": [
    "To fix this, we should pass every prediction through the *sigmoid function*, which has a minimum at zero and maximum at one, and is defined as follows:"
   ]
  },
  {
   "cell_type": "code",
   "execution_count": 46,
   "id": "e6ebf161",
   "metadata": {
    "execution": {
     "iopub.execute_input": "2022-11-22T10:53:55.419717Z",
     "iopub.status.busy": "2022-11-22T10:53:55.419422Z",
     "iopub.status.idle": "2022-11-22T10:53:56.663774Z",
     "shell.execute_reply": "2022-11-22T10:53:56.662784Z"
    },
    "papermill": {
     "duration": 1.372455,
     "end_time": "2022-11-22T10:53:56.666231",
     "exception": false,
     "start_time": "2022-11-22T10:53:55.293776",
     "status": "completed"
    },
    "tags": []
   },
   "outputs": [
    {
     "data": {
      "image/png": "[encoded data removed]",
      "text/plain": [
       "<Figure size 432x288 with 1 Axes>"
      ]
     },
     "metadata": {
      "needs_background": "light"
     },
     "output_type": "display_data"
    }
   ],
   "source": [
    "import sympy\n",
    "sympy.plot(\"1/(1+exp(-x))\", xlim=(-5,5));"
   ]
  },
  {
   "cell_type": "markdown",
   "id": "8587ab59",
   "metadata": {
    "papermill": {
     "duration": 0.131261,
     "end_time": "2022-11-22T10:53:56.927911",
     "exception": false,
     "start_time": "2022-11-22T10:53:56.796650",
     "status": "completed"
    },
    "tags": []
   },
   "source": [
    "PyTorch already defines that function for us, so we can modify `calc_preds` to use it:"
   ]
  },
  {
   "cell_type": "code",
   "execution_count": 47,
   "id": "760373df",
   "metadata": {
    "execution": {
     "iopub.execute_input": "2022-11-22T10:53:57.189290Z",
     "iopub.status.busy": "2022-11-22T10:53:57.188778Z",
     "iopub.status.idle": "2022-11-22T10:53:57.194319Z",
     "shell.execute_reply": "2022-11-22T10:53:57.193374Z"
    },
    "papermill": {
     "duration": 0.13806,
     "end_time": "2022-11-22T10:53:57.196718",
     "exception": false,
     "start_time": "2022-11-22T10:53:57.058658",
     "status": "completed"
    },
    "tags": []
   },
   "outputs": [],
   "source": [
    "def calc_preds(coeffs, indeps): return torch.sigmoid((indeps*coeffs).sum(axis=1))"
   ]
  },
  {
   "cell_type": "markdown",
   "id": "5864c600",
   "metadata": {
    "papermill": {
     "duration": 0.126527,
     "end_time": "2022-11-22T10:53:57.450549",
     "exception": false,
     "start_time": "2022-11-22T10:53:57.324022",
     "status": "completed"
    },
    "tags": []
   },
   "source": [
    "Let's train a new model now, using this updated function to calculate predictions:"
   ]
  },
  {
   "cell_type": "code",
   "execution_count": 48,
   "id": "72c6c28f",
   "metadata": {
    "execution": {
     "iopub.execute_input": "2022-11-22T10:53:57.702492Z",
     "iopub.status.busy": "2022-11-22T10:53:57.702177Z",
     "iopub.status.idle": "2022-11-22T10:53:57.725851Z",
     "shell.execute_reply": "2022-11-22T10:53:57.725123Z"
    },
    "papermill": {
     "duration": 0.151444,
     "end_time": "2022-11-22T10:53:57.728211",
     "exception": false,
     "start_time": "2022-11-22T10:53:57.576767",
     "status": "completed"
    },
    "tags": []
   },
   "outputs": [
    {
     "name": "stdout",
     "output_type": "stream",
     "text": [
      "0.510; 0.327; 0.294; 0.207; 0.201; 0.199; 0.198; 0.197; 0.196; 0.196; 0.196; 0.195; 0.195; 0.195; 0.195; 0.195; 0.195; 0.195; 0.194; 0.194; 0.194; 0.194; 0.194; 0.194; 0.194; 0.194; 0.194; 0.194; 0.194; 0.194; "
     ]
    }
   ],
   "source": [
    "coeffs = train_model(lr=100)"
   ]
  },
  {
   "cell_type": "markdown",
   "id": "3bff44d2",
   "metadata": {
    "papermill": {
     "duration": 0.150407,
     "end_time": "2022-11-22T10:53:58.004817",
     "exception": false,
     "start_time": "2022-11-22T10:53:57.854410",
     "status": "completed"
    },
    "tags": []
   },
   "source": [
    "The loss has improved by a lot. Let's check the accuracy:"
   ]
  },
  {
   "cell_type": "code",
   "execution_count": 49,
   "id": "781f92fd",
   "metadata": {
    "execution": {
     "iopub.execute_input": "2022-11-22T10:53:58.258980Z",
     "iopub.status.busy": "2022-11-22T10:53:58.258669Z",
     "iopub.status.idle": "2022-11-22T10:53:58.265824Z",
     "shell.execute_reply": "2022-11-22T10:53:58.264915Z"
    },
    "papermill": {
     "duration": 0.135188,
     "end_time": "2022-11-22T10:53:58.267943",
     "exception": false,
     "start_time": "2022-11-22T10:53:58.132755",
     "status": "completed"
    },
    "tags": []
   },
   "outputs": [
    {
     "data": {
      "text/plain": [
       "tensor(0.8258)"
      ]
     },
     "execution_count": 49,
     "metadata": {},
     "output_type": "execute_result"
    }
   ],
   "source": [
    "acc(coeffs)"
   ]
  },
  {
   "cell_type": "markdown",
   "id": "cbddb1b9",
   "metadata": {
    "papermill": {
     "duration": 0.127981,
     "end_time": "2022-11-22T10:53:58.524129",
     "exception": false,
     "start_time": "2022-11-22T10:53:58.396148",
     "status": "completed"
    },
    "tags": []
   },
   "source": [
    "That's improved too! Here's the coefficients of our trained model:"
   ]
  },
  {
   "cell_type": "code",
   "execution_count": 50,
   "id": "3cbdb42b",
   "metadata": {
    "execution": {
     "iopub.execute_input": "2022-11-22T10:53:58.781046Z",
     "iopub.status.busy": "2022-11-22T10:53:58.780678Z",
     "iopub.status.idle": "2022-11-22T10:53:58.789862Z",
     "shell.execute_reply": "2022-11-22T10:53:58.789150Z"
    },
    "papermill": {
     "duration": 0.140596,
     "end_time": "2022-11-22T10:53:58.792043",
     "exception": false,
     "start_time": "2022-11-22T10:53:58.651447",
     "status": "completed"
    },
    "tags": []
   },
   "outputs": [
    {
     "data": {
      "text/plain": [
       "{'Age': tensor(-1.5061),\n",
       " 'SibSp': tensor(-1.1575),\n",
       " 'Parch': tensor(-0.4267),\n",
       " 'LogFare': tensor(0.2543),\n",
       " 'Sex_male': tensor(-10.3320),\n",
       " 'Sex_female': tensor(8.4185),\n",
       " 'Pclass_1': tensor(3.8389),\n",
       " 'Pclass_2': tensor(2.1398),\n",
       " 'Pclass_3': tensor(-6.2331),\n",
       " 'Embarked_C': tensor(1.4771),\n",
       " 'Embarked_Q': tensor(2.1168),\n",
       " 'Embarked_S': tensor(-4.7958)}"
      ]
     },
     "execution_count": 50,
     "metadata": {},
     "output_type": "execute_result"
    }
   ],
   "source": [
    "show_coeffs()"
   ]
  },
  {
   "cell_type": "markdown",
   "id": "aca5e074",
   "metadata": {
    "papermill": {
     "duration": 0.127576,
     "end_time": "2022-11-22T10:53:59.048370",
     "exception": false,
     "start_time": "2022-11-22T10:53:58.920794",
     "status": "completed"
    },
    "tags": []
   },
   "source": [
    "These coefficients seem reasonable -- in general, older people and males were less likely to survive, and first class passengers were more likely to survive."
   ]
  },
  {
   "cell_type": "markdown",
   "id": "f5998406",
   "metadata": {
    "papermill": {
     "duration": 0.125789,
     "end_time": "2022-11-22T10:53:59.302894",
     "exception": false,
     "start_time": "2022-11-22T10:53:59.177105",
     "status": "completed"
    },
    "tags": []
   },
   "source": [
    "## Submitting to Kaggle"
   ]
  },
  {
   "cell_type": "markdown",
   "id": "9d7d7fd3",
   "metadata": {
    "papermill": {
     "duration": 0.126654,
     "end_time": "2022-11-22T10:53:59.556567",
     "exception": false,
     "start_time": "2022-11-22T10:53:59.429913",
     "status": "completed"
    },
    "tags": []
   },
   "source": [
    "Now that we've got a trained model, we can prepare a submission to Kaggle. To do that, first we need to read the test set:"
   ]
  },
  {
   "cell_type": "code",
   "execution_count": 51,
   "id": "378b7371",
   "metadata": {
    "execution": {
     "iopub.execute_input": "2022-11-22T10:53:59.811594Z",
     "iopub.status.busy": "2022-11-22T10:53:59.810837Z",
     "iopub.status.idle": "2022-11-22T10:53:59.826927Z",
     "shell.execute_reply": "2022-11-22T10:53:59.826188Z"
    },
    "papermill": {
     "duration": 0.146477,
     "end_time": "2022-11-22T10:53:59.829261",
     "exception": false,
     "start_time": "2022-11-22T10:53:59.682784",
     "status": "completed"
    },
    "tags": []
   },
   "outputs": [],
   "source": [
    "tst_df = pd.read_csv(path/'test.csv')"
   ]
  },
  {
   "cell_type": "markdown",
   "id": "93a37675",
   "metadata": {
    "papermill": {
     "duration": 0.127291,
     "end_time": "2022-11-22T10:54:00.087822",
     "exception": false,
     "start_time": "2022-11-22T10:53:59.960531",
     "status": "completed"
    },
    "tags": []
   },
   "source": [
    "In this case, it turns out that the test set is missing `Fare` for one passenger. We'll just fill it with `0` to avoid problems:"
   ]
  },
  {
   "cell_type": "code",
   "execution_count": 52,
   "id": "2388ff7c",
   "metadata": {
    "execution": {
     "iopub.execute_input": "2022-11-22T10:54:00.342033Z",
     "iopub.status.busy": "2022-11-22T10:54:00.341505Z",
     "iopub.status.idle": "2022-11-22T10:54:00.345909Z",
     "shell.execute_reply": "2022-11-22T10:54:00.345339Z"
    },
    "papermill": {
     "duration": 0.133849,
     "end_time": "2022-11-22T10:54:00.348290",
     "exception": false,
     "start_time": "2022-11-22T10:54:00.214441",
     "status": "completed"
    },
    "tags": []
   },
   "outputs": [],
   "source": [
    "tst_df['Fare'] = tst_df.Fare.fillna(0)"
   ]
  },
  {
   "cell_type": "markdown",
   "id": "304ccea3",
   "metadata": {
    "papermill": {
     "duration": 0.125747,
     "end_time": "2022-11-22T10:54:00.602007",
     "exception": false,
     "start_time": "2022-11-22T10:54:00.476260",
     "status": "completed"
    },
    "tags": []
   },
   "source": [
    "Now we can just copy the same steps we did to our training set and do the same exact things on our test set to preprocess the data:"
   ]
  },
  {
   "cell_type": "code",
   "execution_count": 53,
   "id": "ac26dfe5",
   "metadata": {
    "execution": {
     "iopub.execute_input": "2022-11-22T10:54:00.858320Z",
     "iopub.status.busy": "2022-11-22T10:54:00.857734Z",
     "iopub.status.idle": "2022-11-22T10:54:00.877320Z",
     "shell.execute_reply": "2022-11-22T10:54:00.876421Z"
    },
    "papermill": {
     "duration": 0.149286,
     "end_time": "2022-11-22T10:54:00.879943",
     "exception": false,
     "start_time": "2022-11-22T10:54:00.730657",
     "status": "completed"
    },
    "tags": []
   },
   "outputs": [],
   "source": [
    "tst_df.fillna(modes, inplace=True)\n",
    "tst_df['LogFare'] = np.log(tst_df['Fare']+1)\n",
    "tst_df = pd.get_dummies(tst_df, columns=[\"Sex\",\"Pclass\",\"Embarked\"])\n",
    "\n",
    "tst_indep = tensor(tst_df[indep_cols].values, dtype=torch.float)\n",
    "tst_indep = tst_indep / vals"
   ]
  },
  {
   "cell_type": "markdown",
   "id": "0a48d0ff",
   "metadata": {
    "papermill": {
     "duration": 0.126192,
     "end_time": "2022-11-22T10:54:01.133120",
     "exception": false,
     "start_time": "2022-11-22T10:54:01.006928",
     "status": "completed"
    },
    "tags": []
   },
   "source": [
    "Let's calculate our predictions of which passengers survived in the test set:"
   ]
  },
  {
   "cell_type": "code",
   "execution_count": 54,
   "id": "ff8833ba",
   "metadata": {
    "execution": {
     "iopub.execute_input": "2022-11-22T10:54:01.388422Z",
     "iopub.status.busy": "2022-11-22T10:54:01.387731Z",
     "iopub.status.idle": "2022-11-22T10:54:01.392689Z",
     "shell.execute_reply": "2022-11-22T10:54:01.392105Z"
    },
    "papermill": {
     "duration": 0.135523,
     "end_time": "2022-11-22T10:54:01.394674",
     "exception": false,
     "start_time": "2022-11-22T10:54:01.259151",
     "status": "completed"
    },
    "tags": []
   },
   "outputs": [],
   "source": [
    "tst_df['Survived'] = (calc_preds(tst_indep, coeffs)>0.5).int()"
   ]
  },
  {
   "cell_type": "markdown",
   "id": "f1994fbc",
   "metadata": {
    "papermill": {
     "duration": 0.131405,
     "end_time": "2022-11-22T10:54:01.651735",
     "exception": false,
     "start_time": "2022-11-22T10:54:01.520330",
     "status": "completed"
    },
    "tags": []
   },
   "source": [
    "The sample submission on the Kaggle competition site shows that we're expected to upload a CSV with just `PassengerId` and `Survived`, so let's create that and save it:"
   ]
  },
  {
   "cell_type": "code",
   "execution_count": 55,
   "id": "88bf5fe3",
   "metadata": {
    "execution": {
     "iopub.execute_input": "2022-11-22T10:54:01.911398Z",
     "iopub.status.busy": "2022-11-22T10:54:01.911046Z",
     "iopub.status.idle": "2022-11-22T10:54:01.922376Z",
     "shell.execute_reply": "2022-11-22T10:54:01.921524Z"
    },
    "papermill": {
     "duration": 0.140991,
     "end_time": "2022-11-22T10:54:01.924762",
     "exception": false,
     "start_time": "2022-11-22T10:54:01.783771",
     "status": "completed"
    },
    "tags": []
   },
   "outputs": [],
   "source": [
    "sub_df = tst_df[['PassengerId','Survived']]\n",
    "sub_df.to_csv('sub.csv', index=False)"
   ]
  },
  {
   "cell_type": "markdown",
   "id": "3ccdbe3c",
   "metadata": {
    "papermill": {
     "duration": 0.124988,
     "end_time": "2022-11-22T10:54:02.176752",
     "exception": false,
     "start_time": "2022-11-22T10:54:02.051764",
     "status": "completed"
    },
    "tags": []
   },
   "source": [
    "We can check the first few rows of the file to make sure it looks reasonable:"
   ]
  },
  {
   "cell_type": "code",
   "execution_count": 56,
   "id": "bfd4c473",
   "metadata": {
    "execution": {
     "iopub.execute_input": "2022-11-22T10:54:02.436328Z",
     "iopub.status.busy": "2022-11-22T10:54:02.435999Z",
     "iopub.status.idle": "2022-11-22T10:54:03.541229Z",
     "shell.execute_reply": "2022-11-22T10:54:03.540166Z"
    },
    "papermill": {
     "duration": 1.240394,
     "end_time": "2022-11-22T10:54:03.543835",
     "exception": false,
     "start_time": "2022-11-22T10:54:02.303441",
     "status": "completed"
    },
    "tags": []
   },
   "outputs": [
    {
     "name": "stdout",
     "output_type": "stream",
     "text": [
      "PassengerId,Survived\r\n",
      "892,0\r\n",
      "893,0\r\n",
      "894,0\r\n",
      "895,0\r\n",
      "896,0\r\n",
      "897,0\r\n",
      "898,1\r\n",
      "899,0\r\n",
      "900,1\r\n"
     ]
    }
   ],
   "source": [
    "!head sub.csv"
   ]
  },
  {
   "cell_type": "markdown",
   "id": "125fbf25",
   "metadata": {
    "papermill": {
     "duration": 0.132037,
     "end_time": "2022-11-22T10:54:03.806824",
     "exception": false,
     "start_time": "2022-11-22T10:54:03.674787",
     "status": "completed"
    },
    "tags": []
   },
   "source": [
    "When you click \"save version\" in Kaggle, and wait for the notebook to run, you'll see that `sub.csv` appears in the \"Data\" tab. Clicking on that file will show a *Submit* button, which allows you to submit to the competition."
   ]
  },
  {
   "cell_type": "markdown",
   "id": "b9dff2be",
   "metadata": {
    "papermill": {
     "duration": 0.128615,
     "end_time": "2022-11-22T10:54:04.065070",
     "exception": false,
     "start_time": "2022-11-22T10:54:03.936455",
     "status": "completed"
    },
    "tags": []
   },
   "source": [
    "## Using matrix product"
   ]
  },
  {
   "cell_type": "markdown",
   "id": "b96e374a",
   "metadata": {
    "papermill": {
     "duration": 0.13318,
     "end_time": "2022-11-22T10:54:04.326569",
     "exception": false,
     "start_time": "2022-11-22T10:54:04.193389",
     "status": "completed"
    },
    "tags": []
   },
   "source": [
    "We can make things quite a bit neater...\n",
    "\n",
    "Take a look at the inner-most calculation we're doing to get the predictions:"
   ]
  },
  {
   "cell_type": "code",
   "execution_count": 57,
   "id": "438a3cc6",
   "metadata": {
    "execution": {
     "iopub.execute_input": "2022-11-22T10:54:04.594745Z",
     "iopub.status.busy": "2022-11-22T10:54:04.594426Z",
     "iopub.status.idle": "2022-11-22T10:54:04.604381Z",
     "shell.execute_reply": "2022-11-22T10:54:04.603363Z"
    },
    "papermill": {
     "duration": 0.145804,
     "end_time": "2022-11-22T10:54:04.606624",
     "exception": false,
     "start_time": "2022-11-22T10:54:04.460820",
     "status": "completed"
    },
    "tags": []
   },
   "outputs": [
    {
     "data": {
      "text/plain": [
       "tensor([ 12.3288, -14.8119, -15.4540, -13.1513, -13.3512, -13.6469,   3.6248,   5.3429, -22.0878,   3.1233, -21.8742, -15.6421, -21.5504,\n",
       "          3.9393, -21.9190, -12.0010, -12.3775,   5.3550, -13.5880,  -3.1015, -21.7237, -12.2081,  12.9767,   4.7427, -21.6525, -14.9135,\n",
       "         -2.7433, -12.3210, -21.5886,   3.9387,   5.3890,  -3.6196, -21.6296, -21.8454,  12.2159,  -3.2275, -12.0289,  13.4560, -21.7230,\n",
       "         -3.1366, -13.2462, -21.7230, -13.6831,  13.3092, -21.6477,  -3.5868, -21.6854, -21.8316, -14.8158,  -2.9386,  -5.3103, -22.2384,\n",
       "        -22.1097, -21.7466, -13.3780, -13.4909, -14.8119, -22.0690, -21.6666, -21.7818,  -5.4439, -21.7407, -12.6551, -21.6671,   4.9238,\n",
       "        -11.5777, -13.3323, -21.9638, -15.3030,   5.0243, -21.7614,   3.1820, -13.4721, -21.7170, -11.6066, -21.5737, -21.7230, -11.9652,\n",
       "        -13.2382, -13.7599, -13.2170,  13.1347, -21.7049, -21.7268,   4.9207,  -7.3198,  -5.3081,   7.1065,  11.4948, -13.3135, -21.8723,\n",
       "        -21.7230,  13.3603, -15.5670,   3.4105,  -7.2857, -13.7197,   3.6909,   3.9763, -14.7227, -21.8268,   3.9387, -21.8743, -21.8367,\n",
       "        -11.8518, -13.6712, -21.8299,   4.9440,  -5.4471, -21.9666,   5.1333,  -3.2187, -11.6008,  13.7920, -21.7230,  12.6369,  -3.7268,\n",
       "        -14.8119, -22.0637,  12.9468, -22.1610,  -6.1827, -14.8119,  -3.2838, -15.4540, -11.6950,  -2.9926,  -3.0110, -21.5664, -13.8268,\n",
       "          7.3426, -21.8418,   5.0744,   5.2582,  13.3415, -21.6289, -13.9898, -21.8112,  -7.3316,   5.2296, -13.4453,  12.7891, -22.1235,\n",
       "        -14.9625,  -3.4339,   6.3089, -21.9839,   3.1968,   7.2400,   2.8558,  -3.1187,   3.7965,   5.4667, -15.1101, -15.0597, -22.9391,\n",
       "        -21.7230,  -3.0346, -13.5206, -21.7011,  13.4425,  -7.2690, -21.8335, -12.0582,  13.0489,   6.7993,   5.2160,   5.0794, -12.6957,\n",
       "        -12.1838,  -3.0873, -21.6070,   7.0744, -21.7170, -22.1001,   6.8159, -11.6002, -21.6310])"
      ]
     },
     "execution_count": 57,
     "metadata": {},
     "output_type": "execute_result"
    }
   ],
   "source": [
    "(val_indep*coeffs).sum(axis=1)"
   ]
  },
  {
   "cell_type": "markdown",
   "id": "dd674ad0",
   "metadata": {
    "papermill": {
     "duration": 0.127877,
     "end_time": "2022-11-22T10:54:04.862710",
     "exception": false,
     "start_time": "2022-11-22T10:54:04.734833",
     "status": "completed"
    },
    "tags": []
   },
   "source": [
    "Multiplying elements together and then adding across rows is identical to doing a matrix-vector product! Python uses the `@` operator to indicate matrix products, and is supported by PyTorch tensors. Therefore, we can replicate the above calculate more simply like so:"
   ]
  },
  {
   "cell_type": "code",
   "execution_count": 58,
   "id": "b2707132",
   "metadata": {
    "execution": {
     "iopub.execute_input": "2022-11-22T10:54:05.119832Z",
     "iopub.status.busy": "2022-11-22T10:54:05.119252Z",
     "iopub.status.idle": "2022-11-22T10:54:05.135375Z",
     "shell.execute_reply": "2022-11-22T10:54:05.134517Z"
    },
    "papermill": {
     "duration": 0.147409,
     "end_time": "2022-11-22T10:54:05.137428",
     "exception": false,
     "start_time": "2022-11-22T10:54:04.990019",
     "status": "completed"
    },
    "tags": []
   },
   "outputs": [
    {
     "data": {
      "text/plain": [
       "tensor([ 12.3288, -14.8119, -15.4540, -13.1513, -13.3511, -13.6468,   3.6248,   5.3429, -22.0878,   3.1233, -21.8742, -15.6421, -21.5504,\n",
       "          3.9393, -21.9190, -12.0010, -12.3775,   5.3550, -13.5880,  -3.1015, -21.7237, -12.2081,  12.9767,   4.7427, -21.6525, -14.9135,\n",
       "         -2.7433, -12.3210, -21.5886,   3.9387,   5.3890,  -3.6196, -21.6296, -21.8454,  12.2159,  -3.2275, -12.0289,  13.4560, -21.7230,\n",
       "         -3.1366, -13.2462, -21.7230, -13.6831,  13.3092, -21.6477,  -3.5868, -21.6854, -21.8316, -14.8158,  -2.9386,  -5.3103, -22.2384,\n",
       "        -22.1097, -21.7466, -13.3780, -13.4909, -14.8119, -22.0690, -21.6666, -21.7818,  -5.4439, -21.7407, -12.6551, -21.6671,   4.9238,\n",
       "        -11.5777, -13.3323, -21.9638, -15.3030,   5.0243, -21.7614,   3.1820, -13.4721, -21.7170, -11.6066, -21.5737, -21.7230, -11.9652,\n",
       "        -13.2382, -13.7599, -13.2170,  13.1347, -21.7049, -21.7268,   4.9207,  -7.3198,  -5.3081,   7.1065,  11.4948, -13.3135, -21.8723,\n",
       "        -21.7230,  13.3603, -15.5670,   3.4105,  -7.2857, -13.7197,   3.6909,   3.9763, -14.7227, -21.8268,   3.9387, -21.8743, -21.8367,\n",
       "        -11.8518, -13.6712, -21.8299,   4.9440,  -5.4471, -21.9666,   5.1333,  -3.2187, -11.6008,  13.7920, -21.7230,  12.6369,  -3.7268,\n",
       "        -14.8119, -22.0637,  12.9468, -22.1610,  -6.1827, -14.8119,  -3.2838, -15.4540, -11.6950,  -2.9926,  -3.0110, -21.5664, -13.8268,\n",
       "          7.3426, -21.8418,   5.0744,   5.2582,  13.3415, -21.6289, -13.9898, -21.8112,  -7.3316,   5.2296, -13.4453,  12.7891, -22.1235,\n",
       "        -14.9625,  -3.4339,   6.3089, -21.9839,   3.1968,   7.2400,   2.8558,  -3.1187,   3.7965,   5.4667, -15.1101, -15.0597, -22.9391,\n",
       "        -21.7230,  -3.0346, -13.5206, -21.7011,  13.4425,  -7.2690, -21.8335, -12.0582,  13.0489,   6.7993,   5.2160,   5.0794, -12.6957,\n",
       "        -12.1838,  -3.0873, -21.6070,   7.0744, -21.7170, -22.1001,   6.8159, -11.6002, -21.6310])"
      ]
     },
     "execution_count": 58,
     "metadata": {},
     "output_type": "execute_result"
    }
   ],
   "source": [
    "val_indep@coeffs"
   ]
  },
  {
   "cell_type": "markdown",
   "id": "971cd3a0",
   "metadata": {
    "papermill": {
     "duration": 0.130048,
     "end_time": "2022-11-22T10:54:05.394227",
     "exception": false,
     "start_time": "2022-11-22T10:54:05.264179",
     "status": "completed"
    },
    "tags": []
   },
   "source": [
    "It also turns out that this is much faster, because matrix products in PyTorch are very highly optimised.\n",
    "\n",
    "Let's use this to replace how `calc_preds` works:"
   ]
  },
  {
   "cell_type": "code",
   "execution_count": 59,
   "id": "0dcbc885",
   "metadata": {
    "execution": {
     "iopub.execute_input": "2022-11-22T10:54:05.658132Z",
     "iopub.status.busy": "2022-11-22T10:54:05.657545Z",
     "iopub.status.idle": "2022-11-22T10:54:05.662170Z",
     "shell.execute_reply": "2022-11-22T10:54:05.661527Z"
    },
    "papermill": {
     "duration": 0.136301,
     "end_time": "2022-11-22T10:54:05.664245",
     "exception": false,
     "start_time": "2022-11-22T10:54:05.527944",
     "status": "completed"
    },
    "tags": []
   },
   "outputs": [],
   "source": [
    "def calc_preds(coeffs, indeps): return torch.sigmoid(indeps@coeffs)"
   ]
  },
  {
   "cell_type": "markdown",
   "id": "31da2b6a",
   "metadata": {
    "papermill": {
     "duration": 0.143435,
     "end_time": "2022-11-22T10:54:05.935176",
     "exception": false,
     "start_time": "2022-11-22T10:54:05.791741",
     "status": "completed"
    },
    "tags": []
   },
   "source": [
    "In order to do matrix-matrix products (which we'll need in the next section), we need to turn `coeffs` into a column vector (i.e. a matrix with a single column), which we can do by passing a second argument `1` to `torch.rand()`, indicating that we want our coefficients to have one column:"
   ]
  },
  {
   "cell_type": "code",
   "execution_count": 60,
   "id": "effedf94",
   "metadata": {
    "execution": {
     "iopub.execute_input": "2022-11-22T10:54:06.237638Z",
     "iopub.status.busy": "2022-11-22T10:54:06.237269Z",
     "iopub.status.idle": "2022-11-22T10:54:06.242295Z",
     "shell.execute_reply": "2022-11-22T10:54:06.241545Z"
    },
    "papermill": {
     "duration": 0.16403,
     "end_time": "2022-11-22T10:54:06.244371",
     "exception": false,
     "start_time": "2022-11-22T10:54:06.080341",
     "status": "completed"
    },
    "tags": []
   },
   "outputs": [],
   "source": [
    "def init_coeffs(): return (torch.rand(n_coeff, 1)*0.1).requires_grad_()"
   ]
  },
  {
   "cell_type": "markdown",
   "id": "1bd2ad64",
   "metadata": {
    "papermill": {
     "duration": 0.131068,
     "end_time": "2022-11-22T10:54:06.505673",
     "exception": false,
     "start_time": "2022-11-22T10:54:06.374605",
     "status": "completed"
    },
    "tags": []
   },
   "source": [
    "We'll also need to turn our dependent variable into a column vector, which we can do by indexing the column dimension with the special value `None`, which tells PyTorch to add a new dimension in this position:"
   ]
  },
  {
   "cell_type": "code",
   "execution_count": 61,
   "id": "3df09641",
   "metadata": {
    "execution": {
     "iopub.execute_input": "2022-11-22T10:54:06.766199Z",
     "iopub.status.busy": "2022-11-22T10:54:06.765632Z",
     "iopub.status.idle": "2022-11-22T10:54:06.769559Z",
     "shell.execute_reply": "2022-11-22T10:54:06.768938Z"
    },
    "papermill": {
     "duration": 0.137914,
     "end_time": "2022-11-22T10:54:06.771537",
     "exception": false,
     "start_time": "2022-11-22T10:54:06.633623",
     "status": "completed"
    },
    "tags": []
   },
   "outputs": [],
   "source": [
    "trn_dep = trn_dep[:,None]\n",
    "val_dep = val_dep[:,None]"
   ]
  },
  {
   "cell_type": "markdown",
   "id": "6bbc6c0e",
   "metadata": {
    "papermill": {
     "duration": 0.13207,
     "end_time": "2022-11-22T10:54:07.031384",
     "exception": false,
     "start_time": "2022-11-22T10:54:06.899314",
     "status": "completed"
    },
    "tags": []
   },
   "source": [
    "We can now train our model as before and confirm we get identical outputs...:"
   ]
  },
  {
   "cell_type": "code",
   "execution_count": 62,
   "id": "451a8319",
   "metadata": {
    "execution": {
     "iopub.execute_input": "2022-11-22T10:54:07.288260Z",
     "iopub.status.busy": "2022-11-22T10:54:07.287649Z",
     "iopub.status.idle": "2022-11-22T10:54:07.310242Z",
     "shell.execute_reply": "2022-11-22T10:54:07.309582Z"
    },
    "papermill": {
     "duration": 0.153495,
     "end_time": "2022-11-22T10:54:07.312633",
     "exception": false,
     "start_time": "2022-11-22T10:54:07.159138",
     "status": "completed"
    },
    "tags": []
   },
   "outputs": [
    {
     "name": "stdout",
     "output_type": "stream",
     "text": [
      "0.512; 0.323; 0.290; 0.205; 0.200; 0.198; 0.197; 0.197; 0.196; 0.196; 0.196; 0.195; 0.195; 0.195; 0.195; 0.195; 0.195; 0.194; 0.194; 0.194; 0.194; 0.194; 0.194; 0.194; 0.194; 0.194; 0.194; 0.194; 0.194; 0.194; "
     ]
    }
   ],
   "source": [
    "coeffs = train_model(lr=100)"
   ]
  },
  {
   "cell_type": "markdown",
   "id": "32c1f22e",
   "metadata": {
    "papermill": {
     "duration": 0.128733,
     "end_time": "2022-11-22T10:54:07.571626",
     "exception": false,
     "start_time": "2022-11-22T10:54:07.442893",
     "status": "completed"
    },
    "tags": []
   },
   "source": [
    "...and identical accuracy:"
   ]
  },
  {
   "cell_type": "code",
   "execution_count": 63,
   "id": "15d200b3",
   "metadata": {
    "execution": {
     "iopub.execute_input": "2022-11-22T10:54:07.907317Z",
     "iopub.status.busy": "2022-11-22T10:54:07.906795Z",
     "iopub.status.idle": "2022-11-22T10:54:07.912905Z",
     "shell.execute_reply": "2022-11-22T10:54:07.912285Z"
    },
    "papermill": {
     "duration": 0.139473,
     "end_time": "2022-11-22T10:54:07.914792",
     "exception": false,
     "start_time": "2022-11-22T10:54:07.775319",
     "status": "completed"
    },
    "tags": []
   },
   "outputs": [
    {
     "data": {
      "text/plain": [
       "tensor(0.8258)"
      ]
     },
     "execution_count": 63,
     "metadata": {},
     "output_type": "execute_result"
    }
   ],
   "source": [
    "acc(coeffs)"
   ]
  },
  {
   "cell_type": "markdown",
   "id": "b9cb67ee",
   "metadata": {
    "papermill": {
     "duration": 0.128982,
     "end_time": "2022-11-22T10:54:08.172489",
     "exception": false,
     "start_time": "2022-11-22T10:54:08.043507",
     "status": "completed"
    },
    "tags": []
   },
   "source": [
    "## A neural network"
   ]
  },
  {
   "cell_type": "markdown",
   "id": "be5ec76c",
   "metadata": {
    "papermill": {
     "duration": 0.131455,
     "end_time": "2022-11-22T10:54:08.436624",
     "exception": false,
     "start_time": "2022-11-22T10:54:08.305169",
     "status": "completed"
    },
    "tags": []
   },
   "source": [
    "We've now got what we need to implement our neural network.\n",
    "\n",
    "First, we'll need to create coefficients for each of our layers. Our first set of coefficients will take our `n_coeff` inputs, and create `n_hidden` outputs. We can choose whatever `n_hidden` we like -- a higher number gives our network more flexibility, but makes it slower and harder to train. So we need a matrix of size `n_coeff` by `n_hidden`. We'll divide these coefficients by `n_hidden` so that when we sum them up in the next layer we'll end up with similar magnitude numbers to what we started with.\n",
    "\n",
    "Then our second layer will need to take the `n_hidden` inputs and create a single output, so that means we need a `n_hidden` by `1` matrix there. The second layer will also need a constant term added."
   ]
  },
  {
   "cell_type": "code",
   "execution_count": 64,
   "id": "49e09ac2",
   "metadata": {
    "execution": {
     "iopub.execute_input": "2022-11-22T10:54:08.701702Z",
     "iopub.status.busy": "2022-11-22T10:54:08.700816Z",
     "iopub.status.idle": "2022-11-22T10:54:08.706449Z",
     "shell.execute_reply": "2022-11-22T10:54:08.705585Z"
    },
    "papermill": {
     "duration": 0.140645,
     "end_time": "2022-11-22T10:54:08.708980",
     "exception": false,
     "start_time": "2022-11-22T10:54:08.568335",
     "status": "completed"
    },
    "tags": []
   },
   "outputs": [],
   "source": [
    "def init_coeffs(n_hidden=20):\n",
    "    layer1 = (torch.rand(n_coeff, n_hidden)-0.5)/n_hidden\n",
    "    layer2 = torch.rand(n_hidden, 1)-0.3\n",
    "    const = torch.rand(1)[0]\n",
    "    return layer1.requires_grad_(),layer2.requires_grad_(),const.requires_grad_()"
   ]
  },
  {
   "cell_type": "markdown",
   "id": "c5f40406",
   "metadata": {
    "papermill": {
     "duration": 0.162488,
     "end_time": "2022-11-22T10:54:08.999987",
     "exception": false,
     "start_time": "2022-11-22T10:54:08.837499",
     "status": "completed"
    },
    "tags": []
   },
   "source": [
    "Now we have our coefficients, we can create our neural net. The key steps are the two matrix products, `indeps@l1` and `res@l2` (where `res` is the output of the first layer). The first layer output is passed to `F.relu` (that's our non-linearity), and the second is passed to `torch.sigmoid` as before."
   ]
  },
  {
   "cell_type": "code",
   "execution_count": 65,
   "id": "7aadb199",
   "metadata": {
    "execution": {
     "iopub.execute_input": "2022-11-22T10:54:09.260126Z",
     "iopub.status.busy": "2022-11-22T10:54:09.259559Z",
     "iopub.status.idle": "2022-11-22T10:54:09.263997Z",
     "shell.execute_reply": "2022-11-22T10:54:09.263422Z"
    },
    "papermill": {
     "duration": 0.137025,
     "end_time": "2022-11-22T10:54:09.265809",
     "exception": false,
     "start_time": "2022-11-22T10:54:09.128784",
     "status": "completed"
    },
    "tags": []
   },
   "outputs": [],
   "source": [
    "import torch.nn.functional as F\n",
    "\n",
    "def calc_preds(coeffs, indeps):\n",
    "    l1,l2,const = coeffs\n",
    "    res = F.relu(indeps@l1)\n",
    "    res = res@l2 + const\n",
    "    return torch.sigmoid(res)"
   ]
  },
  {
   "cell_type": "markdown",
   "id": "9ceb06d9",
   "metadata": {
    "papermill": {
     "duration": 0.131934,
     "end_time": "2022-11-22T10:54:09.528229",
     "exception": false,
     "start_time": "2022-11-22T10:54:09.396295",
     "status": "completed"
    },
    "tags": []
   },
   "source": [
    "Finally, now that we have more than one set of coefficients, we need to add a loop to update each one:"
   ]
  },
  {
   "cell_type": "code",
   "execution_count": 66,
   "id": "62cb8594",
   "metadata": {
    "execution": {
     "iopub.execute_input": "2022-11-22T10:54:09.785312Z",
     "iopub.status.busy": "2022-11-22T10:54:09.784807Z",
     "iopub.status.idle": "2022-11-22T10:54:09.789027Z",
     "shell.execute_reply": "2022-11-22T10:54:09.788270Z"
    },
    "papermill": {
     "duration": 0.135122,
     "end_time": "2022-11-22T10:54:09.791032",
     "exception": false,
     "start_time": "2022-11-22T10:54:09.655910",
     "status": "completed"
    },
    "tags": []
   },
   "outputs": [],
   "source": [
    "def update_coeffs(coeffs, lr):\n",
    "    for layer in coeffs:\n",
    "        layer.sub_(layer.grad * lr)\n",
    "        layer.grad.zero_()"
   ]
  },
  {
   "cell_type": "markdown",
   "id": "55588c31",
   "metadata": {
    "papermill": {
     "duration": 0.129354,
     "end_time": "2022-11-22T10:54:10.054035",
     "exception": false,
     "start_time": "2022-11-22T10:54:09.924681",
     "status": "completed"
    },
    "tags": []
   },
   "source": [
    "That's it -- we're now ready to train our model!"
   ]
  },
  {
   "cell_type": "code",
   "execution_count": 67,
   "id": "d639cc27",
   "metadata": {
    "execution": {
     "iopub.execute_input": "2022-11-22T10:54:10.315883Z",
     "iopub.status.busy": "2022-11-22T10:54:10.315378Z",
     "iopub.status.idle": "2022-11-22T10:54:10.352221Z",
     "shell.execute_reply": "2022-11-22T10:54:10.351331Z"
    },
    "papermill": {
     "duration": 0.169179,
     "end_time": "2022-11-22T10:54:10.354481",
     "exception": false,
     "start_time": "2022-11-22T10:54:10.185302",
     "status": "completed"
    },
    "tags": []
   },
   "outputs": [
    {
     "name": "stdout",
     "output_type": "stream",
     "text": [
      "0.543; 0.532; 0.520; 0.505; 0.487; 0.466; 0.439; 0.407; 0.373; 0.343; 0.319; 0.301; 0.286; 0.274; 0.264; 0.256; 0.250; 0.245; 0.240; 0.237; 0.234; 0.231; 0.229; 0.227; 0.226; 0.224; 0.223; 0.222; 0.221; 0.220; "
     ]
    }
   ],
   "source": [
    "coeffs = train_model(lr=1.4)"
   ]
  },
  {
   "cell_type": "code",
   "execution_count": 68,
   "id": "ee037501",
   "metadata": {
    "execution": {
     "iopub.execute_input": "2022-11-22T10:54:10.620503Z",
     "iopub.status.busy": "2022-11-22T10:54:10.619827Z",
     "iopub.status.idle": "2022-11-22T10:54:10.644701Z",
     "shell.execute_reply": "2022-11-22T10:54:10.643822Z"
    },
    "papermill": {
     "duration": 0.16153,
     "end_time": "2022-11-22T10:54:10.646944",
     "exception": false,
     "start_time": "2022-11-22T10:54:10.485414",
     "status": "completed"
    },
    "tags": []
   },
   "outputs": [
    {
     "name": "stdout",
     "output_type": "stream",
     "text": [
      "0.543; 0.400; 0.260; 0.390; 0.221; 0.211; 0.197; 0.195; 0.193; 0.193; 0.193; 0.193; 0.193; 0.193; 0.193; 0.193; 0.193; 0.192; 0.192; 0.192; 0.192; 0.192; 0.192; 0.192; 0.192; 0.192; 0.192; 0.192; 0.192; 0.192; "
     ]
    }
   ],
   "source": [
    "coeffs = train_model(lr=20)"
   ]
  },
  {
   "cell_type": "markdown",
   "id": "2d94ed5d",
   "metadata": {
    "papermill": {
     "duration": 0.12876,
     "end_time": "2022-11-22T10:54:10.903827",
     "exception": false,
     "start_time": "2022-11-22T10:54:10.775067",
     "status": "completed"
    },
    "tags": []
   },
   "source": [
    "It's looking good -- our loss is lower than before. Let's see if that translates to a better result on the validation set:"
   ]
  },
  {
   "cell_type": "code",
   "execution_count": 69,
   "id": "996fb071",
   "metadata": {
    "execution": {
     "iopub.execute_input": "2022-11-22T10:54:11.163007Z",
     "iopub.status.busy": "2022-11-22T10:54:11.162707Z",
     "iopub.status.idle": "2022-11-22T10:54:11.170352Z",
     "shell.execute_reply": "2022-11-22T10:54:11.169478Z"
    },
    "papermill": {
     "duration": 0.140095,
     "end_time": "2022-11-22T10:54:11.172438",
     "exception": false,
     "start_time": "2022-11-22T10:54:11.032343",
     "status": "completed"
    },
    "tags": []
   },
   "outputs": [
    {
     "data": {
      "text/plain": [
       "tensor(0.8258)"
      ]
     },
     "execution_count": 69,
     "metadata": {},
     "output_type": "execute_result"
    }
   ],
   "source": [
    "acc(coeffs)"
   ]
  },
  {
   "cell_type": "markdown",
   "id": "99d0c59e",
   "metadata": {
    "papermill": {
     "duration": 0.132021,
     "end_time": "2022-11-22T10:54:11.434710",
     "exception": false,
     "start_time": "2022-11-22T10:54:11.302689",
     "status": "completed"
    },
    "tags": []
   },
   "source": [
    "In this case our neural net isn't showing better results than the linear model. That's not surprising; this dataset is very small and very simple, and isn't the kind of thing we'd expect to see neural networks excel at. Furthermore, our validation set is too small to reliably see much accuracy difference. But the key thing is that we now know exactly what a real neural net looks like!"
   ]
  },
  {
   "cell_type": "markdown",
   "id": "75d68af8",
   "metadata": {
    "papermill": {
     "duration": 0.13045,
     "end_time": "2022-11-22T10:54:11.698113",
     "exception": false,
     "start_time": "2022-11-22T10:54:11.567663",
     "status": "completed"
    },
    "tags": []
   },
   "source": [
    "## Deep learning"
   ]
  },
  {
   "cell_type": "markdown",
   "id": "310009cf",
   "metadata": {
    "papermill": {
     "duration": 0.130278,
     "end_time": "2022-11-22T10:54:11.956609",
     "exception": false,
     "start_time": "2022-11-22T10:54:11.826331",
     "status": "completed"
    },
    "tags": []
   },
   "source": [
    "The neural net in the previous section only uses one hidden layer, so it doesn't count as \"deep\" learning. But we can use the exact same technique to make our neural net deep, by adding more matrix multiplications.\n",
    "\n",
    "First, we'll need to create additional coefficients for each layer:"
   ]
  },
  {
   "cell_type": "code",
   "execution_count": 70,
   "id": "f92b1424",
   "metadata": {
    "execution": {
     "iopub.execute_input": "2022-11-22T10:54:12.216290Z",
     "iopub.status.busy": "2022-11-22T10:54:12.215696Z",
     "iopub.status.idle": "2022-11-22T10:54:12.222364Z",
     "shell.execute_reply": "2022-11-22T10:54:12.221574Z"
    },
    "papermill": {
     "duration": 0.138993,
     "end_time": "2022-11-22T10:54:12.224505",
     "exception": false,
     "start_time": "2022-11-22T10:54:12.085512",
     "status": "completed"
    },
    "tags": []
   },
   "outputs": [],
   "source": [
    "def init_coeffs():\n",
    "    hiddens = [10, 10]  # <-- set this to the size of each hidden layer you want\n",
    "    sizes = [n_coeff] + hiddens + [1]\n",
    "    n = len(sizes)\n",
    "    layers = [(torch.rand(sizes[i], sizes[i+1])-0.3)/sizes[i+1]*4 for i in range(n-1)]\n",
    "    consts = [(torch.rand(1)[0]-0.5)*0.1 for i in range(n-1)]\n",
    "    for l in layers+consts: l.requires_grad_()\n",
    "    return layers,consts"
   ]
  },
  {
   "cell_type": "markdown",
   "id": "49304249",
   "metadata": {
    "papermill": {
     "duration": 0.137532,
     "end_time": "2022-11-22T10:54:12.492963",
     "exception": false,
     "start_time": "2022-11-22T10:54:12.355431",
     "status": "completed"
    },
    "tags": []
   },
   "source": [
    "You'll notice here that there's a lot of messy constants to get the random numbers in just the right ranges. When you train the model in a moment, you'll see that the tiniest changes to these initialisations can cause our model to fail to train at all! This is a key reason that deep learning failed to make much progress in the early days -- it's very finicky to get a good starting point for our coefficients. Nowadays, we have ways to deal with that, which we'll learn about in other notebooks.\n",
    "\n",
    "Our deep learning `calc_preds` looks much the same as before, but now we loop through each layer, instead of listing them separately:"
   ]
  },
  {
   "cell_type": "code",
   "execution_count": 71,
   "id": "1699382b",
   "metadata": {
    "execution": {
     "iopub.execute_input": "2022-11-22T10:54:12.753334Z",
     "iopub.status.busy": "2022-11-22T10:54:12.752717Z",
     "iopub.status.idle": "2022-11-22T10:54:12.758459Z",
     "shell.execute_reply": "2022-11-22T10:54:12.757752Z"
    },
    "papermill": {
     "duration": 0.137951,
     "end_time": "2022-11-22T10:54:12.760490",
     "exception": false,
     "start_time": "2022-11-22T10:54:12.622539",
     "status": "completed"
    },
    "tags": []
   },
   "outputs": [],
   "source": [
    "import torch.nn.functional as F\n",
    "\n",
    "def calc_preds(coeffs, indeps):\n",
    "    layers,consts = coeffs\n",
    "    n = len(layers)\n",
    "    res = indeps\n",
    "    for i,l in enumerate(layers):\n",
    "        res = res@l + consts[i]\n",
    "        if i!=n-1: res = F.relu(res)\n",
    "    return torch.sigmoid(res)"
   ]
  },
  {
   "cell_type": "markdown",
   "id": "ea51b283",
   "metadata": {
    "papermill": {
     "duration": 0.130265,
     "end_time": "2022-11-22T10:54:13.024012",
     "exception": false,
     "start_time": "2022-11-22T10:54:12.893747",
     "status": "completed"
    },
    "tags": []
   },
   "source": [
    "We also need a minor update to `update_coeffs` since we've got `layers` and `consts` separated now:"
   ]
  },
  {
   "cell_type": "code",
   "execution_count": 72,
   "id": "ac9c3aaa",
   "metadata": {
    "execution": {
     "iopub.execute_input": "2022-11-22T10:54:13.286595Z",
     "iopub.status.busy": "2022-11-22T10:54:13.285737Z",
     "iopub.status.idle": "2022-11-22T10:54:13.290349Z",
     "shell.execute_reply": "2022-11-22T10:54:13.289681Z"
    },
    "papermill": {
     "duration": 0.139145,
     "end_time": "2022-11-22T10:54:13.292497",
     "exception": false,
     "start_time": "2022-11-22T10:54:13.153352",
     "status": "completed"
    },
    "tags": []
   },
   "outputs": [],
   "source": [
    "def update_coeffs(coeffs, lr):\n",
    "    layers,consts = coeffs\n",
    "    for layer in layers+consts:\n",
    "        layer.sub_(layer.grad * lr)\n",
    "        layer.grad.zero_()"
   ]
  },
  {
   "cell_type": "markdown",
   "id": "df739a10",
   "metadata": {
    "papermill": {
     "duration": 0.129827,
     "end_time": "2022-11-22T10:54:13.572754",
     "exception": false,
     "start_time": "2022-11-22T10:54:13.442927",
     "status": "completed"
    },
    "tags": []
   },
   "source": [
    "Let's train our model..."
   ]
  },
  {
   "cell_type": "code",
   "execution_count": 73,
   "id": "ea39ba94",
   "metadata": {
    "execution": {
     "iopub.execute_input": "2022-11-22T10:54:13.836389Z",
     "iopub.status.busy": "2022-11-22T10:54:13.835797Z",
     "iopub.status.idle": "2022-11-22T10:54:13.870989Z",
     "shell.execute_reply": "2022-11-22T10:54:13.870109Z"
    },
    "papermill": {
     "duration": 0.171691,
     "end_time": "2022-11-22T10:54:13.873167",
     "exception": false,
     "start_time": "2022-11-22T10:54:13.701476",
     "status": "completed"
    },
    "tags": []
   },
   "outputs": [
    {
     "name": "stdout",
     "output_type": "stream",
     "text": [
      "0.521; 0.483; 0.427; 0.379; 0.379; 0.379; 0.379; 0.378; 0.378; 0.378; 0.378; 0.378; 0.378; 0.378; 0.378; 0.378; 0.377; 0.376; 0.371; 0.333; 0.239; 0.224; 0.208; 0.204; 0.203; 0.203; 0.207; 0.197; 0.196; 0.195; "
     ]
    }
   ],
   "source": [
    "coeffs = train_model(lr=4)"
   ]
  },
  {
   "cell_type": "markdown",
   "id": "03285d78",
   "metadata": {
    "papermill": {
     "duration": 0.133831,
     "end_time": "2022-11-22T10:54:14.138953",
     "exception": false,
     "start_time": "2022-11-22T10:54:14.005122",
     "status": "completed"
    },
    "tags": []
   },
   "source": [
    "...and check its accuracy:"
   ]
  },
  {
   "cell_type": "code",
   "execution_count": 74,
   "id": "bb8a29bc",
   "metadata": {
    "execution": {
     "iopub.execute_input": "2022-11-22T10:54:14.402177Z",
     "iopub.status.busy": "2022-11-22T10:54:14.401861Z",
     "iopub.status.idle": "2022-11-22T10:54:14.408336Z",
     "shell.execute_reply": "2022-11-22T10:54:14.407592Z"
    },
    "papermill": {
     "duration": 0.140708,
     "end_time": "2022-11-22T10:54:14.410475",
     "exception": false,
     "start_time": "2022-11-22T10:54:14.269767",
     "status": "completed"
    },
    "tags": []
   },
   "outputs": [
    {
     "data": {
      "text/plain": [
       "tensor(0.8258)"
      ]
     },
     "execution_count": 74,
     "metadata": {},
     "output_type": "execute_result"
    }
   ],
   "source": [
    "acc(coeffs)"
   ]
  },
  {
   "cell_type": "markdown",
   "id": "9930d0f7",
   "metadata": {
    "papermill": {
     "duration": 0.132718,
     "end_time": "2022-11-22T10:54:14.676867",
     "exception": false,
     "start_time": "2022-11-22T10:54:14.544149",
     "status": "completed"
    },
    "tags": []
   },
   "source": [
    "## Final thoughts"
   ]
  },
  {
   "cell_type": "markdown",
   "id": "430e47b5",
   "metadata": {
    "papermill": {
     "duration": 0.129488,
     "end_time": "2022-11-22T10:54:14.935852",
     "exception": false,
     "start_time": "2022-11-22T10:54:14.806364",
     "status": "completed"
    },
    "tags": []
   },
   "source": [
    "It's actually pretty cool that we've managed to create a real deep learning model from scratch and trained it to get over 80% accuracy on this task, all in the course of a single notebook!\n",
    "\n",
    "The \"real\" deep learning models that are used in research and industry look very similar to this, and in fact if you look inside the source code of any deep learning model you'll recognise the basic steps are the same.\n",
    "\n",
    "The biggest differences in practical models to what we have above are:\n",
    "\n",
    "- How initialisation and normalisation is done to ensure the model trains correctly every time\n",
    "- Regularization (to avoid over-fitting)\n",
    "- Modifying the neural net itself to take advantage of knowledge of the problem domain\n",
    "- Doing gradient descent steps on smaller batches, rather than the whole dataset.\n",
    "\n",
    "I'll be adding notebooks about all these later, and will add links here once they're ready.\n",
    "\n",
    "If you found this notebook useful, please remember to click the little up-arrow at the top to upvote it, since I like to know when people have found my work useful, and it helps others find it too. (BTW, be sure you're looking at my [original notebook here](https://www.kaggle.com/code/jhoward/linear-model-and-neural-net-from-scratch) when you do that, and are not on your own copy of it, otherwise your upvote won't get counted!) And if you have any questions or comments, please pop them below -- I read every comment I receive!"
   ]
  },
  {
   "cell_type": "code",
   "execution_count": null,
   "id": "8579d326",
   "metadata": {
    "papermill": {
     "duration": 0.130752,
     "end_time": "2022-11-22T10:54:15.195792",
     "exception": false,
     "start_time": "2022-11-22T10:54:15.065040",
     "status": "completed"
    },
    "tags": []
   },
   "outputs": [],
   "source": []
  }
 ],
 "metadata": {
  "kernelspec": {
   "display_name": "Python 3",
   "language": "python",
   "name": "python3"
  },
  "language_info": {
   "codemirror_mode": {
    "name": "ipython",
    "version": 3
   },
   "file_extension": ".py",
   "mimetype": "text/x-python",
   "name": "python",
   "nbconvert_exporter": "python",
   "pygments_lexer": "ipython3",
   "version": "3.7.12"
  },
  "papermill": {
   "default_parameters": {},
   "duration": 59.833089,
   "end_time": "2022-11-22T10:54:16.450041",
   "environment_variables": {},
   "exception": null,
   "input_path": "__notebook__.ipynb",
   "output_path": "__notebook__.ipynb",
   "parameters": {},
   "start_time": "2022-11-22T10:53:16.616952",
   "version": "2.3.4"
  }
 },
 "nbformat": 4,
 "nbformat_minor": 5
}
