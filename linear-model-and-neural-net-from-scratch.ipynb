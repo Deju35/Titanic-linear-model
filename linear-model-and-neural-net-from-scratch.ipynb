{
 "cells": [
  {
   "cell_type": "markdown",
   "id": "773da930",
   "metadata": {
    "papermill": {
     "duration": 0.120315,
     "end_time": "2022-11-22T11:16:01.038302",
     "exception": false,
     "start_time": "2022-11-22T11:16:00.917987",
     "status": "completed"
    },
    "tags": []
   },
   "source": [
    "## Introduction"
   ]
  },
  {
   "cell_type": "markdown",
   "id": "49a3c053",
   "metadata": {
    "papermill": {
     "duration": 0.113343,
     "end_time": "2022-11-22T11:16:01.266078",
     "exception": false,
     "start_time": "2022-11-22T11:16:01.152735",
     "status": "completed"
    },
    "tags": []
   },
   "source": [
    "In this notebook we're going to build and train a deep learning model \"from scratch\" -- by which I mean that we're not going to use any pre-built architecture, or optimizers, or data loading frameworks, etc.\n",
    "\n",
    " We'll be using Kaggle's [Titanic](https://www.kaggle.com/competitions/titanic/) competition in this notebook, because it's very small and simple, but also has displays many of the tricky real-life issues that we need to handle in most practical projects. (Note, however, that this competition is a small \"learner\" competition on Kaggle, so don't expect to actually see much benefits from using a neural net just yet; that will come once we try our some real competitions!)\n",
    "\n",
    "It's great to be able to run the same notebook on your own machine or Colab, as well as Kaggle. To allow for this, we use this code to download the data as needed when not on Kaggle (see [this notebook](https://www.kaggle.com/code/jhoward/getting-started-with-nlp-for-absolute-beginners/) for details about this technique):"
   ]
  },
  {
   "cell_type": "code",
   "execution_count": 1,
   "id": "d43f0f2b",
   "metadata": {
    "execution": {
     "iopub.execute_input": "2022-11-22T11:16:01.499656Z",
     "iopub.status.busy": "2022-11-22T11:16:01.499069Z",
     "iopub.status.idle": "2022-11-22T11:16:01.509702Z",
     "shell.execute_reply": "2022-11-22T11:16:01.508770Z"
    },
    "papermill": {
     "duration": 0.131242,
     "end_time": "2022-11-22T11:16:01.512253",
     "exception": false,
     "start_time": "2022-11-22T11:16:01.381011",
     "status": "completed"
    },
    "tags": []
   },
   "outputs": [],
   "source": [
    "import os\n",
    "from pathlib import Path\n",
    "    \n",
    "iskaggle = os.environ.get('KAGGLE_KERNEL_RUN_TYPE', '')\n",
    "if iskaggle: path = Path('../input/titanic')\n",
    "else:\n",
    "    path = Path('titanic')\n",
    "    if not path.exists():\n",
    "        import zipfile,kaggle\n",
    "        kaggle.api.competition_download_cli(str(path))\n",
    "        zipfile.ZipFile(f'{path}.zip').extractall(path)"
   ]
  },
  {
   "cell_type": "markdown",
   "id": "3a8173a6",
   "metadata": {
    "hidden": true,
    "papermill": {
     "duration": 0.115853,
     "end_time": "2022-11-22T11:16:01.743133",
     "exception": false,
     "start_time": "2022-11-22T11:16:01.627280",
     "status": "completed"
    },
    "tags": []
   },
   "source": [
    "Note that the data for Kaggle comps always lives in the `../input` folder. The easiest way to get the path is to click the \"K\" button in the top-right of the Kaggle notebook, click on the folder shown there, and click the copy button.\n",
    "\n",
    "We'll be using *numpy* and *pytorch* for array calculations in this notebook, and *pandas* for working with tabular data, so we'll import them and set them to display using a bit more space than they default to."
   ]
  },
  {
   "cell_type": "code",
   "execution_count": 2,
   "id": "615494d5",
   "metadata": {
    "execution": {
     "iopub.execute_input": "2022-11-22T11:16:01.972473Z",
     "iopub.status.busy": "2022-11-22T11:16:01.972142Z",
     "iopub.status.idle": "2022-11-22T11:16:03.440629Z",
     "shell.execute_reply": "2022-11-22T11:16:03.439832Z"
    },
    "papermill": {
     "duration": 1.584792,
     "end_time": "2022-11-22T11:16:03.443094",
     "exception": false,
     "start_time": "2022-11-22T11:16:01.858302",
     "status": "completed"
    },
    "tags": []
   },
   "outputs": [],
   "source": [
    "import torch, numpy as np, pandas as pd\n",
    "np.set_printoptions(linewidth=140)\n",
    "torch.set_printoptions(linewidth=140, sci_mode=False, edgeitems=7)\n",
    "pd.set_option('display.width', 140)"
   ]
  },
  {
   "cell_type": "markdown",
   "id": "6d7548c4",
   "metadata": {
    "heading_collapsed": true,
    "papermill": {
     "duration": 0.113238,
     "end_time": "2022-11-22T11:16:03.671733",
     "exception": false,
     "start_time": "2022-11-22T11:16:03.558495",
     "status": "completed"
    },
    "tags": []
   },
   "source": [
    "## Cleaning the data"
   ]
  },
  {
   "cell_type": "markdown",
   "id": "58930363",
   "metadata": {
    "hidden": true,
    "papermill": {
     "duration": 0.113169,
     "end_time": "2022-11-22T11:16:03.899846",
     "exception": false,
     "start_time": "2022-11-22T11:16:03.786677",
     "status": "completed"
    },
    "tags": []
   },
   "source": [
    "This is a *tabular data* competition -- the data is in the form of a table. It's provided as a Comma Separated Values (CSV) file. We can open it using the *pandas* library, which will create a `DataFrame`."
   ]
  },
  {
   "cell_type": "code",
   "execution_count": 3,
   "id": "6143d6d4",
   "metadata": {
    "execution": {
     "iopub.execute_input": "2022-11-22T11:16:04.135065Z",
     "iopub.status.busy": "2022-11-22T11:16:04.134630Z",
     "iopub.status.idle": "2022-11-22T11:16:04.187183Z",
     "shell.execute_reply": "2022-11-22T11:16:04.186423Z"
    },
    "hidden": true,
    "papermill": {
     "duration": 0.174099,
     "end_time": "2022-11-22T11:16:04.190414",
     "exception": false,
     "start_time": "2022-11-22T11:16:04.016315",
     "status": "completed"
    },
    "scrolled": true,
    "tags": []
   },
   "outputs": [
    {
     "data": {
      "text/html": [
       "<div>\n",
       "<style scoped>\n",
       "    .dataframe tbody tr th:only-of-type {\n",
       "        vertical-align: middle;\n",
       "    }\n",
       "\n",
       "    .dataframe tbody tr th {\n",
       "        vertical-align: top;\n",
       "    }\n",
       "\n",
       "    .dataframe thead th {\n",
       "        text-align: right;\n",
       "    }\n",
       "</style>\n",
       "<table border=\"1\" class=\"dataframe\">\n",
       "  <thead>\n",
       "    <tr style=\"text-align: right;\">\n",
       "      <th></th>\n",
       "      <th>PassengerId</th>\n",
       "      <th>Survived</th>\n",
       "      <th>Pclass</th>\n",
       "      <th>Name</th>\n",
       "      <th>Sex</th>\n",
       "      <th>Age</th>\n",
       "      <th>SibSp</th>\n",
       "      <th>Parch</th>\n",
       "      <th>Ticket</th>\n",
       "      <th>Fare</th>\n",
       "      <th>Cabin</th>\n",
       "      <th>Embarked</th>\n",
       "    </tr>\n",
       "  </thead>\n",
       "  <tbody>\n",
       "    <tr>\n",
       "      <th>0</th>\n",
       "      <td>1</td>\n",
       "      <td>0</td>\n",
       "      <td>3</td>\n",
       "      <td>Braund, Mr. Owen Harris</td>\n",
       "      <td>male</td>\n",
       "      <td>22.0</td>\n",
       "      <td>1</td>\n",
       "      <td>0</td>\n",
       "      <td>A/5 21171</td>\n",
       "      <td>7.2500</td>\n",
       "      <td>NaN</td>\n",
       "      <td>S</td>\n",
       "    </tr>\n",
       "    <tr>\n",
       "      <th>1</th>\n",
       "      <td>2</td>\n",
       "      <td>1</td>\n",
       "      <td>1</td>\n",
       "      <td>Cumings, Mrs. John Bradley (Florence Briggs Th...</td>\n",
       "      <td>female</td>\n",
       "      <td>38.0</td>\n",
       "      <td>1</td>\n",
       "      <td>0</td>\n",
       "      <td>PC 17599</td>\n",
       "      <td>71.2833</td>\n",
       "      <td>C85</td>\n",
       "      <td>C</td>\n",
       "    </tr>\n",
       "    <tr>\n",
       "      <th>2</th>\n",
       "      <td>3</td>\n",
       "      <td>1</td>\n",
       "      <td>3</td>\n",
       "      <td>Heikkinen, Miss. Laina</td>\n",
       "      <td>female</td>\n",
       "      <td>26.0</td>\n",
       "      <td>0</td>\n",
       "      <td>0</td>\n",
       "      <td>STON/O2. 3101282</td>\n",
       "      <td>7.9250</td>\n",
       "      <td>NaN</td>\n",
       "      <td>S</td>\n",
       "    </tr>\n",
       "    <tr>\n",
       "      <th>3</th>\n",
       "      <td>4</td>\n",
       "      <td>1</td>\n",
       "      <td>1</td>\n",
       "      <td>Futrelle, Mrs. Jacques Heath (Lily May Peel)</td>\n",
       "      <td>female</td>\n",
       "      <td>35.0</td>\n",
       "      <td>1</td>\n",
       "      <td>0</td>\n",
       "      <td>113803</td>\n",
       "      <td>53.1000</td>\n",
       "      <td>C123</td>\n",
       "      <td>S</td>\n",
       "    </tr>\n",
       "    <tr>\n",
       "      <th>4</th>\n",
       "      <td>5</td>\n",
       "      <td>0</td>\n",
       "      <td>3</td>\n",
       "      <td>Allen, Mr. William Henry</td>\n",
       "      <td>male</td>\n",
       "      <td>35.0</td>\n",
       "      <td>0</td>\n",
       "      <td>0</td>\n",
       "      <td>373450</td>\n",
       "      <td>8.0500</td>\n",
       "      <td>NaN</td>\n",
       "      <td>S</td>\n",
       "    </tr>\n",
       "    <tr>\n",
       "      <th>...</th>\n",
       "      <td>...</td>\n",
       "      <td>...</td>\n",
       "      <td>...</td>\n",
       "      <td>...</td>\n",
       "      <td>...</td>\n",
       "      <td>...</td>\n",
       "      <td>...</td>\n",
       "      <td>...</td>\n",
       "      <td>...</td>\n",
       "      <td>...</td>\n",
       "      <td>...</td>\n",
       "      <td>...</td>\n",
       "    </tr>\n",
       "    <tr>\n",
       "      <th>886</th>\n",
       "      <td>887</td>\n",
       "      <td>0</td>\n",
       "      <td>2</td>\n",
       "      <td>Montvila, Rev. Juozas</td>\n",
       "      <td>male</td>\n",
       "      <td>27.0</td>\n",
       "      <td>0</td>\n",
       "      <td>0</td>\n",
       "      <td>211536</td>\n",
       "      <td>13.0000</td>\n",
       "      <td>NaN</td>\n",
       "      <td>S</td>\n",
       "    </tr>\n",
       "    <tr>\n",
       "      <th>887</th>\n",
       "      <td>888</td>\n",
       "      <td>1</td>\n",
       "      <td>1</td>\n",
       "      <td>Graham, Miss. Margaret Edith</td>\n",
       "      <td>female</td>\n",
       "      <td>19.0</td>\n",
       "      <td>0</td>\n",
       "      <td>0</td>\n",
       "      <td>112053</td>\n",
       "      <td>30.0000</td>\n",
       "      <td>B42</td>\n",
       "      <td>S</td>\n",
       "    </tr>\n",
       "    <tr>\n",
       "      <th>888</th>\n",
       "      <td>889</td>\n",
       "      <td>0</td>\n",
       "      <td>3</td>\n",
       "      <td>Johnston, Miss. Catherine Helen \"Carrie\"</td>\n",
       "      <td>female</td>\n",
       "      <td>NaN</td>\n",
       "      <td>1</td>\n",
       "      <td>2</td>\n",
       "      <td>W./C. 6607</td>\n",
       "      <td>23.4500</td>\n",
       "      <td>NaN</td>\n",
       "      <td>S</td>\n",
       "    </tr>\n",
       "    <tr>\n",
       "      <th>889</th>\n",
       "      <td>890</td>\n",
       "      <td>1</td>\n",
       "      <td>1</td>\n",
       "      <td>Behr, Mr. Karl Howell</td>\n",
       "      <td>male</td>\n",
       "      <td>26.0</td>\n",
       "      <td>0</td>\n",
       "      <td>0</td>\n",
       "      <td>111369</td>\n",
       "      <td>30.0000</td>\n",
       "      <td>C148</td>\n",
       "      <td>C</td>\n",
       "    </tr>\n",
       "    <tr>\n",
       "      <th>890</th>\n",
       "      <td>891</td>\n",
       "      <td>0</td>\n",
       "      <td>3</td>\n",
       "      <td>Dooley, Mr. Patrick</td>\n",
       "      <td>male</td>\n",
       "      <td>32.0</td>\n",
       "      <td>0</td>\n",
       "      <td>0</td>\n",
       "      <td>370376</td>\n",
       "      <td>7.7500</td>\n",
       "      <td>NaN</td>\n",
       "      <td>Q</td>\n",
       "    </tr>\n",
       "  </tbody>\n",
       "</table>\n",
       "<p>891 rows × 12 columns</p>\n",
       "</div>"
      ],
      "text/plain": [
       "     PassengerId  Survived  Pclass                                               Name     Sex   Age  SibSp  Parch            Ticket  \\\n",
       "0              1         0       3                            Braund, Mr. Owen Harris    male  22.0      1      0         A/5 21171   \n",
       "1              2         1       1  Cumings, Mrs. John Bradley (Florence Briggs Th...  female  38.0      1      0          PC 17599   \n",
       "2              3         1       3                             Heikkinen, Miss. Laina  female  26.0      0      0  STON/O2. 3101282   \n",
       "3              4         1       1       Futrelle, Mrs. Jacques Heath (Lily May Peel)  female  35.0      1      0            113803   \n",
       "4              5         0       3                           Allen, Mr. William Henry    male  35.0      0      0            373450   \n",
       "..           ...       ...     ...                                                ...     ...   ...    ...    ...               ...   \n",
       "886          887         0       2                              Montvila, Rev. Juozas    male  27.0      0      0            211536   \n",
       "887          888         1       1                       Graham, Miss. Margaret Edith  female  19.0      0      0            112053   \n",
       "888          889         0       3           Johnston, Miss. Catherine Helen \"Carrie\"  female   NaN      1      2        W./C. 6607   \n",
       "889          890         1       1                              Behr, Mr. Karl Howell    male  26.0      0      0            111369   \n",
       "890          891         0       3                                Dooley, Mr. Patrick    male  32.0      0      0            370376   \n",
       "\n",
       "        Fare Cabin Embarked  \n",
       "0     7.2500   NaN        S  \n",
       "1    71.2833   C85        C  \n",
       "2     7.9250   NaN        S  \n",
       "3    53.1000  C123        S  \n",
       "4     8.0500   NaN        S  \n",
       "..       ...   ...      ...  \n",
       "886  13.0000   NaN        S  \n",
       "887  30.0000   B42        S  \n",
       "888  23.4500   NaN        S  \n",
       "889  30.0000  C148        C  \n",
       "890   7.7500   NaN        Q  \n",
       "\n",
       "[891 rows x 12 columns]"
      ]
     },
     "execution_count": 3,
     "metadata": {},
     "output_type": "execute_result"
    }
   ],
   "source": [
    "df = pd.read_csv(path/'train.csv')\n",
    "df"
   ]
  },
  {
   "cell_type": "markdown",
   "id": "99ae618b",
   "metadata": {
    "hidden": true,
    "papermill": {
     "duration": 0.114861,
     "end_time": "2022-11-22T11:16:04.424582",
     "exception": false,
     "start_time": "2022-11-22T11:16:04.309721",
     "status": "completed"
    },
    "tags": []
   },
   "source": [
    "As we learned in the *How does a neural net really work* notebook, we going to want to multiply each column by some coefficients. But we can see in the `Cabin` column that there are `NaN` values, which is how Pandas refers to missing values. We can't multiply something by a missing value!\n",
    "\n",
    "Let's check which columns contain `NaN` values. Pandas' `isna()` function returns `True` (which is treated as `1` when used as a number) for `NaN` values, so we can just add them up for each column:"
   ]
  },
  {
   "cell_type": "code",
   "execution_count": 4,
   "id": "5d63d52f",
   "metadata": {
    "execution": {
     "iopub.execute_input": "2022-11-22T11:16:04.657380Z",
     "iopub.status.busy": "2022-11-22T11:16:04.656778Z",
     "iopub.status.idle": "2022-11-22T11:16:04.665211Z",
     "shell.execute_reply": "2022-11-22T11:16:04.664242Z"
    },
    "hidden": true,
    "papermill": {
     "duration": 0.127271,
     "end_time": "2022-11-22T11:16:04.667300",
     "exception": false,
     "start_time": "2022-11-22T11:16:04.540029",
     "status": "completed"
    },
    "tags": []
   },
   "outputs": [
    {
     "data": {
      "text/plain": [
       "PassengerId      0\n",
       "Survived         0\n",
       "Pclass           0\n",
       "Name             0\n",
       "Sex              0\n",
       "Age            177\n",
       "SibSp            0\n",
       "Parch            0\n",
       "Ticket           0\n",
       "Fare             0\n",
       "Cabin          687\n",
       "Embarked         2\n",
       "dtype: int64"
      ]
     },
     "execution_count": 4,
     "metadata": {},
     "output_type": "execute_result"
    }
   ],
   "source": [
    "df.isna().sum()"
   ]
  },
  {
   "cell_type": "markdown",
   "id": "f21a8ca8",
   "metadata": {
    "hidden": true,
    "papermill": {
     "duration": 0.113989,
     "end_time": "2022-11-22T11:16:04.896705",
     "exception": false,
     "start_time": "2022-11-22T11:16:04.782716",
     "status": "completed"
    },
    "tags": []
   },
   "source": [
    "Notice that by default Pandas sums over columns.\n",
    "\n",
    "We'll need to replace the missing values with something. It doesn't generally matter too much what we choose. We'll use the most common value (the \"*mode*\"). We can use the `mode` function for that. One wrinkle is that it returns more than one row in the case of ties, so we just grab the first row with `iloc[0]`:"
   ]
  },
  {
   "cell_type": "code",
   "execution_count": 5,
   "id": "3567ea33",
   "metadata": {
    "execution": {
     "iopub.execute_input": "2022-11-22T11:16:05.133254Z",
     "iopub.status.busy": "2022-11-22T11:16:05.132612Z",
     "iopub.status.idle": "2022-11-22T11:16:05.153194Z",
     "shell.execute_reply": "2022-11-22T11:16:05.152220Z"
    },
    "hidden": true,
    "papermill": {
     "duration": 0.142497,
     "end_time": "2022-11-22T11:16:05.155775",
     "exception": false,
     "start_time": "2022-11-22T11:16:05.013278",
     "status": "completed"
    },
    "tags": []
   },
   "outputs": [
    {
     "data": {
      "text/plain": [
       "PassengerId                      1\n",
       "Survived                       0.0\n",
       "Pclass                         3.0\n",
       "Name           Abbing, Mr. Anthony\n",
       "Sex                           male\n",
       "Age                           24.0\n",
       "SibSp                          0.0\n",
       "Parch                          0.0\n",
       "Ticket                        1601\n",
       "Fare                          8.05\n",
       "Cabin                      B96 B98\n",
       "Embarked                         S\n",
       "Name: 0, dtype: object"
      ]
     },
     "execution_count": 5,
     "metadata": {},
     "output_type": "execute_result"
    }
   ],
   "source": [
    "modes = df.mode().iloc[0]\n",
    "modes\n"
   ]
  },
  {
   "cell_type": "markdown",
   "id": "8bffe7e5",
   "metadata": {
    "hidden": true,
    "papermill": {
     "duration": 0.11453,
     "end_time": "2022-11-22T11:16:05.386582",
     "exception": false,
     "start_time": "2022-11-22T11:16:05.272052",
     "status": "completed"
    },
    "tags": []
   },
   "source": [
    "BTW, it's never a good idea to use functions without understanding them. So be sure to google for anything you're not familiar with. E.g if you want to learn about `iloc` (which is a very important function indeed!) then Google will give you a link to a [great tutorial](https://www.shanelynn.ie/pandas-iloc-loc-select-rows-and-columns-dataframe/).\n",
    "\n",
    "Now that we've got the mode of each column, we can use `fillna` to replace the missing values with the mode of each column. We'll do it \"in place\" -- meaning that we'll change the dataframe itself, rather than returning a new one."
   ]
  },
  {
   "cell_type": "code",
   "execution_count": 6,
   "id": "91bfd150",
   "metadata": {
    "execution": {
     "iopub.execute_input": "2022-11-22T11:16:05.618641Z",
     "iopub.status.busy": "2022-11-22T11:16:05.618337Z",
     "iopub.status.idle": "2022-11-22T11:16:05.629724Z",
     "shell.execute_reply": "2022-11-22T11:16:05.628984Z"
    },
    "hidden": true,
    "papermill": {
     "duration": 0.129523,
     "end_time": "2022-11-22T11:16:05.631588",
     "exception": false,
     "start_time": "2022-11-22T11:16:05.502065",
     "status": "completed"
    },
    "tags": []
   },
   "outputs": [],
   "source": [
    "df.fillna(modes, inplace=True)"
   ]
  },
  {
   "cell_type": "markdown",
   "id": "5ef74b17",
   "metadata": {
    "hidden": true,
    "papermill": {
     "duration": 0.114533,
     "end_time": "2022-11-22T11:16:05.862500",
     "exception": false,
     "start_time": "2022-11-22T11:16:05.747967",
     "status": "completed"
    },
    "tags": []
   },
   "source": [
    "We can now check there's no missing values left:"
   ]
  },
  {
   "cell_type": "code",
   "execution_count": 7,
   "id": "00178898",
   "metadata": {
    "execution": {
     "iopub.execute_input": "2022-11-22T11:16:06.098366Z",
     "iopub.status.busy": "2022-11-22T11:16:06.097719Z",
     "iopub.status.idle": "2022-11-22T11:16:06.106047Z",
     "shell.execute_reply": "2022-11-22T11:16:06.105165Z"
    },
    "hidden": true,
    "papermill": {
     "duration": 0.128231,
     "end_time": "2022-11-22T11:16:06.108057",
     "exception": false,
     "start_time": "2022-11-22T11:16:05.979826",
     "status": "completed"
    },
    "tags": []
   },
   "outputs": [
    {
     "data": {
      "text/plain": [
       "PassengerId    0\n",
       "Survived       0\n",
       "Pclass         0\n",
       "Name           0\n",
       "Sex            0\n",
       "Age            0\n",
       "SibSp          0\n",
       "Parch          0\n",
       "Ticket         0\n",
       "Fare           0\n",
       "Cabin          0\n",
       "Embarked       0\n",
       "dtype: int64"
      ]
     },
     "execution_count": 7,
     "metadata": {},
     "output_type": "execute_result"
    }
   ],
   "source": [
    "df.isna().sum()"
   ]
  },
  {
   "cell_type": "markdown",
   "id": "8f094765",
   "metadata": {
    "papermill": {
     "duration": 0.116812,
     "end_time": "2022-11-22T11:16:06.342012",
     "exception": false,
     "start_time": "2022-11-22T11:16:06.225200",
     "status": "completed"
    },
    "tags": []
   },
   "source": [
    "Lets see the table agian to make sure the nan values are replaced"
   ]
  },
  {
   "cell_type": "code",
   "execution_count": 8,
   "id": "f96a34e7",
   "metadata": {
    "execution": {
     "iopub.execute_input": "2022-11-22T11:16:06.575693Z",
     "iopub.status.busy": "2022-11-22T11:16:06.575063Z",
     "iopub.status.idle": "2022-11-22T11:16:06.596167Z",
     "shell.execute_reply": "2022-11-22T11:16:06.595492Z"
    },
    "papermill": {
     "duration": 0.140755,
     "end_time": "2022-11-22T11:16:06.598094",
     "exception": false,
     "start_time": "2022-11-22T11:16:06.457339",
     "status": "completed"
    },
    "tags": []
   },
   "outputs": [
    {
     "data": {
      "text/html": [
       "<div>\n",
       "<style scoped>\n",
       "    .dataframe tbody tr th:only-of-type {\n",
       "        vertical-align: middle;\n",
       "    }\n",
       "\n",
       "    .dataframe tbody tr th {\n",
       "        vertical-align: top;\n",
       "    }\n",
       "\n",
       "    .dataframe thead th {\n",
       "        text-align: right;\n",
       "    }\n",
       "</style>\n",
       "<table border=\"1\" class=\"dataframe\">\n",
       "  <thead>\n",
       "    <tr style=\"text-align: right;\">\n",
       "      <th></th>\n",
       "      <th>PassengerId</th>\n",
       "      <th>Survived</th>\n",
       "      <th>Pclass</th>\n",
       "      <th>Name</th>\n",
       "      <th>Sex</th>\n",
       "      <th>Age</th>\n",
       "      <th>SibSp</th>\n",
       "      <th>Parch</th>\n",
       "      <th>Ticket</th>\n",
       "      <th>Fare</th>\n",
       "      <th>Cabin</th>\n",
       "      <th>Embarked</th>\n",
       "    </tr>\n",
       "  </thead>\n",
       "  <tbody>\n",
       "    <tr>\n",
       "      <th>0</th>\n",
       "      <td>1</td>\n",
       "      <td>0</td>\n",
       "      <td>3</td>\n",
       "      <td>Braund, Mr. Owen Harris</td>\n",
       "      <td>male</td>\n",
       "      <td>22.0</td>\n",
       "      <td>1</td>\n",
       "      <td>0</td>\n",
       "      <td>A/5 21171</td>\n",
       "      <td>7.2500</td>\n",
       "      <td>B96 B98</td>\n",
       "      <td>S</td>\n",
       "    </tr>\n",
       "    <tr>\n",
       "      <th>1</th>\n",
       "      <td>2</td>\n",
       "      <td>1</td>\n",
       "      <td>1</td>\n",
       "      <td>Cumings, Mrs. John Bradley (Florence Briggs Th...</td>\n",
       "      <td>female</td>\n",
       "      <td>38.0</td>\n",
       "      <td>1</td>\n",
       "      <td>0</td>\n",
       "      <td>PC 17599</td>\n",
       "      <td>71.2833</td>\n",
       "      <td>C85</td>\n",
       "      <td>C</td>\n",
       "    </tr>\n",
       "    <tr>\n",
       "      <th>2</th>\n",
       "      <td>3</td>\n",
       "      <td>1</td>\n",
       "      <td>3</td>\n",
       "      <td>Heikkinen, Miss. Laina</td>\n",
       "      <td>female</td>\n",
       "      <td>26.0</td>\n",
       "      <td>0</td>\n",
       "      <td>0</td>\n",
       "      <td>STON/O2. 3101282</td>\n",
       "      <td>7.9250</td>\n",
       "      <td>B96 B98</td>\n",
       "      <td>S</td>\n",
       "    </tr>\n",
       "    <tr>\n",
       "      <th>3</th>\n",
       "      <td>4</td>\n",
       "      <td>1</td>\n",
       "      <td>1</td>\n",
       "      <td>Futrelle, Mrs. Jacques Heath (Lily May Peel)</td>\n",
       "      <td>female</td>\n",
       "      <td>35.0</td>\n",
       "      <td>1</td>\n",
       "      <td>0</td>\n",
       "      <td>113803</td>\n",
       "      <td>53.1000</td>\n",
       "      <td>C123</td>\n",
       "      <td>S</td>\n",
       "    </tr>\n",
       "    <tr>\n",
       "      <th>4</th>\n",
       "      <td>5</td>\n",
       "      <td>0</td>\n",
       "      <td>3</td>\n",
       "      <td>Allen, Mr. William Henry</td>\n",
       "      <td>male</td>\n",
       "      <td>35.0</td>\n",
       "      <td>0</td>\n",
       "      <td>0</td>\n",
       "      <td>373450</td>\n",
       "      <td>8.0500</td>\n",
       "      <td>B96 B98</td>\n",
       "      <td>S</td>\n",
       "    </tr>\n",
       "    <tr>\n",
       "      <th>...</th>\n",
       "      <td>...</td>\n",
       "      <td>...</td>\n",
       "      <td>...</td>\n",
       "      <td>...</td>\n",
       "      <td>...</td>\n",
       "      <td>...</td>\n",
       "      <td>...</td>\n",
       "      <td>...</td>\n",
       "      <td>...</td>\n",
       "      <td>...</td>\n",
       "      <td>...</td>\n",
       "      <td>...</td>\n",
       "    </tr>\n",
       "    <tr>\n",
       "      <th>886</th>\n",
       "      <td>887</td>\n",
       "      <td>0</td>\n",
       "      <td>2</td>\n",
       "      <td>Montvila, Rev. Juozas</td>\n",
       "      <td>male</td>\n",
       "      <td>27.0</td>\n",
       "      <td>0</td>\n",
       "      <td>0</td>\n",
       "      <td>211536</td>\n",
       "      <td>13.0000</td>\n",
       "      <td>B96 B98</td>\n",
       "      <td>S</td>\n",
       "    </tr>\n",
       "    <tr>\n",
       "      <th>887</th>\n",
       "      <td>888</td>\n",
       "      <td>1</td>\n",
       "      <td>1</td>\n",
       "      <td>Graham, Miss. Margaret Edith</td>\n",
       "      <td>female</td>\n",
       "      <td>19.0</td>\n",
       "      <td>0</td>\n",
       "      <td>0</td>\n",
       "      <td>112053</td>\n",
       "      <td>30.0000</td>\n",
       "      <td>B42</td>\n",
       "      <td>S</td>\n",
       "    </tr>\n",
       "    <tr>\n",
       "      <th>888</th>\n",
       "      <td>889</td>\n",
       "      <td>0</td>\n",
       "      <td>3</td>\n",
       "      <td>Johnston, Miss. Catherine Helen \"Carrie\"</td>\n",
       "      <td>female</td>\n",
       "      <td>24.0</td>\n",
       "      <td>1</td>\n",
       "      <td>2</td>\n",
       "      <td>W./C. 6607</td>\n",
       "      <td>23.4500</td>\n",
       "      <td>B96 B98</td>\n",
       "      <td>S</td>\n",
       "    </tr>\n",
       "    <tr>\n",
       "      <th>889</th>\n",
       "      <td>890</td>\n",
       "      <td>1</td>\n",
       "      <td>1</td>\n",
       "      <td>Behr, Mr. Karl Howell</td>\n",
       "      <td>male</td>\n",
       "      <td>26.0</td>\n",
       "      <td>0</td>\n",
       "      <td>0</td>\n",
       "      <td>111369</td>\n",
       "      <td>30.0000</td>\n",
       "      <td>C148</td>\n",
       "      <td>C</td>\n",
       "    </tr>\n",
       "    <tr>\n",
       "      <th>890</th>\n",
       "      <td>891</td>\n",
       "      <td>0</td>\n",
       "      <td>3</td>\n",
       "      <td>Dooley, Mr. Patrick</td>\n",
       "      <td>male</td>\n",
       "      <td>32.0</td>\n",
       "      <td>0</td>\n",
       "      <td>0</td>\n",
       "      <td>370376</td>\n",
       "      <td>7.7500</td>\n",
       "      <td>B96 B98</td>\n",
       "      <td>Q</td>\n",
       "    </tr>\n",
       "  </tbody>\n",
       "</table>\n",
       "<p>891 rows × 12 columns</p>\n",
       "</div>"
      ],
      "text/plain": [
       "     PassengerId  Survived  Pclass                                               Name     Sex   Age  SibSp  Parch            Ticket  \\\n",
       "0              1         0       3                            Braund, Mr. Owen Harris    male  22.0      1      0         A/5 21171   \n",
       "1              2         1       1  Cumings, Mrs. John Bradley (Florence Briggs Th...  female  38.0      1      0          PC 17599   \n",
       "2              3         1       3                             Heikkinen, Miss. Laina  female  26.0      0      0  STON/O2. 3101282   \n",
       "3              4         1       1       Futrelle, Mrs. Jacques Heath (Lily May Peel)  female  35.0      1      0            113803   \n",
       "4              5         0       3                           Allen, Mr. William Henry    male  35.0      0      0            373450   \n",
       "..           ...       ...     ...                                                ...     ...   ...    ...    ...               ...   \n",
       "886          887         0       2                              Montvila, Rev. Juozas    male  27.0      0      0            211536   \n",
       "887          888         1       1                       Graham, Miss. Margaret Edith  female  19.0      0      0            112053   \n",
       "888          889         0       3           Johnston, Miss. Catherine Helen \"Carrie\"  female  24.0      1      2        W./C. 6607   \n",
       "889          890         1       1                              Behr, Mr. Karl Howell    male  26.0      0      0            111369   \n",
       "890          891         0       3                                Dooley, Mr. Patrick    male  32.0      0      0            370376   \n",
       "\n",
       "        Fare    Cabin Embarked  \n",
       "0     7.2500  B96 B98        S  \n",
       "1    71.2833      C85        C  \n",
       "2     7.9250  B96 B98        S  \n",
       "3    53.1000     C123        S  \n",
       "4     8.0500  B96 B98        S  \n",
       "..       ...      ...      ...  \n",
       "886  13.0000  B96 B98        S  \n",
       "887  30.0000      B42        S  \n",
       "888  23.4500  B96 B98        S  \n",
       "889  30.0000     C148        C  \n",
       "890   7.7500  B96 B98        Q  \n",
       "\n",
       "[891 rows x 12 columns]"
      ]
     },
     "execution_count": 8,
     "metadata": {},
     "output_type": "execute_result"
    }
   ],
   "source": [
    "df\n"
   ]
  },
  {
   "cell_type": "markdown",
   "id": "e2743a25",
   "metadata": {
    "hidden": true,
    "papermill": {
     "duration": 0.115465,
     "end_time": "2022-11-22T11:16:06.831739",
     "exception": false,
     "start_time": "2022-11-22T11:16:06.716274",
     "status": "completed"
    },
    "tags": []
   },
   "source": [
    "Here's how we get a quick summary of all the numeric columns in the dataset:"
   ]
  },
  {
   "cell_type": "code",
   "execution_count": 9,
   "id": "07e7b9c7",
   "metadata": {
    "execution": {
     "iopub.execute_input": "2022-11-22T11:16:07.067535Z",
     "iopub.status.busy": "2022-11-22T11:16:07.067019Z",
     "iopub.status.idle": "2022-11-22T11:16:07.101377Z",
     "shell.execute_reply": "2022-11-22T11:16:07.100423Z"
    },
    "hidden": true,
    "papermill": {
     "duration": 0.1561,
     "end_time": "2022-11-22T11:16:07.103623",
     "exception": false,
     "start_time": "2022-11-22T11:16:06.947523",
     "status": "completed"
    },
    "tags": []
   },
   "outputs": [
    {
     "data": {
      "text/html": [
       "<div>\n",
       "<style scoped>\n",
       "    .dataframe tbody tr th:only-of-type {\n",
       "        vertical-align: middle;\n",
       "    }\n",
       "\n",
       "    .dataframe tbody tr th {\n",
       "        vertical-align: top;\n",
       "    }\n",
       "\n",
       "    .dataframe thead th {\n",
       "        text-align: right;\n",
       "    }\n",
       "</style>\n",
       "<table border=\"1\" class=\"dataframe\">\n",
       "  <thead>\n",
       "    <tr style=\"text-align: right;\">\n",
       "      <th></th>\n",
       "      <th>PassengerId</th>\n",
       "      <th>Survived</th>\n",
       "      <th>Pclass</th>\n",
       "      <th>Age</th>\n",
       "      <th>SibSp</th>\n",
       "      <th>Parch</th>\n",
       "      <th>Fare</th>\n",
       "    </tr>\n",
       "  </thead>\n",
       "  <tbody>\n",
       "    <tr>\n",
       "      <th>count</th>\n",
       "      <td>891.000000</td>\n",
       "      <td>891.000000</td>\n",
       "      <td>891.000000</td>\n",
       "      <td>891.000000</td>\n",
       "      <td>891.000000</td>\n",
       "      <td>891.000000</td>\n",
       "      <td>891.000000</td>\n",
       "    </tr>\n",
       "    <tr>\n",
       "      <th>mean</th>\n",
       "      <td>446.000000</td>\n",
       "      <td>0.383838</td>\n",
       "      <td>2.308642</td>\n",
       "      <td>28.566970</td>\n",
       "      <td>0.523008</td>\n",
       "      <td>0.381594</td>\n",
       "      <td>32.204208</td>\n",
       "    </tr>\n",
       "    <tr>\n",
       "      <th>std</th>\n",
       "      <td>257.353842</td>\n",
       "      <td>0.486592</td>\n",
       "      <td>0.836071</td>\n",
       "      <td>13.199572</td>\n",
       "      <td>1.102743</td>\n",
       "      <td>0.806057</td>\n",
       "      <td>49.693429</td>\n",
       "    </tr>\n",
       "    <tr>\n",
       "      <th>min</th>\n",
       "      <td>1.000000</td>\n",
       "      <td>0.000000</td>\n",
       "      <td>1.000000</td>\n",
       "      <td>0.420000</td>\n",
       "      <td>0.000000</td>\n",
       "      <td>0.000000</td>\n",
       "      <td>0.000000</td>\n",
       "    </tr>\n",
       "    <tr>\n",
       "      <th>25%</th>\n",
       "      <td>223.500000</td>\n",
       "      <td>0.000000</td>\n",
       "      <td>2.000000</td>\n",
       "      <td>22.000000</td>\n",
       "      <td>0.000000</td>\n",
       "      <td>0.000000</td>\n",
       "      <td>7.910400</td>\n",
       "    </tr>\n",
       "    <tr>\n",
       "      <th>50%</th>\n",
       "      <td>446.000000</td>\n",
       "      <td>0.000000</td>\n",
       "      <td>3.000000</td>\n",
       "      <td>24.000000</td>\n",
       "      <td>0.000000</td>\n",
       "      <td>0.000000</td>\n",
       "      <td>14.454200</td>\n",
       "    </tr>\n",
       "    <tr>\n",
       "      <th>75%</th>\n",
       "      <td>668.500000</td>\n",
       "      <td>1.000000</td>\n",
       "      <td>3.000000</td>\n",
       "      <td>35.000000</td>\n",
       "      <td>1.000000</td>\n",
       "      <td>0.000000</td>\n",
       "      <td>31.000000</td>\n",
       "    </tr>\n",
       "    <tr>\n",
       "      <th>max</th>\n",
       "      <td>891.000000</td>\n",
       "      <td>1.000000</td>\n",
       "      <td>3.000000</td>\n",
       "      <td>80.000000</td>\n",
       "      <td>8.000000</td>\n",
       "      <td>6.000000</td>\n",
       "      <td>512.329200</td>\n",
       "    </tr>\n",
       "  </tbody>\n",
       "</table>\n",
       "</div>"
      ],
      "text/plain": [
       "       PassengerId    Survived      Pclass         Age       SibSp       Parch        Fare\n",
       "count   891.000000  891.000000  891.000000  891.000000  891.000000  891.000000  891.000000\n",
       "mean    446.000000    0.383838    2.308642   28.566970    0.523008    0.381594   32.204208\n",
       "std     257.353842    0.486592    0.836071   13.199572    1.102743    0.806057   49.693429\n",
       "min       1.000000    0.000000    1.000000    0.420000    0.000000    0.000000    0.000000\n",
       "25%     223.500000    0.000000    2.000000   22.000000    0.000000    0.000000    7.910400\n",
       "50%     446.000000    0.000000    3.000000   24.000000    0.000000    0.000000   14.454200\n",
       "75%     668.500000    1.000000    3.000000   35.000000    1.000000    0.000000   31.000000\n",
       "max     891.000000    1.000000    3.000000   80.000000    8.000000    6.000000  512.329200"
      ]
     },
     "execution_count": 9,
     "metadata": {},
     "output_type": "execute_result"
    }
   ],
   "source": [
    "import numpy as np\n",
    "\n",
    "df.describe(include=(np.number))"
   ]
  },
  {
   "cell_type": "markdown",
   "id": "aa29ceb6",
   "metadata": {
    "execution": {
     "iopub.execute_input": "2022-05-13T11:02:34.328433Z",
     "iopub.status.busy": "2022-05-13T11:02:34.327999Z",
     "iopub.status.idle": "2022-05-13T11:02:34.336993Z",
     "shell.execute_reply": "2022-05-13T11:02:34.335466Z",
     "shell.execute_reply.started": "2022-05-13T11:02:34.32838Z"
    },
    "hidden": true,
    "papermill": {
     "duration": 0.11651,
     "end_time": "2022-11-22T11:16:07.341867",
     "exception": false,
     "start_time": "2022-11-22T11:16:07.225357",
     "status": "completed"
    },
    "tags": []
   },
   "source": [
    "We can see that `Fare` contains mainly values of around `0` to `30`, but there's a few really big ones. This is very common with fields contain monetary values, and it can cause problems for our model, because once that column is multiplied by a coefficient later, the few rows with really big values will dominate the result.\n",
    "\n",
    "You can see the issue most clearly visually by looking at a histogram, which shows a long tail to the right (and don't forget: if you're not entirely sure what a histogram is, Google \"[histogram tutorial](https://www.google.com/search?q=histogram+tutorial&oq=histogram+tutorial)\" and do a bit of reading before continuing on):"
   ]
  },
  {
   "cell_type": "code",
   "execution_count": 10,
   "id": "28e7220a",
   "metadata": {
    "execution": {
     "iopub.execute_input": "2022-11-22T11:16:07.584308Z",
     "iopub.status.busy": "2022-11-22T11:16:07.583925Z",
     "iopub.status.idle": "2022-11-22T11:16:07.864268Z",
     "shell.execute_reply": "2022-11-22T11:16:07.863442Z"
    },
    "hidden": true,
    "papermill": {
     "duration": 0.407731,
     "end_time": "2022-11-22T11:16:07.866540",
     "exception": false,
     "start_time": "2022-11-22T11:16:07.458809",
     "status": "completed"
    },
    "tags": []
   },
   "outputs": [
    {
     "data": {
      "image/png": "[encoded data removed]",
      "text/plain": [
       "<Figure size 432x288 with 1 Axes>"
      ]
     },
     "metadata": {
      "needs_background": "light"
     },
     "output_type": "display_data"
    }
   ],
   "source": [
    "df['Fare'].hist();"
   ]
  },
  {
   "cell_type": "markdown",
   "id": "5b18c423",
   "metadata": {
    "execution": {
     "iopub.execute_input": "2022-05-13T11:02:34.328433Z",
     "iopub.status.busy": "2022-05-13T11:02:34.327999Z",
     "iopub.status.idle": "2022-05-13T11:02:34.336993Z",
     "shell.execute_reply": "2022-05-13T11:02:34.335466Z",
     "shell.execute_reply.started": "2022-05-13T11:02:34.32838Z"
    },
    "hidden": true,
    "papermill": {
     "duration": 0.119743,
     "end_time": "2022-11-22T11:16:08.104521",
     "exception": false,
     "start_time": "2022-11-22T11:16:07.984778",
     "status": "completed"
    },
    "tags": []
   },
   "source": [
    "To fix this, the most common approach is to take the logarithm, which squishes the big numbers and makes the distribution more reasonable. Note, however, that there are zeros in the `Fare` column, and `log(0)` is infinite -- to fix this, we'll simply add `1` to all values first:"
   ]
  },
  {
   "cell_type": "code",
   "execution_count": 11,
   "id": "4e570d8f",
   "metadata": {
    "execution": {
     "iopub.execute_input": "2022-11-22T11:16:08.342481Z",
     "iopub.status.busy": "2022-11-22T11:16:08.341340Z",
     "iopub.status.idle": "2022-11-22T11:16:08.347771Z",
     "shell.execute_reply": "2022-11-22T11:16:08.347009Z"
    },
    "hidden": true,
    "papermill": {
     "duration": 0.12664,
     "end_time": "2022-11-22T11:16:08.349891",
     "exception": false,
     "start_time": "2022-11-22T11:16:08.223251",
     "status": "completed"
    },
    "tags": []
   },
   "outputs": [],
   "source": [
    "df['LogFare'] = np.log(df['Fare']+1)"
   ]
  },
  {
   "cell_type": "markdown",
   "id": "333127e7",
   "metadata": {
    "hidden": true,
    "papermill": {
     "duration": 0.117929,
     "end_time": "2022-11-22T11:16:08.586844",
     "exception": false,
     "start_time": "2022-11-22T11:16:08.468915",
     "status": "completed"
    },
    "tags": []
   },
   "source": [
    "The histogram now shows a more even distribution of values without the long tail:"
   ]
  },
  {
   "cell_type": "code",
   "execution_count": 12,
   "id": "0a30c0c9",
   "metadata": {
    "execution": {
     "iopub.execute_input": "2022-11-22T11:16:08.824631Z",
     "iopub.status.busy": "2022-11-22T11:16:08.824051Z",
     "iopub.status.idle": "2022-11-22T11:16:09.055653Z",
     "shell.execute_reply": "2022-11-22T11:16:09.054996Z"
    },
    "hidden": true,
    "papermill": {
     "duration": 0.352693,
     "end_time": "2022-11-22T11:16:09.057761",
     "exception": false,
     "start_time": "2022-11-22T11:16:08.705068",
     "status": "completed"
    },
    "tags": []
   },
   "outputs": [
    {
     "data": {
      "image/png": "[encoded data removed]",
      "text/plain": [
       "<Figure size 432x288 with 1 Axes>"
      ]
     },
     "metadata": {
      "needs_background": "light"
     },
     "output_type": "display_data"
    }
   ],
   "source": [
    "df['LogFare'].hist();"
   ]
  },
  {
   "cell_type": "markdown",
   "id": "5ea51272",
   "metadata": {
    "hidden": true,
    "papermill": {
     "duration": 0.118091,
     "end_time": "2022-11-22T11:16:09.296951",
     "exception": false,
     "start_time": "2022-11-22T11:16:09.178860",
     "status": "completed"
    },
    "tags": []
   },
   "source": [
    "It looks from the `describe()` output like `Pclass` contains just 3 values, which we can confirm by looking at the [Data Dictionary](https://www.kaggle.com/competitions/titanic/data) (which you should always study carefully for any project!) -- "
   ]
  },
  {
   "cell_type": "code",
   "execution_count": 13,
   "id": "92a916c9",
   "metadata": {
    "execution": {
     "iopub.execute_input": "2022-11-22T11:16:09.539576Z",
     "iopub.status.busy": "2022-11-22T11:16:09.538790Z",
     "iopub.status.idle": "2022-11-22T11:16:09.547616Z",
     "shell.execute_reply": "2022-11-22T11:16:09.546764Z"
    },
    "hidden": true,
    "papermill": {
     "duration": 0.134046,
     "end_time": "2022-11-22T11:16:09.549776",
     "exception": false,
     "start_time": "2022-11-22T11:16:09.415730",
     "status": "completed"
    },
    "tags": []
   },
   "outputs": [
    {
     "data": {
      "text/plain": [
       "[1, 2, 3]"
      ]
     },
     "execution_count": 13,
     "metadata": {},
     "output_type": "execute_result"
    }
   ],
   "source": [
    "pclasses = sorted(df.Pclass.unique())\n",
    "pclasses"
   ]
  },
  {
   "cell_type": "markdown",
   "id": "6581c0f4",
   "metadata": {
    "hidden": true,
    "papermill": {
     "duration": 0.119786,
     "end_time": "2022-11-22T11:16:09.789104",
     "exception": false,
     "start_time": "2022-11-22T11:16:09.669318",
     "status": "completed"
    },
    "tags": []
   },
   "source": [
    "Here's how we get a quick summary of all the non-numeric columns in the dataset:"
   ]
  },
  {
   "cell_type": "code",
   "execution_count": 14,
   "id": "4b9cfd6d",
   "metadata": {
    "execution": {
     "iopub.execute_input": "2022-11-22T11:16:10.030214Z",
     "iopub.status.busy": "2022-11-22T11:16:10.029744Z",
     "iopub.status.idle": "2022-11-22T11:16:10.050761Z",
     "shell.execute_reply": "2022-11-22T11:16:10.049881Z"
    },
    "hidden": true,
    "papermill": {
     "duration": 0.146173,
     "end_time": "2022-11-22T11:16:10.053096",
     "exception": false,
     "start_time": "2022-11-22T11:16:09.906923",
     "status": "completed"
    },
    "tags": []
   },
   "outputs": [
    {
     "data": {
      "text/html": [
       "<div>\n",
       "<style scoped>\n",
       "    .dataframe tbody tr th:only-of-type {\n",
       "        vertical-align: middle;\n",
       "    }\n",
       "\n",
       "    .dataframe tbody tr th {\n",
       "        vertical-align: top;\n",
       "    }\n",
       "\n",
       "    .dataframe thead th {\n",
       "        text-align: right;\n",
       "    }\n",
       "</style>\n",
       "<table border=\"1\" class=\"dataframe\">\n",
       "  <thead>\n",
       "    <tr style=\"text-align: right;\">\n",
       "      <th></th>\n",
       "      <th>Name</th>\n",
       "      <th>Sex</th>\n",
       "      <th>Ticket</th>\n",
       "      <th>Cabin</th>\n",
       "      <th>Embarked</th>\n",
       "    </tr>\n",
       "  </thead>\n",
       "  <tbody>\n",
       "    <tr>\n",
       "      <th>count</th>\n",
       "      <td>891</td>\n",
       "      <td>891</td>\n",
       "      <td>891</td>\n",
       "      <td>891</td>\n",
       "      <td>891</td>\n",
       "    </tr>\n",
       "    <tr>\n",
       "      <th>unique</th>\n",
       "      <td>891</td>\n",
       "      <td>2</td>\n",
       "      <td>681</td>\n",
       "      <td>147</td>\n",
       "      <td>3</td>\n",
       "    </tr>\n",
       "    <tr>\n",
       "      <th>top</th>\n",
       "      <td>Braund, Mr. Owen Harris</td>\n",
       "      <td>male</td>\n",
       "      <td>347082</td>\n",
       "      <td>B96 B98</td>\n",
       "      <td>S</td>\n",
       "    </tr>\n",
       "    <tr>\n",
       "      <th>freq</th>\n",
       "      <td>1</td>\n",
       "      <td>577</td>\n",
       "      <td>7</td>\n",
       "      <td>691</td>\n",
       "      <td>646</td>\n",
       "    </tr>\n",
       "  </tbody>\n",
       "</table>\n",
       "</div>"
      ],
      "text/plain": [
       "                           Name   Sex  Ticket    Cabin Embarked\n",
       "count                       891   891     891      891      891\n",
       "unique                      891     2     681      147        3\n",
       "top     Braund, Mr. Owen Harris  male  347082  B96 B98        S\n",
       "freq                          1   577       7      691      646"
      ]
     },
     "execution_count": 14,
     "metadata": {},
     "output_type": "execute_result"
    }
   ],
   "source": [
    "df.describe(include=[object])"
   ]
  },
  {
   "cell_type": "markdown",
   "id": "00c46c88",
   "metadata": {
    "hidden": true,
    "papermill": {
     "duration": 0.120064,
     "end_time": "2022-11-22T11:16:10.295266",
     "exception": false,
     "start_time": "2022-11-22T11:16:10.175202",
     "status": "completed"
    },
    "tags": []
   },
   "source": [
    "Clearly we can't multiply strings like `male` or `S` by coefficients, so we need to replace those with numbers.\n",
    "\n",
    "We do that by creating new columns containing *dummy variables*. A dummy variable is a column that contains a `1` where a particular column contains a particular value, or a `0` otherwise. For instance, we could create a dummy variable for `Sex='male'`, which would be a new column containing `1` for rows where `Sex` is `'male'`, and 0 for rows where it isn't.\n",
    "\n",
    "Pandas can create these automatically using `get_dummies`, which also remove the original columns. We'll create dummy variables for `Pclass`, even although it's numeric, since the numbers `1`, `2`, and `3` correspond to first, second, and third class cabins - not to counts or measures that make sense to multiply by. We'll also create dummies for `Sex` and `Embarked` since we'll want to use those as predictors in our model. On the other hand, `Cabin`, `Name`, and `Ticket` have too many unique values for it to make sense creating dummy variables for them."
   ]
  },
  {
   "cell_type": "code",
   "execution_count": 15,
   "id": "636224fa",
   "metadata": {
    "execution": {
     "iopub.execute_input": "2022-11-22T11:16:10.543115Z",
     "iopub.status.busy": "2022-11-22T11:16:10.542503Z",
     "iopub.status.idle": "2022-11-22T11:16:10.555643Z",
     "shell.execute_reply": "2022-11-22T11:16:10.554809Z"
    },
    "hidden": true,
    "papermill": {
     "duration": 0.141519,
     "end_time": "2022-11-22T11:16:10.557821",
     "exception": false,
     "start_time": "2022-11-22T11:16:10.416302",
     "status": "completed"
    },
    "tags": []
   },
   "outputs": [
    {
     "data": {
      "text/plain": [
       "Index(['PassengerId', 'Survived', 'Name', 'Age', 'SibSp', 'Parch', 'Ticket', 'Fare', 'Cabin', 'LogFare', 'Sex_female', 'Sex_male',\n",
       "       'Pclass_1', 'Pclass_2', 'Pclass_3', 'Embarked_C', 'Embarked_Q', 'Embarked_S'],\n",
       "      dtype='object')"
      ]
     },
     "execution_count": 15,
     "metadata": {},
     "output_type": "execute_result"
    }
   ],
   "source": [
    "df = pd.get_dummies(df, columns=[\"Sex\",\"Pclass\",\"Embarked\"])\n",
    "df.columns"
   ]
  },
  {
   "cell_type": "markdown",
   "id": "b7f9cb3b",
   "metadata": {
    "hidden": true,
    "papermill": {
     "duration": 0.119611,
     "end_time": "2022-11-22T11:16:10.814431",
     "exception": false,
     "start_time": "2022-11-22T11:16:10.694820",
     "status": "completed"
    },
    "tags": []
   },
   "source": [
    "We can see that 5 columns have been added to the end -- one for each of the possible values of each of the three columns we requested, and that those three requested columns have been removed.\n",
    "\n",
    "Here's what the first few rows of those newly added columns look like:"
   ]
  },
  {
   "cell_type": "code",
   "execution_count": 16,
   "id": "f002330e",
   "metadata": {
    "execution": {
     "iopub.execute_input": "2022-11-22T11:16:11.062163Z",
     "iopub.status.busy": "2022-11-22T11:16:11.061818Z",
     "iopub.status.idle": "2022-11-22T11:16:11.076446Z",
     "shell.execute_reply": "2022-11-22T11:16:11.075526Z"
    },
    "hidden": true,
    "papermill": {
     "duration": 0.145441,
     "end_time": "2022-11-22T11:16:11.078695",
     "exception": false,
     "start_time": "2022-11-22T11:16:10.933254",
     "status": "completed"
    },
    "tags": []
   },
   "outputs": [
    {
     "data": {
      "text/html": [
       "<div>\n",
       "<style scoped>\n",
       "    .dataframe tbody tr th:only-of-type {\n",
       "        vertical-align: middle;\n",
       "    }\n",
       "\n",
       "    .dataframe tbody tr th {\n",
       "        vertical-align: top;\n",
       "    }\n",
       "\n",
       "    .dataframe thead th {\n",
       "        text-align: right;\n",
       "    }\n",
       "</style>\n",
       "<table border=\"1\" class=\"dataframe\">\n",
       "  <thead>\n",
       "    <tr style=\"text-align: right;\">\n",
       "      <th></th>\n",
       "      <th>Sex_male</th>\n",
       "      <th>Sex_female</th>\n",
       "      <th>Pclass_1</th>\n",
       "      <th>Pclass_2</th>\n",
       "      <th>Pclass_3</th>\n",
       "      <th>Embarked_C</th>\n",
       "      <th>Embarked_Q</th>\n",
       "      <th>Embarked_S</th>\n",
       "    </tr>\n",
       "  </thead>\n",
       "  <tbody>\n",
       "    <tr>\n",
       "      <th>0</th>\n",
       "      <td>1</td>\n",
       "      <td>0</td>\n",
       "      <td>0</td>\n",
       "      <td>0</td>\n",
       "      <td>1</td>\n",
       "      <td>0</td>\n",
       "      <td>0</td>\n",
       "      <td>1</td>\n",
       "    </tr>\n",
       "    <tr>\n",
       "      <th>1</th>\n",
       "      <td>0</td>\n",
       "      <td>1</td>\n",
       "      <td>1</td>\n",
       "      <td>0</td>\n",
       "      <td>0</td>\n",
       "      <td>1</td>\n",
       "      <td>0</td>\n",
       "      <td>0</td>\n",
       "    </tr>\n",
       "    <tr>\n",
       "      <th>2</th>\n",
       "      <td>0</td>\n",
       "      <td>1</td>\n",
       "      <td>0</td>\n",
       "      <td>0</td>\n",
       "      <td>1</td>\n",
       "      <td>0</td>\n",
       "      <td>0</td>\n",
       "      <td>1</td>\n",
       "    </tr>\n",
       "    <tr>\n",
       "      <th>3</th>\n",
       "      <td>0</td>\n",
       "      <td>1</td>\n",
       "      <td>1</td>\n",
       "      <td>0</td>\n",
       "      <td>0</td>\n",
       "      <td>0</td>\n",
       "      <td>0</td>\n",
       "      <td>1</td>\n",
       "    </tr>\n",
       "    <tr>\n",
       "      <th>4</th>\n",
       "      <td>1</td>\n",
       "      <td>0</td>\n",
       "      <td>0</td>\n",
       "      <td>0</td>\n",
       "      <td>1</td>\n",
       "      <td>0</td>\n",
       "      <td>0</td>\n",
       "      <td>1</td>\n",
       "    </tr>\n",
       "  </tbody>\n",
       "</table>\n",
       "</div>"
      ],
      "text/plain": [
       "   Sex_male  Sex_female  Pclass_1  Pclass_2  Pclass_3  Embarked_C  Embarked_Q  Embarked_S\n",
       "0         1           0         0         0         1           0           0           1\n",
       "1         0           1         1         0         0           1           0           0\n",
       "2         0           1         0         0         1           0           0           1\n",
       "3         0           1         1         0         0           0           0           1\n",
       "4         1           0         0         0         1           0           0           1"
      ]
     },
     "execution_count": 16,
     "metadata": {},
     "output_type": "execute_result"
    }
   ],
   "source": [
    "added_cols = ['Sex_male', 'Sex_female', 'Pclass_1', 'Pclass_2', 'Pclass_3', 'Embarked_C', 'Embarked_Q', 'Embarked_S']\n",
    "df[added_cols].head()"
   ]
  },
  {
   "cell_type": "markdown",
   "id": "2aec1b18",
   "metadata": {
    "hidden": true,
    "papermill": {
     "duration": 0.124621,
     "end_time": "2022-11-22T11:16:11.325499",
     "exception": false,
     "start_time": "2022-11-22T11:16:11.200878",
     "status": "completed"
    },
    "tags": []
   },
   "source": [
    "Now we can create our independent (predictors) and dependent (target) variables. They both need to be PyTorch tensors. Our dependent variable is `Survived`:"
   ]
  },
  {
   "cell_type": "code",
   "execution_count": 17,
   "id": "01161090",
   "metadata": {
    "execution": {
     "iopub.execute_input": "2022-11-22T11:16:11.571345Z",
     "iopub.status.busy": "2022-11-22T11:16:11.570793Z",
     "iopub.status.idle": "2022-11-22T11:16:11.586458Z",
     "shell.execute_reply": "2022-11-22T11:16:11.585611Z"
    },
    "hidden": true,
    "papermill": {
     "duration": 0.141166,
     "end_time": "2022-11-22T11:16:11.588849",
     "exception": false,
     "start_time": "2022-11-22T11:16:11.447683",
     "status": "completed"
    },
    "tags": []
   },
   "outputs": [],
   "source": [
    "from torch import tensor\n",
    "\n",
    "t_dep = tensor(df.Survived)"
   ]
  },
  {
   "cell_type": "markdown",
   "id": "06ae55ec",
   "metadata": {
    "hidden": true,
    "papermill": {
     "duration": 0.122393,
     "end_time": "2022-11-22T11:16:11.833227",
     "exception": false,
     "start_time": "2022-11-22T11:16:11.710834",
     "status": "completed"
    },
    "tags": []
   },
   "source": [
    "Our independent variables are all the continuous variables of interest plus all the dummy variables we just created:"
   ]
  },
  {
   "cell_type": "code",
   "execution_count": 18,
   "id": "3a895092",
   "metadata": {
    "execution": {
     "iopub.execute_input": "2022-11-22T11:16:12.077731Z",
     "iopub.status.busy": "2022-11-22T11:16:12.077188Z",
     "iopub.status.idle": "2022-11-22T11:16:12.187009Z",
     "shell.execute_reply": "2022-11-22T11:16:12.186120Z"
    },
    "hidden": true,
    "papermill": {
     "duration": 0.236172,
     "end_time": "2022-11-22T11:16:12.189498",
     "exception": false,
     "start_time": "2022-11-22T11:16:11.953326",
     "status": "completed"
    },
    "tags": []
   },
   "outputs": [
    {
     "data": {
      "text/plain": [
       "tensor([[22.0000,  1.0000,  0.0000,  2.1102,  1.0000,  0.0000,  0.0000,  0.0000,  1.0000,  0.0000,  0.0000,  1.0000],\n",
       "        [38.0000,  1.0000,  0.0000,  4.2806,  0.0000,  1.0000,  1.0000,  0.0000,  0.0000,  1.0000,  0.0000,  0.0000],\n",
       "        [26.0000,  0.0000,  0.0000,  2.1889,  0.0000,  1.0000,  0.0000,  0.0000,  1.0000,  0.0000,  0.0000,  1.0000],\n",
       "        [35.0000,  1.0000,  0.0000,  3.9908,  0.0000,  1.0000,  1.0000,  0.0000,  0.0000,  0.0000,  0.0000,  1.0000],\n",
       "        [35.0000,  0.0000,  0.0000,  2.2028,  1.0000,  0.0000,  0.0000,  0.0000,  1.0000,  0.0000,  0.0000,  1.0000],\n",
       "        [24.0000,  0.0000,  0.0000,  2.2469,  1.0000,  0.0000,  0.0000,  0.0000,  1.0000,  0.0000,  1.0000,  0.0000],\n",
       "        [54.0000,  0.0000,  0.0000,  3.9677,  1.0000,  0.0000,  1.0000,  0.0000,  0.0000,  0.0000,  0.0000,  1.0000],\n",
       "        ...,\n",
       "        [25.0000,  0.0000,  0.0000,  2.0857,  1.0000,  0.0000,  0.0000,  0.0000,  1.0000,  0.0000,  0.0000,  1.0000],\n",
       "        [39.0000,  0.0000,  5.0000,  3.4054,  0.0000,  1.0000,  0.0000,  0.0000,  1.0000,  0.0000,  1.0000,  0.0000],\n",
       "        [27.0000,  0.0000,  0.0000,  2.6391,  1.0000,  0.0000,  0.0000,  1.0000,  0.0000,  0.0000,  0.0000,  1.0000],\n",
       "        [19.0000,  0.0000,  0.0000,  3.4340,  0.0000,  1.0000,  1.0000,  0.0000,  0.0000,  0.0000,  0.0000,  1.0000],\n",
       "        [24.0000,  1.0000,  2.0000,  3.1966,  0.0000,  1.0000,  0.0000,  0.0000,  1.0000,  0.0000,  0.0000,  1.0000],\n",
       "        [26.0000,  0.0000,  0.0000,  3.4340,  1.0000,  0.0000,  1.0000,  0.0000,  0.0000,  1.0000,  0.0000,  0.0000],\n",
       "        [32.0000,  0.0000,  0.0000,  2.1691,  1.0000,  0.0000,  0.0000,  0.0000,  1.0000,  0.0000,  1.0000,  0.0000]])"
      ]
     },
     "execution_count": 18,
     "metadata": {},
     "output_type": "execute_result"
    }
   ],
   "source": [
    "indep_cols = ['Age', 'SibSp', 'Parch', 'LogFare'] + added_cols\n",
    "\n",
    "t_indep = tensor(df[indep_cols].values, dtype=torch.float)\n",
    "t_indep"
   ]
  },
  {
   "cell_type": "markdown",
   "id": "60c3b3d8",
   "metadata": {
    "hidden": true,
    "papermill": {
     "duration": 0.120465,
     "end_time": "2022-11-22T11:16:12.431386",
     "exception": false,
     "start_time": "2022-11-22T11:16:12.310921",
     "status": "completed"
    },
    "tags": []
   },
   "source": [
    "Here's the number of rows and columns we have for our independent variables:"
   ]
  },
  {
   "cell_type": "code",
   "execution_count": 19,
   "id": "6277f073",
   "metadata": {
    "execution": {
     "iopub.execute_input": "2022-11-22T11:16:12.677709Z",
     "iopub.status.busy": "2022-11-22T11:16:12.677403Z",
     "iopub.status.idle": "2022-11-22T11:16:12.683269Z",
     "shell.execute_reply": "2022-11-22T11:16:12.682435Z"
    },
    "hidden": true,
    "papermill": {
     "duration": 0.130435,
     "end_time": "2022-11-22T11:16:12.685452",
     "exception": false,
     "start_time": "2022-11-22T11:16:12.555017",
     "status": "completed"
    },
    "tags": []
   },
   "outputs": [
    {
     "data": {
      "text/plain": [
       "torch.Size([891, 12])"
      ]
     },
     "execution_count": 19,
     "metadata": {},
     "output_type": "execute_result"
    }
   ],
   "source": [
    "t_indep.shape"
   ]
  },
  {
   "cell_type": "markdown",
   "id": "77bbdabb",
   "metadata": {
    "papermill": {
     "duration": 0.120284,
     "end_time": "2022-11-22T11:16:12.928664",
     "exception": false,
     "start_time": "2022-11-22T11:16:12.808380",
     "status": "completed"
    },
    "tags": []
   },
   "source": [
    "## Setting up a linear model"
   ]
  },
  {
   "cell_type": "markdown",
   "id": "72a63065",
   "metadata": {
    "papermill": {
     "duration": 0.123337,
     "end_time": "2022-11-22T11:16:13.172985",
     "exception": false,
     "start_time": "2022-11-22T11:16:13.049648",
     "status": "completed"
    },
    "tags": []
   },
   "source": [
    "Now that we've got a matrix of independent variables and a dependent variable vector, we can work on calculating our predictions and our loss. In this section, we're going to manually do a single step of calculating predictions and loss for every row of our data.\n",
    "\n",
    "Our first model will be a simple linear model. We'll need a coefficient for each column in `t_indep`. We'll pick random numbers in the range `(-0.5,0.5)`, and set our manual seed so that my explanations in the prose in this notebook will be consistent with what you see when you run it."
   ]
  },
  {
   "cell_type": "code",
   "execution_count": 20,
   "id": "9cb5fa99",
   "metadata": {
    "execution": {
     "iopub.execute_input": "2022-11-22T11:16:13.415080Z",
     "iopub.status.busy": "2022-11-22T11:16:13.414478Z",
     "iopub.status.idle": "2022-11-22T11:16:13.431655Z",
     "shell.execute_reply": "2022-11-22T11:16:13.431024Z"
    },
    "papermill": {
     "duration": 0.140049,
     "end_time": "2022-11-22T11:16:13.433641",
     "exception": false,
     "start_time": "2022-11-22T11:16:13.293592",
     "status": "completed"
    },
    "tags": []
   },
   "outputs": [
    {
     "data": {
      "text/plain": [
       "tensor([-0.4629,  0.1386,  0.2409, -0.2262, -0.2632, -0.3147,  0.4876,  0.3136,  0.2799, -0.4392,  0.2103,  0.3625])"
      ]
     },
     "execution_count": 20,
     "metadata": {},
     "output_type": "execute_result"
    }
   ],
   "source": [
    "torch.manual_seed(442)\n",
    "\n",
    "n_coeff = t_indep.shape[1]\n",
    "coeffs = torch.rand(n_coeff)-0.5\n",
    "coeffs"
   ]
  },
  {
   "cell_type": "markdown",
   "id": "e4bbe7f0",
   "metadata": {
    "papermill": {
     "duration": 0.122809,
     "end_time": "2022-11-22T11:16:13.681594",
     "exception": false,
     "start_time": "2022-11-22T11:16:13.558785",
     "status": "completed"
    },
    "tags": []
   },
   "source": [
    "Our predictions will be calculated by multiplying each row by the coefficients, and adding them up. One interesting point here is that we don't need a separate constant term (also known as a \"bias\" or \"intercept\" term), or a column of all `1`s to give the same effect has having a constant term. That's because our dummy variables already cover the entire dataset -- e.g. there's a column for \"male\" and a column for \"female\", and everyone in the dataset is in exactly one of these; therefore, we don't need a separate intercept term to cover rows that aren't otherwise part of a column.\n",
    "\n",
    "Here's what the multiplication looks like:"
   ]
  },
  {
   "cell_type": "code",
   "execution_count": 21,
   "id": "f54d1612",
   "metadata": {
    "execution": {
     "iopub.execute_input": "2022-11-22T11:16:13.928659Z",
     "iopub.status.busy": "2022-11-22T11:16:13.927813Z",
     "iopub.status.idle": "2022-11-22T11:16:13.935965Z",
     "shell.execute_reply": "2022-11-22T11:16:13.935241Z"
    },
    "papermill": {
     "duration": 0.133841,
     "end_time": "2022-11-22T11:16:13.937947",
     "exception": false,
     "start_time": "2022-11-22T11:16:13.804106",
     "status": "completed"
    },
    "tags": []
   },
   "outputs": [
    {
     "data": {
      "text/plain": [
       "tensor([[-10.1838,   0.1386,   0.0000,  -0.4772,  -0.2632,  -0.0000,   0.0000,   0.0000,   0.2799,  -0.0000,   0.0000,   0.3625],\n",
       "        [-17.5902,   0.1386,   0.0000,  -0.9681,  -0.0000,  -0.3147,   0.4876,   0.0000,   0.0000,  -0.4392,   0.0000,   0.0000],\n",
       "        [-12.0354,   0.0000,   0.0000,  -0.4950,  -0.0000,  -0.3147,   0.0000,   0.0000,   0.2799,  -0.0000,   0.0000,   0.3625],\n",
       "        [-16.2015,   0.1386,   0.0000,  -0.9025,  -0.0000,  -0.3147,   0.4876,   0.0000,   0.0000,  -0.0000,   0.0000,   0.3625],\n",
       "        [-16.2015,   0.0000,   0.0000,  -0.4982,  -0.2632,  -0.0000,   0.0000,   0.0000,   0.2799,  -0.0000,   0.0000,   0.3625],\n",
       "        [-11.1096,   0.0000,   0.0000,  -0.5081,  -0.2632,  -0.0000,   0.0000,   0.0000,   0.2799,  -0.0000,   0.2103,   0.0000],\n",
       "        [-24.9966,   0.0000,   0.0000,  -0.8973,  -0.2632,  -0.0000,   0.4876,   0.0000,   0.0000,  -0.0000,   0.0000,   0.3625],\n",
       "        ...,\n",
       "        [-11.5725,   0.0000,   0.0000,  -0.4717,  -0.2632,  -0.0000,   0.0000,   0.0000,   0.2799,  -0.0000,   0.0000,   0.3625],\n",
       "        [-18.0531,   0.0000,   1.2045,  -0.7701,  -0.0000,  -0.3147,   0.0000,   0.0000,   0.2799,  -0.0000,   0.2103,   0.0000],\n",
       "        [-12.4983,   0.0000,   0.0000,  -0.5968,  -0.2632,  -0.0000,   0.0000,   0.3136,   0.0000,  -0.0000,   0.0000,   0.3625],\n",
       "        [ -8.7951,   0.0000,   0.0000,  -0.7766,  -0.0000,  -0.3147,   0.4876,   0.0000,   0.0000,  -0.0000,   0.0000,   0.3625],\n",
       "        [-11.1096,   0.1386,   0.4818,  -0.7229,  -0.0000,  -0.3147,   0.0000,   0.0000,   0.2799,  -0.0000,   0.0000,   0.3625],\n",
       "        [-12.0354,   0.0000,   0.0000,  -0.7766,  -0.2632,  -0.0000,   0.4876,   0.0000,   0.0000,  -0.4392,   0.0000,   0.0000],\n",
       "        [-14.8128,   0.0000,   0.0000,  -0.4905,  -0.2632,  -0.0000,   0.0000,   0.0000,   0.2799,  -0.0000,   0.2103,   0.0000]])"
      ]
     },
     "execution_count": 21,
     "metadata": {},
     "output_type": "execute_result"
    }
   ],
   "source": [
    "t_indep*coeffs"
   ]
  },
  {
   "cell_type": "markdown",
   "id": "16764a7c",
   "metadata": {
    "papermill": {
     "duration": 0.121896,
     "end_time": "2022-11-22T11:16:14.184509",
     "exception": false,
     "start_time": "2022-11-22T11:16:14.062613",
     "status": "completed"
    },
    "tags": []
   },
   "source": [
    "We can see we've got a problem here. The sums of each row will be dominated by the first column, which is `Age`, since that's bigger on average than all the others.\n",
    "\n",
    "Let's make all the columns contain numbers from `0` to `1`, by dividing each column by its `max()`:"
   ]
  },
  {
   "cell_type": "code",
   "execution_count": 22,
   "id": "53db39be",
   "metadata": {
    "execution": {
     "iopub.execute_input": "2022-11-22T11:16:14.433914Z",
     "iopub.status.busy": "2022-11-22T11:16:14.433111Z",
     "iopub.status.idle": "2022-11-22T11:16:14.440449Z",
     "shell.execute_reply": "2022-11-22T11:16:14.439804Z"
    },
    "papermill": {
     "duration": 0.136384,
     "end_time": "2022-11-22T11:16:14.442520",
     "exception": false,
     "start_time": "2022-11-22T11:16:14.306136",
     "status": "completed"
    },
    "tags": []
   },
   "outputs": [],
   "source": [
    "vals,indices = t_indep.max(dim=0)\n",
    "t_indep = t_indep / vals"
   ]
  },
  {
   "cell_type": "markdown",
   "id": "dbe9ff7c",
   "metadata": {
    "papermill": {
     "duration": 0.124917,
     "end_time": "2022-11-22T11:16:14.693129",
     "exception": false,
     "start_time": "2022-11-22T11:16:14.568212",
     "status": "completed"
    },
    "tags": []
   },
   "source": [
    "As we see, that removes the problem of one column dominating all the others:"
   ]
  },
  {
   "cell_type": "code",
   "execution_count": 23,
   "id": "72eb075a",
   "metadata": {
    "execution": {
     "iopub.execute_input": "2022-11-22T11:16:14.944063Z",
     "iopub.status.busy": "2022-11-22T11:16:14.943514Z",
     "iopub.status.idle": "2022-11-22T11:16:14.950842Z",
     "shell.execute_reply": "2022-11-22T11:16:14.949817Z"
    },
    "papermill": {
     "duration": 0.137816,
     "end_time": "2022-11-22T11:16:14.952934",
     "exception": false,
     "start_time": "2022-11-22T11:16:14.815118",
     "status": "completed"
    },
    "tags": []
   },
   "outputs": [
    {
     "data": {
      "text/plain": [
       "tensor([[-0.1273,  0.0173,  0.0000, -0.0765, -0.2632, -0.0000,  0.0000,  0.0000,  0.2799, -0.0000,  0.0000,  0.3625],\n",
       "        [-0.2199,  0.0173,  0.0000, -0.1551, -0.0000, -0.3147,  0.4876,  0.0000,  0.0000, -0.4392,  0.0000,  0.0000],\n",
       "        [-0.1504,  0.0000,  0.0000, -0.0793, -0.0000, -0.3147,  0.0000,  0.0000,  0.2799, -0.0000,  0.0000,  0.3625],\n",
       "        [-0.2025,  0.0173,  0.0000, -0.1446, -0.0000, -0.3147,  0.4876,  0.0000,  0.0000, -0.0000,  0.0000,  0.3625],\n",
       "        [-0.2025,  0.0000,  0.0000, -0.0798, -0.2632, -0.0000,  0.0000,  0.0000,  0.2799, -0.0000,  0.0000,  0.3625],\n",
       "        [-0.1389,  0.0000,  0.0000, -0.0814, -0.2632, -0.0000,  0.0000,  0.0000,  0.2799, -0.0000,  0.2103,  0.0000],\n",
       "        [-0.3125,  0.0000,  0.0000, -0.1438, -0.2632, -0.0000,  0.4876,  0.0000,  0.0000, -0.0000,  0.0000,  0.3625],\n",
       "        ...,\n",
       "        [-0.1447,  0.0000,  0.0000, -0.0756, -0.2632, -0.0000,  0.0000,  0.0000,  0.2799, -0.0000,  0.0000,  0.3625],\n",
       "        [-0.2257,  0.0000,  0.2008, -0.1234, -0.0000, -0.3147,  0.0000,  0.0000,  0.2799, -0.0000,  0.2103,  0.0000],\n",
       "        [-0.1562,  0.0000,  0.0000, -0.0956, -0.2632, -0.0000,  0.0000,  0.3136,  0.0000, -0.0000,  0.0000,  0.3625],\n",
       "        [-0.1099,  0.0000,  0.0000, -0.1244, -0.0000, -0.3147,  0.4876,  0.0000,  0.0000, -0.0000,  0.0000,  0.3625],\n",
       "        [-0.1389,  0.0173,  0.0803, -0.1158, -0.0000, -0.3147,  0.0000,  0.0000,  0.2799, -0.0000,  0.0000,  0.3625],\n",
       "        [-0.1504,  0.0000,  0.0000, -0.1244, -0.2632, -0.0000,  0.4876,  0.0000,  0.0000, -0.4392,  0.0000,  0.0000],\n",
       "        [-0.1852,  0.0000,  0.0000, -0.0786, -0.2632, -0.0000,  0.0000,  0.0000,  0.2799, -0.0000,  0.2103,  0.0000]])"
      ]
     },
     "execution_count": 23,
     "metadata": {},
     "output_type": "execute_result"
    }
   ],
   "source": [
    "t_indep*coeffs"
   ]
  },
  {
   "cell_type": "markdown",
   "id": "ab94c01c",
   "metadata": {
    "papermill": {
     "duration": 0.126636,
     "end_time": "2022-11-22T11:16:15.207239",
     "exception": false,
     "start_time": "2022-11-22T11:16:15.080603",
     "status": "completed"
    },
    "tags": []
   },
   "source": [
    "One thing you hopefully noticed is how amazingly cool this line of code is:\n",
    "\n",
    "    t_indep = t_indep / vals\n",
    "\n",
    "That is dividing a matrix by a vector -- what on earth does that mean?!? The trick here is that we're taking advantage of a technique in numpy and PyTorch (and many other languages, going all the way back to APL) called [broadcasting](https://numpy.org/doc/stable/user/basics.broadcasting.html). In short, this acts as if there's a separate copy of the vector for every row of the matrix, so it divides each row of the matrix by the vector. In practice, it doesn't actually make any copies, and does the whole thing in a highly optimized way, taking full advantage of modern CPUs (or, indeed, GPUs, if we're using them). Broadcasting is one of the most important techniques for making your code concise, maintainable, and fast, so it's well worth studying and practicing.\n",
    "\n",
    "We can now create predictions from our linear model, by adding up the rows of the product:"
   ]
  },
  {
   "cell_type": "code",
   "execution_count": 24,
   "id": "e70d6352",
   "metadata": {
    "execution": {
     "iopub.execute_input": "2022-11-22T11:16:15.459477Z",
     "iopub.status.busy": "2022-11-22T11:16:15.458708Z",
     "iopub.status.idle": "2022-11-22T11:16:15.468704Z",
     "shell.execute_reply": "2022-11-22T11:16:15.467861Z"
    },
    "papermill": {
     "duration": 0.139492,
     "end_time": "2022-11-22T11:16:15.470900",
     "exception": false,
     "start_time": "2022-11-22T11:16:15.331408",
     "status": "completed"
    },
    "tags": []
   },
   "outputs": [],
   "source": [
    "preds = (t_indep*coeffs).sum(axis=1)"
   ]
  },
  {
   "cell_type": "markdown",
   "id": "93d6d8c4",
   "metadata": {
    "papermill": {
     "duration": 0.125171,
     "end_time": "2022-11-22T11:16:15.720030",
     "exception": false,
     "start_time": "2022-11-22T11:16:15.594859",
     "status": "completed"
    },
    "tags": []
   },
   "source": [
    "Let's take a look at the first few:"
   ]
  },
  {
   "cell_type": "code",
   "execution_count": 25,
   "id": "8a3a0430",
   "metadata": {
    "execution": {
     "iopub.execute_input": "2022-11-22T11:16:15.970910Z",
     "iopub.status.busy": "2022-11-22T11:16:15.970316Z",
     "iopub.status.idle": "2022-11-22T11:16:15.978985Z",
     "shell.execute_reply": "2022-11-22T11:16:15.978097Z"
    },
    "papermill": {
     "duration": 0.135296,
     "end_time": "2022-11-22T11:16:15.981318",
     "exception": false,
     "start_time": "2022-11-22T11:16:15.846022",
     "status": "completed"
    },
    "tags": []
   },
   "outputs": [
    {
     "data": {
      "text/plain": [
       "tensor([ 0.1927, -0.6239,  0.0979,  0.2056,  0.0968,  0.0066,  0.1306,  0.3476,  0.1613, -0.6285])"
      ]
     },
     "execution_count": 25,
     "metadata": {},
     "output_type": "execute_result"
    }
   ],
   "source": [
    "preds[:10]"
   ]
  },
  {
   "cell_type": "markdown",
   "id": "cd4f4f83",
   "metadata": {
    "papermill": {
     "duration": 0.132528,
     "end_time": "2022-11-22T11:16:16.241993",
     "exception": false,
     "start_time": "2022-11-22T11:16:16.109465",
     "status": "completed"
    },
    "tags": []
   },
   "source": [
    "Of course, these predictions aren't going to be any use, since our coefficients are random -- they're just a starting point for our gradient descent process.\n",
    "\n",
    "To do gradient descent, we need a loss function. Taking the average error of the rows (i.e. the absolute value of the difference between the prediction and the dependent) is generally a reasonable approach:"
   ]
  },
  {
   "cell_type": "code",
   "execution_count": 26,
   "id": "176e4265",
   "metadata": {
    "execution": {
     "iopub.execute_input": "2022-11-22T11:16:16.492431Z",
     "iopub.status.busy": "2022-11-22T11:16:16.492075Z",
     "iopub.status.idle": "2022-11-22T11:16:16.503789Z",
     "shell.execute_reply": "2022-11-22T11:16:16.502919Z"
    },
    "papermill": {
     "duration": 0.13867,
     "end_time": "2022-11-22T11:16:16.505804",
     "exception": false,
     "start_time": "2022-11-22T11:16:16.367134",
     "status": "completed"
    },
    "tags": []
   },
   "outputs": [
    {
     "data": {
      "text/plain": [
       "tensor(0.5382)"
      ]
     },
     "execution_count": 26,
     "metadata": {},
     "output_type": "execute_result"
    }
   ],
   "source": [
    "loss = torch.abs(preds-t_dep).mean()\n",
    "loss"
   ]
  },
  {
   "cell_type": "markdown",
   "id": "6448216a",
   "metadata": {
    "papermill": {
     "duration": 0.122045,
     "end_time": "2022-11-22T11:16:16.749247",
     "exception": false,
     "start_time": "2022-11-22T11:16:16.627202",
     "status": "completed"
    },
    "tags": []
   },
   "source": [
    "Now that we've tested out a way of calculating predictions, and loss, let's pop them into functions to make life easier:"
   ]
  },
  {
   "cell_type": "code",
   "execution_count": 27,
   "id": "34a2c50f",
   "metadata": {
    "execution": {
     "iopub.execute_input": "2022-11-22T11:16:16.996231Z",
     "iopub.status.busy": "2022-11-22T11:16:16.995633Z",
     "iopub.status.idle": "2022-11-22T11:16:17.000777Z",
     "shell.execute_reply": "2022-11-22T11:16:17.000179Z"
    },
    "papermill": {
     "duration": 0.1311,
     "end_time": "2022-11-22T11:16:17.002845",
     "exception": false,
     "start_time": "2022-11-22T11:16:16.871745",
     "status": "completed"
    },
    "tags": []
   },
   "outputs": [],
   "source": [
    "def calc_preds(coeffs, indeps): return (indeps*coeffs).sum(axis=1)\n",
    "def calc_loss(coeffs, indeps, deps): return torch.abs(calc_preds(coeffs, indeps)-deps).mean()"
   ]
  },
  {
   "cell_type": "markdown",
   "id": "1d6a8233",
   "metadata": {
    "papermill": {
     "duration": 0.125943,
     "end_time": "2022-11-22T11:16:17.252753",
     "exception": false,
     "start_time": "2022-11-22T11:16:17.126810",
     "status": "completed"
    },
    "tags": []
   },
   "source": [
    "## Doing a gradient descent step"
   ]
  },
  {
   "cell_type": "markdown",
   "id": "f7485952",
   "metadata": {
    "papermill": {
     "duration": 0.125315,
     "end_time": "2022-11-22T11:16:17.499811",
     "exception": false,
     "start_time": "2022-11-22T11:16:17.374496",
     "status": "completed"
    },
    "tags": []
   },
   "source": [
    "In this section, we're going to do a single \"epoch\" of gradient descent manually. The only thing we're going to automate is calculating gradients, because let's face it that's pretty tedious and entirely pointless to do by hand! To get PyTorch to calculate gradients, we'll need to call `requires_grad_()` on our `coeffs` (if you're not sure why, review the previous notebook, [How does a neural net really work?](https://www.kaggle.com/code/jhoward/how-does-a-neural-net-really-work), before continuing):"
   ]
  },
  {
   "cell_type": "code",
   "execution_count": 28,
   "id": "f881602c",
   "metadata": {
    "execution": {
     "iopub.execute_input": "2022-11-22T11:16:17.753057Z",
     "iopub.status.busy": "2022-11-22T11:16:17.752759Z",
     "iopub.status.idle": "2022-11-22T11:16:17.759739Z",
     "shell.execute_reply": "2022-11-22T11:16:17.759083Z"
    },
    "papermill": {
     "duration": 0.131302,
     "end_time": "2022-11-22T11:16:17.761574",
     "exception": false,
     "start_time": "2022-11-22T11:16:17.630272",
     "status": "completed"
    },
    "tags": []
   },
   "outputs": [
    {
     "data": {
      "text/plain": [
       "tensor([-0.4629,  0.1386,  0.2409, -0.2262, -0.2632, -0.3147,  0.4876,  0.3136,  0.2799, -0.4392,  0.2103,  0.3625], requires_grad=True)"
      ]
     },
     "execution_count": 28,
     "metadata": {},
     "output_type": "execute_result"
    }
   ],
   "source": [
    "coeffs.requires_grad_()"
   ]
  },
  {
   "cell_type": "markdown",
   "id": "29778eb9",
   "metadata": {
    "papermill": {
     "duration": 0.124294,
     "end_time": "2022-11-22T11:16:18.010998",
     "exception": false,
     "start_time": "2022-11-22T11:16:17.886704",
     "status": "completed"
    },
    "tags": []
   },
   "source": [
    "Now when we calculate our loss, PyTorch will keep track of all the steps, so we'll be able to get the gradients afterwards:"
   ]
  },
  {
   "cell_type": "code",
   "execution_count": 29,
   "id": "30768164",
   "metadata": {
    "execution": {
     "iopub.execute_input": "2022-11-22T11:16:18.288730Z",
     "iopub.status.busy": "2022-11-22T11:16:18.288012Z",
     "iopub.status.idle": "2022-11-22T11:16:18.297074Z",
     "shell.execute_reply": "2022-11-22T11:16:18.296360Z"
    },
    "papermill": {
     "duration": 0.16422,
     "end_time": "2022-11-22T11:16:18.299146",
     "exception": false,
     "start_time": "2022-11-22T11:16:18.134926",
     "status": "completed"
    },
    "tags": []
   },
   "outputs": [
    {
     "data": {
      "text/plain": [
       "tensor(0.5382, grad_fn=<MeanBackward0>)"
      ]
     },
     "execution_count": 29,
     "metadata": {},
     "output_type": "execute_result"
    }
   ],
   "source": [
    "loss = calc_loss(coeffs, t_indep, t_dep)\n",
    "loss"
   ]
  },
  {
   "cell_type": "markdown",
   "id": "382c3bcd",
   "metadata": {
    "papermill": {
     "duration": 0.131021,
     "end_time": "2022-11-22T11:16:18.575378",
     "exception": false,
     "start_time": "2022-11-22T11:16:18.444357",
     "status": "completed"
    },
    "tags": []
   },
   "source": [
    "Use `backward()` to ask PyTorch to calculate gradients now:"
   ]
  },
  {
   "cell_type": "code",
   "execution_count": 30,
   "id": "fb1928d3",
   "metadata": {
    "execution": {
     "iopub.execute_input": "2022-11-22T11:16:18.840713Z",
     "iopub.status.busy": "2022-11-22T11:16:18.840044Z",
     "iopub.status.idle": "2022-11-22T11:16:18.855327Z",
     "shell.execute_reply": "2022-11-22T11:16:18.854363Z"
    },
    "papermill": {
     "duration": 0.151239,
     "end_time": "2022-11-22T11:16:18.858479",
     "exception": false,
     "start_time": "2022-11-22T11:16:18.707240",
     "status": "completed"
    },
    "tags": []
   },
   "outputs": [],
   "source": [
    "loss.backward()"
   ]
  },
  {
   "cell_type": "markdown",
   "id": "8832b071",
   "metadata": {
    "papermill": {
     "duration": 0.128095,
     "end_time": "2022-11-22T11:16:19.114138",
     "exception": false,
     "start_time": "2022-11-22T11:16:18.986043",
     "status": "completed"
    },
    "tags": []
   },
   "source": [
    "Let's see what they look like:"
   ]
  },
  {
   "cell_type": "code",
   "execution_count": 31,
   "id": "6cf1f606",
   "metadata": {
    "execution": {
     "iopub.execute_input": "2022-11-22T11:16:19.363284Z",
     "iopub.status.busy": "2022-11-22T11:16:19.362733Z",
     "iopub.status.idle": "2022-11-22T11:16:19.368347Z",
     "shell.execute_reply": "2022-11-22T11:16:19.367656Z"
    },
    "papermill": {
     "duration": 0.132062,
     "end_time": "2022-11-22T11:16:19.370260",
     "exception": false,
     "start_time": "2022-11-22T11:16:19.238198",
     "status": "completed"
    },
    "tags": []
   },
   "outputs": [
    {
     "data": {
      "text/plain": [
       "tensor([-0.0106,  0.0129, -0.0041, -0.0484,  0.2099, -0.2132, -0.1212, -0.0247,  0.1425, -0.1886, -0.0191,  0.2043])"
      ]
     },
     "execution_count": 31,
     "metadata": {},
     "output_type": "execute_result"
    }
   ],
   "source": [
    "coeffs.grad"
   ]
  },
  {
   "cell_type": "markdown",
   "id": "1368beb5",
   "metadata": {
    "papermill": {
     "duration": 0.126583,
     "end_time": "2022-11-22T11:16:19.621922",
     "exception": false,
     "start_time": "2022-11-22T11:16:19.495339",
     "status": "completed"
    },
    "tags": []
   },
   "source": [
    "Note that each time we call `backward`, the gradients are actually *added* to whatever is in the `.grad` attribute. Let's try running the above steps again:"
   ]
  },
  {
   "cell_type": "code",
   "execution_count": 32,
   "id": "41f929ee",
   "metadata": {
    "execution": {
     "iopub.execute_input": "2022-11-22T11:16:19.872449Z",
     "iopub.status.busy": "2022-11-22T11:16:19.871911Z",
     "iopub.status.idle": "2022-11-22T11:16:19.881098Z",
     "shell.execute_reply": "2022-11-22T11:16:19.880501Z"
    },
    "papermill": {
     "duration": 0.138397,
     "end_time": "2022-11-22T11:16:19.883063",
     "exception": false,
     "start_time": "2022-11-22T11:16:19.744666",
     "status": "completed"
    },
    "tags": []
   },
   "outputs": [
    {
     "data": {
      "text/plain": [
       "tensor([-0.0212,  0.0258, -0.0082, -0.0969,  0.4198, -0.4265, -0.2424, -0.0494,  0.2851, -0.3771, -0.0382,  0.4085])"
      ]
     },
     "execution_count": 32,
     "metadata": {},
     "output_type": "execute_result"
    }
   ],
   "source": [
    "loss = calc_loss(coeffs, t_indep, t_dep)\n",
    "loss.backward()\n",
    "coeffs.grad"
   ]
  },
  {
   "cell_type": "markdown",
   "id": "01e67224",
   "metadata": {
    "papermill": {
     "duration": 0.123813,
     "end_time": "2022-11-22T11:16:20.132645",
     "exception": false,
     "start_time": "2022-11-22T11:16:20.008832",
     "status": "completed"
    },
    "tags": []
   },
   "source": [
    "As you see, our `.grad` values are have doubled. That's because it added the gradients a second time. For this reason, after we use the gradients to do a gradient descent step, we need to set them back to zero.\n",
    "\n",
    "We can now do one gradient descent step, and check that our loss decreases:"
   ]
  },
  {
   "cell_type": "code",
   "execution_count": 33,
   "id": "9ab1f539",
   "metadata": {
    "execution": {
     "iopub.execute_input": "2022-11-22T11:16:20.386110Z",
     "iopub.status.busy": "2022-11-22T11:16:20.385803Z",
     "iopub.status.idle": "2022-11-22T11:16:20.393264Z",
     "shell.execute_reply": "2022-11-22T11:16:20.392529Z"
    },
    "papermill": {
     "duration": 0.136888,
     "end_time": "2022-11-22T11:16:20.396542",
     "exception": false,
     "start_time": "2022-11-22T11:16:20.259654",
     "status": "completed"
    },
    "tags": []
   },
   "outputs": [
    {
     "name": "stdout",
     "output_type": "stream",
     "text": [
      "tensor(0.4945)\n"
     ]
    }
   ],
   "source": [
    "loss = calc_loss(coeffs, t_indep, t_dep)\n",
    "loss.backward()\n",
    "with torch.no_grad():\n",
    "    coeffs.sub_(coeffs.grad * 0.1)\n",
    "    coeffs.grad.zero_()\n",
    "    print(calc_loss(coeffs, t_indep, t_dep))"
   ]
  },
  {
   "cell_type": "markdown",
   "id": "0ddbaf73",
   "metadata": {
    "papermill": {
     "duration": 0.126891,
     "end_time": "2022-11-22T11:16:20.651966",
     "exception": false,
     "start_time": "2022-11-22T11:16:20.525075",
     "status": "completed"
    },
    "tags": []
   },
   "source": [
    "Note that `a.sub_(b)` subtracts `b` from `a` in-place. In PyTorch, any method that ends in `_` changes its object in-place. Similarly, `a.zero_()` sets all elements of a tensor to zero."
   ]
  },
  {
   "cell_type": "markdown",
   "id": "87f169fd",
   "metadata": {
    "papermill": {
     "duration": 0.124124,
     "end_time": "2022-11-22T11:16:20.902026",
     "exception": false,
     "start_time": "2022-11-22T11:16:20.777902",
     "status": "completed"
    },
    "tags": []
   },
   "source": [
    "## Training the linear model"
   ]
  },
  {
   "cell_type": "markdown",
   "id": "3b3084a9",
   "metadata": {
    "papermill": {
     "duration": 0.130491,
     "end_time": "2022-11-22T11:16:21.159566",
     "exception": false,
     "start_time": "2022-11-22T11:16:21.029075",
     "status": "completed"
    },
    "tags": []
   },
   "source": [
    "Before we begin training our model, we'll need to ensure that we hold out a validation set for calculating our metrics (for details on this, see \"[Getting started with NLP for absolute beginners](https://www.kaggle.com/code/jhoward/getting-started-with-nlp-for-absolute-beginners#Test-and-validation-sets)\".\n",
    "\n",
    "There's lots of different ways we can do this. In the next notebook we'll be comparing our approach here to what the fastai library does, so we'll want to ensure we split the data in the same way. So let's use `RandomSplitter` to get indices that will split our data into training and validation sets:"
   ]
  },
  {
   "cell_type": "code",
   "execution_count": 34,
   "id": "f2391711",
   "metadata": {
    "execution": {
     "iopub.execute_input": "2022-11-22T11:16:21.414881Z",
     "iopub.status.busy": "2022-11-22T11:16:21.414587Z",
     "iopub.status.idle": "2022-11-22T11:16:22.754296Z",
     "shell.execute_reply": "2022-11-22T11:16:22.753227Z"
    },
    "papermill": {
     "duration": 1.47317,
     "end_time": "2022-11-22T11:16:22.756755",
     "exception": false,
     "start_time": "2022-11-22T11:16:21.283585",
     "status": "completed"
    },
    "tags": []
   },
   "outputs": [],
   "source": [
    "from fastai.data.transforms import RandomSplitter\n",
    "trn_split,val_split=RandomSplitter(seed=42)(df)"
   ]
  },
  {
   "cell_type": "markdown",
   "id": "ceeb1549",
   "metadata": {
    "papermill": {
     "duration": 0.123584,
     "end_time": "2022-11-22T11:16:23.008435",
     "exception": false,
     "start_time": "2022-11-22T11:16:22.884851",
     "status": "completed"
    },
    "tags": []
   },
   "source": [
    "Now we can apply those indicies to our independent and dependent variables:"
   ]
  },
  {
   "cell_type": "code",
   "execution_count": 35,
   "id": "89fcd5cc",
   "metadata": {
    "execution": {
     "iopub.execute_input": "2022-11-22T11:16:23.262360Z",
     "iopub.status.busy": "2022-11-22T11:16:23.262016Z",
     "iopub.status.idle": "2022-11-22T11:16:23.273143Z",
     "shell.execute_reply": "2022-11-22T11:16:23.272215Z"
    },
    "papermill": {
     "duration": 0.138407,
     "end_time": "2022-11-22T11:16:23.275300",
     "exception": false,
     "start_time": "2022-11-22T11:16:23.136893",
     "status": "completed"
    },
    "tags": []
   },
   "outputs": [
    {
     "data": {
      "text/plain": [
       "(713, 178)"
      ]
     },
     "execution_count": 35,
     "metadata": {},
     "output_type": "execute_result"
    }
   ],
   "source": [
    "trn_indep,val_indep = t_indep[trn_split],t_indep[val_split]\n",
    "trn_dep,val_dep = t_dep[trn_split],t_dep[val_split]\n",
    "len(trn_indep),len(val_indep)"
   ]
  },
  {
   "cell_type": "markdown",
   "id": "67c74134",
   "metadata": {
    "papermill": {
     "duration": 0.127212,
     "end_time": "2022-11-22T11:16:23.530597",
     "exception": false,
     "start_time": "2022-11-22T11:16:23.403385",
     "status": "completed"
    },
    "tags": []
   },
   "source": [
    "We'll create functions for the three things we did manually above: updating `coeffs`, doing one full gradient descent step, and initilising `coeffs` to random numbers:"
   ]
  },
  {
   "cell_type": "code",
   "execution_count": 36,
   "id": "23c19696",
   "metadata": {
    "execution": {
     "iopub.execute_input": "2022-11-22T11:16:23.786784Z",
     "iopub.status.busy": "2022-11-22T11:16:23.786173Z",
     "iopub.status.idle": "2022-11-22T11:16:23.790916Z",
     "shell.execute_reply": "2022-11-22T11:16:23.790238Z"
    },
    "papermill": {
     "duration": 0.136708,
     "end_time": "2022-11-22T11:16:23.793037",
     "exception": false,
     "start_time": "2022-11-22T11:16:23.656329",
     "status": "completed"
    },
    "tags": []
   },
   "outputs": [],
   "source": [
    "def update_coeffs(coeffs, lr):\n",
    "    coeffs.sub_(coeffs.grad * lr)\n",
    "    coeffs.grad.zero_()"
   ]
  },
  {
   "cell_type": "code",
   "execution_count": 37,
   "id": "c92e8203",
   "metadata": {
    "execution": {
     "iopub.execute_input": "2022-11-22T11:16:24.045762Z",
     "iopub.status.busy": "2022-11-22T11:16:24.045407Z",
     "iopub.status.idle": "2022-11-22T11:16:24.050966Z",
     "shell.execute_reply": "2022-11-22T11:16:24.050071Z"
    },
    "papermill": {
     "duration": 0.134494,
     "end_time": "2022-11-22T11:16:24.052860",
     "exception": false,
     "start_time": "2022-11-22T11:16:23.918366",
     "status": "completed"
    },
    "tags": []
   },
   "outputs": [],
   "source": [
    "def one_epoch(coeffs, lr):\n",
    "    loss = calc_loss(coeffs, trn_indep, trn_dep)\n",
    "    loss.backward()\n",
    "    with torch.no_grad(): update_coeffs(coeffs, lr)\n",
    "    print(f\"{loss:.3f}\", end=\"; \")"
   ]
  },
  {
   "cell_type": "code",
   "execution_count": 38,
   "id": "5777580a",
   "metadata": {
    "execution": {
     "iopub.execute_input": "2022-11-22T11:16:24.305858Z",
     "iopub.status.busy": "2022-11-22T11:16:24.305506Z",
     "iopub.status.idle": "2022-11-22T11:16:24.309817Z",
     "shell.execute_reply": "2022-11-22T11:16:24.309170Z"
    },
    "papermill": {
     "duration": 0.133589,
     "end_time": "2022-11-22T11:16:24.311581",
     "exception": false,
     "start_time": "2022-11-22T11:16:24.177992",
     "status": "completed"
    },
    "tags": []
   },
   "outputs": [],
   "source": [
    "def init_coeffs(): return (torch.rand(n_coeff)-0.5).requires_grad_()"
   ]
  },
  {
   "cell_type": "markdown",
   "id": "17dcf5f8",
   "metadata": {
    "papermill": {
     "duration": 0.130173,
     "end_time": "2022-11-22T11:16:24.566273",
     "exception": false,
     "start_time": "2022-11-22T11:16:24.436100",
     "status": "completed"
    },
    "tags": []
   },
   "source": [
    "We can now use these functions to train our model:"
   ]
  },
  {
   "cell_type": "code",
   "execution_count": 39,
   "id": "9f8b889c",
   "metadata": {
    "execution": {
     "iopub.execute_input": "2022-11-22T11:16:24.816423Z",
     "iopub.status.busy": "2022-11-22T11:16:24.815938Z",
     "iopub.status.idle": "2022-11-22T11:16:24.821320Z",
     "shell.execute_reply": "2022-11-22T11:16:24.820401Z"
    },
    "papermill": {
     "duration": 0.13283,
     "end_time": "2022-11-22T11:16:24.823285",
     "exception": false,
     "start_time": "2022-11-22T11:16:24.690455",
     "status": "completed"
    },
    "tags": []
   },
   "outputs": [],
   "source": [
    "def train_model(epochs=30, lr=0.01):\n",
    "    torch.manual_seed(442)\n",
    "    coeffs = init_coeffs()\n",
    "    for i in range(epochs): one_epoch(coeffs, lr=lr)\n",
    "    return coeffs"
   ]
  },
  {
   "cell_type": "markdown",
   "id": "688ec0b1",
   "metadata": {
    "papermill": {
     "duration": 0.125545,
     "end_time": "2022-11-22T11:16:25.072787",
     "exception": false,
     "start_time": "2022-11-22T11:16:24.947242",
     "status": "completed"
    },
    "tags": []
   },
   "source": [
    "Let's try it. Our loss will print at the end of every step, so we hope we'll see it going down:"
   ]
  },
  {
   "cell_type": "code",
   "execution_count": 40,
   "id": "46652e19",
   "metadata": {
    "execution": {
     "iopub.execute_input": "2022-11-22T11:16:25.327476Z",
     "iopub.status.busy": "2022-11-22T11:16:25.327121Z",
     "iopub.status.idle": "2022-11-22T11:16:25.343796Z",
     "shell.execute_reply": "2022-11-22T11:16:25.342857Z"
    },
    "papermill": {
     "duration": 0.145203,
     "end_time": "2022-11-22T11:16:25.346039",
     "exception": false,
     "start_time": "2022-11-22T11:16:25.200836",
     "status": "completed"
    },
    "tags": []
   },
   "outputs": [
    {
     "name": "stdout",
     "output_type": "stream",
     "text": [
      "0.536; 0.502; 0.477; 0.454; 0.431; 0.409; 0.388; 0.367; 0.349; 0.336; 0.330; 0.326; 0.329; 0.304; 0.314; 0.296; 0.300; 0.289; "
     ]
    }
   ],
   "source": [
    "coeffs = train_model(18, lr=0.2)"
   ]
  },
  {
   "cell_type": "markdown",
   "id": "6e458cf8",
   "metadata": {
    "papermill": {
     "duration": 0.127824,
     "end_time": "2022-11-22T11:16:25.602858",
     "exception": false,
     "start_time": "2022-11-22T11:16:25.475034",
     "status": "completed"
    },
    "tags": []
   },
   "source": [
    "It does!\n",
    "\n",
    "Let's take a look at the coefficients for each column:"
   ]
  },
  {
   "cell_type": "code",
   "execution_count": 41,
   "id": "8990c90d",
   "metadata": {
    "execution": {
     "iopub.execute_input": "2022-11-22T11:16:25.855499Z",
     "iopub.status.busy": "2022-11-22T11:16:25.855213Z",
     "iopub.status.idle": "2022-11-22T11:16:25.865309Z",
     "shell.execute_reply": "2022-11-22T11:16:25.864540Z"
    },
    "papermill": {
     "duration": 0.138514,
     "end_time": "2022-11-22T11:16:25.867318",
     "exception": false,
     "start_time": "2022-11-22T11:16:25.728804",
     "status": "completed"
    },
    "tags": []
   },
   "outputs": [
    {
     "data": {
      "text/plain": [
       "{'Age': tensor(-0.2694),\n",
       " 'SibSp': tensor(0.0901),\n",
       " 'Parch': tensor(0.2359),\n",
       " 'LogFare': tensor(0.0280),\n",
       " 'Sex_male': tensor(-0.3990),\n",
       " 'Sex_female': tensor(0.2345),\n",
       " 'Pclass_1': tensor(0.7232),\n",
       " 'Pclass_2': tensor(0.4112),\n",
       " 'Pclass_3': tensor(0.3601),\n",
       " 'Embarked_C': tensor(0.0955),\n",
       " 'Embarked_Q': tensor(0.2395),\n",
       " 'Embarked_S': tensor(0.2122)}"
      ]
     },
     "execution_count": 41,
     "metadata": {},
     "output_type": "execute_result"
    }
   ],
   "source": [
    "def show_coeffs(): return dict(zip(indep_cols, coeffs.requires_grad_(False)))\n",
    "show_coeffs()"
   ]
  },
  {
   "cell_type": "markdown",
   "id": "65695cb1",
   "metadata": {
    "papermill": {
     "duration": 0.126023,
     "end_time": "2022-11-22T11:16:26.122945",
     "exception": false,
     "start_time": "2022-11-22T11:16:25.996922",
     "status": "completed"
    },
    "tags": []
   },
   "source": [
    "## Measuring accuracy"
   ]
  },
  {
   "cell_type": "markdown",
   "id": "46d1cc1c",
   "metadata": {
    "papermill": {
     "duration": 0.126689,
     "end_time": "2022-11-22T11:16:26.377686",
     "exception": false,
     "start_time": "2022-11-22T11:16:26.250997",
     "status": "completed"
    },
    "tags": []
   },
   "source": [
    "The Kaggle competition is not, however, scored by absolute error (which is our loss function). It's scored by *accuracy* -- the proportion of rows where we correctly predict survival. Let's see how accurate we were on the validation set. First, calculate the predictions:"
   ]
  },
  {
   "cell_type": "code",
   "execution_count": 42,
   "id": "a8823627",
   "metadata": {
    "execution": {
     "iopub.execute_input": "2022-11-22T11:16:26.637379Z",
     "iopub.status.busy": "2022-11-22T11:16:26.636801Z",
     "iopub.status.idle": "2022-11-22T11:16:26.640879Z",
     "shell.execute_reply": "2022-11-22T11:16:26.640266Z"
    },
    "papermill": {
     "duration": 0.135327,
     "end_time": "2022-11-22T11:16:26.642606",
     "exception": false,
     "start_time": "2022-11-22T11:16:26.507279",
     "status": "completed"
    },
    "tags": []
   },
   "outputs": [],
   "source": [
    "preds = calc_preds(coeffs, val_indep)"
   ]
  },
  {
   "cell_type": "markdown",
   "id": "768fce78",
   "metadata": {
    "papermill": {
     "duration": 0.126853,
     "end_time": "2022-11-22T11:16:26.898267",
     "exception": false,
     "start_time": "2022-11-22T11:16:26.771414",
     "status": "completed"
    },
    "tags": []
   },
   "source": [
    "We'll assume that any passenger with a score of over `0.5` is predicted to survive. So that means we're correct for each row where `preds>0.5` is the same as the dependent variable:"
   ]
  },
  {
   "cell_type": "code",
   "execution_count": 43,
   "id": "9dae09ed",
   "metadata": {
    "execution": {
     "iopub.execute_input": "2022-11-22T11:16:27.150684Z",
     "iopub.status.busy": "2022-11-22T11:16:27.149849Z",
     "iopub.status.idle": "2022-11-22T11:16:27.156263Z",
     "shell.execute_reply": "2022-11-22T11:16:27.155198Z"
    },
    "papermill": {
     "duration": 0.134531,
     "end_time": "2022-11-22T11:16:27.158252",
     "exception": false,
     "start_time": "2022-11-22T11:16:27.023721",
     "status": "completed"
    },
    "tags": []
   },
   "outputs": [
    {
     "data": {
      "text/plain": [
       "tensor([ True,  True,  True,  True,  True,  True,  True,  True,  True,  True, False, False, False,  True,  True, False])"
      ]
     },
     "execution_count": 43,
     "metadata": {},
     "output_type": "execute_result"
    }
   ],
   "source": [
    "results = val_dep.bool()==(preds>0.5)\n",
    "results[:16]"
   ]
  },
  {
   "cell_type": "markdown",
   "id": "8608eba7",
   "metadata": {
    "papermill": {
     "duration": 0.126647,
     "end_time": "2022-11-22T11:16:27.412344",
     "exception": false,
     "start_time": "2022-11-22T11:16:27.285697",
     "status": "completed"
    },
    "tags": []
   },
   "source": [
    "Let's see what our average accuracy is:"
   ]
  },
  {
   "cell_type": "code",
   "execution_count": 44,
   "id": "e48a9571",
   "metadata": {
    "execution": {
     "iopub.execute_input": "2022-11-22T11:16:27.678821Z",
     "iopub.status.busy": "2022-11-22T11:16:27.678308Z",
     "iopub.status.idle": "2022-11-22T11:16:27.684040Z",
     "shell.execute_reply": "2022-11-22T11:16:27.683128Z"
    },
    "papermill": {
     "duration": 0.139962,
     "end_time": "2022-11-22T11:16:27.686302",
     "exception": false,
     "start_time": "2022-11-22T11:16:27.546340",
     "status": "completed"
    },
    "tags": []
   },
   "outputs": [
    {
     "data": {
      "text/plain": [
       "tensor(0.7865)"
      ]
     },
     "execution_count": 44,
     "metadata": {},
     "output_type": "execute_result"
    }
   ],
   "source": [
    "results.float().mean()"
   ]
  },
  {
   "cell_type": "markdown",
   "id": "9d02b6cc",
   "metadata": {
    "papermill": {
     "duration": 0.13,
     "end_time": "2022-11-22T11:16:27.944780",
     "exception": false,
     "start_time": "2022-11-22T11:16:27.814780",
     "status": "completed"
    },
    "tags": []
   },
   "source": [
    "That's not a bad start at all! We'll create a function so we can calcuate the accuracy easy for other models we train:"
   ]
  },
  {
   "cell_type": "code",
   "execution_count": 45,
   "id": "2bb30aad",
   "metadata": {
    "execution": {
     "iopub.execute_input": "2022-11-22T11:16:28.198754Z",
     "iopub.status.busy": "2022-11-22T11:16:28.198298Z",
     "iopub.status.idle": "2022-11-22T11:16:28.206130Z",
     "shell.execute_reply": "2022-11-22T11:16:28.205490Z"
    },
    "papermill": {
     "duration": 0.137415,
     "end_time": "2022-11-22T11:16:28.207931",
     "exception": false,
     "start_time": "2022-11-22T11:16:28.070516",
     "status": "completed"
    },
    "tags": []
   },
   "outputs": [
    {
     "data": {
      "text/plain": [
       "tensor(0.7865)"
      ]
     },
     "execution_count": 45,
     "metadata": {},
     "output_type": "execute_result"
    }
   ],
   "source": [
    "def acc(coeffs): return (val_dep.bool()==(calc_preds(coeffs, val_indep)>0.5)).float().mean()\n",
    "acc(coeffs)"
   ]
  },
  {
   "cell_type": "markdown",
   "id": "a578a14e",
   "metadata": {
    "papermill": {
     "duration": 0.129607,
     "end_time": "2022-11-22T11:16:28.466115",
     "exception": false,
     "start_time": "2022-11-22T11:16:28.336508",
     "status": "completed"
    },
    "tags": []
   },
   "source": [
    "## Using sigmoid"
   ]
  },
  {
   "cell_type": "markdown",
   "id": "45dd4fb7",
   "metadata": {
    "papermill": {
     "duration": 0.130245,
     "end_time": "2022-11-22T11:16:28.725448",
     "exception": false,
     "start_time": "2022-11-22T11:16:28.595203",
     "status": "completed"
    },
    "tags": []
   },
   "source": [
    "Looking at our predictions, there's one obvious problem -- some of our predictions of the probability of survival are `>1`, and some are `<0`:"
   ]
  },
  {
   "cell_type": "code",
   "execution_count": 46,
   "id": "862298da",
   "metadata": {
    "execution": {
     "iopub.execute_input": "2022-11-22T11:16:28.984059Z",
     "iopub.status.busy": "2022-11-22T11:16:28.983495Z",
     "iopub.status.idle": "2022-11-22T11:16:28.989810Z",
     "shell.execute_reply": "2022-11-22T11:16:28.988922Z"
    },
    "papermill": {
     "duration": 0.139776,
     "end_time": "2022-11-22T11:16:28.992046",
     "exception": false,
     "start_time": "2022-11-22T11:16:28.852270",
     "status": "completed"
    },
    "tags": []
   },
   "outputs": [
    {
     "data": {
      "text/plain": [
       "tensor([ 0.8160,  0.1295, -0.0148,  0.1831,  0.1520,  0.1350,  0.7279,  0.7754,  0.3222,  0.6740,  0.0753,  0.0389,  0.2216,  0.7631,\n",
       "         0.0678,  0.3997,  0.3324,  0.8278,  0.1078,  0.7126,  0.1023,  0.3627,  0.9937,  0.8050,  0.1153,  0.1455,  0.8652,  0.3425])"
      ]
     },
     "execution_count": 46,
     "metadata": {},
     "output_type": "execute_result"
    }
   ],
   "source": [
    "preds[:28]"
   ]
  },
  {
   "cell_type": "markdown",
   "id": "a0d91dd0",
   "metadata": {
    "papermill": {
     "duration": 0.127165,
     "end_time": "2022-11-22T11:16:29.248062",
     "exception": false,
     "start_time": "2022-11-22T11:16:29.120897",
     "status": "completed"
    },
    "tags": []
   },
   "source": [
    "To fix this, we should pass every prediction through the *sigmoid function*, which has a minimum at zero and maximum at one, and is defined as follows:"
   ]
  },
  {
   "cell_type": "code",
   "execution_count": 47,
   "id": "2cb08ec0",
   "metadata": {
    "execution": {
     "iopub.execute_input": "2022-11-22T11:16:29.506740Z",
     "iopub.status.busy": "2022-11-22T11:16:29.506188Z",
     "iopub.status.idle": "2022-11-22T11:16:30.746725Z",
     "shell.execute_reply": "2022-11-22T11:16:30.746087Z"
    },
    "papermill": {
     "duration": 1.371258,
     "end_time": "2022-11-22T11:16:30.748817",
     "exception": false,
     "start_time": "2022-11-22T11:16:29.377559",
     "status": "completed"
    },
    "tags": []
   },
   "outputs": [
    {
     "data": {
      "image/png": "[encoded data removed]",
      "text/plain": [
       "<Figure size 432x288 with 1 Axes>"
      ]
     },
     "metadata": {
      "needs_background": "light"
     },
     "output_type": "display_data"
    }
   ],
   "source": [
    "import sympy\n",
    "sympy.plot(\"1/(1+exp(-x))\", xlim=(-5,5));"
   ]
  },
  {
   "cell_type": "markdown",
   "id": "c36385f6",
   "metadata": {
    "papermill": {
     "duration": 0.128403,
     "end_time": "2022-11-22T11:16:31.004958",
     "exception": false,
     "start_time": "2022-11-22T11:16:30.876555",
     "status": "completed"
    },
    "tags": []
   },
   "source": [
    "PyTorch already defines that function for us, so we can modify `calc_preds` to use it:"
   ]
  },
  {
   "cell_type": "code",
   "execution_count": 48,
   "id": "67a33df6",
   "metadata": {
    "execution": {
     "iopub.execute_input": "2022-11-22T11:16:31.265199Z",
     "iopub.status.busy": "2022-11-22T11:16:31.264696Z",
     "iopub.status.idle": "2022-11-22T11:16:31.268772Z",
     "shell.execute_reply": "2022-11-22T11:16:31.268039Z"
    },
    "papermill": {
     "duration": 0.13812,
     "end_time": "2022-11-22T11:16:31.270884",
     "exception": false,
     "start_time": "2022-11-22T11:16:31.132764",
     "status": "completed"
    },
    "tags": []
   },
   "outputs": [],
   "source": [
    "def calc_preds(coeffs, indeps): return torch.sigmoid((indeps*coeffs).sum(axis=1))"
   ]
  },
  {
   "cell_type": "markdown",
   "id": "c966518b",
   "metadata": {
    "papermill": {
     "duration": 0.131187,
     "end_time": "2022-11-22T11:16:31.531865",
     "exception": false,
     "start_time": "2022-11-22T11:16:31.400678",
     "status": "completed"
    },
    "tags": []
   },
   "source": [
    "Let's train a new model now, using this updated function to calculate predictions:"
   ]
  },
  {
   "cell_type": "code",
   "execution_count": 49,
   "id": "8c47bee5",
   "metadata": {
    "execution": {
     "iopub.execute_input": "2022-11-22T11:16:31.791197Z",
     "iopub.status.busy": "2022-11-22T11:16:31.790046Z",
     "iopub.status.idle": "2022-11-22T11:16:31.817195Z",
     "shell.execute_reply": "2022-11-22T11:16:31.816435Z"
    },
    "papermill": {
     "duration": 0.158801,
     "end_time": "2022-11-22T11:16:31.819459",
     "exception": false,
     "start_time": "2022-11-22T11:16:31.660658",
     "status": "completed"
    },
    "tags": []
   },
   "outputs": [
    {
     "name": "stdout",
     "output_type": "stream",
     "text": [
      "0.510; 0.327; 0.294; 0.207; 0.201; 0.199; 0.198; 0.197; 0.196; 0.196; 0.196; 0.195; 0.195; 0.195; 0.195; 0.195; 0.195; 0.195; 0.194; 0.194; 0.194; 0.194; 0.194; 0.194; 0.194; 0.194; 0.194; 0.194; 0.194; 0.194; "
     ]
    }
   ],
   "source": [
    "coeffs = train_model(lr=100)"
   ]
  },
  {
   "cell_type": "markdown",
   "id": "c4e516ad",
   "metadata": {
    "papermill": {
     "duration": 0.132049,
     "end_time": "2022-11-22T11:16:32.081368",
     "exception": false,
     "start_time": "2022-11-22T11:16:31.949319",
     "status": "completed"
    },
    "tags": []
   },
   "source": [
    "The loss has improved by a lot. Let's check the accuracy:"
   ]
  },
  {
   "cell_type": "code",
   "execution_count": 50,
   "id": "c4bc3153",
   "metadata": {
    "execution": {
     "iopub.execute_input": "2022-11-22T11:16:32.340463Z",
     "iopub.status.busy": "2022-11-22T11:16:32.340194Z",
     "iopub.status.idle": "2022-11-22T11:16:32.347299Z",
     "shell.execute_reply": "2022-11-22T11:16:32.346406Z"
    },
    "papermill": {
     "duration": 0.137651,
     "end_time": "2022-11-22T11:16:32.349456",
     "exception": false,
     "start_time": "2022-11-22T11:16:32.211805",
     "status": "completed"
    },
    "tags": []
   },
   "outputs": [
    {
     "data": {
      "text/plain": [
       "tensor(0.8258)"
      ]
     },
     "execution_count": 50,
     "metadata": {},
     "output_type": "execute_result"
    }
   ],
   "source": [
    "acc(coeffs)"
   ]
  },
  {
   "cell_type": "markdown",
   "id": "c0cd16fd",
   "metadata": {
    "papermill": {
     "duration": 0.15084,
     "end_time": "2022-11-22T11:16:32.630914",
     "exception": false,
     "start_time": "2022-11-22T11:16:32.480074",
     "status": "completed"
    },
    "tags": []
   },
   "source": [
    "That's improved too! Here's the coefficients of our trained model:"
   ]
  },
  {
   "cell_type": "code",
   "execution_count": 51,
   "id": "9cb4dd88",
   "metadata": {
    "execution": {
     "iopub.execute_input": "2022-11-22T11:16:32.952104Z",
     "iopub.status.busy": "2022-11-22T11:16:32.951766Z",
     "iopub.status.idle": "2022-11-22T11:16:32.961001Z",
     "shell.execute_reply": "2022-11-22T11:16:32.960146Z"
    },
    "papermill": {
     "duration": 0.205422,
     "end_time": "2022-11-22T11:16:32.963315",
     "exception": false,
     "start_time": "2022-11-22T11:16:32.757893",
     "status": "completed"
    },
    "tags": []
   },
   "outputs": [
    {
     "data": {
      "text/plain": [
       "{'Age': tensor(-1.5061),\n",
       " 'SibSp': tensor(-1.1575),\n",
       " 'Parch': tensor(-0.4267),\n",
       " 'LogFare': tensor(0.2543),\n",
       " 'Sex_male': tensor(-10.3320),\n",
       " 'Sex_female': tensor(8.4185),\n",
       " 'Pclass_1': tensor(3.8389),\n",
       " 'Pclass_2': tensor(2.1398),\n",
       " 'Pclass_3': tensor(-6.2331),\n",
       " 'Embarked_C': tensor(1.4771),\n",
       " 'Embarked_Q': tensor(2.1168),\n",
       " 'Embarked_S': tensor(-4.7958)}"
      ]
     },
     "execution_count": 51,
     "metadata": {},
     "output_type": "execute_result"
    }
   ],
   "source": [
    "show_coeffs()"
   ]
  },
  {
   "cell_type": "markdown",
   "id": "3b0b23d3",
   "metadata": {
    "papermill": {
     "duration": 0.128376,
     "end_time": "2022-11-22T11:16:33.221303",
     "exception": false,
     "start_time": "2022-11-22T11:16:33.092927",
     "status": "completed"
    },
    "tags": []
   },
   "source": [
    "These coefficients seem reasonable -- in general, older people and males were less likely to survive, and first class passengers were more likely to survive."
   ]
  },
  {
   "cell_type": "markdown",
   "id": "3c7d90b6",
   "metadata": {
    "papermill": {
     "duration": 0.132491,
     "end_time": "2022-11-22T11:16:33.487199",
     "exception": false,
     "start_time": "2022-11-22T11:16:33.354708",
     "status": "completed"
    },
    "tags": []
   },
   "source": [
    "## Submitting to Kaggle"
   ]
  },
  {
   "cell_type": "markdown",
   "id": "8d7a8bfc",
   "metadata": {
    "papermill": {
     "duration": 0.130475,
     "end_time": "2022-11-22T11:16:33.747466",
     "exception": false,
     "start_time": "2022-11-22T11:16:33.616991",
     "status": "completed"
    },
    "tags": []
   },
   "source": [
    "Now that we've got a trained model, we can prepare a submission to Kaggle. To do that, first we need to read the test set:"
   ]
  },
  {
   "cell_type": "code",
   "execution_count": 52,
   "id": "c9f1d154",
   "metadata": {
    "execution": {
     "iopub.execute_input": "2022-11-22T11:16:34.010051Z",
     "iopub.status.busy": "2022-11-22T11:16:34.009773Z",
     "iopub.status.idle": "2022-11-22T11:16:34.023848Z",
     "shell.execute_reply": "2022-11-22T11:16:34.023094Z"
    },
    "papermill": {
     "duration": 0.147375,
     "end_time": "2022-11-22T11:16:34.026170",
     "exception": false,
     "start_time": "2022-11-22T11:16:33.878795",
     "status": "completed"
    },
    "tags": []
   },
   "outputs": [],
   "source": [
    "tst_df = pd.read_csv(path/'test.csv')"
   ]
  },
  {
   "cell_type": "markdown",
   "id": "0e6df8be",
   "metadata": {
    "papermill": {
     "duration": 0.127911,
     "end_time": "2022-11-22T11:16:34.284544",
     "exception": false,
     "start_time": "2022-11-22T11:16:34.156633",
     "status": "completed"
    },
    "tags": []
   },
   "source": [
    "In this case, it turns out that the test set is missing `Fare` for one passenger. We'll just fill it with `0` to avoid problems:"
   ]
  },
  {
   "cell_type": "code",
   "execution_count": 53,
   "id": "c65ee900",
   "metadata": {
    "execution": {
     "iopub.execute_input": "2022-11-22T11:16:34.546618Z",
     "iopub.status.busy": "2022-11-22T11:16:34.546022Z",
     "iopub.status.idle": "2022-11-22T11:16:34.550843Z",
     "shell.execute_reply": "2022-11-22T11:16:34.550098Z"
    },
    "papermill": {
     "duration": 0.139311,
     "end_time": "2022-11-22T11:16:34.553020",
     "exception": false,
     "start_time": "2022-11-22T11:16:34.413709",
     "status": "completed"
    },
    "tags": []
   },
   "outputs": [],
   "source": [
    "tst_df['Fare'] = tst_df.Fare.fillna(0)"
   ]
  },
  {
   "cell_type": "markdown",
   "id": "eeac7149",
   "metadata": {
    "papermill": {
     "duration": 0.129164,
     "end_time": "2022-11-22T11:16:34.814294",
     "exception": false,
     "start_time": "2022-11-22T11:16:34.685130",
     "status": "completed"
    },
    "tags": []
   },
   "source": [
    "Now we can just copy the same steps we did to our training set and do the same exact things on our test set to preprocess the data:"
   ]
  },
  {
   "cell_type": "code",
   "execution_count": 54,
   "id": "787965aa",
   "metadata": {
    "execution": {
     "iopub.execute_input": "2022-11-22T11:16:35.082262Z",
     "iopub.status.busy": "2022-11-22T11:16:35.081669Z",
     "iopub.status.idle": "2022-11-22T11:16:35.097947Z",
     "shell.execute_reply": "2022-11-22T11:16:35.097262Z"
    },
    "papermill": {
     "duration": 0.149122,
     "end_time": "2022-11-22T11:16:35.100248",
     "exception": false,
     "start_time": "2022-11-22T11:16:34.951126",
     "status": "completed"
    },
    "tags": []
   },
   "outputs": [],
   "source": [
    "tst_df.fillna(modes, inplace=True)\n",
    "tst_df['LogFare'] = np.log(tst_df['Fare']+1)\n",
    "tst_df = pd.get_dummies(tst_df, columns=[\"Sex\",\"Pclass\",\"Embarked\"])\n",
    "\n",
    "tst_indep = tensor(tst_df[indep_cols].values, dtype=torch.float)\n",
    "tst_indep = tst_indep / vals"
   ]
  },
  {
   "cell_type": "markdown",
   "id": "6562b475",
   "metadata": {
    "papermill": {
     "duration": 0.128665,
     "end_time": "2022-11-22T11:16:35.360906",
     "exception": false,
     "start_time": "2022-11-22T11:16:35.232241",
     "status": "completed"
    },
    "tags": []
   },
   "source": [
    "Let's calculate our predictions of which passengers survived in the test set:"
   ]
  },
  {
   "cell_type": "code",
   "execution_count": 55,
   "id": "caae6a2e",
   "metadata": {
    "execution": {
     "iopub.execute_input": "2022-11-22T11:16:35.624426Z",
     "iopub.status.busy": "2022-11-22T11:16:35.623807Z",
     "iopub.status.idle": "2022-11-22T11:16:35.629486Z",
     "shell.execute_reply": "2022-11-22T11:16:35.628581Z"
    },
    "papermill": {
     "duration": 0.140914,
     "end_time": "2022-11-22T11:16:35.631811",
     "exception": false,
     "start_time": "2022-11-22T11:16:35.490897",
     "status": "completed"
    },
    "tags": []
   },
   "outputs": [],
   "source": [
    "tst_df['Survived'] = (calc_preds(tst_indep, coeffs)>0.5).int()"
   ]
  },
  {
   "cell_type": "markdown",
   "id": "9f7f448f",
   "metadata": {
    "papermill": {
     "duration": 0.128995,
     "end_time": "2022-11-22T11:16:35.890948",
     "exception": false,
     "start_time": "2022-11-22T11:16:35.761953",
     "status": "completed"
    },
    "tags": []
   },
   "source": [
    "The sample submission on the Kaggle competition site shows that we're expected to upload a CSV with just `PassengerId` and `Survived`, so let's create that and save it:"
   ]
  },
  {
   "cell_type": "code",
   "execution_count": 56,
   "id": "204ddd3e",
   "metadata": {
    "execution": {
     "iopub.execute_input": "2022-11-22T11:16:36.161105Z",
     "iopub.status.busy": "2022-11-22T11:16:36.160658Z",
     "iopub.status.idle": "2022-11-22T11:16:36.171181Z",
     "shell.execute_reply": "2022-11-22T11:16:36.170483Z"
    },
    "papermill": {
     "duration": 0.147338,
     "end_time": "2022-11-22T11:16:36.173514",
     "exception": false,
     "start_time": "2022-11-22T11:16:36.026176",
     "status": "completed"
    },
    "tags": []
   },
   "outputs": [],
   "source": [
    "sub_df = tst_df[['PassengerId','Survived']]\n",
    "sub_df.to_csv('sub.csv', index=False)"
   ]
  },
  {
   "cell_type": "markdown",
   "id": "41c8d457",
   "metadata": {
    "papermill": {
     "duration": 0.13067,
     "end_time": "2022-11-22T11:16:36.433613",
     "exception": false,
     "start_time": "2022-11-22T11:16:36.302943",
     "status": "completed"
    },
    "tags": []
   },
   "source": [
    "We can check the first few rows of the file to make sure it looks reasonable:"
   ]
  },
  {
   "cell_type": "code",
   "execution_count": 57,
   "id": "204d7328",
   "metadata": {
    "execution": {
     "iopub.execute_input": "2022-11-22T11:16:36.700338Z",
     "iopub.status.busy": "2022-11-22T11:16:36.700030Z",
     "iopub.status.idle": "2022-11-22T11:16:37.803661Z",
     "shell.execute_reply": "2022-11-22T11:16:37.802651Z"
    },
    "papermill": {
     "duration": 1.237916,
     "end_time": "2022-11-22T11:16:37.806299",
     "exception": false,
     "start_time": "2022-11-22T11:16:36.568383",
     "status": "completed"
    },
    "tags": []
   },
   "outputs": [
    {
     "name": "stdout",
     "output_type": "stream",
     "text": [
      "PassengerId,Survived\r\n",
      "892,0\r\n",
      "893,0\r\n",
      "894,0\r\n",
      "895,0\r\n",
      "896,0\r\n",
      "897,0\r\n",
      "898,1\r\n",
      "899,0\r\n",
      "900,1\r\n"
     ]
    }
   ],
   "source": [
    "!head sub.csv"
   ]
  },
  {
   "cell_type": "markdown",
   "id": "3b1974c8",
   "metadata": {
    "papermill": {
     "duration": 0.138068,
     "end_time": "2022-11-22T11:16:38.079268",
     "exception": false,
     "start_time": "2022-11-22T11:16:37.941200",
     "status": "completed"
    },
    "tags": []
   },
   "source": [
    "When you click \"save version\" in Kaggle, and wait for the notebook to run, you'll see that `sub.csv` appears in the \"Data\" tab. Clicking on that file will show a *Submit* button, which allows you to submit to the competition."
   ]
  },
  {
   "cell_type": "markdown",
   "id": "00fa5caa",
   "metadata": {
    "papermill": {
     "duration": 0.133688,
     "end_time": "2022-11-22T11:16:38.350568",
     "exception": false,
     "start_time": "2022-11-22T11:16:38.216880",
     "status": "completed"
    },
    "tags": []
   },
   "source": [
    "## Using matrix product"
   ]
  },
  {
   "cell_type": "markdown",
   "id": "70be1600",
   "metadata": {
    "papermill": {
     "duration": 0.133653,
     "end_time": "2022-11-22T11:16:38.617798",
     "exception": false,
     "start_time": "2022-11-22T11:16:38.484145",
     "status": "completed"
    },
    "tags": []
   },
   "source": [
    "We can make things quite a bit neater...\n",
    "\n",
    "Take a look at the inner-most calculation we're doing to get the predictions:"
   ]
  },
  {
   "cell_type": "code",
   "execution_count": 58,
   "id": "1ac87246",
   "metadata": {
    "execution": {
     "iopub.execute_input": "2022-11-22T11:16:38.894134Z",
     "iopub.status.busy": "2022-11-22T11:16:38.893828Z",
     "iopub.status.idle": "2022-11-22T11:16:38.903389Z",
     "shell.execute_reply": "2022-11-22T11:16:38.902564Z"
    },
    "papermill": {
     "duration": 0.150706,
     "end_time": "2022-11-22T11:16:38.905317",
     "exception": false,
     "start_time": "2022-11-22T11:16:38.754611",
     "status": "completed"
    },
    "tags": []
   },
   "outputs": [
    {
     "data": {
      "text/plain": [
       "tensor([ 12.3288, -14.8119, -15.4540, -13.1513, -13.3512, -13.6469,   3.6248,   5.3429, -22.0878,   3.1233, -21.8742, -15.6421, -21.5504,\n",
       "          3.9393, -21.9190, -12.0010, -12.3775,   5.3550, -13.5880,  -3.1015, -21.7237, -12.2081,  12.9767,   4.7427, -21.6525, -14.9135,\n",
       "         -2.7433, -12.3210, -21.5886,   3.9387,   5.3890,  -3.6196, -21.6296, -21.8454,  12.2159,  -3.2275, -12.0289,  13.4560, -21.7230,\n",
       "         -3.1366, -13.2462, -21.7230, -13.6831,  13.3092, -21.6477,  -3.5868, -21.6854, -21.8316, -14.8158,  -2.9386,  -5.3103, -22.2384,\n",
       "        -22.1097, -21.7466, -13.3780, -13.4909, -14.8119, -22.0690, -21.6666, -21.7818,  -5.4439, -21.7407, -12.6551, -21.6671,   4.9238,\n",
       "        -11.5777, -13.3323, -21.9638, -15.3030,   5.0243, -21.7614,   3.1820, -13.4721, -21.7170, -11.6066, -21.5737, -21.7230, -11.9652,\n",
       "        -13.2382, -13.7599, -13.2170,  13.1347, -21.7049, -21.7268,   4.9207,  -7.3198,  -5.3081,   7.1065,  11.4948, -13.3135, -21.8723,\n",
       "        -21.7230,  13.3603, -15.5670,   3.4105,  -7.2857, -13.7197,   3.6909,   3.9763, -14.7227, -21.8268,   3.9387, -21.8743, -21.8367,\n",
       "        -11.8518, -13.6712, -21.8299,   4.9440,  -5.4471, -21.9666,   5.1333,  -3.2187, -11.6008,  13.7920, -21.7230,  12.6369,  -3.7268,\n",
       "        -14.8119, -22.0637,  12.9468, -22.1610,  -6.1827, -14.8119,  -3.2838, -15.4540, -11.6950,  -2.9926,  -3.0110, -21.5664, -13.8268,\n",
       "          7.3426, -21.8418,   5.0744,   5.2582,  13.3415, -21.6289, -13.9898, -21.8112,  -7.3316,   5.2296, -13.4453,  12.7891, -22.1235,\n",
       "        -14.9625,  -3.4339,   6.3089, -21.9839,   3.1968,   7.2400,   2.8558,  -3.1187,   3.7965,   5.4667, -15.1101, -15.0597, -22.9391,\n",
       "        -21.7230,  -3.0346, -13.5206, -21.7011,  13.4425,  -7.2690, -21.8335, -12.0582,  13.0489,   6.7993,   5.2160,   5.0794, -12.6957,\n",
       "        -12.1838,  -3.0873, -21.6070,   7.0744, -21.7170, -22.1001,   6.8159, -11.6002, -21.6310])"
      ]
     },
     "execution_count": 58,
     "metadata": {},
     "output_type": "execute_result"
    }
   ],
   "source": [
    "(val_indep*coeffs).sum(axis=1)"
   ]
  },
  {
   "cell_type": "markdown",
   "id": "0aaa7e97",
   "metadata": {
    "papermill": {
     "duration": 0.136196,
     "end_time": "2022-11-22T11:16:39.178868",
     "exception": false,
     "start_time": "2022-11-22T11:16:39.042672",
     "status": "completed"
    },
    "tags": []
   },
   "source": [
    "Multiplying elements together and then adding across rows is identical to doing a matrix-vector product! Python uses the `@` operator to indicate matrix products, and is supported by PyTorch tensors. Therefore, we can replicate the above calculate more simply like so:"
   ]
  },
  {
   "cell_type": "code",
   "execution_count": 59,
   "id": "195210c4",
   "metadata": {
    "execution": {
     "iopub.execute_input": "2022-11-22T11:16:39.459618Z",
     "iopub.status.busy": "2022-11-22T11:16:39.459278Z",
     "iopub.status.idle": "2022-11-22T11:16:39.478335Z",
     "shell.execute_reply": "2022-11-22T11:16:39.477003Z"
    },
    "papermill": {
     "duration": 0.164295,
     "end_time": "2022-11-22T11:16:39.480564",
     "exception": false,
     "start_time": "2022-11-22T11:16:39.316269",
     "status": "completed"
    },
    "tags": []
   },
   "outputs": [
    {
     "data": {
      "text/plain": [
       "tensor([ 12.3288, -14.8119, -15.4540, -13.1513, -13.3511, -13.6468,   3.6248,   5.3429, -22.0878,   3.1233, -21.8742, -15.6421, -21.5504,\n",
       "          3.9393, -21.9190, -12.0010, -12.3775,   5.3550, -13.5880,  -3.1015, -21.7237, -12.2081,  12.9767,   4.7427, -21.6525, -14.9135,\n",
       "         -2.7433, -12.3210, -21.5886,   3.9387,   5.3890,  -3.6196, -21.6296, -21.8454,  12.2159,  -3.2275, -12.0289,  13.4560, -21.7230,\n",
       "         -3.1366, -13.2462, -21.7230, -13.6831,  13.3092, -21.6477,  -3.5868, -21.6854, -21.8316, -14.8158,  -2.9386,  -5.3103, -22.2384,\n",
       "        -22.1097, -21.7466, -13.3780, -13.4909, -14.8119, -22.0690, -21.6666, -21.7818,  -5.4439, -21.7407, -12.6551, -21.6671,   4.9238,\n",
       "        -11.5777, -13.3323, -21.9638, -15.3030,   5.0243, -21.7614,   3.1820, -13.4721, -21.7170, -11.6066, -21.5737, -21.7230, -11.9652,\n",
       "        -13.2382, -13.7599, -13.2170,  13.1347, -21.7049, -21.7268,   4.9207,  -7.3198,  -5.3081,   7.1065,  11.4948, -13.3135, -21.8723,\n",
       "        -21.7230,  13.3603, -15.5670,   3.4105,  -7.2857, -13.7197,   3.6909,   3.9763, -14.7227, -21.8268,   3.9387, -21.8743, -21.8367,\n",
       "        -11.8518, -13.6712, -21.8299,   4.9440,  -5.4471, -21.9666,   5.1333,  -3.2187, -11.6008,  13.7920, -21.7230,  12.6369,  -3.7268,\n",
       "        -14.8119, -22.0637,  12.9468, -22.1610,  -6.1827, -14.8119,  -3.2838, -15.4540, -11.6950,  -2.9926,  -3.0110, -21.5664, -13.8268,\n",
       "          7.3426, -21.8418,   5.0744,   5.2582,  13.3415, -21.6289, -13.9898, -21.8112,  -7.3316,   5.2296, -13.4453,  12.7891, -22.1235,\n",
       "        -14.9625,  -3.4339,   6.3089, -21.9839,   3.1968,   7.2400,   2.8558,  -3.1187,   3.7965,   5.4667, -15.1101, -15.0597, -22.9391,\n",
       "        -21.7230,  -3.0346, -13.5206, -21.7011,  13.4425,  -7.2690, -21.8335, -12.0582,  13.0489,   6.7993,   5.2160,   5.0794, -12.6957,\n",
       "        -12.1838,  -3.0873, -21.6070,   7.0744, -21.7170, -22.1001,   6.8159, -11.6002, -21.6310])"
      ]
     },
     "execution_count": 59,
     "metadata": {},
     "output_type": "execute_result"
    }
   ],
   "source": [
    "val_indep@coeffs"
   ]
  },
  {
   "cell_type": "markdown",
   "id": "d066a1f3",
   "metadata": {
    "papermill": {
     "duration": 0.135336,
     "end_time": "2022-11-22T11:16:39.754934",
     "exception": false,
     "start_time": "2022-11-22T11:16:39.619598",
     "status": "completed"
    },
    "tags": []
   },
   "source": [
    "It also turns out that this is much faster, because matrix products in PyTorch are very highly optimised.\n",
    "\n",
    "Let's use this to replace how `calc_preds` works:"
   ]
  },
  {
   "cell_type": "code",
   "execution_count": 60,
   "id": "d25c78d6",
   "metadata": {
    "execution": {
     "iopub.execute_input": "2022-11-22T11:16:40.041205Z",
     "iopub.status.busy": "2022-11-22T11:16:40.040667Z",
     "iopub.status.idle": "2022-11-22T11:16:40.045321Z",
     "shell.execute_reply": "2022-11-22T11:16:40.044254Z"
    },
    "papermill": {
     "duration": 0.152758,
     "end_time": "2022-11-22T11:16:40.047789",
     "exception": false,
     "start_time": "2022-11-22T11:16:39.895031",
     "status": "completed"
    },
    "tags": []
   },
   "outputs": [],
   "source": [
    "def calc_preds(coeffs, indeps): return torch.sigmoid(indeps@coeffs)"
   ]
  },
  {
   "cell_type": "markdown",
   "id": "5824853c",
   "metadata": {
    "papermill": {
     "duration": 0.133056,
     "end_time": "2022-11-22T11:16:40.311913",
     "exception": false,
     "start_time": "2022-11-22T11:16:40.178857",
     "status": "completed"
    },
    "tags": []
   },
   "source": [
    "In order to do matrix-matrix products (which we'll need in the next section), we need to turn `coeffs` into a column vector (i.e. a matrix with a single column), which we can do by passing a second argument `1` to `torch.rand()`, indicating that we want our coefficients to have one column:"
   ]
  },
  {
   "cell_type": "code",
   "execution_count": 61,
   "id": "5a7e7bf1",
   "metadata": {
    "execution": {
     "iopub.execute_input": "2022-11-22T11:16:40.595855Z",
     "iopub.status.busy": "2022-11-22T11:16:40.595532Z",
     "iopub.status.idle": "2022-11-22T11:16:40.600136Z",
     "shell.execute_reply": "2022-11-22T11:16:40.599108Z"
    },
    "papermill": {
     "duration": 0.151088,
     "end_time": "2022-11-22T11:16:40.602442",
     "exception": false,
     "start_time": "2022-11-22T11:16:40.451354",
     "status": "completed"
    },
    "tags": []
   },
   "outputs": [],
   "source": [
    "def init_coeffs(): return (torch.rand(n_coeff, 1)*0.1).requires_grad_()"
   ]
  },
  {
   "cell_type": "markdown",
   "id": "0943990e",
   "metadata": {
    "papermill": {
     "duration": 0.140917,
     "end_time": "2022-11-22T11:16:40.887445",
     "exception": false,
     "start_time": "2022-11-22T11:16:40.746528",
     "status": "completed"
    },
    "tags": []
   },
   "source": [
    "We'll also need to turn our dependent variable into a column vector, which we can do by indexing the column dimension with the special value `None`, which tells PyTorch to add a new dimension in this position:"
   ]
  },
  {
   "cell_type": "code",
   "execution_count": 62,
   "id": "a19f6f9f",
   "metadata": {
    "execution": {
     "iopub.execute_input": "2022-11-22T11:16:41.172892Z",
     "iopub.status.busy": "2022-11-22T11:16:41.172472Z",
     "iopub.status.idle": "2022-11-22T11:16:41.177918Z",
     "shell.execute_reply": "2022-11-22T11:16:41.176345Z"
    },
    "papermill": {
     "duration": 0.152699,
     "end_time": "2022-11-22T11:16:41.180489",
     "exception": false,
     "start_time": "2022-11-22T11:16:41.027790",
     "status": "completed"
    },
    "tags": []
   },
   "outputs": [],
   "source": [
    "trn_dep = trn_dep[:,None]\n",
    "val_dep = val_dep[:,None]"
   ]
  },
  {
   "cell_type": "markdown",
   "id": "34483d6e",
   "metadata": {
    "papermill": {
     "duration": 0.141347,
     "end_time": "2022-11-22T11:16:41.464490",
     "exception": false,
     "start_time": "2022-11-22T11:16:41.323143",
     "status": "completed"
    },
    "tags": []
   },
   "source": [
    "We can now train our model as before and confirm we get identical outputs...:"
   ]
  },
  {
   "cell_type": "code",
   "execution_count": 63,
   "id": "377316a4",
   "metadata": {
    "execution": {
     "iopub.execute_input": "2022-11-22T11:16:41.747437Z",
     "iopub.status.busy": "2022-11-22T11:16:41.747103Z",
     "iopub.status.idle": "2022-11-22T11:16:41.771500Z",
     "shell.execute_reply": "2022-11-22T11:16:41.770572Z"
    },
    "papermill": {
     "duration": 0.166467,
     "end_time": "2022-11-22T11:16:41.773856",
     "exception": false,
     "start_time": "2022-11-22T11:16:41.607389",
     "status": "completed"
    },
    "tags": []
   },
   "outputs": [
    {
     "name": "stdout",
     "output_type": "stream",
     "text": [
      "0.512; 0.323; 0.290; 0.205; 0.200; 0.198; 0.197; 0.197; 0.196; 0.196; 0.196; 0.195; 0.195; 0.195; 0.195; 0.195; 0.195; 0.194; 0.194; 0.194; 0.194; 0.194; 0.194; 0.194; 0.194; 0.194; 0.194; 0.194; 0.194; 0.194; "
     ]
    }
   ],
   "source": [
    "coeffs = train_model(lr=100)"
   ]
  },
  {
   "cell_type": "markdown",
   "id": "aa4c5f6b",
   "metadata": {
    "papermill": {
     "duration": 0.139003,
     "end_time": "2022-11-22T11:16:42.052788",
     "exception": false,
     "start_time": "2022-11-22T11:16:41.913785",
     "status": "completed"
    },
    "tags": []
   },
   "source": [
    "...and identical accuracy:"
   ]
  },
  {
   "cell_type": "code",
   "execution_count": 64,
   "id": "4d2e3664",
   "metadata": {
    "execution": {
     "iopub.execute_input": "2022-11-22T11:16:42.340004Z",
     "iopub.status.busy": "2022-11-22T11:16:42.339709Z",
     "iopub.status.idle": "2022-11-22T11:16:42.347384Z",
     "shell.execute_reply": "2022-11-22T11:16:42.346338Z"
    },
    "papermill": {
     "duration": 0.153774,
     "end_time": "2022-11-22T11:16:42.349551",
     "exception": false,
     "start_time": "2022-11-22T11:16:42.195777",
     "status": "completed"
    },
    "tags": []
   },
   "outputs": [
    {
     "data": {
      "text/plain": [
       "tensor(0.8258)"
      ]
     },
     "execution_count": 64,
     "metadata": {},
     "output_type": "execute_result"
    }
   ],
   "source": [
    "acc(coeffs)"
   ]
  },
  {
   "cell_type": "markdown",
   "id": "acfbea19",
   "metadata": {
    "papermill": {
     "duration": 0.144932,
     "end_time": "2022-11-22T11:16:42.636415",
     "exception": false,
     "start_time": "2022-11-22T11:16:42.491483",
     "status": "completed"
    },
    "tags": []
   },
   "source": [
    "## A neural network"
   ]
  },
  {
   "cell_type": "markdown",
   "id": "f5fd7916",
   "metadata": {
    "papermill": {
     "duration": 0.138833,
     "end_time": "2022-11-22T11:16:42.910354",
     "exception": false,
     "start_time": "2022-11-22T11:16:42.771521",
     "status": "completed"
    },
    "tags": []
   },
   "source": [
    "We've now got what we need to implement our neural network.\n",
    "\n",
    "First, we'll need to create coefficients for each of our layers. Our first set of coefficients will take our `n_coeff` inputs, and create `n_hidden` outputs. We can choose whatever `n_hidden` we like -- a higher number gives our network more flexibility, but makes it slower and harder to train. So we need a matrix of size `n_coeff` by `n_hidden`. We'll divide these coefficients by `n_hidden` so that when we sum them up in the next layer we'll end up with similar magnitude numbers to what we started with.\n",
    "\n",
    "Then our second layer will need to take the `n_hidden` inputs and create a single output, so that means we need a `n_hidden` by `1` matrix there. The second layer will also need a constant term added."
   ]
  },
  {
   "cell_type": "code",
   "execution_count": 65,
   "id": "1f02e335",
   "metadata": {
    "execution": {
     "iopub.execute_input": "2022-11-22T11:16:43.190486Z",
     "iopub.status.busy": "2022-11-22T11:16:43.190208Z",
     "iopub.status.idle": "2022-11-22T11:16:43.195121Z",
     "shell.execute_reply": "2022-11-22T11:16:43.194412Z"
    },
    "papermill": {
     "duration": 0.149495,
     "end_time": "2022-11-22T11:16:43.197023",
     "exception": false,
     "start_time": "2022-11-22T11:16:43.047528",
     "status": "completed"
    },
    "tags": []
   },
   "outputs": [],
   "source": [
    "def init_coeffs(n_hidden=20):\n",
    "    layer1 = (torch.rand(n_coeff, n_hidden)-0.5)/n_hidden\n",
    "    layer2 = torch.rand(n_hidden, 1)-0.3\n",
    "    const = torch.rand(1)[0]\n",
    "    return layer1.requires_grad_(),layer2.requires_grad_(),const.requires_grad_()"
   ]
  },
  {
   "cell_type": "markdown",
   "id": "80feea8c",
   "metadata": {
    "papermill": {
     "duration": 0.134765,
     "end_time": "2022-11-22T11:16:43.467865",
     "exception": false,
     "start_time": "2022-11-22T11:16:43.333100",
     "status": "completed"
    },
    "tags": []
   },
   "source": [
    "Now we have our coefficients, we can create our neural net. The key steps are the two matrix products, `indeps@l1` and `res@l2` (where `res` is the output of the first layer). The first layer output is passed to `F.relu` (that's our non-linearity), and the second is passed to `torch.sigmoid` as before."
   ]
  },
  {
   "cell_type": "code",
   "execution_count": 66,
   "id": "6acfd16b",
   "metadata": {
    "execution": {
     "iopub.execute_input": "2022-11-22T11:16:43.774135Z",
     "iopub.status.busy": "2022-11-22T11:16:43.773592Z",
     "iopub.status.idle": "2022-11-22T11:16:43.778186Z",
     "shell.execute_reply": "2022-11-22T11:16:43.777464Z"
    },
    "papermill": {
     "duration": 0.160063,
     "end_time": "2022-11-22T11:16:43.780365",
     "exception": false,
     "start_time": "2022-11-22T11:16:43.620302",
     "status": "completed"
    },
    "tags": []
   },
   "outputs": [],
   "source": [
    "import torch.nn.functional as F\n",
    "\n",
    "def calc_preds(coeffs, indeps):\n",
    "    l1,l2,const = coeffs\n",
    "    res = F.relu(indeps@l1)\n",
    "    res = res@l2 + const\n",
    "    return torch.sigmoid(res)"
   ]
  },
  {
   "cell_type": "markdown",
   "id": "5a010127",
   "metadata": {
    "papermill": {
     "duration": 0.142943,
     "end_time": "2022-11-22T11:16:44.064594",
     "exception": false,
     "start_time": "2022-11-22T11:16:43.921651",
     "status": "completed"
    },
    "tags": []
   },
   "source": [
    "Finally, now that we have more than one set of coefficients, we need to add a loop to update each one:"
   ]
  },
  {
   "cell_type": "code",
   "execution_count": 67,
   "id": "3c22e2cf",
   "metadata": {
    "execution": {
     "iopub.execute_input": "2022-11-22T11:16:44.339703Z",
     "iopub.status.busy": "2022-11-22T11:16:44.339201Z",
     "iopub.status.idle": "2022-11-22T11:16:44.343194Z",
     "shell.execute_reply": "2022-11-22T11:16:44.342524Z"
    },
    "papermill": {
     "duration": 0.138758,
     "end_time": "2022-11-22T11:16:44.345136",
     "exception": false,
     "start_time": "2022-11-22T11:16:44.206378",
     "status": "completed"
    },
    "tags": []
   },
   "outputs": [],
   "source": [
    "def update_coeffs(coeffs, lr):\n",
    "    for layer in coeffs:\n",
    "        layer.sub_(layer.grad * lr)\n",
    "        layer.grad.zero_()"
   ]
  },
  {
   "cell_type": "markdown",
   "id": "14d3eb32",
   "metadata": {
    "papermill": {
     "duration": 0.130435,
     "end_time": "2022-11-22T11:16:44.605996",
     "exception": false,
     "start_time": "2022-11-22T11:16:44.475561",
     "status": "completed"
    },
    "tags": []
   },
   "source": [
    "That's it -- we're now ready to train our model!"
   ]
  },
  {
   "cell_type": "code",
   "execution_count": 68,
   "id": "23c47563",
   "metadata": {
    "execution": {
     "iopub.execute_input": "2022-11-22T11:16:44.867762Z",
     "iopub.status.busy": "2022-11-22T11:16:44.867255Z",
     "iopub.status.idle": "2022-11-22T11:16:44.902812Z",
     "shell.execute_reply": "2022-11-22T11:16:44.902130Z"
    },
    "papermill": {
     "duration": 0.169447,
     "end_time": "2022-11-22T11:16:44.904716",
     "exception": false,
     "start_time": "2022-11-22T11:16:44.735269",
     "status": "completed"
    },
    "tags": []
   },
   "outputs": [
    {
     "name": "stdout",
     "output_type": "stream",
     "text": [
      "0.543; 0.532; 0.520; 0.505; 0.487; 0.466; 0.439; 0.407; 0.373; 0.343; 0.319; 0.301; 0.286; 0.274; 0.264; 0.256; 0.250; 0.245; 0.240; 0.237; 0.234; 0.231; 0.229; 0.227; 0.226; 0.224; 0.223; 0.222; 0.221; 0.220; "
     ]
    }
   ],
   "source": [
    "coeffs = train_model(lr=1.4)"
   ]
  },
  {
   "cell_type": "code",
   "execution_count": 69,
   "id": "d0e61346",
   "metadata": {
    "execution": {
     "iopub.execute_input": "2022-11-22T11:16:45.177285Z",
     "iopub.status.busy": "2022-11-22T11:16:45.176925Z",
     "iopub.status.idle": "2022-11-22T11:16:45.203274Z",
     "shell.execute_reply": "2022-11-22T11:16:45.202379Z"
    },
    "papermill": {
     "duration": 0.167914,
     "end_time": "2022-11-22T11:16:45.205894",
     "exception": false,
     "start_time": "2022-11-22T11:16:45.037980",
     "status": "completed"
    },
    "tags": []
   },
   "outputs": [
    {
     "name": "stdout",
     "output_type": "stream",
     "text": [
      "0.543; 0.400; 0.260; 0.390; 0.221; 0.211; 0.197; 0.195; 0.193; 0.193; 0.193; 0.193; 0.193; 0.193; 0.193; 0.193; 0.193; 0.192; 0.192; 0.192; 0.192; 0.192; 0.192; 0.192; 0.192; 0.192; 0.192; 0.192; 0.192; 0.192; "
     ]
    }
   ],
   "source": [
    "coeffs = train_model(lr=20)"
   ]
  },
  {
   "cell_type": "markdown",
   "id": "37374b2a",
   "metadata": {
    "papermill": {
     "duration": 0.130592,
     "end_time": "2022-11-22T11:16:45.471364",
     "exception": false,
     "start_time": "2022-11-22T11:16:45.340772",
     "status": "completed"
    },
    "tags": []
   },
   "source": [
    "It's looking good -- our loss is lower than before. Let's see if that translates to a better result on the validation set:"
   ]
  },
  {
   "cell_type": "code",
   "execution_count": 70,
   "id": "c80b41f5",
   "metadata": {
    "execution": {
     "iopub.execute_input": "2022-11-22T11:16:45.738354Z",
     "iopub.status.busy": "2022-11-22T11:16:45.738011Z",
     "iopub.status.idle": "2022-11-22T11:16:45.744899Z",
     "shell.execute_reply": "2022-11-22T11:16:45.744170Z"
    },
    "papermill": {
     "duration": 0.142152,
     "end_time": "2022-11-22T11:16:45.747029",
     "exception": false,
     "start_time": "2022-11-22T11:16:45.604877",
     "status": "completed"
    },
    "tags": []
   },
   "outputs": [
    {
     "data": {
      "text/plain": [
       "tensor(0.8258)"
      ]
     },
     "execution_count": 70,
     "metadata": {},
     "output_type": "execute_result"
    }
   ],
   "source": [
    "acc(coeffs)"
   ]
  },
  {
   "cell_type": "markdown",
   "id": "546a347f",
   "metadata": {
    "papermill": {
     "duration": 0.131812,
     "end_time": "2022-11-22T11:16:46.011832",
     "exception": false,
     "start_time": "2022-11-22T11:16:45.880020",
     "status": "completed"
    },
    "tags": []
   },
   "source": [
    "In this case our neural net isn't showing better results than the linear model. That's not surprising; this dataset is very small and very simple, and isn't the kind of thing we'd expect to see neural networks excel at. Furthermore, our validation set is too small to reliably see much accuracy difference. But the key thing is that we now know exactly what a real neural net looks like!"
   ]
  },
  {
   "cell_type": "markdown",
   "id": "0c4e6e45",
   "metadata": {
    "papermill": {
     "duration": 0.13114,
     "end_time": "2022-11-22T11:16:46.277062",
     "exception": false,
     "start_time": "2022-11-22T11:16:46.145922",
     "status": "completed"
    },
    "tags": []
   },
   "source": [
    "## Deep learning"
   ]
  },
  {
   "cell_type": "markdown",
   "id": "c7fee78d",
   "metadata": {
    "papermill": {
     "duration": 0.134982,
     "end_time": "2022-11-22T11:16:46.545954",
     "exception": false,
     "start_time": "2022-11-22T11:16:46.410972",
     "status": "completed"
    },
    "tags": []
   },
   "source": [
    "The neural net in the previous section only uses one hidden layer, so it doesn't count as \"deep\" learning. But we can use the exact same technique to make our neural net deep, by adding more matrix multiplications.\n",
    "\n",
    "First, we'll need to create additional coefficients for each layer:"
   ]
  },
  {
   "cell_type": "code",
   "execution_count": 71,
   "id": "28702ba7",
   "metadata": {
    "execution": {
     "iopub.execute_input": "2022-11-22T11:16:46.816757Z",
     "iopub.status.busy": "2022-11-22T11:16:46.816323Z",
     "iopub.status.idle": "2022-11-22T11:16:46.823028Z",
     "shell.execute_reply": "2022-11-22T11:16:46.822406Z"
    },
    "papermill": {
     "duration": 0.142741,
     "end_time": "2022-11-22T11:16:46.825133",
     "exception": false,
     "start_time": "2022-11-22T11:16:46.682392",
     "status": "completed"
    },
    "tags": []
   },
   "outputs": [],
   "source": [
    "def init_coeffs():\n",
    "    hiddens = [10, 10]  # <-- set this to the size of each hidden layer you want\n",
    "    sizes = [n_coeff] + hiddens + [1]\n",
    "    n = len(sizes)\n",
    "    layers = [(torch.rand(sizes[i], sizes[i+1])-0.3)/sizes[i+1]*4 for i in range(n-1)]\n",
    "    consts = [(torch.rand(1)[0]-0.5)*0.1 for i in range(n-1)]\n",
    "    for l in layers+consts: l.requires_grad_()\n",
    "    return layers,consts"
   ]
  },
  {
   "cell_type": "markdown",
   "id": "aec30990",
   "metadata": {
    "papermill": {
     "duration": 0.129951,
     "end_time": "2022-11-22T11:16:47.085593",
     "exception": false,
     "start_time": "2022-11-22T11:16:46.955642",
     "status": "completed"
    },
    "tags": []
   },
   "source": [
    "You'll notice here that there's a lot of messy constants to get the random numbers in just the right ranges. When you train the model in a moment, you'll see that the tiniest changes to these initialisations can cause our model to fail to train at all! This is a key reason that deep learning failed to make much progress in the early days -- it's very finicky to get a good starting point for our coefficients. Nowadays, we have ways to deal with that, which we'll learn about in other notebooks.\n",
    "\n",
    "Our deep learning `calc_preds` looks much the same as before, but now we loop through each layer, instead of listing them separately:"
   ]
  },
  {
   "cell_type": "code",
   "execution_count": 72,
   "id": "e719fffe",
   "metadata": {
    "execution": {
     "iopub.execute_input": "2022-11-22T11:16:47.355366Z",
     "iopub.status.busy": "2022-11-22T11:16:47.355058Z",
     "iopub.status.idle": "2022-11-22T11:16:47.361795Z",
     "shell.execute_reply": "2022-11-22T11:16:47.360782Z"
    },
    "papermill": {
     "duration": 0.144068,
     "end_time": "2022-11-22T11:16:47.363817",
     "exception": false,
     "start_time": "2022-11-22T11:16:47.219749",
     "status": "completed"
    },
    "tags": []
   },
   "outputs": [],
   "source": [
    "import torch.nn.functional as F\n",
    "\n",
    "def calc_preds(coeffs, indeps):\n",
    "    layers,consts = coeffs\n",
    "    n = len(layers)\n",
    "    res = indeps\n",
    "    for i,l in enumerate(layers):\n",
    "        res = res@l + consts[i]\n",
    "        if i!=n-1: res = F.relu(res)\n",
    "    return torch.sigmoid(res)"
   ]
  },
  {
   "cell_type": "markdown",
   "id": "d9fced15",
   "metadata": {
    "papermill": {
     "duration": 0.136838,
     "end_time": "2022-11-22T11:16:47.636594",
     "exception": false,
     "start_time": "2022-11-22T11:16:47.499756",
     "status": "completed"
    },
    "tags": []
   },
   "source": [
    "We also need a minor update to `update_coeffs` since we've got `layers` and `consts` separated now:"
   ]
  },
  {
   "cell_type": "code",
   "execution_count": 73,
   "id": "87f51eb3",
   "metadata": {
    "execution": {
     "iopub.execute_input": "2022-11-22T11:16:47.908138Z",
     "iopub.status.busy": "2022-11-22T11:16:47.907861Z",
     "iopub.status.idle": "2022-11-22T11:16:47.912904Z",
     "shell.execute_reply": "2022-11-22T11:16:47.911928Z"
    },
    "papermill": {
     "duration": 0.142657,
     "end_time": "2022-11-22T11:16:47.914979",
     "exception": false,
     "start_time": "2022-11-22T11:16:47.772322",
     "status": "completed"
    },
    "tags": []
   },
   "outputs": [],
   "source": [
    "def update_coeffs(coeffs, lr):\n",
    "    layers,consts = coeffs\n",
    "    for layer in layers+consts:\n",
    "        layer.sub_(layer.grad * lr)\n",
    "        layer.grad.zero_()"
   ]
  },
  {
   "cell_type": "markdown",
   "id": "5706a751",
   "metadata": {
    "papermill": {
     "duration": 0.134815,
     "end_time": "2022-11-22T11:16:48.181354",
     "exception": false,
     "start_time": "2022-11-22T11:16:48.046539",
     "status": "completed"
    },
    "tags": []
   },
   "source": [
    "Let's train our model..."
   ]
  },
  {
   "cell_type": "code",
   "execution_count": 74,
   "id": "39ab652a",
   "metadata": {
    "execution": {
     "iopub.execute_input": "2022-11-22T11:16:48.451995Z",
     "iopub.status.busy": "2022-11-22T11:16:48.451659Z",
     "iopub.status.idle": "2022-11-22T11:16:48.491791Z",
     "shell.execute_reply": "2022-11-22T11:16:48.490831Z"
    },
    "papermill": {
     "duration": 0.177185,
     "end_time": "2022-11-22T11:16:48.494134",
     "exception": false,
     "start_time": "2022-11-22T11:16:48.316949",
     "status": "completed"
    },
    "tags": []
   },
   "outputs": [
    {
     "name": "stdout",
     "output_type": "stream",
     "text": [
      "0.521; 0.483; 0.427; 0.379; 0.379; 0.379; 0.379; 0.378; 0.378; 0.378; 0.378; 0.378; 0.378; 0.378; 0.378; 0.378; 0.377; 0.376; 0.371; 0.333; 0.239; 0.224; 0.208; 0.204; 0.203; 0.203; 0.207; 0.197; 0.196; 0.195; "
     ]
    }
   ],
   "source": [
    "coeffs = train_model(lr=4)"
   ]
  },
  {
   "cell_type": "markdown",
   "id": "7eeb5e3b",
   "metadata": {
    "papermill": {
     "duration": 0.132737,
     "end_time": "2022-11-22T11:16:48.762328",
     "exception": false,
     "start_time": "2022-11-22T11:16:48.629591",
     "status": "completed"
    },
    "tags": []
   },
   "source": [
    "...and check its accuracy:"
   ]
  },
  {
   "cell_type": "code",
   "execution_count": 75,
   "id": "c6e36bc0",
   "metadata": {
    "execution": {
     "iopub.execute_input": "2022-11-22T11:16:49.034141Z",
     "iopub.status.busy": "2022-11-22T11:16:49.033853Z",
     "iopub.status.idle": "2022-11-22T11:16:49.042798Z",
     "shell.execute_reply": "2022-11-22T11:16:49.041746Z"
    },
    "papermill": {
     "duration": 0.145836,
     "end_time": "2022-11-22T11:16:49.045070",
     "exception": false,
     "start_time": "2022-11-22T11:16:48.899234",
     "status": "completed"
    },
    "tags": []
   },
   "outputs": [
    {
     "data": {
      "text/plain": [
       "tensor(0.8258)"
      ]
     },
     "execution_count": 75,
     "metadata": {},
     "output_type": "execute_result"
    }
   ],
   "source": [
    "acc(coeffs)"
   ]
  },
  {
   "cell_type": "markdown",
   "id": "a67b380e",
   "metadata": {
    "papermill": {
     "duration": 0.139582,
     "end_time": "2022-11-22T11:16:49.318862",
     "exception": false,
     "start_time": "2022-11-22T11:16:49.179280",
     "status": "completed"
    },
    "tags": []
   },
   "source": [
    "## Final thoughts"
   ]
  },
  {
   "cell_type": "markdown",
   "id": "2404ce48",
   "metadata": {
    "papermill": {
     "duration": 0.150798,
     "end_time": "2022-11-22T11:16:49.617680",
     "exception": false,
     "start_time": "2022-11-22T11:16:49.466882",
     "status": "completed"
    },
    "tags": []
   },
   "source": [
    "It's actually pretty cool that we've managed to create a real deep learning model from scratch and trained it to get over 80% accuracy on this task, all in the course of a single notebook!\n",
    "\n",
    "The \"real\" deep learning models that are used in research and industry look very similar to this, and in fact if you look inside the source code of any deep learning model you'll recognise the basic steps are the same.\n",
    "\n",
    "The biggest differences in practical models to what we have above are:\n",
    "\n",
    "- How initialisation and normalisation is done to ensure the model trains correctly every time\n",
    "- Regularization (to avoid over-fitting)\n",
    "- Modifying the neural net itself to take advantage of knowledge of the problem domain\n",
    "- Doing gradient descent steps on smaller batches, rather than the whole dataset.\n",
    "\n",
    "I'll be adding notebooks about all these later, and will add links here once they're ready.\n",
    "\n",
    "If you found this notebook useful, please remember to click the little up-arrow at the top to upvote it, since I like to know when people have found my work useful, and it helps others find it too. (BTW, be sure you're looking at my [original notebook here](https://www.kaggle.com/code/jhoward/linear-model-and-neural-net-from-scratch) when you do that, and are not on your own copy of it, otherwise your upvote won't get counted!) And if you have any questions or comments, please pop them below -- I read every comment I receive!"
   ]
  },
  {
   "cell_type": "code",
   "execution_count": null,
   "id": "8815c328",
   "metadata": {
    "papermill": {
     "duration": 0.133487,
     "end_time": "2022-11-22T11:16:49.896786",
     "exception": false,
     "start_time": "2022-11-22T11:16:49.763299",
     "status": "completed"
    },
    "tags": []
   },
   "outputs": [],
   "source": []
  }
 ],
 "metadata": {
  "kernelspec": {
   "display_name": "Python 3",
   "language": "python",
   "name": "python3"
  },
  "language_info": {
   "codemirror_mode": {
    "name": "ipython",
    "version": 3
   },
   "file_extension": ".py",
   "mimetype": "text/x-python",
   "name": "python",
   "nbconvert_exporter": "python",
   "pygments_lexer": "ipython3",
   "version": "3.7.12"
  },
  "papermill": {
   "default_parameters": {},
   "duration": 60.326946,
   "end_time": "2022-11-22T11:16:51.155065",
   "environment_variables": {},
   "exception": null,
   "input_path": "__notebook__.ipynb",
   "output_path": "__notebook__.ipynb",
   "parameters": {},
   "start_time": "2022-11-22T11:15:50.828119",
   "version": "2.3.4"
  }
 },
 "nbformat": 4,
 "nbformat_minor": 5
}
